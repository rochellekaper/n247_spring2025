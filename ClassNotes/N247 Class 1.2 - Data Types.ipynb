{
 "cells": [
  {
   "cell_type": "markdown",
   "metadata": {
    "id": "aU6B_JkZWfTB"
   },
   "source": [
    "These notes are based on the material in Chapter 2 of Dive into Python.\n",
    "\n",
    "\n",
    "# Concepts\n",
    "\n",
    "Computer languages have the concept of a _data type_ that comes down to the question, _what sort of information am I storing or looking at here?_  Python lets you intermix types more easily than many languages, but we need to have a good understanding of what these data types are and why we'd use one over another.  \n",
    "\n",
    "The simplest split in some ways is between a number and a string of characters.  So, while we know **1** and **\"one\"** in many ways mean the same thing, they're very different to your program.  The first is a number and the second is a string of three characters.  That may seem obvious (I hope it does), but **1** and **\"1\"**are different as well.  Heck, **1** is not always the same thing as **1.0**.  The former is an integer and the latter a floating point number.  Again, Python takes a lot of the hurt out of working with these, but we need to know what they are, how to convert between them, and why we'd care about one or the other.\n",
    "\n",
    "\n",
    "# Int and float (numbers)\n",
    "\n",
    "Integers are \"whole numbers\" and floating point numbers let you have a decimal place. That's the 1 vs. 1.0 noted above.  If you use a number like 10, it assumes you're talking about an integer.  If you give it 10.1, it assumes you're talking about a float.  Python defaults to integers, but will convert on the fly as needed.  This is what makes Python a _dynamically typed_ language.  We'll touch base on dynamic vs. static typing later.\n",
    "\n",
    "_Question: Why do you think it defaults to integers?_\n"
   ]
  },
  {
   "cell_type": "code",
   "execution_count": null,
   "metadata": {
    "colab": {
     "base_uri": "https://localhost:8080/"
    },
    "executionInfo": {
     "elapsed": 603,
     "status": "ok",
     "timestamp": 1617131785548,
     "user": {
      "displayName": "Craig Stark",
      "photoUrl": "https://lh3.googleusercontent.com/a-/AOh14GgHTCQdxwqKpQoLMKn2jOrFLiJic0kn3TdGdABA=s64",
      "userId": "11041610993007874858"
     },
     "user_tz": 420
    },
    "id": "B78F_SvKWaSA",
    "outputId": "5f6db0bf-d97f-4a52-b1c2-da8d68b91f36"
   },
   "outputs": [],
   "source": [
    "x=1\n",
    "y=1.1\n",
    "type(x)\n",
    "type(y)\n",
    "print('x is {} and y is {}'.format(type(x),type(y)))\n",
    "z=x+y\n",
    "print('z is {}'.format(type(z)))\n",
    "x=x+0.1\n",
    "print('Now x is {}'.format(type(x)))"
   ]
  },
  {
   "cell_type": "markdown",
   "metadata": {
    "id": "D-ZuLICRfcAo"
   },
   "source": [
    "# Boolean\n",
    "\n",
    "Booleans can have values of only _True_ or _False_.  There is no other option.  Flags, logic statements, etc. are either explicitly or implicitly booleans.\n",
    "\n",
    "\n",
    "```\n",
    "do_it = True\n",
    "if do_it:\n",
    "   do_something\n",
    "x=10\n",
    "if x>10:\n",
    "   do_something\n",
    "if x:\n",
    "   do_something\n",
    "```\n",
    "\n",
    "\n",
    "In each of those cases, the do_something would be done.  In the first, we made a variable called do_it and set it to True, so when evaluating that if-statement, True is True, so it gets done.  In the second case, we tested if x>10.  That x>10 first gets evaluated by Python and turned into True or False.  So, again, we have an \"if True\" and we run the do_something line.\n",
    "\n",
    "The last one there shows a handy shortcut.  All non-zero numbers (ints or floats) are True.  Anything non-zero, even 0.0000000000001, is True.\n",
    "\n",
    "\n",
    "# Strings\n",
    "\n",
    "Anything vaguely resembling text (including a text-based version of a number) is a string (or set of characters.  We tell Python it's a string by putting it in single-quotes or double-quotes. Python really doesn't care if you say 'foo' or \"foo\".\n",
    "\n",
    "One nice thing about this is that you can make strings that have quotes in them (in other languages, this is a royal pain, so be happy to be in Python!).  Let's say you want _He said \"Whuddup yo?\" to me!_ as a string.\n",
    "\n",
    "\n",
    "\n",
    "*   `a=\"He said \"Whuddup yo?\" to me!\"` won't work as that has _\"He said \"_ as one string and then some non-Python command of `Whuddup yo?` and then another string of _\" to me!\"_\n",
    "*   `a='He said \"Whuddup yo?\" to me!'` though will work.\n",
    "\n",
    "If you've got a big, multi-line block of text to define, you can use triple-single or triple-double quotes.  For example:\n",
    "\n",
    "\n",
    "```\n",
    "\"\"\"There are only two kinds of people in the world\n",
    "1. Those who can extrapolate from incomplete data\n",
    "\"\"\"\n",
    "```\n",
    "\n",
    "\n",
    "Keep in mind that while you can store numbers in text, they're not numbers per se anymore if you do.\n",
    "\n",
    "Try running this:"
   ]
  },
  {
   "cell_type": "code",
   "execution_count": null,
   "metadata": {
    "colab": {
     "base_uri": "https://localhost:8080/"
    },
    "executionInfo": {
     "elapsed": 568,
     "status": "ok",
     "timestamp": 1617132180718,
     "user": {
      "displayName": "Craig Stark",
      "photoUrl": "https://lh3.googleusercontent.com/a-/AOh14GgHTCQdxwqKpQoLMKn2jOrFLiJic0kn3TdGdABA=s64",
      "userId": "11041610993007874858"
     },
     "user_tz": 420
    },
    "id": "Ex3sA3kkgGiJ",
    "outputId": "b35c8df1-eb6c-4447-97bd-581f100962b2"
   },
   "outputs": [],
   "source": [
    "a=1.0\n",
    "b='1.0'\n",
    "a==b"
   ]
  },
  {
   "attachments": {},
   "cell_type": "markdown",
   "metadata": {
    "id": "aQk9Qhktg0ic"
   },
   "source": [
    "## Indexing and formatting strings\n",
    "\n",
    "Internally, strings are represented much like \"arrays\" or lists.  Think of them as an ordered set of characters.  So, you can index strings like _a[3]_ to get the 3rd character in _a_.  See more indexing in lists below for the syntax, but this does let you grab (or change) portions of a string nicely.\n",
    "\n",
    "More often, though, we'll want to create strings that have numbers in them that are the result of some calculations we've done and that are in a nice, readable format.  Much of this is covered in Chapter 4 of Dive into Python, but a few highlights here.\n",
    "\n",
    "Say you want to create a string that's based got some text with a few numbers or other variables inserted in key places.  Maybe you even want to format those inserted numbers in a nice, pretty way. The _.format()_ function is your friend here\n",
    "\n",
    "\n",
    "### Basic examples\n",
    "\n",
    "\n",
    "```\n",
    "'I have {0} eyes and {1} spleen'.format(2,1)\n",
    "```\n",
    "\n",
    "\n",
    "This means take the value 2 (first one specified) and insert it into the first place-holder {0}.  Take the value 1 and put it into the second one {1}. (Yes, Python always counts from zero).\n",
    "\n",
    "This is the same as:\n",
    "\n",
    "\n",
    "```\n",
    "'I have {1} eyes and {0} spleen'.format(1,2)\n",
    "```\n",
    "\n",
    "It's also the same as:\n",
    "\n",
    "```\n",
    "'I have {} eyes and {} spleen'.format(2,1)\n",
    "```\n",
    "I'll assume that you're going in order if you just use that format without any indices inside.  \n",
    "\n",
    "You can put anything that Python can evaluate here into your `.format`.  For example:\n",
    "\n",
    "\n",
    "```\n",
    "'I have {} neurons in my {}'.format(10 ** 11,'brain')\n",
    "```\n",
    "***Exercise - Try something here in the code box below:***"
   ]
  },
  {
   "cell_type": "code",
   "execution_count": null,
   "metadata": {
    "id": "q1cnMqEDiSgy"
   },
   "outputs": [],
   "source": [
    "\n"
   ]
  },
  {
   "attachments": {},
   "cell_type": "markdown",
   "metadata": {},
   "source": [
    "### Don't look like a Python newbie\n",
    "The `.format` syntax is very useful in that it gives the most flexibility. But, that flexibility comes at the cost of ease.  We now have a newer variant of `.format` called an *f-string* that you invoke by putting an `f` at the start of your string (before the quotation mark).  Here's how it looks:\n",
    "```\n",
    "region='brain'\n",
    "n_neurons=10 ** 11\n",
    "f'I have {n_neurons} neurons in my {region}'\n",
    "```\n",
    "Anything inside that `{}` gets evaluated by Python before being formatted and put into the string.  So, here's a bit of sample code you can run:\n"
   ]
  },
  {
   "cell_type": "code",
   "execution_count": null,
   "metadata": {},
   "outputs": [],
   "source": [
    "dogs=10\n",
    "cats=3\n",
    "birds=4\n",
    "print(f'I have {dogs+cats+birds} pets: {dogs} dogs, {cats} cats and {birds} birds. I have {cats/birds}x as many cats as birds')"
   ]
  },
  {
   "attachments": {},
   "cell_type": "markdown",
   "metadata": {
    "id": "KmSR7l-biVOk"
   },
   "source": [
    "### Fancier formatting\n",
    "\n",
    "In either format, instead of just the placeholder on its own (e.g., `{0}` or `{birds}`), you can tell Python how to format a number put in that placeholder.  You can control things like the width (number of characters used), the decimal point precision, and all sorts of things with this.  For example:\n",
    "\n",
    "*   `{0:.1f}`  = Insert the 0th (first) parameter here, treat it as a floating point number (the f bit) but only show one decimal point (the 1)\n",
    "*   `{0:^20}` = Put in zero, but pad it with spaces on either side to center it such that the total width is 20 characters wide\n",
    "*   `{0:e}` = Use exponential notation\n",
    "\n",
    "If you can imagine it possibly being vaguely thought of as potentially useful, there's a format specifier for it\n",
    "\n",
    "[ https://docs.python.org/3.1/library/string.html#format-specification-mini-language](https://docs.python.org/3.1/library/string.html#format-specification-mini-language)\n",
    "\n",
    "Here's an example of how that might be handy:"
   ]
  },
  {
   "cell_type": "code",
   "execution_count": null,
   "metadata": {},
   "outputs": [],
   "source": [
    "dogs=10\n",
    "cats=3\n",
    "birds=4\n",
    "print(f'I have {dogs+cats+birds} pets: {dogs} dogs, {cats} cats and {birds} birds. I have {birds/cats}x as many birds as cats')\n",
    "print('vs.')\n",
    "print(f'I have {dogs+cats+birds} pets: {dogs} dogs, {cats} cats and {birds} birds. I have {birds/cats:.2f}x as many birds as cats')\n"
   ]
  },
  {
   "cell_type": "markdown",
   "metadata": {
    "id": "qpbDOW07mJzP"
   },
   "source": [
    "# Lists\n",
    "\n",
    "Until this point, we might as well have been talking about C/C++ or MATLAB as ints, floats, bools, strings, etc. are all pretty standard.  Python's lists, however, set Python apart as they are incredibly easy to use and versatile.  A list is just an ordered set of items and in Python, those items can be whatever you want.  We define a list by putting the elements in square brackets - `[]` - and we separate elements with the comma.\n",
    "\n",
    "Here's an example to run:\n"
   ]
  },
  {
   "cell_type": "code",
   "execution_count": null,
   "metadata": {
    "colab": {
     "base_uri": "https://localhost:8080/"
    },
    "executionInfo": {
     "elapsed": 612,
     "status": "ok",
     "timestamp": 1617132393689,
     "user": {
      "displayName": "Craig Stark",
      "photoUrl": "https://lh3.googleusercontent.com/a-/AOh14GgHTCQdxwqKpQoLMKn2jOrFLiJic0kn3TdGdABA=s64",
      "userId": "11041610993007874858"
     },
     "user_tz": 420
    },
    "id": "cpBJEG30mZMG",
    "outputId": "d0d7eacb-5548-4784-9368-434635f388a2"
   },
   "outputs": [],
   "source": [
    "a=[1,2,3]\n",
    "print(a)\n",
    "\n",
    "b=['foo','bar', 3.14]\n",
    "print(b)\n",
    "\n",
    "c=['start',a,'mid',b,'end']\n",
    "print(c)\n"
   ]
  },
  {
   "cell_type": "markdown",
   "metadata": {
    "id": "nAM2huoQnbhS"
   },
   "source": [
    "It's really as easy as that.  Just put things - any things - in square brackets and separate them with commas.  Heck, put lists inside of lists.  Python doesn't care.\n",
    "\n",
    "Note, this is one-dimensional - it's a list not an array (one of the reasons we use NumPy and its ndarray)\n",
    "\n",
    "\n",
    "## Can slice, dice, and even julienne your lists\n",
    "\n",
    "Commit now.  Zero is a number and everything starts at 0.  Get your head in that space and life will be easier in Python where indices are 0-indexed (first one is 0 not 1).  So `a[0]` is always the first item in `a`.\n",
    "\n",
    "With that out of the way, in our prior example, we could say something like `b[1]` and Python would evaluate this to `'bar'`.  But we often don't just want elements, but a range of elements.  We specify the start and stop for the range by `a[start:stop]`. \n",
    "\n",
    "So far so good, but there's a classic hangup here for folks.  When giving a range like `a[index1:index2]`, know that the **_index2 is not included_**.  So `a[0:2]` gives `a[0]` and `a[1]` but not `a[2]`.  You can think of it as `a[start:don't_include]` or `a[start:end-1]` if you like.  While it seems odd, it does have its uses in that if you're going from the beginning of the list and want N items, it's just `a[0:N]` (since Python is zero-indexed).\n",
    "\n",
    "That `c` list still exists for you here (if you ran the code above).  ***Exercise - Try printing out _'start', [1, 2, 3], 'mid', ['foo', 'bar', 3.14]_ in the code below and _[1, 2, 3], 'mid', ['foo', 'bar', 3.14], 'end'_ as well.***"
   ]
  },
  {
   "cell_type": "code",
   "execution_count": null,
   "metadata": {
    "colab": {
     "base_uri": "https://localhost:8080/"
    },
    "executionInfo": {
     "elapsed": 561,
     "status": "ok",
     "timestamp": 1617132636076,
     "user": {
      "displayName": "Craig Stark",
      "photoUrl": "https://lh3.googleusercontent.com/a-/AOh14GgHTCQdxwqKpQoLMKn2jOrFLiJic0kn3TdGdABA=s64",
      "userId": "11041610993007874858"
     },
     "user_tz": 420
    },
    "id": "mUtM6JR4omi5",
    "outputId": "c5557d48-c1dd-462c-cfd5-43a0c1887c4e"
   },
   "outputs": [],
   "source": [
    "print(c[:])\n",
    "print(c)\n",
    "\n",
    "print(c[0:4])\n",
    "print(c[:4])\n",
    "print(c[:-1])\n",
    "\n",
    "print(c[1:5])\n",
    "print(c[1:])"
   ]
  },
  {
   "cell_type": "markdown",
   "metadata": {
    "id": "ZF0tnPtgpwOU"
   },
   "source": [
    "## The julienne bit\n",
    "\n",
    "Whoever wrote Python really wanted to be able to have these lists easy to work with as there are a number of neat features here.  One is a negative index feature with `a[-1]` being the last item, `a[-2]` being the next-to-last, etc.  Since this is 0-indexed it kinda makes sense.  In the above, `a` is 3-items long and the first is `a[0]`, the last `a[2]`.  So, _a_'s length of 3 minus 1 is 2, and the last item is `a[2]` aka `a[-1]`.  Of course `a[-2]` then is really `a[1]` here -- aka 2nd from the end.\n",
    "\n",
    "In addition, when using ranges, can leave out one or both sides and the end will be the default, so you don't need to know how long the list actually is, for example.\n",
    "\n",
    "\n",
    "\n",
    "*   `a[:3]` - From start to 2\n",
    "*   `a[2:]` - From 2 to end\n",
    "*   `a[:]` - From start to end (aka all items)\n",
    "\n",
    "You also have a _stride_ you can apply.  The default stride is 1, meaning you go from start up to end (but not end) hitting every item.  If the stride is 2, it'll skip over one.  So `a[0:5:2]` would give `a[0]`, `a[2]`, and `a[4]`.  Strides can be negative to go backwards as well.\n",
    "\n",
    "**_Exercise - Use the 's' list below to create the following, using only the start, stop, stride indexing_**\n",
    "\n",
    "`s=['c','d','a','o','t','g','s']`\n",
    "\n",
    "And create:\n",
    "```\n",
    "['c', 'a', 't', 's']\n",
    "['d', 'o', 'g']\n",
    "['s', 'o']\n",
    "```"
   ]
  },
  {
   "cell_type": "code",
   "execution_count": null,
   "metadata": {
    "colab": {
     "base_uri": "https://localhost:8080/"
    },
    "executionInfo": {
     "elapsed": 584,
     "status": "ok",
     "timestamp": 1617133014784,
     "user": {
      "displayName": "Craig Stark",
      "photoUrl": "https://lh3.googleusercontent.com/a-/AOh14GgHTCQdxwqKpQoLMKn2jOrFLiJic0kn3TdGdABA=s64",
      "userId": "11041610993007874858"
     },
     "user_tz": 420
    },
    "id": "Kg9oE49IrrAB",
    "outputId": "3f383231-7b02-46b9-84fa-6a0657e0a1c2"
   },
   "outputs": [
    {
     "name": "stdout",
     "output_type": "stream",
     "text": [
      "['c', 'a', 't', 's']\n",
      "['d', 'o', 'g']\n",
      "['s', 'o']\n"
     ]
    }
   ],
   "source": [
    "s=['c','d','a','o','t','g','s']\n",
    "\n",
    "print(s[::2])\n",
    "print(s[1::2])\n",
    "print(s[-1:-5:-3])"
   ]
  },
  {
   "cell_type": "markdown",
   "metadata": {
    "id": "9_0ak7H-ugT_"
   },
   "source": [
    "## Ranges\n",
    "\n",
    "Here, we might as well introduce the `range` function that lets you create a, well, range of elements.  The format is `range([start], stop[, step])`. So, you **_can_** give it a start and a step but you **_must_** give it a stop.  The start defaults to 0, the step defaults to 1, so if you say `range(4)` it will give you a list that is 4 items long, starting at 0 (aka 0-3).\n",
    "\n",
    "Now, technically, I just lied.  In Python 2, `range` creates and returns a list.  In Python 3, it creates an \"iterator\" (what Python 2 called `xrange`.)  If you're using this for something like a for-loop (which we'll get to), it really doesn't matter.  If you want `range` to create an honest-to-goodness list using, you need to do something like `list(range(10))` or `list(range(2,10,3))`.  As-is, `range()` is great for things like for-loops (covered later).\n",
    "\n",
    "\n",
    "## Extending lists, inserting into lists, etc.\n",
    "\n",
    "Python lists aren't MATLAB or NumPy vectors/arrays, so things that look like math aren't math.  Lists are just ordered sets of things.  Keep this clear in your head as we introduce NumPy later.  It does mean we can have a simple syntax to do things like stick two lists (a and b) together:\n",
    "\n"
   ]
  },
  {
   "cell_type": "code",
   "execution_count": 1,
   "metadata": {
    "colab": {
     "base_uri": "https://localhost:8080/"
    },
    "executionInfo": {
     "elapsed": 794,
     "status": "ok",
     "timestamp": 1617133109604,
     "user": {
      "displayName": "Craig Stark",
      "photoUrl": "https://lh3.googleusercontent.com/a-/AOh14GgHTCQdxwqKpQoLMKn2jOrFLiJic0kn3TdGdABA=s64",
      "userId": "11041610993007874858"
     },
     "user_tz": 420
    },
    "id": "dZSqBexFvkii",
    "outputId": "7bedb12c-3944-4825-c6c3-eca40bbdf183"
   },
   "outputs": [
    {
     "name": "stdout",
     "output_type": "stream",
     "text": [
      "[1, 2, 3, 'foo', 'bar', 3.14]\n"
     ]
    }
   ],
   "source": [
    "a=[1,2,3]\n",
    "b=['foo','bar', 3.14]\n",
    "c=a + b\n",
    "print(c)"
   ]
  },
  {
   "cell_type": "markdown",
   "metadata": {
    "id": "P2nH3OZOvnAa"
   },
   "source": [
    "This makes a new list, calls it `c` and puts the concatenation of `a` and `b` into it.  If you'd wanted to store that in `a` (aka, append `b` onto `a`) rather than save it in a new `c`, you could have just done `a=a+b`\n",
    "\n",
    "There also is `a.append()`.  This will append a single item to `a` (this is destructive, meaning calling this alters `a`)\n"
   ]
  },
  {
   "cell_type": "code",
   "execution_count": 2,
   "metadata": {
    "colab": {
     "base_uri": "https://localhost:8080/"
    },
    "executionInfo": {
     "elapsed": 402,
     "status": "ok",
     "timestamp": 1617732396770,
     "user": {
      "displayName": "Craig Stark",
      "photoUrl": "https://lh3.googleusercontent.com/a-/AOh14GgHTCQdxwqKpQoLMKn2jOrFLiJic0kn3TdGdABA=s64",
      "userId": "11041610993007874858"
     },
     "user_tz": 420
    },
    "id": "fp-LaxwQxQnS",
    "outputId": "cf3085a4-edd2-4b70-e8d1-7086379293d8"
   },
   "outputs": [
    {
     "name": "stdout",
     "output_type": "stream",
     "text": [
      "[1, 2, 3]\n",
      "[1, 2, 3, 4]\n",
      "[1, 2, 3, 4, ['foo', 'bar', 3.14]]\n"
     ]
    }
   ],
   "source": [
    "a=[1,2,3]\n",
    "b=['foo','bar', 3.14]\n",
    "print(a)\n",
    "a.append(4)\n",
    "print(a)\n",
    "a.append(b)\n",
    "print(a)\n"
   ]
  },
  {
   "cell_type": "markdown",
   "metadata": {
    "id": "vk7vVNT1vyyg"
   },
   "source": [
    "\n",
    "Note how that if `b` is a list, this will turn the list b into a single item and appended it as the next item in b rather than concatenating giving you something like `[1, 2, 3, ['foo','bar', 3.14]]`.  Lists can have lists as elements.  That may not be what you want, though, so we also have things like:\n",
    "\n",
    "*   `a.extend(b)`: Take whatever items in list `b` that are there and put each into _a_ (destructive). \n",
    "*   `a.insert(index,item)`: Put a single _item_ into the place just before _index_ (destructive)\n",
    "\n",
    "### Quick diversion into object-oriented programming\n",
    "\n",
    "Note these last 3 are calls to functions built into each and every list.  Everything is an \"object\" and can (and does) have many built-in functions.  This is what \"classes\" are all about.  We have a **variable** `a` that is an **object** of **class** list. \n",
    "\n",
    "Try this:"
   ]
  },
  {
   "cell_type": "code",
   "execution_count": 3,
   "metadata": {
    "id": "0wiHe685xehv"
   },
   "outputs": [
    {
     "data": {
      "text/plain": [
       "['__add__',\n",
       " '__class__',\n",
       " '__class_getitem__',\n",
       " '__contains__',\n",
       " '__delattr__',\n",
       " '__delitem__',\n",
       " '__dir__',\n",
       " '__doc__',\n",
       " '__eq__',\n",
       " '__format__',\n",
       " '__ge__',\n",
       " '__getattribute__',\n",
       " '__getitem__',\n",
       " '__getstate__',\n",
       " '__gt__',\n",
       " '__hash__',\n",
       " '__iadd__',\n",
       " '__imul__',\n",
       " '__init__',\n",
       " '__init_subclass__',\n",
       " '__iter__',\n",
       " '__le__',\n",
       " '__len__',\n",
       " '__lt__',\n",
       " '__mul__',\n",
       " '__ne__',\n",
       " '__new__',\n",
       " '__reduce__',\n",
       " '__reduce_ex__',\n",
       " '__repr__',\n",
       " '__reversed__',\n",
       " '__rmul__',\n",
       " '__setattr__',\n",
       " '__setitem__',\n",
       " '__sizeof__',\n",
       " '__str__',\n",
       " '__subclasshook__',\n",
       " 'append',\n",
       " 'clear',\n",
       " 'copy',\n",
       " 'count',\n",
       " 'extend',\n",
       " 'index',\n",
       " 'insert',\n",
       " 'pop',\n",
       " 'remove',\n",
       " 'reverse',\n",
       " 'sort']"
      ]
     },
     "execution_count": 3,
     "metadata": {},
     "output_type": "execute_result"
    }
   ],
   "source": [
    "dir(a)"
   ]
  },
  {
   "cell_type": "markdown",
   "metadata": {
    "id": "vlMqhOU8yVUi"
   },
   "source": [
    "See all the stuff in there?  Want to know what something like \"reverse\" does?"
   ]
  },
  {
   "cell_type": "code",
   "execution_count": 4,
   "metadata": {
    "id": "WHpoJMydyXK1"
   },
   "outputs": [
    {
     "name": "stdout",
     "output_type": "stream",
     "text": [
      "Help on built-in function reverse:\n",
      "\n",
      "reverse() method of builtins.list instance\n",
      "    Reverse *IN PLACE*.\n",
      "\n"
     ]
    }
   ],
   "source": [
    "help(a.reverse)"
   ]
  },
  {
   "cell_type": "markdown",
   "metadata": {
    "id": "EDQYSVoWyZ71"
   },
   "source": [
    "_Remember, you can open a Scratch cell in Google Colab (Insert, Scratch code cell) and use that for things like \"help\" commands._\n",
    "\n",
    "Each thing in Python knows how to do a lot of stuff to itself.  This is what \"object-oriented programming\" is all about.\n",
    "\n",
    "You can, when you want to, take an existing class and make your own version of this class to add new features you want to have so you have a customized version of something like Python's list.  Maybe, you'd want to write a function `mathadd()` so that you could write `a.mathadd(b)` and have it actually return a+b in a numeric sense rather than a concatenation.  If you did a lot of that, you'd have written NumPy."
   ]
  },
  {
   "cell_type": "markdown",
   "metadata": {
    "id": "XGUn1CYPy02-"
   },
   "source": [
    "## Removing elements\n",
    "\n",
    "Want to remove some elements?  One way is to use index ranges to get to what you want with something like `a=a[0:2]`.  Another is to use the _del_ function to destructively remove an element with `del a[place]`\n",
    "\n"
   ]
  },
  {
   "cell_type": "markdown",
   "metadata": {
    "id": "jnyYtzdEzN4c"
   },
   "source": [
    "## Other handy list functions\n",
    "\n",
    "\n",
    "### How big is the list?\n",
    "\n",
    "\n",
    "```\n",
    "len(a)\n",
    "a.__len__()\n",
    "```\n",
    "\n",
    "\n",
    "_Thought: Do you find it strange that these both exist?  Why do both exist?  What's the difference between them?_\n",
    "\n",
    "\n",
    "### Finding things in lists\n",
    "\n",
    "How many times does 2 appear in _a_?\n",
    "\n",
    "\n",
    "```\n",
    "a.count(2)\n",
    "```\n",
    "\n",
    "\n",
    "Is 2 in the list _a_?\n",
    "\n",
    "\n",
    "```\n",
    "2 in a\n",
    "```\n",
    "\n",
    "\n",
    "What is the **_first_** occurrence of 2 in _a_?\n",
    "\n",
    "\n",
    "```\n",
    "a.index(2)\n",
    "```\n",
    "\n",
    "\n",
    "Note, if not in there, it raises an exception.  If you don't want to handle the exception, check to see if it's in there first.\n",
    "\n",
    "\n",
    "### Copy-on-create\n",
    "\n",
    " File this away as a handy function that Python lists can do for you that NumPy's arrays (which you'll use a ton) won't do.  Let's say that you have:\n",
    "\n",
    "\n",
    "```\n",
    "a=[1,2,3]\n",
    "b=a*3 \n",
    "```\n",
    "\n",
    "\n",
    "What do you think _b_ has become?  It's not `[3,6,9]` but it'll make 3 copies of `a` (aka `[1,2,3,1,2,3,1,2,3]`).  Its just like the `a+b` thing above, but it's `a+a+a`.  Remember, lists are lists not matrices / vectors (contrary to MATLAB) and they can have anything in them - strings, other lists, whatever you want (and that might not make sense for math).  If you want math here, you'll need to either use NumPy (which would make `b` into `[3,6,9]`) or use a list comprehension (more on that later)"
   ]
  },
  {
   "cell_type": "markdown",
   "metadata": {},
   "source": [
    "## Tuples\n",
    "\n",
    "Whether it's a tuh-pul or too-pull, it's a read-only (pre-defined) list.  Once made, you can't change them, but they're very fast the immutable nature can make them safer.  To make a tuple, just use `()` instead of the `[]` you used for lists.\n",
    "\n",
    "One nice plus here is that use can assign multiple values at once:\n",
    "\n",
    "\n",
    "```\n",
    "a=[1,2,3]\n",
    "(x,y,z)=a\n",
    "```\n",
    "\n",
    "\n",
    "This will make x=1, y=2, z=3.  This comes in really handy with functions:\n",
    "\n",
    "\n",
    "```\n",
    "def circ_and_area(r)\n",
    "   circ = 2 * 3.14159 * r\n",
    "   area = 3.14159 * r * r\n",
    "   return (circ,area)\n",
    "\n",
    "a=7\n",
    "circ_a, area_a = circ_and_area(a)\n",
    "```\n",
    "\n",
    "\n",
    "So, we package two numbers (the result of the circumference and area calculation) into a tuple and return that tuple from the function `circ_and_area()`.  We assign that returned tuple into the variables we want to use: `circ_a` and `area_a`."
   ]
  },
  {
   "cell_type": "markdown",
   "metadata": {
    "id": "Z7UCirKEzlnH"
   },
   "source": [
    "# NumPy Arrays\n",
    "\n",
    "We're going to use these **a lot** in the course as they're the fundamental building block of the scientific part of Scientific Python.  When NumPy was made, the goal was to give Python the same kind of vectors and arrays we have in MATLAB.  So we can say things like:"
   ]
  },
  {
   "cell_type": "code",
   "execution_count": 6,
   "metadata": {
    "colab": {
     "base_uri": "https://localhost:8080/"
    },
    "executionInfo": {
     "elapsed": 299,
     "status": "ok",
     "timestamp": 1617732794528,
     "user": {
      "displayName": "Craig Stark",
      "photoUrl": "https://lh3.googleusercontent.com/a-/AOh14GgHTCQdxwqKpQoLMKn2jOrFLiJic0kn3TdGdABA=s64",
      "userId": "11041610993007874858"
     },
     "user_tz": 420
    },
    "id": "Wif4oZLzzvFo",
    "outputId": "257dc12a-be11-499b-e19f-b98b7bd50d9d"
   },
   "outputs": [
    {
     "name": "stdout",
     "output_type": "stream",
     "text": [
      "SSE=127.26  RMS=1.13\n"
     ]
    }
   ],
   "source": [
    "import numpy as np\n",
    "a=np.random.randn(100)\n",
    "sse=np.power(a,2).sum()\n",
    "rms=np.sqrt(sse/100)\n",
    "print('SSE={:.2f}  RMS={:.2f}'.format(sse,rms))"
   ]
  },
  {
   "cell_type": "markdown",
   "metadata": {
    "id": "asgp3L4G0DJd"
   },
   "source": [
    "This starts by making a into a list of 100 random Gaussian numbers.  Then computes the sum-squared error (here, error is deviation from 0) and stores that in `sse`.  Then, this computes the square root of the mean of that and stores it in the variable `rms`.  It's NumPy that let's us do lots of math and manipulation of data large-scale.  FWIW, what it really is is a Python library (just a big set of functions and classes) that accesses core math routines often written in C for high-speed computations.\n"
   ]
  },
  {
   "attachments": {},
   "cell_type": "markdown",
   "metadata": {},
   "source": [
    "# Coercing between data types\n",
    "Have a string that represents a number and want the number? Have an int and want it to be a float?  Want a string of a number?  You can coerce variables into another format so long as you're not going to lose information by using the `int`, `float`, `str`, `list`, etc. functions.  So, I might say:"
   ]
  },
  {
   "cell_type": "code",
   "execution_count": 2,
   "metadata": {},
   "outputs": [
    {
     "name": "stdout",
     "output_type": "stream",
     "text": [
      "5.4\n",
      "1 is less than 3.1\n"
     ]
    }
   ],
   "source": [
    "a=1\n",
    "b=3.1\n",
    "c='2.3'\n",
    "\n",
    "d=b+float(c)\n",
    "print(d)\n",
    "\n",
    "print(str(a) + ' is less than ' + str(b))"
   ]
  },
  {
   "cell_type": "markdown",
   "metadata": {
    "id": "bVM43FOR0HHf"
   },
   "source": [
    "# Native Python types we'll use less\n",
    "\n",
    "## Sets\n",
    "\n",
    "Sets, like tuples, are immutable (can't be changed).  But, unlike tuples, they're not ordered.  They're just a group of items you encase in `{}`.  You can do things like union and intersection on them if you're into that sort of thing.\n",
    "\n",
    "\n",
    "## Dictionaries\n",
    "\n",
    "Dictionaries are key-value pairs that are like sets, but indexed nicely by these keys.  You might define one like this:\n",
    "\n",
    "\n",
    "```\n",
    "params = {'ID': 47183,\n",
    "'Duration': 2.0,\n",
    "'ISI':0.5,\n",
    "'TrialOrder': [1,5,2,3,4]}\n",
    "```\n",
    "\n",
    "\n",
    "and then access the ISI portion via `params['ISI']`.  We saw a dictionary in the humansize example:\n",
    "\n",
    "\n",
    "```\n",
    "SUFFIXES = {1000: ['KB', 'MB', 'GB', 'TB', 'PB', 'EB', 'ZB', 'YB'],\n",
    "            1024: ['KiB', 'MiB', 'GiB', 'TiB', 'PiB', 'EiB', 'ZiB', 'YiB']}\n",
    "```\n",
    "\n",
    "\n",
    "So, we have two key-value pairs.  Each key (1000 or 1024) has a value.  That value is a list.  When we wanted the value associated with the 1000 key, we said `SUFFIXES[1000]` and it returned a list.  We could then get the nth value in that list, etc.  Note how in the first example, we used a string as the key and here we used a number. Python is fine with anything really being the key.\n"
   ]
  }
 ],
 "metadata": {
  "colab": {
   "authorship_tag": "ABX9TyP2hKOotJaY+NeaSo+Rwqz+",
   "name": "N247 - Class 1.2 - Data Types.ipynb",
   "provenance": []
  },
  "kernelspec": {
   "display_name": "Python 3",
   "language": "python",
   "name": "python3"
  },
  "language_info": {
   "codemirror_mode": {
    "name": "ipython",
    "version": 3
   },
   "file_extension": ".py",
   "mimetype": "text/x-python",
   "name": "python",
   "nbconvert_exporter": "python",
   "pygments_lexer": "ipython3",
   "version": "3.12.2"
  }
 },
 "nbformat": 4,
 "nbformat_minor": 0
}
