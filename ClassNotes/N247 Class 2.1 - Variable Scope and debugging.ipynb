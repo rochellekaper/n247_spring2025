{
 "cells": [
  {
   "attachments": {},
   "cell_type": "markdown",
   "metadata": {
    "id": "PmhqRPpASFka"
   },
   "source": [
    "Just what variables exist where?  That's what we mean by \"scope\".  Variables at the \"top level\" (leftmost indent) are \"global\" and can be seen anywhere.  Variables inside functions are \"local\" and live only in those functions.  So, an `i` inside of one function is wholly separate from an `i` inside another function.\n",
    "\n",
    "Inside a function, by default, if you access a global variable, it makes a local copy of that variable so that it starts off with the global value but changes to it remain local (use the `global` keyword if you want to change the global one).\n",
    "\n",
    "Run this and then try out these functions in the cell below."
   ]
  },
  {
   "cell_type": "code",
   "execution_count": 1,
   "metadata": {
    "colab": {
     "base_uri": "https://localhost:8080/"
    },
    "executionInfo": {
     "elapsed": 77928,
     "status": "ok",
     "timestamp": 1617735440477,
     "user": {
      "displayName": "Craig Stark",
      "photoUrl": "https://lh3.googleusercontent.com/a-/AOh14GgHTCQdxwqKpQoLMKn2jOrFLiJic0kn3TdGdABA=s64",
      "userId": "11041610993007874858"
     },
     "user_tz": 420
    },
    "id": "XNAp76quId3p",
    "outputId": "063a9279-cc86-42f7-d247-8503d61170e8"
   },
   "outputs": [
    {
     "name": "stdout",
     "output_type": "stream",
     "text": [
      "g is now  900\n",
      "a is now  200\n",
      "b is now  1121\n",
      "c is now  1100\n",
      "b is now  1021  and g is now  800\n",
      "foo is now:  [0, 1, 4, 9, 16, 25]\n",
      "0\n",
      "1\n",
      "2\n",
      "3\n",
      "4\n",
      "5\n",
      "5\n"
     ]
    }
   ],
   "source": [
    "#from pdb import set_trace\n",
    "\n",
    "g=900\n",
    "\n",
    "def funcA(i):\n",
    "    j=100\n",
    "    return i+j\n",
    "    \n",
    "def funcB(input):\n",
    "    i=10\n",
    "    j=11\n",
    "    return i+j+input+g\n",
    "\n",
    "def funcC(input):  \n",
    "    global g  # What happens if we comment out this line?\n",
    "    g=800\n",
    "    return input+g\n",
    "\n",
    "def funcD(i):\n",
    "    i=6\n",
    "    foo=[i*i for i in range(i)]\n",
    "    print('foo is now: ', foo)\n",
    "    for i in range(i):\n",
    "        print(i)\n",
    "    print(i)\n",
    "\n",
    "def funcE():\n",
    "    print (g)\n",
    "      \n",
    "def funcF(rad):\n",
    "    return(3.14*2*rad, 3.14*rad*rad)\n",
    "    \n",
    "# g=1000\n",
    "    \n",
    "if __name__ == '__main__':\n",
    "    print('g is now ', g)\n",
    "    a=funcA(100)\n",
    "    #set_trace()\n",
    "    print('a is now ', a)\n",
    "    b=funcB(200)\n",
    "    print('b is now ', b)\n",
    "    c=funcC(300)\n",
    "    print('c is now ', c)\n",
    "    b=funcB(200)\n",
    "    print('b is now ', b, ' and g is now ',g )\n",
    "    i=766\n",
    "    j=234\n",
    "    k=funcB(200)\n",
    "    l=funcA(100)\n",
    "    funcD(3)\n",
    "    f=funcF(243)"
   ]
  },
  {
   "cell_type": "code",
   "execution_count": null,
   "metadata": {
    "id": "vAOkVAmSiflw"
   },
   "outputs": [],
   "source": []
  },
  {
   "attachments": {},
   "cell_type": "markdown",
   "metadata": {},
   "source": [
    "# Debugging in VSCode\n",
    "If you look at the bottom of the window in VSCode, you likely have something that has tabs: _Problems, Output, Terminal, Jupyter, Debug console_. If not, in the _View_ menu, select _Problems_ or any of them and the pane should appear.  Head into _Jupyter_ at this point and you should see a list of all the variables at the global level that Python now knows about and their values. You can double-click on any of them to bring up a \"Variable explorer\" window that is going to be very handy for you in debugging.\n",
    "\n",
    "But, we can do more. Go back to the code and hover over the left hand side of a line until you see a red dot.  Click and you'll see the red dot now on that line.  This is a **breakpoint**.  When you \"run\" the code, breakpoints are ignored.  But, if you hit the little down-button next to the Play button you'll see \"Debug this cell\".  Hit that and you'll stop execution at that line. The top of the window now has icons for stepping over a line and stepping into functions, etc.  This lets you trace through the code.  On the bottom of the screen, now go to _Debug console_.  Here, you can evaluate expressions, check variable values, etc.  Again, very very handy!  Also though, check out the upper-left panel now of VSCode.  You get a \"Run and debug\" window that shows you all your variables.\n",
    "\n",
    "Finally, in the upper-right of each cell's window you have an icon that looks like a play button inside a paragraph.  That lets you run the cell \"line by line\".  It's a bit of a simplified verson of the breakpoint technique above. You'll trace through each line and again get to use the _Debug console_."
   ]
  },
  {
   "attachments": {},
   "cell_type": "markdown",
   "metadata": {},
   "source": [
    "# Debugging in Colab\n",
    "Colab gives us a few nice features. First, is the idea of the _Scratch code cell_ found in the _Insert_ menu.  This pops open a window on the side that lives in your current Python environment (so any existing variables / functions exist here too) but isn't part of your main code. It's a great spot to try out new code and see what works and what fails. It really is super-handy and doesn't clutter up your main workspace (it doesn't get saved when you save the notebook).\n",
    "\n",
    "Line by line debugging is a bit more clunky than in VSCode, but it's certainly possible.  Uncomment the `from pdb ...` line and the `set_trace()` line in the above and run it again.  You'll notice the code has stopped at the `set_trace()` line and you have a little command window.  Here are some common commands you can enter:\n",
    "\n",
    "- list Show the current location in the file\n",
    "- h(elp) Show a list of commands, or find help on a specific command\n",
    "- q(uit) Quit the debugger and the program\n",
    "- c(ontinue) Quit the debugger, continue in the program\n",
    "- n(ext) Go to the next step of the program\n",
    "- Repeat the previous command\n",
    "- p(rint) Print variables\n",
    "- s(tep) Step into a subroutine\n",
    "- r(eturn) Return out of a subroutine\n",
    "\n",
    "You can also run expressions like `print(a)` to see the contents of variables. It's a bit less elegant, but is nicely functional."
   ]
  }
 ],
 "metadata": {
  "colab": {
   "authorship_tag": "ABX9TyNRut9Miu6vP57koZKMbp1f",
   "name": "N247 - Class 2.1 - Variable Scope and using Colab.ipynb",
   "provenance": []
  },
  "kernelspec": {
   "display_name": "Python 3",
   "name": "python3"
  },
  "language_info": {
   "codemirror_mode": {
    "name": "ipython",
    "version": 3
   },
   "file_extension": ".py",
   "mimetype": "text/x-python",
   "name": "python",
   "nbconvert_exporter": "python",
   "pygments_lexer": "ipython3",
   "version": "3.12.2"
  }
 },
 "nbformat": 4,
 "nbformat_minor": 0
}
