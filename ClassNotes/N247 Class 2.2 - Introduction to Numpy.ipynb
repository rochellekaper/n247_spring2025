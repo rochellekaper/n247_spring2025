{
 "cells": [
  {
   "cell_type": "markdown",
   "metadata": {
    "id": "wSxspdGUmL5W"
   },
   "source": [
    "# Conventions\n",
    "\n",
    "To get started, you will need to import the functions from NumPy.  By convention, this is:\n",
    "\n",
    "\n",
    "```\n",
    "import numpy as np\n",
    "```\n",
    "\n",
    "\n",
    "Later on, we'll bring in other bits like Matplotlib's plotting routines\n",
    "\n",
    "\n",
    "```\n",
    "from matplotlib import pyplot as plt\n",
    "```\n",
    "\n",
    "\n",
    "All of my code will assume that you've imported things this way and not just done\n",
    "\n",
    "\n",
    "```\n",
    "import numpy\n",
    "```\n",
    "\n",
    "\n",
    "If you do that, you'll need to reference things like\n",
    "\n",
    "\n",
    "```\n",
    "numpy.array()\n",
    "```\n",
    "\n",
    "\n",
    "and not\n",
    "\n",
    "\n",
    "```\n",
    "np.array()\n",
    "```\n",
    "\n",
    "\n",
    "Just so I don't get called out by the geek police, a quick disclaimer.  You'll see me talk about a \"numpy array\", and use `np.array`, but you'll also see me talk about `np.ndarray`.  I'll use them interchangeably and truth be told, the first and third of those are the same and `np.array` is a touch different.  The class that NumPy makes for us is called an \"ndarray\" or N-dimensional array.  A standard way of creating an object of this class is to use the function `np.array([1,2,3,4])` or something similar.  You could also create it with `np.zeros(2)` for example to make a 2x2 array of zeros (see below).  In talking about things, I'll equate the terms though as it hardly matters to you and it's a pain to say \"n-d-array\" all the time.  But, if you see things talking about \"ndarray\", it's just the NumPy array we know and love.\n",
    "\n",
    "\n"
   ]
  },
  {
   "cell_type": "markdown",
   "metadata": {
    "id": "ijAcmfNspzbv"
   },
   "source": [
    "# Creating arrays\n",
    "\n",
    "You can create arrays much like you created lists, but you need to tell Python it's a numpy array as this aren't baked into Python. To make a 1-dimensional array (aka vector, aka rank 1 array)\n",
    "\n",
    "\n",
    "```\n",
    "z=np.array([1,2,3,4])\n",
    "```\n",
    "\n",
    "\n",
    "So you're calling the function `np.array`, which needs the parentheses, and you're passing in a list in brackets to let it know what the array should hold\n",
    "\n",
    "To make a 2D array (note all the brackets here):\n",
    "\n",
    "\n",
    "```\n",
    "z=np.array([[1,2,3],[4,5,6]])\n",
    "```\n",
    "\n",
    "\n",
    "Same deal here, but now we pass in a list of lists, hence the brackets around the two bracketed lists\n",
    "\n",
    "You also have a number of nice built-in functions to create pre-made arrays filled with zeros, ones, or whatever you like.\n",
    "\n",
    "\n",
    "```\n",
    "z=np.zeros((3,2))\n",
    "```\n",
    "\n",
    "\n",
    "This will make an `np.array` of all zeros that has 3 rows and 2 columns. Why the extra parentheses?  Well, `np.zeros` takes several parameters and one of them is the shape -- the 3x2.  Here, we need one value -- one \"shape\" value -- to have both aspects of the size, so we make a tuple `(3,2)` and that tuple, being a single thing, takes the first parameter slot to `np.zeros()`\n",
    "\n",
    "Want ones and not zeros?\n",
    "\n",
    "\n",
    "```\n",
    "np.ones((3,2))\n",
    "```\n",
    "\n",
    "\n",
    "Want it filled with pi?\n",
    "\n",
    "\n",
    "```\n",
    "np.full((3,2),np.pi)\n",
    "```\n",
    "\n",
    "\n",
    "or\n",
    "\n",
    "\n",
    "```\n",
    "np.ones((3,2)) * np.pi\n",
    "```\n",
    "\n",
    "\n",
    "Want it just generically empty?\n",
    "\n",
    "\n",
    "```\n",
    "np.empty((3,2))\n",
    "```\n",
    "\n"
   ]
  },
  {
   "cell_type": "markdown",
   "metadata": {
    "id": "K5e1e8BpnTPy"
   },
   "source": [
    "***Exercise: Make an array that has 4 columns and 2 rows and is filled with the number 42. Use the cell below.***  "
   ]
  },
  {
   "cell_type": "code",
   "execution_count": 1,
   "metadata": {
    "id": "okKJUQEhlisx"
   },
   "outputs": [
    {
     "data": {
      "text/plain": [
       "array([[42, 42, 42, 42],\n",
       "       [42, 42, 42, 42]])"
      ]
     },
     "execution_count": 1,
     "metadata": {},
     "output_type": "execute_result"
    }
   ],
   "source": [
    "import numpy as np\n",
    "\n",
    "np.full((2,4), 42)"
   ]
  },
  {
   "attachments": {},
   "cell_type": "markdown",
   "metadata": {
    "id": "csro4J-WpOWa"
   },
   "source": [
    "## The Make it Like X functions\n",
    "\n",
    "If you know you want something the same size/shape of an existing array, you could grab the size of the existing one using `foo.shape()` and do something like `np.ones(foo.shape())` but NumPy has nice shorthands:\n",
    "\n",
    "\n",
    "```\n",
    "np.zeros_like(existing_item)\n",
    "np.ones_like(existing_item)\n",
    "np.empty_like(existing_item)\n",
    "```\n",
    "\n",
    "\n",
    "Note, `empty_like()` and `empty()` will often give the same result as `zeros_like()` and `zeros()`, but the values aren't explicitly forced to be anything.  So, you could get random crud.  But, it's faster as it's not enforcing everything must be set to 0.  So, if you're going to overwrite it anyway, feel free to use `empty()` or `empty_like()`\n",
    "\n",
    "You might think you can copy an array using the \"=\" operator as in:\n",
    "\n",
    "\n",
    "```\n",
    "a=np.array([1,2,3])\n",
    "b=a\n",
    "```\n",
    "\n",
    "\n",
    "The problem here is if you do something like\n",
    "\n",
    "\n",
    "```\n",
    "b[0]=999\n",
    "b\n",
    "array([999, 2, 3])\n",
    "a\n",
    "array([999, 2, 3])\n",
    "```\n",
    "\n",
    "\n",
    "What we've done here is create b as a \"view\" of a, not an actual copy.  If you want to make an explicit copy of a and store it in b we need to:\n",
    "\n",
    "\n",
    "```\n",
    "b=a.copy()\n",
    "```\n",
    "\n",
    "\n",
    "Why on earth might this be desired?  This is called creating a new \"view\" of the data, here by slicing it.  Maybe you want just one plane of a 3D dataset or something.  It's a nice shorthand.\n",
    "\n",
    "\n",
    "```\n",
    "a=np.array([1,2,3,4])\n",
    "b=a[1:3]\n",
    "b\n",
    "array([2, 3])\n",
    "b[0]=10\n",
    "a\n",
    "array([ 1, 10,  3,  4])\n",
    "```\n",
    "\n",
    "Before running this cell, what do you think each of those `print` statements will print?"
   ]
  },
  {
   "cell_type": "code",
   "execution_count": 2,
   "metadata": {},
   "outputs": [
    {
     "name": "stdout",
     "output_type": "stream",
     "text": [
      "[1 2 3] [1 2 3] [1 2 3]\n",
      "[ 1 10  3] [ 1 10  3] [1 2 3]\n",
      "[ 1 10  3] [ 1 10  3] [ 1 20  3]\n"
     ]
    }
   ],
   "source": [
    "import numpy as np\n",
    "a=np.array([1,2,3])\n",
    "b=a\n",
    "c=a.copy()\n",
    "print(a,b,c)\n",
    "b[1]=10\n",
    "print(a,b,c)\n",
    "c[1]=20\n",
    "print(a,b,c)\n"
   ]
  },
  {
   "cell_type": "markdown",
   "metadata": {
    "id": "AcHU9mq8p_6R"
   },
   "source": [
    "## Data types\n",
    "\n",
    "NumPy arrays are really nice for math and for >1 dimensions, but they have a real limitation when compared to Python's lists.  They can only be of one \"type\".  A Python list can be:\n",
    "\n",
    "\n",
    "```\n",
    "a = [4, 'dog', 3.14, [1, 2]]\n",
    "```\n",
    "\n",
    "\n",
    "NumPy arrays, not so much.  You're talking integers `(np.int`) or floating point numbers (`np.float`).  In general, NumPy will convert for you as needed, but if you ever need to deal with converting to another type, you'll do something like:\n",
    "\n",
    "\n",
    "```\n",
    "a=np.array([1,2,3,4])\n",
    "a=a.astype(np.float)\n",
    "```\n",
    "\n",
    "\n",
    "OR\n",
    "\n",
    "\n",
    "```\n",
    "a=np.array([1,2,3,4], dtype=np.float)\n",
    "```\n",
    "\n",
    "\n"
   ]
  },
  {
   "attachments": {},
   "cell_type": "markdown",
   "metadata": {
    "id": "34zy-9OIqJmG"
   },
   "source": [
    "\n",
    "# Indexing arrays\n",
    "\n",
    "Getting bits of an array is just like getting bits of a list.  We use the same `[ ]` operations, we have _start:stop:stride_ kinds of mechanisms, etc.\n",
    "\n",
    "\n",
    "```\n",
    "z=np.array([[1,2,3,4], [5,6,7,8], [9,10,11,12]])\n",
    "z[2,3]\n",
    "12\n",
    "z[0,:]\n",
    "array([1, 2, 3, 4])\n",
    "z[0:2,:]\n",
    "array([[1, 2, 3, 4],\n",
    "[5, 6, 7, 8]]\n",
    "z[1,0:3:2]\n",
    "array([5, 7])\n",
    "```\n",
    "\n",
    "\n",
    "You can get funky here if you want and pass in arrays as your indices. \n",
    "\n",
    "\n",
    "```\n",
    "r=[0,2]\n",
    "z[r,3]\n",
    "array([ 4, 12])\n",
    "```\n",
    "\n",
    "\n",
    "So here, we got the 0,3 element (4) and the 2,3 element (12). You can have both of them as rank-1 arrays (vectors) and get out the points like this:\n",
    "\n",
    "\n",
    "```\n",
    "c=[1,3]\n",
    "z[r,c]\n",
    "array([ 2, 12])\n",
    "```\n",
    "Here's a simple example.  Create a `b` that has the middle two values from the middle row of `a` and print it out"
   ]
  },
  {
   "cell_type": "code",
   "execution_count": null,
   "metadata": {},
   "outputs": [
    {
     "name": "stdout",
     "output_type": "stream",
     "text": [
      "[6 7]\n"
     ]
    }
   ],
   "source": [
    "import numpy as np\n",
    "a=np.array([[1,2,3,4], [5,6,7,8], [9,10,11,12]])\n",
    "\n",
    "\n",
    "# Create a \"b\" that has the middle two values from the middle row of \"a\" and print it out (aka 6 and 7)\n",
    "b = a[1, 1:3]\n",
    "print(b)\n"
   ]
  },
  {
   "attachments": {},
   "cell_type": "markdown",
   "metadata": {
    "id": "9BbiyVf1qlRk"
   },
   "source": [
    "## Logical indexing\n",
    "\n",
    "If you have a variable that codes True / False for each element, you can grab just the True elements.  Let's say, for example, that you wanted all of the elements of our array here that are greater than some threshold (>= 10) or that are odd numbers.  If we can define arrays that code for this, we can then select just those values.  For example:\n"
   ]
  },
  {
   "cell_type": "code",
   "execution_count": 5,
   "metadata": {},
   "outputs": [
    {
     "name": "stdout",
     "output_type": "stream",
     "text": [
      "Big ones...\n",
      "[10 11 12]\n",
      "Odd ones\n",
      "[ 1  3  5  7  9 11]\n"
     ]
    }
   ],
   "source": [
    "import numpy as np\n",
    "z=np.array([[1,2,3,4], [5,6,7,8], [9,10,11,12]])\n",
    "big = z >= 10\n",
    "odd = (z % 2) == 1\n",
    "print('Big ones...')\n",
    "print(z[big])\n",
    "print('Odd ones')\n",
    "print(z[odd])"
   ]
  },
  {
   "attachments": {},
   "cell_type": "markdown",
   "metadata": {},
   "source": [
    "Note, in this, you're looking at that odd odd line and wondering what's up with the **%**?  That's the _modulo_ operator and one of my personal favorites (yes, I have favorite operators).  What it means is \"do integer division and tell me the remainder\".  Described like that, it doesn't seem all that useful.  But, if I told you to turn right 370 degrees, you'd ask \"why not just turn right 10 degrees\"?  Modulo helps here.  `370 % 360` is 10.  In the case above, dividing by 2 and looking at the remainder tells you if it's odd or even.  What if we wanted to assign our 10 rats in an experiment to 4 conditions?  You could say \"if it's 1-4, condition 1, 5-8 and it's condition 2, etc.\" or you could say `RatNum % 4`.  (This would make them 0-3 so deal with that or just add 1).  Really, really handy operator.\n",
    "\n",
    "In the cell below, in one line, print out the even entries of `z`"
   ]
  },
  {
   "cell_type": "code",
   "execution_count": 7,
   "metadata": {},
   "outputs": [
    {
     "name": "stdout",
     "output_type": "stream",
     "text": [
      "[ 2  4  6  8 10 12]\n"
     ]
    }
   ],
   "source": [
    "import numpy as np\n",
    "z=np.array([[1,2,3,4], [5,6,7,8], [9,10,11,12]])\n",
    "# In one line below, print out the even entries of z\n",
    "print(z[(z % 2) == 0])\n"
   ]
  },
  {
   "cell_type": "markdown",
   "metadata": {
    "id": "37DB3FcNqzLX"
   },
   "source": [
    "# Math 'n stuff\n",
    "\n",
    "In general, math happens element-wise.  So, if we had our example from above\n",
    "\n",
    "\n",
    "```\n",
    "z=np.array([[1,2,3,4], [5,6,7,8], [9,10,11,12]])\n",
    "```\n",
    "\n",
    "\n",
    "We could double each value with:\n",
    "\n",
    "\n",
    "```\n",
    "z * 2\n",
    "array([[ 2, 4, 6, 8],\n",
    "[10, 12, 14, 16],\n",
    "[18, 20, 22, 24]])\n",
    "```\n",
    "\n",
    "\n",
    "Now, technically this is something called an \"overload\" and, internally, the \"*\" gets remapped from Python's \"*\" to `np.multiply(z,2)`, but you can safely ignore this for now.  (This all comes from everything being an object.  For `np.array` objects, \"*\" mean element-wise multiplication and \"+\" means element-wise addition.  _Remember how \"+\" meant \"concatenate these lists\" in Python lists and not actual addition?_)\n",
    "\n",
    "We have the standard +, -, /, and * operators.  We also have ** for exponents.  We have a lot more though.  Have a look [at the list here](http://docs.scipy.org/doc/numpy/reference/routines.math.html).\n",
    "\n",
    "We have a lot of great methods (functions) we can apply to anything that's an np.ndarray For example, you have things like\n",
    "\n",
    "\n",
    "```\n",
    "z.sum()\n",
    "78\n",
    "```\n",
    "\n",
    "\n",
    "For this (and many others), you can specify an axis to operate on.  For example\n",
    "\n",
    "\n",
    "```\n",
    "z.sum(0)\n",
    "array([15, 18, 21, 24])\n",
    "```\n",
    "\n",
    "\n",
    "\n",
    "```\n",
    "z.sum(1)\n",
    "array([10, 26, 42])\n",
    "```\n",
    "\n",
    "\n",
    "You also have:\n",
    "\n",
    "*   `.max([axis])`: Maximum either globally or along an axis\n",
    "*   `.min([axis])`: Minimum either globally or along an axis\n",
    "*   `.mean([axis])`: Mean value either globally or along an axis\n",
    "*   `cumsum([axis])`: Cumulative sum either globally or along an axis\n",
    "*   ...\n"
   ]
  },
  {
   "cell_type": "markdown",
   "metadata": {
    "id": "-4T5f6T2rRX6"
   },
   "source": [
    "# Random useful bits\n",
    "\n",
    "\n",
    "## Array information\n",
    "\n",
    "\n",
    "*   `.ndim`: # of dimensions\n",
    "*   `.shape`: tuple giving the size of each dimension\n",
    "*   `.size`: Total number of elements\n",
    "\n",
    "\n",
    "## Shape\n",
    "\n",
    "*   `.reshape`: Return a new array with the specified shape.  If `a.size` returned (2,3), we could rotate it with b=a.reshape((3,2)).  We could make it 1D by `b=a.reshape((1,6))` or even cooler with `b=a.reshape(1,-1)`.  The -1 here means \"fill in the right value based on the size\".\n",
    "*   `.resize`: Like reshape, but do so destructively\n",
    "*   `.transpose`: Transpose the matrix (rows become columns)\n",
    "\n",
    "\n",
    "## Other\n",
    "\n",
    "\n",
    "\n",
    "*   `np.linspace(start, stop [,number])`: Create a 1D array that has _number_ evenly-spaced values from _start_ to _stop_\n",
    "*   `np.arange([start,] stop[, step,])`: Very similar to np.linspace but this is like Python's _start:stop:stride_ syntax and you're specifying the stride vs. the # of steps."
   ]
  },
  {
   "cell_type": "markdown",
   "metadata": {
    "id": "gXy9Cs9prySu"
   },
   "source": [
    "***Exercises***\n",
    "Make an np-array that's 5 rows and 2 columns with the first column being the numbers 1-5 and the second column being 2,4,6,8,10.  Print this to the screen.  \n",
    "\n",
    "Next, figure the sum across each axis separately and print that.\n",
    "\n",
    "Finally, use logical indexing to find and print all the odd elements.\n"
   ]
  },
  {
   "cell_type": "code",
   "execution_count": null,
   "metadata": {
    "id": "Z_vSA5EEsjiM"
   },
   "outputs": [
    {
     "name": "stdout",
     "output_type": "stream",
     "text": [
      "[[ 1  2]\n",
      " [ 2  4]\n",
      " [ 3  6]\n",
      " [ 4  8]\n",
      " [ 5 10]]\n",
      "sum of all columns for axis 0: [15 30]\n",
      "sum of all rows for axis 1: [ 3  6  9 12 15]\n"
     ]
    },
    {
     "data": {
      "text/plain": [
       "array([1, 3, 5])"
      ]
     },
     "execution_count": 46,
     "metadata": {},
     "output_type": "execute_result"
    }
   ],
   "source": [
    "import numpy as np\n",
    "a = np.array([[1,2,3,4,5], [2,4,6,8,10]]).transpose()\n",
    "print(a)\n",
    "\n",
    "print(\"sum of all columns for axis 0:\", a.sum(0))\n",
    "print(\"sum of all rows for axis 1:\", a.sum(1))\n",
    "\n",
    "#print all odd elements\n",
    "a[(a % 2 != 0)] \n",
    "\n"
   ]
  }
 ],
 "metadata": {
  "colab": {
   "authorship_tag": "ABX9TyOzL0GjmbPOY5YqZPgv2qH1",
   "name": "N247 - Class 2.2 - Introduction to Numpy.ipynb",
   "provenance": [],
   "toc_visible": true
  },
  "kernelspec": {
   "display_name": "Python 3",
   "name": "python3"
  },
  "language_info": {
   "codemirror_mode": {
    "name": "ipython",
    "version": 3
   },
   "file_extension": ".py",
   "mimetype": "text/x-python",
   "name": "python",
   "nbconvert_exporter": "python",
   "pygments_lexer": "ipython3",
   "version": "3.12.2"
  }
 },
 "nbformat": 4,
 "nbformat_minor": 0
}
