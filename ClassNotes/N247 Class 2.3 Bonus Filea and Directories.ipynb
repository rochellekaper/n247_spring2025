{
 "cells": [
  {
   "cell_type": "markdown",
   "metadata": {},
   "source": [
    "# Bonus - Files and directories\n",
    "\n",
    "## Quick overview of file structure:\n",
    "- `/` (Mac and Linux) or `\\` (Windows) is used to indicate moving down in the file tree (folders inside folders)\n",
    "- The root or top is always `/`\n",
    "- Shorthands:\n",
    "  - `.` = current directory (folder)\n",
    "  - `..` = parent directory (one up from you)\n",
    "  - `~` = your home directory\n",
    "  - `~name` = name's home directory\n",
    "- If a directory name starts with `/`, it means start at the top.  If it doesn't, it means start from here and go down.\n",
    "- `/foo/bar/bas.txt` vs. `foo/bar/bas.txt`\n",
    "- `foo.txt` = `./foo.txt`\n",
    "\n",
    "Suppose you're in /Users/stark already and there's a file \"foo.txt\" in that directory, you could get at it by opening:\n",
    "- `foo.txt`\n",
    "- `./foo.txt`\n",
    "- `~/foo.txt`\n",
    "- `~stark/foo.txt`\n",
    "- `/Users/stark/foo.txt` (Windows) or `/home/stark/foo.txt` (Mac / Linux)\n",
    "- `../stark/foo.txt`\n",
    "- `/Users/stark/../stark/../stark/../stark/../../Users/stark/foo.txt`\n",
    "\n",
    "Suppose you're in `/Users/stark` or `/home/stark` and there's a directory called `bar` that has a file called `foo.txt`.  You could get to it by:\n",
    "- `bar/foo.txt`\n",
    "- `./bar/foo.txt`\n",
    "- `/Users/stark/bar/foo.txt` or `/home/stark/bar/foo.txt`\n",
    "\n",
    "But, you could not get to it by:\n",
    "- `/bar/foo.txt`\n",
    "- `Users/stark/bar/foo.txt`"
   ]
  },
  {
   "cell_type": "markdown",
   "metadata": {},
   "source": [
    "## Portable code\n",
    "Python has gotten pretty good about letting you use `/` as the path separator, but you should know that this is it holding your hand and that you may not be able to rely on it.  Why? Paul Allen and Bill Gates' stupid decision in MS-DOS 2.0.  So, we have:\n",
    "\n",
    "- `os.sep` = `/` on Mac and Linux, `\\` on Windows\n",
    "- `os.path.sep` = `os.sep`\n",
    "- `os.path.join(name1,name2,...)`: combine components\n",
    "  - `os.path.join('Users','stark','foo.txt')`\n",
    "  - `os.path.join(os.sep,'Users','stark','foo.txt')`\n"
   ]
  },
  {
   "cell_type": "markdown",
   "metadata": {},
   "source": [
    "## Working with directories\n",
    "Need to move around or list the contents of a folder?\n",
    "\n",
    "- `os.getcwd()`: Return the Current Working Directory (where the heck am I now?)\n",
    "- `os.path.realpath(file)`: Return the absolute path for some relative-path file or directory\n",
    "- `os.chdir(path)`: Change into the specified path (absolute or relative)\n",
    "- `os.mkdir(path)`: Make a new folder / directory\n",
    "- `os.mkdir('foo')`\n",
    "- `os.mkdir('foo/bar')` or better yet: `os.mkdir(os.join('foo','bar'))`, but not: `os.mkdir('foo2/bar2')` as you can't make >1 deep at the same time\n",
    "- `os.listdir([path])`: Show contents of directory (or current directory).  Note, you probably won't use this much and will use `glob.glob()` which allows wildcards and won't show hidden files or folders\n",
    "\n",
    "In the cell below, print out your current working directory name, the contents of that directory, and then the contents of the \"data\" directory inside this.  Try that last one both with, and without changing into the folder."
   ]
  },
  {
   "cell_type": "code",
   "execution_count": 16,
   "metadata": {},
   "outputs": [
    {
     "ename": "AttributeError",
     "evalue": "module 'os' has no attribute 'join'",
     "output_type": "error",
     "traceback": [
      "\u001b[0;31m---------------------------------------------------------------------------\u001b[0m",
      "\u001b[0;31mAttributeError\u001b[0m                            Traceback (most recent call last)",
      "Cell \u001b[0;32mIn[16], line 15\u001b[0m\n\u001b[1;32m     11\u001b[0m os\u001b[38;5;241m.\u001b[39mlistdir(data_work_dir) \n\u001b[1;32m     14\u001b[0m \u001b[38;5;66;03m#print contents of data directory without changing into data folder\u001b[39;00m\n\u001b[0;32m---> 15\u001b[0m os\u001b[38;5;241m.\u001b[39mmkdir(\u001b[43mos\u001b[49m\u001b[38;5;241;43m.\u001b[39;49m\u001b[43mjoin\u001b[49m(work_dir, \u001b[38;5;124m'\u001b[39m\u001b[38;5;124m/data\u001b[39m\u001b[38;5;124m'\u001b[39m))\n",
      "\u001b[0;31mAttributeError\u001b[0m: module 'os' has no attribute 'join'"
     ]
    }
   ],
   "source": [
    "import os\n",
    "\n",
    "os.getcwd() #print current working directory name\n",
    "\n",
    "work_dir = os.chdir('/Users/rochellekaper/Documents/GitHub/n247') #change into different working dir \n",
    "\n",
    "os.listdir(work_dir) #print contents of working directory\n",
    "\n",
    "#print contents of data directory by changing into data folder\n",
    "data_work_dir =  os.chdir('/Users/rochellekaper/Documents/GitHub/n247/data')\n",
    "os.listdir(data_work_dir) \n",
    "\n",
    "\n",
    "#print contents of data directory without changing into data folder\n",
    "os.mkdir(os.join(work_dir, '/data'))\n",
    "\n"
   ]
  },
  {
   "cell_type": "markdown",
   "metadata": {},
   "source": [
    "## Globbing\n",
    "Don't ask why it's called 'globbing' (it's beyond arcane).  Glob is an active verb meaning to match according to wildcards.\n",
    "\n",
    "Wildcards\n",
    "- `*` = Anything\n",
    "- `?` = Any single character\n",
    "- `[]` = Range operator.  `[0-9]` for example\n",
    "\n",
    "Examples:\n",
    "- `glob.glob('*')` - show all files and directories\n",
    "- `glob.glob('C*')` - show all starting with the letter C (capital C)\n",
    "- `glob.glob('[A-Z]*')` - show all starting with any capital letter\n",
    "- `glob.glob('*.pdf')` - show all PDF files (those with a .pdf extension)\n",
    "- `glob.glob('????')` - show all that have only 4 characters in the name\n",
    "- `glob.glob('*.???')` - show all that have a 3-letter extension\n",
    "\n",
    "In the cell below, print out all the `csv` files in the `data` folder"
   ]
  },
  {
   "cell_type": "code",
   "execution_count": null,
   "metadata": {},
   "outputs": [
    {
     "name": "stdout",
     "output_type": "stream",
     "text": [
      "['data/Aging_MCI_JAGS.csv', 'data/OrigNorm.csv', 'data/OrigNullSkew.csv', 'data/StarkData.csv', 'data/OrigNullNorm.csv', 'data/OrigSkew.csv']\n"
     ]
    }
   ],
   "source": [
    "import os, glob\n"
   ]
  }
 ],
 "metadata": {
  "kernelspec": {
   "display_name": "Python 3",
   "language": "python",
   "name": "python3"
  },
  "language_info": {
   "codemirror_mode": {
    "name": "ipython",
    "version": 3
   },
   "file_extension": ".py",
   "mimetype": "text/x-python",
   "name": "python",
   "nbconvert_exporter": "python",
   "pygments_lexer": "ipython3",
   "version": "3.12.2"
  }
 },
 "nbformat": 4,
 "nbformat_minor": 2
}
