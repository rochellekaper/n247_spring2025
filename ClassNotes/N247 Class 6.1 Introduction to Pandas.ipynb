{
 "cells": [
  {
   "cell_type": "markdown",
   "metadata": {
    "id": "GTjtGAMfzWHO"
   },
   "source": [
    "# Why Pandas?\n",
    "\n",
    "A lot of what we end up doing has data that's organized in some kind of table format.  Each row may be a subject or an observation and we have a number of bits of data associated with this.  We might have the observation date, the condition that was being used and several scores for example.  A generic term for this kind of setup is a \"data frame\" and it's used in most every stats package that I can think of.\n",
    "\n",
    "Scientific Python has a nice implementation of this, called Pandas and if you want to do something like load in an Excel table and analyze things or if you want to do the sorts of data analysis one might do in R, you're going to get to know Pandas.\n",
    "\n",
    "Now, you can do everything we're going to lay out here without Pandas.  It'd just be more of a pain.  What Pandas does for you is gives you the ability to easily mix columns with different data types (e.g., strings, integers, and floats) and the ability to easily select bits and pieces of the data."
   ]
  },
  {
   "cell_type": "markdown",
   "metadata": {
    "id": "8pawBgMzzYKz"
   },
   "source": [
    "# Data frames and series\n",
    "\n",
    "To get started, try the following:"
   ]
  },
  {
   "cell_type": "code",
   "execution_count": 1,
   "metadata": {
    "executionInfo": {
     "elapsed": 323,
     "status": "ok",
     "timestamp": 1620152836314,
     "user": {
      "displayName": "Craig Stark",
      "photoUrl": "https://lh3.googleusercontent.com/a-/AOh14GgHTCQdxwqKpQoLMKn2jOrFLiJic0kn3TdGdABA=s64",
      "userId": "11041610993007874858"
     },
     "user_tz": 420
    },
    "id": "uZFBUuluyEJ1"
   },
   "outputs": [],
   "source": [
    "import numpy as np\n",
    "import pandas as pd\n",
    "from matplotlib import pyplot as plt\n",
    "df = pd.DataFrame(np.random.randn(6,4), columns=list('ABCD'))"
   ]
  },
  {
   "cell_type": "markdown",
   "metadata": {
    "id": "lTqb47lbzlMO"
   },
   "source": [
    "(Note, much of this is modified from the [10-minutes to pandas](http://pandas.pydata.org/pandas-docs/stable/10min.html) on the [main pandas docs](http://pandas.pydata.org/pandas-docs/stable/index.html) site) \n",
    "\n",
    "What we've done here apart from importing things is to create a \"data frame\" called df.  It's got 4 columns with the imaginative names of A, B, C, and D.  It's got 6 observations (rows) and it's just filled with random numbers for now.  Have a look:"
   ]
  },
  {
   "cell_type": "code",
   "execution_count": 2,
   "metadata": {
    "colab": {
     "base_uri": "https://localhost:8080/",
     "height": 415
    },
    "executionInfo": {
     "elapsed": 273,
     "status": "ok",
     "timestamp": 1620152884273,
     "user": {
      "displayName": "Craig Stark",
      "photoUrl": "https://lh3.googleusercontent.com/a-/AOh14GgHTCQdxwqKpQoLMKn2jOrFLiJic0kn3TdGdABA=s64",
      "userId": "11041610993007874858"
     },
     "user_tz": 420
    },
    "id": "JYJ7pL31zqq9",
    "outputId": "6af75c42-a073-4f34-9838-cb7c54405081"
   },
   "outputs": [
    {
     "name": "stdout",
     "output_type": "stream",
     "text": [
      "          A         B         C         D\n",
      "0  0.652033  0.346538 -0.720394 -0.054137\n",
      "1  1.506004 -0.274139  1.319222  1.490255\n",
      "2  0.528867  0.741919 -0.109293 -1.227570\n",
      "3 -0.008141 -0.270398  0.745527 -0.046284\n",
      "4  0.542719 -0.537720  0.100714  1.344356\n",
      "5 -1.080613  0.599527  0.269061  1.574087\n"
     ]
    },
    {
     "data": {
      "application/vnd.microsoft.datawrangler.viewer.v0+json": {
       "columns": [
        {
         "name": "index",
         "rawType": "object",
         "type": "string"
        },
        {
         "name": "A",
         "rawType": "float64",
         "type": "float"
        },
        {
         "name": "B",
         "rawType": "float64",
         "type": "float"
        },
        {
         "name": "C",
         "rawType": "float64",
         "type": "float"
        },
        {
         "name": "D",
         "rawType": "float64",
         "type": "float"
        }
       ],
       "conversionMethod": "pd.DataFrame",
       "ref": "8a4115b1-53b3-4da5-9b44-63cb4049da5a",
       "rows": [
        [
         "count",
         "6.0",
         "6.0",
         "6.0",
         "6.0"
        ],
        [
         "mean",
         "0.3568113494196563",
         "0.10095447384238897",
         "0.267472907871277",
         "0.5134511148802398"
        ],
        [
         "std",
         "0.8568948194169226",
         "0.5303252797234645",
         "0.704323438644242",
         "1.1345579019405576"
        ],
        [
         "min",
         "-1.0806132046069827",
         "-0.5377200942879048",
         "-0.7203942163548508",
         "-1.2275696496158404"
        ],
        [
         "25%",
         "0.12611086733243473",
         "-0.2732038436266929",
         "-0.05679112871864203",
         "-0.05217356717116489"
        ],
        [
         "50%",
         "0.5357928826473353",
         "0.038069922418750235",
         "0.1848875364007241",
         "0.6490359114927333"
        ],
        [
         "75%",
         "0.62470430212537",
         "0.5362798506361411",
         "0.6264106922024346",
         "1.4537799976966053"
        ],
        [
         "max",
         "1.5060038983180677",
         "0.741919031437974",
         "1.3192221970698237",
         "1.5740865495397134"
        ]
       ],
       "shape": {
        "columns": 4,
        "rows": 8
       }
      },
      "text/html": [
       "<div>\n",
       "<style scoped>\n",
       "    .dataframe tbody tr th:only-of-type {\n",
       "        vertical-align: middle;\n",
       "    }\n",
       "\n",
       "    .dataframe tbody tr th {\n",
       "        vertical-align: top;\n",
       "    }\n",
       "\n",
       "    .dataframe thead th {\n",
       "        text-align: right;\n",
       "    }\n",
       "</style>\n",
       "<table border=\"1\" class=\"dataframe\">\n",
       "  <thead>\n",
       "    <tr style=\"text-align: right;\">\n",
       "      <th></th>\n",
       "      <th>A</th>\n",
       "      <th>B</th>\n",
       "      <th>C</th>\n",
       "      <th>D</th>\n",
       "    </tr>\n",
       "  </thead>\n",
       "  <tbody>\n",
       "    <tr>\n",
       "      <th>count</th>\n",
       "      <td>6.000000</td>\n",
       "      <td>6.000000</td>\n",
       "      <td>6.000000</td>\n",
       "      <td>6.000000</td>\n",
       "    </tr>\n",
       "    <tr>\n",
       "      <th>mean</th>\n",
       "      <td>0.356811</td>\n",
       "      <td>0.100954</td>\n",
       "      <td>0.267473</td>\n",
       "      <td>0.513451</td>\n",
       "    </tr>\n",
       "    <tr>\n",
       "      <th>std</th>\n",
       "      <td>0.856895</td>\n",
       "      <td>0.530325</td>\n",
       "      <td>0.704323</td>\n",
       "      <td>1.134558</td>\n",
       "    </tr>\n",
       "    <tr>\n",
       "      <th>min</th>\n",
       "      <td>-1.080613</td>\n",
       "      <td>-0.537720</td>\n",
       "      <td>-0.720394</td>\n",
       "      <td>-1.227570</td>\n",
       "    </tr>\n",
       "    <tr>\n",
       "      <th>25%</th>\n",
       "      <td>0.126111</td>\n",
       "      <td>-0.273204</td>\n",
       "      <td>-0.056791</td>\n",
       "      <td>-0.052174</td>\n",
       "    </tr>\n",
       "    <tr>\n",
       "      <th>50%</th>\n",
       "      <td>0.535793</td>\n",
       "      <td>0.038070</td>\n",
       "      <td>0.184888</td>\n",
       "      <td>0.649036</td>\n",
       "    </tr>\n",
       "    <tr>\n",
       "      <th>75%</th>\n",
       "      <td>0.624704</td>\n",
       "      <td>0.536280</td>\n",
       "      <td>0.626411</td>\n",
       "      <td>1.453780</td>\n",
       "    </tr>\n",
       "    <tr>\n",
       "      <th>max</th>\n",
       "      <td>1.506004</td>\n",
       "      <td>0.741919</td>\n",
       "      <td>1.319222</td>\n",
       "      <td>1.574087</td>\n",
       "    </tr>\n",
       "  </tbody>\n",
       "</table>\n",
       "</div>"
      ],
      "text/plain": [
       "              A         B         C         D\n",
       "count  6.000000  6.000000  6.000000  6.000000\n",
       "mean   0.356811  0.100954  0.267473  0.513451\n",
       "std    0.856895  0.530325  0.704323  1.134558\n",
       "min   -1.080613 -0.537720 -0.720394 -1.227570\n",
       "25%    0.126111 -0.273204 -0.056791 -0.052174\n",
       "50%    0.535793  0.038070  0.184888  0.649036\n",
       "75%    0.624704  0.536280  0.626411  1.453780\n",
       "max    1.506004  0.741919  1.319222  1.574087"
      ]
     },
     "execution_count": 2,
     "metadata": {},
     "output_type": "execute_result"
    }
   ],
   "source": [
    "print(df)\n",
    "df.describe()"
   ]
  },
  {
   "cell_type": "markdown",
   "metadata": {
    "id": "y5YWoPECz0ua"
   },
   "source": [
    "A data series is just a 1D version of the data frame\n",
    "\n"
   ]
  },
  {
   "cell_type": "code",
   "execution_count": 3,
   "metadata": {
    "colab": {
     "base_uri": "https://localhost:8080/"
    },
    "executionInfo": {
     "elapsed": 525,
     "status": "ok",
     "timestamp": 1617666876600,
     "user": {
      "displayName": "Craig Stark",
      "photoUrl": "https://lh3.googleusercontent.com/a-/AOh14GgHTCQdxwqKpQoLMKn2jOrFLiJic0kn3TdGdABA=s64",
      "userId": "11041610993007874858"
     },
     "user_tz": 420
    },
    "id": "3tmy6afzz0aG",
    "outputId": "350fee54-c184-4e8c-df60-2a003e37d57f"
   },
   "outputs": [
    {
     "name": "stdout",
     "output_type": "stream",
     "text": [
      "0    3\n",
      "1    1\n",
      "2    4\n",
      "3    1\n",
      "4    5\n",
      "5    9\n",
      "dtype: int64\n"
     ]
    }
   ],
   "source": [
    "s=pd.Series([3,1,4,1,5,9])\n",
    "print(s)"
   ]
  },
  {
   "cell_type": "markdown",
   "metadata": {
    "id": "j5_uFFXbz_Ig"
   },
   "source": [
    "# Grabbing bits of data: Columns and Rows\n",
    "\n",
    "Want just a single column? One easy way is just to put the name of the column  (in quotes) inside brackets:"
   ]
  },
  {
   "cell_type": "code",
   "execution_count": 4,
   "metadata": {
    "colab": {
     "base_uri": "https://localhost:8080/"
    },
    "executionInfo": {
     "elapsed": 267,
     "status": "ok",
     "timestamp": 1620153128895,
     "user": {
      "displayName": "Craig Stark",
      "photoUrl": "https://lh3.googleusercontent.com/a-/AOh14GgHTCQdxwqKpQoLMKn2jOrFLiJic0kn3TdGdABA=s64",
      "userId": "11041610993007874858"
     },
     "user_tz": 420
    },
    "id": "4jsTfiey0A6D",
    "outputId": "e96bbac1-ad8e-4f3b-dfda-df70eff7ad3e"
   },
   "outputs": [
    {
     "data": {
      "text/plain": [
       "0   -0.720394\n",
       "1    1.319222\n",
       "2   -0.109293\n",
       "3    0.745527\n",
       "4    0.100714\n",
       "5    0.269061\n",
       "Name: C, dtype: float64"
      ]
     },
     "execution_count": 4,
     "metadata": {},
     "output_type": "execute_result"
    }
   ],
   "source": [
    "df['C']"
   ]
  },
  {
   "cell_type": "markdown",
   "metadata": {
    "id": "kso4TXh-0PKF"
   },
   "source": [
    "Want more than one column? (see the bit about loc below before you go too far here)"
   ]
  },
  {
   "cell_type": "code",
   "execution_count": 5,
   "metadata": {
    "colab": {
     "base_uri": "https://localhost:8080/",
     "height": 234
    },
    "executionInfo": {
     "elapsed": 228,
     "status": "ok",
     "timestamp": 1620153143869,
     "user": {
      "displayName": "Craig Stark",
      "photoUrl": "https://lh3.googleusercontent.com/a-/AOh14GgHTCQdxwqKpQoLMKn2jOrFLiJic0kn3TdGdABA=s64",
      "userId": "11041610993007874858"
     },
     "user_tz": 420
    },
    "id": "vbeN2LaD0Q0e",
    "outputId": "5027fdcb-2bb8-4d93-f2e2-07cb076b17dc"
   },
   "outputs": [
    {
     "data": {
      "application/vnd.microsoft.datawrangler.viewer.v0+json": {
       "columns": [
        {
         "name": "index",
         "rawType": "int64",
         "type": "integer"
        },
        {
         "name": "A",
         "rawType": "float64",
         "type": "float"
        },
        {
         "name": "D",
         "rawType": "float64",
         "type": "float"
        }
       ],
       "conversionMethod": "pd.DataFrame",
       "ref": "28e437eb-9676-44a0-bc47-d27d7f309eac",
       "rows": [
        [
         "0",
         "0.6520328311615364",
         "-0.054136751594364006"
        ],
        [
         "1",
         "1.5060038983180677",
         "1.4902547179664625"
        ],
        [
         "2",
         "0.5288670502777996",
         "-1.2275696496158404"
        ],
        [
         "3",
         "-0.008141193649353546",
         "-0.04628401390156755"
        ],
        [
         "4",
         "0.5427187150168709",
         "1.344355836887034"
        ],
        [
         "5",
         "-1.0806132046069827",
         "1.5740865495397134"
        ]
       ],
       "shape": {
        "columns": 2,
        "rows": 6
       }
      },
      "text/html": [
       "<div>\n",
       "<style scoped>\n",
       "    .dataframe tbody tr th:only-of-type {\n",
       "        vertical-align: middle;\n",
       "    }\n",
       "\n",
       "    .dataframe tbody tr th {\n",
       "        vertical-align: top;\n",
       "    }\n",
       "\n",
       "    .dataframe thead th {\n",
       "        text-align: right;\n",
       "    }\n",
       "</style>\n",
       "<table border=\"1\" class=\"dataframe\">\n",
       "  <thead>\n",
       "    <tr style=\"text-align: right;\">\n",
       "      <th></th>\n",
       "      <th>A</th>\n",
       "      <th>D</th>\n",
       "    </tr>\n",
       "  </thead>\n",
       "  <tbody>\n",
       "    <tr>\n",
       "      <th>0</th>\n",
       "      <td>0.652033</td>\n",
       "      <td>-0.054137</td>\n",
       "    </tr>\n",
       "    <tr>\n",
       "      <th>1</th>\n",
       "      <td>1.506004</td>\n",
       "      <td>1.490255</td>\n",
       "    </tr>\n",
       "    <tr>\n",
       "      <th>2</th>\n",
       "      <td>0.528867</td>\n",
       "      <td>-1.227570</td>\n",
       "    </tr>\n",
       "    <tr>\n",
       "      <th>3</th>\n",
       "      <td>-0.008141</td>\n",
       "      <td>-0.046284</td>\n",
       "    </tr>\n",
       "    <tr>\n",
       "      <th>4</th>\n",
       "      <td>0.542719</td>\n",
       "      <td>1.344356</td>\n",
       "    </tr>\n",
       "    <tr>\n",
       "      <th>5</th>\n",
       "      <td>-1.080613</td>\n",
       "      <td>1.574087</td>\n",
       "    </tr>\n",
       "  </tbody>\n",
       "</table>\n",
       "</div>"
      ],
      "text/plain": [
       "          A         D\n",
       "0  0.652033 -0.054137\n",
       "1  1.506004  1.490255\n",
       "2  0.528867 -1.227570\n",
       "3 -0.008141 -0.046284\n",
       "4  0.542719  1.344356\n",
       "5 -1.080613  1.574087"
      ]
     },
     "execution_count": 5,
     "metadata": {},
     "output_type": "execute_result"
    }
   ],
   "source": [
    "df[['A','D']]"
   ]
  },
  {
   "cell_type": "markdown",
   "metadata": {
    "id": "zTkoLLZR0W05"
   },
   "source": [
    "Want a range of rows?  You can do so easily by number:"
   ]
  },
  {
   "cell_type": "code",
   "execution_count": 6,
   "metadata": {
    "colab": {
     "base_uri": "https://localhost:8080/",
     "height": 110
    },
    "executionInfo": {
     "elapsed": 232,
     "status": "ok",
     "timestamp": 1620153171468,
     "user": {
      "displayName": "Craig Stark",
      "photoUrl": "https://lh3.googleusercontent.com/a-/AOh14GgHTCQdxwqKpQoLMKn2jOrFLiJic0kn3TdGdABA=s64",
      "userId": "11041610993007874858"
     },
     "user_tz": 420
    },
    "id": "PmVSxcxH0Xov",
    "outputId": "16d44a9b-42ab-4932-def3-de380be952a6"
   },
   "outputs": [
    {
     "data": {
      "application/vnd.microsoft.datawrangler.viewer.v0+json": {
       "columns": [
        {
         "name": "index",
         "rawType": "int64",
         "type": "integer"
        },
        {
         "name": "A",
         "rawType": "float64",
         "type": "float"
        },
        {
         "name": "B",
         "rawType": "float64",
         "type": "float"
        },
        {
         "name": "C",
         "rawType": "float64",
         "type": "float"
        },
        {
         "name": "D",
         "rawType": "float64",
         "type": "float"
        }
       ],
       "conversionMethod": "pd.DataFrame",
       "ref": "185c33fb-2e73-46b1-bfb8-2f36d8d6a4fa",
       "rows": [
        [
         "1",
         "1.5060038983180677",
         "-0.27413915831053703",
         "1.3192221970698237",
         "1.4902547179664625"
        ],
        [
         "2",
         "0.5288670502777996",
         "0.741919031437974",
         "-0.10929296513850856",
         "-1.2275696496158404"
        ]
       ],
       "shape": {
        "columns": 4,
        "rows": 2
       }
      },
      "text/html": [
       "<div>\n",
       "<style scoped>\n",
       "    .dataframe tbody tr th:only-of-type {\n",
       "        vertical-align: middle;\n",
       "    }\n",
       "\n",
       "    .dataframe tbody tr th {\n",
       "        vertical-align: top;\n",
       "    }\n",
       "\n",
       "    .dataframe thead th {\n",
       "        text-align: right;\n",
       "    }\n",
       "</style>\n",
       "<table border=\"1\" class=\"dataframe\">\n",
       "  <thead>\n",
       "    <tr style=\"text-align: right;\">\n",
       "      <th></th>\n",
       "      <th>A</th>\n",
       "      <th>B</th>\n",
       "      <th>C</th>\n",
       "      <th>D</th>\n",
       "    </tr>\n",
       "  </thead>\n",
       "  <tbody>\n",
       "    <tr>\n",
       "      <th>1</th>\n",
       "      <td>1.506004</td>\n",
       "      <td>-0.274139</td>\n",
       "      <td>1.319222</td>\n",
       "      <td>1.490255</td>\n",
       "    </tr>\n",
       "    <tr>\n",
       "      <th>2</th>\n",
       "      <td>0.528867</td>\n",
       "      <td>0.741919</td>\n",
       "      <td>-0.109293</td>\n",
       "      <td>-1.227570</td>\n",
       "    </tr>\n",
       "  </tbody>\n",
       "</table>\n",
       "</div>"
      ],
      "text/plain": [
       "          A         B         C         D\n",
       "1  1.506004 -0.274139  1.319222  1.490255\n",
       "2  0.528867  0.741919 -0.109293 -1.227570"
      ]
     },
     "execution_count": 6,
     "metadata": {},
     "output_type": "execute_result"
    }
   ],
   "source": [
    "df[1:3]"
   ]
  },
  {
   "cell_type": "markdown",
   "metadata": {
    "id": "RCDZIPhV0bPE"
   },
   "source": [
    "You can also do this by row name (aka index). Now, in our example so far, the index has been boring. It's just the numbers 0-5. These can be cooler than that, though. Here, we'll make a new data frame, df2, and again give it random values in A-D columns, but give each observation (each row) a name. Later, we'll see more legit ways of making the index names."
   ]
  },
  {
   "cell_type": "code",
   "execution_count": 7,
   "metadata": {
    "colab": {
     "base_uri": "https://localhost:8080/",
     "height": 235
    },
    "executionInfo": {
     "elapsed": 502,
     "status": "ok",
     "timestamp": 1617666876603,
     "user": {
      "displayName": "Craig Stark",
      "photoUrl": "https://lh3.googleusercontent.com/a-/AOh14GgHTCQdxwqKpQoLMKn2jOrFLiJic0kn3TdGdABA=s64",
      "userId": "11041610993007874858"
     },
     "user_tz": 420
    },
    "id": "8cSW7d-d0emC",
    "outputId": "82b04535-fbae-4109-900f-3e8184e2b603"
   },
   "outputs": [
    {
     "data": {
      "application/vnd.microsoft.datawrangler.viewer.v0+json": {
       "columns": [
        {
         "name": "index",
         "rawType": "object",
         "type": "string"
        },
        {
         "name": "A",
         "rawType": "float64",
         "type": "float"
        },
        {
         "name": "B",
         "rawType": "float64",
         "type": "float"
        },
        {
         "name": "C",
         "rawType": "float64",
         "type": "float"
        },
        {
         "name": "D",
         "rawType": "float64",
         "type": "float"
        }
       ],
       "conversionMethod": "pd.DataFrame",
       "ref": "3687ac2c-0618-42ec-ab3b-cfd6e666f69d",
       "rows": [
        [
         "z",
         "1.7576755555384294",
         "-0.011620689675535636",
         "0.25728892617484794",
         "0.45500363958009055"
        ],
        [
         "y",
         "0.2610872347138389",
         "-0.40171265516957483",
         "0.3343699805193511",
         "0.30500182741844895"
        ],
        [
         "x",
         "1.0577018556117956",
         "-0.3959197261730969",
         "-0.5076803096913827",
         "0.24823421550809685"
        ],
        [
         "w",
         "0.4091021974754239",
         "0.028608831837822146",
         "-1.1013161638983722",
         "-1.1053212123974276"
        ],
        [
         "v",
         "1.10616342791072",
         "1.178086240103083",
         "0.1468721708906385",
         "-0.25777104079967794"
        ],
        [
         "u",
         "0.25508243648638296",
         "0.18799470023096004",
         "-2.41916459348736",
         "0.06900161456952184"
        ]
       ],
       "shape": {
        "columns": 4,
        "rows": 6
       }
      },
      "text/html": [
       "<div>\n",
       "<style scoped>\n",
       "    .dataframe tbody tr th:only-of-type {\n",
       "        vertical-align: middle;\n",
       "    }\n",
       "\n",
       "    .dataframe tbody tr th {\n",
       "        vertical-align: top;\n",
       "    }\n",
       "\n",
       "    .dataframe thead th {\n",
       "        text-align: right;\n",
       "    }\n",
       "</style>\n",
       "<table border=\"1\" class=\"dataframe\">\n",
       "  <thead>\n",
       "    <tr style=\"text-align: right;\">\n",
       "      <th></th>\n",
       "      <th>A</th>\n",
       "      <th>B</th>\n",
       "      <th>C</th>\n",
       "      <th>D</th>\n",
       "    </tr>\n",
       "  </thead>\n",
       "  <tbody>\n",
       "    <tr>\n",
       "      <th>z</th>\n",
       "      <td>1.757676</td>\n",
       "      <td>-0.011621</td>\n",
       "      <td>0.257289</td>\n",
       "      <td>0.455004</td>\n",
       "    </tr>\n",
       "    <tr>\n",
       "      <th>y</th>\n",
       "      <td>0.261087</td>\n",
       "      <td>-0.401713</td>\n",
       "      <td>0.334370</td>\n",
       "      <td>0.305002</td>\n",
       "    </tr>\n",
       "    <tr>\n",
       "      <th>x</th>\n",
       "      <td>1.057702</td>\n",
       "      <td>-0.395920</td>\n",
       "      <td>-0.507680</td>\n",
       "      <td>0.248234</td>\n",
       "    </tr>\n",
       "    <tr>\n",
       "      <th>w</th>\n",
       "      <td>0.409102</td>\n",
       "      <td>0.028609</td>\n",
       "      <td>-1.101316</td>\n",
       "      <td>-1.105321</td>\n",
       "    </tr>\n",
       "    <tr>\n",
       "      <th>v</th>\n",
       "      <td>1.106163</td>\n",
       "      <td>1.178086</td>\n",
       "      <td>0.146872</td>\n",
       "      <td>-0.257771</td>\n",
       "    </tr>\n",
       "    <tr>\n",
       "      <th>u</th>\n",
       "      <td>0.255082</td>\n",
       "      <td>0.187995</td>\n",
       "      <td>-2.419165</td>\n",
       "      <td>0.069002</td>\n",
       "    </tr>\n",
       "  </tbody>\n",
       "</table>\n",
       "</div>"
      ],
      "text/plain": [
       "          A         B         C         D\n",
       "z  1.757676 -0.011621  0.257289  0.455004\n",
       "y  0.261087 -0.401713  0.334370  0.305002\n",
       "x  1.057702 -0.395920 -0.507680  0.248234\n",
       "w  0.409102  0.028609 -1.101316 -1.105321\n",
       "v  1.106163  1.178086  0.146872 -0.257771\n",
       "u  0.255082  0.187995 -2.419165  0.069002"
      ]
     },
     "execution_count": 7,
     "metadata": {},
     "output_type": "execute_result"
    }
   ],
   "source": [
    "rng=np.random.default_rng()\n",
    "df2 = pd.DataFrame(rng.normal(size=(6,4)), index=list('zyxwvu'), columns=list('ABCD'))\n",
    "\n",
    "df2"
   ]
  },
  {
   "cell_type": "markdown",
   "metadata": {
    "id": "FHBgqyfh0kkH"
   },
   "source": [
    "Now, we can grab a range of rows (observations) by naming the start one and the end one **_(note, not end-plus-one, but actual end)_**."
   ]
  },
  {
   "cell_type": "code",
   "execution_count": 8,
   "metadata": {
    "colab": {
     "base_uri": "https://localhost:8080/",
     "height": 173
    },
    "executionInfo": {
     "elapsed": 495,
     "status": "ok",
     "timestamp": 1617666876604,
     "user": {
      "displayName": "Craig Stark",
      "photoUrl": "https://lh3.googleusercontent.com/a-/AOh14GgHTCQdxwqKpQoLMKn2jOrFLiJic0kn3TdGdABA=s64",
      "userId": "11041610993007874858"
     },
     "user_tz": 420
    },
    "id": "pbZiv6eU0lhY",
    "outputId": "ff1b21e4-d51e-460c-c924-8f6aca3626de"
   },
   "outputs": [
    {
     "data": {
      "application/vnd.microsoft.datawrangler.viewer.v0+json": {
       "columns": [
        {
         "name": "index",
         "rawType": "object",
         "type": "string"
        },
        {
         "name": "A",
         "rawType": "float64",
         "type": "float"
        },
        {
         "name": "B",
         "rawType": "float64",
         "type": "float"
        },
        {
         "name": "C",
         "rawType": "float64",
         "type": "float"
        },
        {
         "name": "D",
         "rawType": "float64",
         "type": "float"
        }
       ],
       "conversionMethod": "pd.DataFrame",
       "ref": "7a036491-6c51-4481-acec-a68f9cb10ee3",
       "rows": [
        [
         "y",
         "0.2610872347138389",
         "-0.40171265516957483",
         "0.3343699805193511",
         "0.30500182741844895"
        ],
        [
         "x",
         "1.0577018556117956",
         "-0.3959197261730969",
         "-0.5076803096913827",
         "0.24823421550809685"
        ],
        [
         "w",
         "0.4091021974754239",
         "0.028608831837822146",
         "-1.1013161638983722",
         "-1.1053212123974276"
        ],
        [
         "v",
         "1.10616342791072",
         "1.178086240103083",
         "0.1468721708906385",
         "-0.25777104079967794"
        ]
       ],
       "shape": {
        "columns": 4,
        "rows": 4
       }
      },
      "text/html": [
       "<div>\n",
       "<style scoped>\n",
       "    .dataframe tbody tr th:only-of-type {\n",
       "        vertical-align: middle;\n",
       "    }\n",
       "\n",
       "    .dataframe tbody tr th {\n",
       "        vertical-align: top;\n",
       "    }\n",
       "\n",
       "    .dataframe thead th {\n",
       "        text-align: right;\n",
       "    }\n",
       "</style>\n",
       "<table border=\"1\" class=\"dataframe\">\n",
       "  <thead>\n",
       "    <tr style=\"text-align: right;\">\n",
       "      <th></th>\n",
       "      <th>A</th>\n",
       "      <th>B</th>\n",
       "      <th>C</th>\n",
       "      <th>D</th>\n",
       "    </tr>\n",
       "  </thead>\n",
       "  <tbody>\n",
       "    <tr>\n",
       "      <th>y</th>\n",
       "      <td>0.261087</td>\n",
       "      <td>-0.401713</td>\n",
       "      <td>0.334370</td>\n",
       "      <td>0.305002</td>\n",
       "    </tr>\n",
       "    <tr>\n",
       "      <th>x</th>\n",
       "      <td>1.057702</td>\n",
       "      <td>-0.395920</td>\n",
       "      <td>-0.507680</td>\n",
       "      <td>0.248234</td>\n",
       "    </tr>\n",
       "    <tr>\n",
       "      <th>w</th>\n",
       "      <td>0.409102</td>\n",
       "      <td>0.028609</td>\n",
       "      <td>-1.101316</td>\n",
       "      <td>-1.105321</td>\n",
       "    </tr>\n",
       "    <tr>\n",
       "      <th>v</th>\n",
       "      <td>1.106163</td>\n",
       "      <td>1.178086</td>\n",
       "      <td>0.146872</td>\n",
       "      <td>-0.257771</td>\n",
       "    </tr>\n",
       "  </tbody>\n",
       "</table>\n",
       "</div>"
      ],
      "text/plain": [
       "          A         B         C         D\n",
       "y  0.261087 -0.401713  0.334370  0.305002\n",
       "x  1.057702 -0.395920 -0.507680  0.248234\n",
       "w  0.409102  0.028609 -1.101316 -1.105321\n",
       "v  1.106163  1.178086  0.146872 -0.257771"
      ]
     },
     "execution_count": 8,
     "metadata": {},
     "output_type": "execute_result"
    }
   ],
   "source": [
    "df2['y':'v']"
   ]
  },
  {
   "cell_type": "markdown",
   "metadata": {
    "id": "g2Zcg-XzWQ5V"
   },
   "source": [
    "***In the space below***, create a dataframe called `grp1` that has 3 columns called \"zIQ\", \"zAge\", and \"zPotential\".  Have 8 rows of each and fill them with random numbers.  Use `describe()` to print out the summary statistics."
   ]
  },
  {
   "cell_type": "code",
   "execution_count": 43,
   "metadata": {
    "id": "h__iNUHEXG_l"
   },
   "outputs": [
    {
     "data": {
      "application/vnd.microsoft.datawrangler.viewer.v0+json": {
       "columns": [
        {
         "name": "index",
         "rawType": "object",
         "type": "string"
        },
        {
         "name": "zIQ",
         "rawType": "float64",
         "type": "float"
        },
        {
         "name": "zAge",
         "rawType": "float64",
         "type": "float"
        },
        {
         "name": "zPotential",
         "rawType": "float64",
         "type": "float"
        }
       ],
       "conversionMethod": "pd.DataFrame",
       "ref": "92b1adb5-430a-43ac-aab6-35d2897f289f",
       "rows": [
        [
         "count",
         "8.0",
         "8.0",
         "8.0"
        ],
        [
         "mean",
         "0.25014943263932166",
         "-0.06808795364153392",
         "0.11655082987892557"
        ],
        [
         "std",
         "0.7473731667351646",
         "1.1892948636522445",
         "1.0169593597419853"
        ],
        [
         "min",
         "-1.1706930861096378",
         "-1.8409836029045643",
         "-1.4528796609180923"
        ],
        [
         "25%",
         "0.009290755324837585",
         "-0.5814744548877424",
         "-0.4658146032248801"
        ],
        [
         "50%",
         "0.20972171886336263",
         "-0.4540192813197036",
         "0.22488001685088022"
        ],
        [
         "75%",
         "0.662929886271119",
         "0.6302810730858395",
         "0.7326204264808939"
        ],
        [
         "max",
         "1.3330239452448156",
         "1.8808580726400022",
         "1.6358064077090848"
        ]
       ],
       "shape": {
        "columns": 3,
        "rows": 8
       }
      },
      "text/html": [
       "<div>\n",
       "<style scoped>\n",
       "    .dataframe tbody tr th:only-of-type {\n",
       "        vertical-align: middle;\n",
       "    }\n",
       "\n",
       "    .dataframe tbody tr th {\n",
       "        vertical-align: top;\n",
       "    }\n",
       "\n",
       "    .dataframe thead th {\n",
       "        text-align: right;\n",
       "    }\n",
       "</style>\n",
       "<table border=\"1\" class=\"dataframe\">\n",
       "  <thead>\n",
       "    <tr style=\"text-align: right;\">\n",
       "      <th></th>\n",
       "      <th>zIQ</th>\n",
       "      <th>zAge</th>\n",
       "      <th>zPotential</th>\n",
       "    </tr>\n",
       "  </thead>\n",
       "  <tbody>\n",
       "    <tr>\n",
       "      <th>count</th>\n",
       "      <td>8.000000</td>\n",
       "      <td>8.000000</td>\n",
       "      <td>8.000000</td>\n",
       "    </tr>\n",
       "    <tr>\n",
       "      <th>mean</th>\n",
       "      <td>0.250149</td>\n",
       "      <td>-0.068088</td>\n",
       "      <td>0.116551</td>\n",
       "    </tr>\n",
       "    <tr>\n",
       "      <th>std</th>\n",
       "      <td>0.747373</td>\n",
       "      <td>1.189295</td>\n",
       "      <td>1.016959</td>\n",
       "    </tr>\n",
       "    <tr>\n",
       "      <th>min</th>\n",
       "      <td>-1.170693</td>\n",
       "      <td>-1.840984</td>\n",
       "      <td>-1.452880</td>\n",
       "    </tr>\n",
       "    <tr>\n",
       "      <th>25%</th>\n",
       "      <td>0.009291</td>\n",
       "      <td>-0.581474</td>\n",
       "      <td>-0.465815</td>\n",
       "    </tr>\n",
       "    <tr>\n",
       "      <th>50%</th>\n",
       "      <td>0.209722</td>\n",
       "      <td>-0.454019</td>\n",
       "      <td>0.224880</td>\n",
       "    </tr>\n",
       "    <tr>\n",
       "      <th>75%</th>\n",
       "      <td>0.662930</td>\n",
       "      <td>0.630281</td>\n",
       "      <td>0.732620</td>\n",
       "    </tr>\n",
       "    <tr>\n",
       "      <th>max</th>\n",
       "      <td>1.333024</td>\n",
       "      <td>1.880858</td>\n",
       "      <td>1.635806</td>\n",
       "    </tr>\n",
       "  </tbody>\n",
       "</table>\n",
       "</div>"
      ],
      "text/plain": [
       "            zIQ      zAge  zPotential\n",
       "count  8.000000  8.000000    8.000000\n",
       "mean   0.250149 -0.068088    0.116551\n",
       "std    0.747373  1.189295    1.016959\n",
       "min   -1.170693 -1.840984   -1.452880\n",
       "25%    0.009291 -0.581474   -0.465815\n",
       "50%    0.209722 -0.454019    0.224880\n",
       "75%    0.662930  0.630281    0.732620\n",
       "max    1.333024  1.880858    1.635806"
      ]
     },
     "execution_count": 43,
     "metadata": {},
     "output_type": "execute_result"
    }
   ],
   "source": [
    "grp1= pd.DataFrame(np.random.randn(8, 3), columns = ['zIQ', 'zAge', 'zPotential'])\n",
    "\n",
    "grp1.describe()"
   ]
  },
  {
   "cell_type": "code",
   "execution_count": null,
   "metadata": {},
   "outputs": [],
   "source": []
  },
  {
   "cell_type": "markdown",
   "metadata": {
    "id": "PIYU_IBy0p4Z"
   },
   "source": [
    "# Grabbing by label and index revisited - loc and iloc\n",
    "\n",
    "The above examples all work, but Pandas really wants you to use the .loc (label) and .iloc (index number) operators. They give you the flexibility to combine row and column filters and are a bit more powerful. Using loc, we could get all observations of columns A and D with:"
   ]
  },
  {
   "cell_type": "code",
   "execution_count": 14,
   "metadata": {
    "colab": {
     "base_uri": "https://localhost:8080/",
     "height": 235
    },
    "executionInfo": {
     "elapsed": 651,
     "status": "ok",
     "timestamp": 1617666876767,
     "user": {
      "displayName": "Craig Stark",
      "photoUrl": "https://lh3.googleusercontent.com/a-/AOh14GgHTCQdxwqKpQoLMKn2jOrFLiJic0kn3TdGdABA=s64",
      "userId": "11041610993007874858"
     },
     "user_tz": 420
    },
    "id": "PW-o8Axt0quX",
    "outputId": "c96f0226-d2ec-443d-9acf-b2f723010cba"
   },
   "outputs": [
    {
     "data": {
      "application/vnd.microsoft.datawrangler.viewer.v0+json": {
       "columns": [
        {
         "name": "index",
         "rawType": "object",
         "type": "string"
        },
        {
         "name": "A",
         "rawType": "float64",
         "type": "float"
        },
        {
         "name": "D",
         "rawType": "float64",
         "type": "float"
        }
       ],
       "conversionMethod": "pd.DataFrame",
       "ref": "b0226fb3-3b25-45f6-9ac8-8d4fe17a020e",
       "rows": [
        [
         "z",
         "1.7576755555384294",
         "0.45500363958009055"
        ],
        [
         "y",
         "0.2610872347138389",
         "0.30500182741844895"
        ],
        [
         "x",
         "1.0577018556117956",
         "0.24823421550809685"
        ],
        [
         "w",
         "0.4091021974754239",
         "-1.1053212123974276"
        ],
        [
         "v",
         "1.10616342791072",
         "-0.25777104079967794"
        ],
        [
         "u",
         "0.25508243648638296",
         "0.06900161456952184"
        ]
       ],
       "shape": {
        "columns": 2,
        "rows": 6
       }
      },
      "text/html": [
       "<div>\n",
       "<style scoped>\n",
       "    .dataframe tbody tr th:only-of-type {\n",
       "        vertical-align: middle;\n",
       "    }\n",
       "\n",
       "    .dataframe tbody tr th {\n",
       "        vertical-align: top;\n",
       "    }\n",
       "\n",
       "    .dataframe thead th {\n",
       "        text-align: right;\n",
       "    }\n",
       "</style>\n",
       "<table border=\"1\" class=\"dataframe\">\n",
       "  <thead>\n",
       "    <tr style=\"text-align: right;\">\n",
       "      <th></th>\n",
       "      <th>A</th>\n",
       "      <th>D</th>\n",
       "    </tr>\n",
       "  </thead>\n",
       "  <tbody>\n",
       "    <tr>\n",
       "      <th>z</th>\n",
       "      <td>1.757676</td>\n",
       "      <td>0.455004</td>\n",
       "    </tr>\n",
       "    <tr>\n",
       "      <th>y</th>\n",
       "      <td>0.261087</td>\n",
       "      <td>0.305002</td>\n",
       "    </tr>\n",
       "    <tr>\n",
       "      <th>x</th>\n",
       "      <td>1.057702</td>\n",
       "      <td>0.248234</td>\n",
       "    </tr>\n",
       "    <tr>\n",
       "      <th>w</th>\n",
       "      <td>0.409102</td>\n",
       "      <td>-1.105321</td>\n",
       "    </tr>\n",
       "    <tr>\n",
       "      <th>v</th>\n",
       "      <td>1.106163</td>\n",
       "      <td>-0.257771</td>\n",
       "    </tr>\n",
       "    <tr>\n",
       "      <th>u</th>\n",
       "      <td>0.255082</td>\n",
       "      <td>0.069002</td>\n",
       "    </tr>\n",
       "  </tbody>\n",
       "</table>\n",
       "</div>"
      ],
      "text/plain": [
       "          A         D\n",
       "z  1.757676  0.455004\n",
       "y  0.261087  0.305002\n",
       "x  1.057702  0.248234\n",
       "w  0.409102 -1.105321\n",
       "v  1.106163 -0.257771\n",
       "u  0.255082  0.069002"
      ]
     },
     "execution_count": 14,
     "metadata": {},
     "output_type": "execute_result"
    }
   ],
   "source": [
    "df2.loc[:,['A','D']]"
   ]
  },
  {
   "cell_type": "markdown",
   "metadata": {
    "id": "WKze2cXx0uzo"
   },
   "source": [
    "We could get everything on subjects y, x and w with:"
   ]
  },
  {
   "cell_type": "code",
   "execution_count": 15,
   "metadata": {
    "colab": {
     "base_uri": "https://localhost:8080/",
     "height": 142
    },
    "executionInfo": {
     "elapsed": 644,
     "status": "ok",
     "timestamp": 1617666876768,
     "user": {
      "displayName": "Craig Stark",
      "photoUrl": "https://lh3.googleusercontent.com/a-/AOh14GgHTCQdxwqKpQoLMKn2jOrFLiJic0kn3TdGdABA=s64",
      "userId": "11041610993007874858"
     },
     "user_tz": 420
    },
    "id": "orgxDZoF0vcC",
    "outputId": "ffa9cee5-9f1c-4eed-a2b0-87302f4cd334"
   },
   "outputs": [
    {
     "data": {
      "application/vnd.microsoft.datawrangler.viewer.v0+json": {
       "columns": [
        {
         "name": "index",
         "rawType": "object",
         "type": "string"
        },
        {
         "name": "A",
         "rawType": "float64",
         "type": "float"
        },
        {
         "name": "B",
         "rawType": "float64",
         "type": "float"
        },
        {
         "name": "C",
         "rawType": "float64",
         "type": "float"
        },
        {
         "name": "D",
         "rawType": "float64",
         "type": "float"
        }
       ],
       "conversionMethod": "pd.DataFrame",
       "ref": "f42f801c-1454-44b1-86b0-43711cab23f2",
       "rows": [
        [
         "y",
         "0.2610872347138389",
         "-0.40171265516957483",
         "0.3343699805193511",
         "0.30500182741844895"
        ],
        [
         "x",
         "1.0577018556117956",
         "-0.3959197261730969",
         "-0.5076803096913827",
         "0.24823421550809685"
        ],
        [
         "w",
         "0.4091021974754239",
         "0.028608831837822146",
         "-1.1013161638983722",
         "-1.1053212123974276"
        ]
       ],
       "shape": {
        "columns": 4,
        "rows": 3
       }
      },
      "text/html": [
       "<div>\n",
       "<style scoped>\n",
       "    .dataframe tbody tr th:only-of-type {\n",
       "        vertical-align: middle;\n",
       "    }\n",
       "\n",
       "    .dataframe tbody tr th {\n",
       "        vertical-align: top;\n",
       "    }\n",
       "\n",
       "    .dataframe thead th {\n",
       "        text-align: right;\n",
       "    }\n",
       "</style>\n",
       "<table border=\"1\" class=\"dataframe\">\n",
       "  <thead>\n",
       "    <tr style=\"text-align: right;\">\n",
       "      <th></th>\n",
       "      <th>A</th>\n",
       "      <th>B</th>\n",
       "      <th>C</th>\n",
       "      <th>D</th>\n",
       "    </tr>\n",
       "  </thead>\n",
       "  <tbody>\n",
       "    <tr>\n",
       "      <th>y</th>\n",
       "      <td>0.261087</td>\n",
       "      <td>-0.401713</td>\n",
       "      <td>0.334370</td>\n",
       "      <td>0.305002</td>\n",
       "    </tr>\n",
       "    <tr>\n",
       "      <th>x</th>\n",
       "      <td>1.057702</td>\n",
       "      <td>-0.395920</td>\n",
       "      <td>-0.507680</td>\n",
       "      <td>0.248234</td>\n",
       "    </tr>\n",
       "    <tr>\n",
       "      <th>w</th>\n",
       "      <td>0.409102</td>\n",
       "      <td>0.028609</td>\n",
       "      <td>-1.101316</td>\n",
       "      <td>-1.105321</td>\n",
       "    </tr>\n",
       "  </tbody>\n",
       "</table>\n",
       "</div>"
      ],
      "text/plain": [
       "          A         B         C         D\n",
       "y  0.261087 -0.401713  0.334370  0.305002\n",
       "x  1.057702 -0.395920 -0.507680  0.248234\n",
       "w  0.409102  0.028609 -1.101316 -1.105321"
      ]
     },
     "execution_count": 15,
     "metadata": {},
     "output_type": "execute_result"
    }
   ],
   "source": [
    "df2.loc['y':'w']"
   ]
  },
  {
   "cell_type": "markdown",
   "metadata": {
    "id": "w9DiPqPd06Hk"
   },
   "source": [
    "We could get just columns D and B on these (in that order) with:\n"
   ]
  },
  {
   "cell_type": "code",
   "execution_count": 16,
   "metadata": {
    "colab": {
     "base_uri": "https://localhost:8080/",
     "height": 142
    },
    "executionInfo": {
     "elapsed": 638,
     "status": "ok",
     "timestamp": 1617666876769,
     "user": {
      "displayName": "Craig Stark",
      "photoUrl": "https://lh3.googleusercontent.com/a-/AOh14GgHTCQdxwqKpQoLMKn2jOrFLiJic0kn3TdGdABA=s64",
      "userId": "11041610993007874858"
     },
     "user_tz": 420
    },
    "id": "WT8cTnlA07Ne",
    "outputId": "6b47c905-e75c-4056-bbbf-562d620853de"
   },
   "outputs": [
    {
     "data": {
      "application/vnd.microsoft.datawrangler.viewer.v0+json": {
       "columns": [
        {
         "name": "index",
         "rawType": "object",
         "type": "string"
        },
        {
         "name": "D",
         "rawType": "float64",
         "type": "float"
        },
        {
         "name": "B",
         "rawType": "float64",
         "type": "float"
        }
       ],
       "conversionMethod": "pd.DataFrame",
       "ref": "7e9e0d26-3b8a-4be2-b002-35c5360c73d2",
       "rows": [
        [
         "y",
         "0.30500182741844895",
         "-0.40171265516957483"
        ],
        [
         "x",
         "0.24823421550809685",
         "-0.3959197261730969"
        ],
        [
         "w",
         "-1.1053212123974276",
         "0.028608831837822146"
        ]
       ],
       "shape": {
        "columns": 2,
        "rows": 3
       }
      },
      "text/html": [
       "<div>\n",
       "<style scoped>\n",
       "    .dataframe tbody tr th:only-of-type {\n",
       "        vertical-align: middle;\n",
       "    }\n",
       "\n",
       "    .dataframe tbody tr th {\n",
       "        vertical-align: top;\n",
       "    }\n",
       "\n",
       "    .dataframe thead th {\n",
       "        text-align: right;\n",
       "    }\n",
       "</style>\n",
       "<table border=\"1\" class=\"dataframe\">\n",
       "  <thead>\n",
       "    <tr style=\"text-align: right;\">\n",
       "      <th></th>\n",
       "      <th>D</th>\n",
       "      <th>B</th>\n",
       "    </tr>\n",
       "  </thead>\n",
       "  <tbody>\n",
       "    <tr>\n",
       "      <th>y</th>\n",
       "      <td>0.305002</td>\n",
       "      <td>-0.401713</td>\n",
       "    </tr>\n",
       "    <tr>\n",
       "      <th>x</th>\n",
       "      <td>0.248234</td>\n",
       "      <td>-0.395920</td>\n",
       "    </tr>\n",
       "    <tr>\n",
       "      <th>w</th>\n",
       "      <td>-1.105321</td>\n",
       "      <td>0.028609</td>\n",
       "    </tr>\n",
       "  </tbody>\n",
       "</table>\n",
       "</div>"
      ],
      "text/plain": [
       "          D         B\n",
       "y  0.305002 -0.401713\n",
       "x  0.248234 -0.395920\n",
       "w -1.105321  0.028609"
      ]
     },
     "execution_count": 16,
     "metadata": {},
     "output_type": "execute_result"
    }
   ],
   "source": [
    "df2.loc['y':'w',['D','B']]"
   ]
  },
  {
   "cell_type": "markdown",
   "metadata": {
    "id": "a3yiMEFO1AZd"
   },
   "source": [
    "If you like numbers rather than labels, use _.iloc_ and remember that, like Python, we're now doing ranges as start:end+1:\n",
    "\n"
   ]
  },
  {
   "cell_type": "code",
   "execution_count": 17,
   "metadata": {
    "colab": {
     "base_uri": "https://localhost:8080/",
     "height": 142
    },
    "executionInfo": {
     "elapsed": 633,
     "status": "ok",
     "timestamp": 1617666876770,
     "user": {
      "displayName": "Craig Stark",
      "photoUrl": "https://lh3.googleusercontent.com/a-/AOh14GgHTCQdxwqKpQoLMKn2jOrFLiJic0kn3TdGdABA=s64",
      "userId": "11041610993007874858"
     },
     "user_tz": 420
    },
    "id": "iXUt-ck-1BQC",
    "outputId": "806abd91-0b5d-4634-9f25-4e4c8f56ddb6"
   },
   "outputs": [
    {
     "data": {
      "application/vnd.microsoft.datawrangler.viewer.v0+json": {
       "columns": [
        {
         "name": "index",
         "rawType": "object",
         "type": "string"
        },
        {
         "name": "D",
         "rawType": "float64",
         "type": "float"
        },
        {
         "name": "B",
         "rawType": "float64",
         "type": "float"
        }
       ],
       "conversionMethod": "pd.DataFrame",
       "ref": "f9f637bc-fdb8-4089-b303-cacd25f0da3f",
       "rows": [
        [
         "y",
         "0.30500182741844895",
         "-0.40171265516957483"
        ],
        [
         "x",
         "0.24823421550809685",
         "-0.3959197261730969"
        ],
        [
         "w",
         "-1.1053212123974276",
         "0.028608831837822146"
        ]
       ],
       "shape": {
        "columns": 2,
        "rows": 3
       }
      },
      "text/html": [
       "<div>\n",
       "<style scoped>\n",
       "    .dataframe tbody tr th:only-of-type {\n",
       "        vertical-align: middle;\n",
       "    }\n",
       "\n",
       "    .dataframe tbody tr th {\n",
       "        vertical-align: top;\n",
       "    }\n",
       "\n",
       "    .dataframe thead th {\n",
       "        text-align: right;\n",
       "    }\n",
       "</style>\n",
       "<table border=\"1\" class=\"dataframe\">\n",
       "  <thead>\n",
       "    <tr style=\"text-align: right;\">\n",
       "      <th></th>\n",
       "      <th>D</th>\n",
       "      <th>B</th>\n",
       "    </tr>\n",
       "  </thead>\n",
       "  <tbody>\n",
       "    <tr>\n",
       "      <th>y</th>\n",
       "      <td>0.305002</td>\n",
       "      <td>-0.401713</td>\n",
       "    </tr>\n",
       "    <tr>\n",
       "      <th>x</th>\n",
       "      <td>0.248234</td>\n",
       "      <td>-0.395920</td>\n",
       "    </tr>\n",
       "    <tr>\n",
       "      <th>w</th>\n",
       "      <td>-1.105321</td>\n",
       "      <td>0.028609</td>\n",
       "    </tr>\n",
       "  </tbody>\n",
       "</table>\n",
       "</div>"
      ],
      "text/plain": [
       "          D         B\n",
       "y  0.305002 -0.401713\n",
       "x  0.248234 -0.395920\n",
       "w -1.105321  0.028609"
      ]
     },
     "execution_count": 17,
     "metadata": {},
     "output_type": "execute_result"
    }
   ],
   "source": [
    "df2.iloc[1:4,[3,1]]"
   ]
  },
  {
   "cell_type": "markdown",
   "metadata": {
    "id": "8zDTxxH51evH"
   },
   "source": [
    "# Grabbing single values\n",
    "\n",
    "If all you want is a single value out of the data frame, you're best off using _at_ (label) or _iat_ (row,column -- both 0-indexed)"
   ]
  },
  {
   "cell_type": "code",
   "execution_count": null,
   "metadata": {
    "colab": {
     "base_uri": "https://localhost:8080/"
    },
    "executionInfo": {
     "elapsed": 628,
     "status": "ok",
     "timestamp": 1617666876771,
     "user": {
      "displayName": "Craig Stark",
      "photoUrl": "https://lh3.googleusercontent.com/a-/AOh14GgHTCQdxwqKpQoLMKn2jOrFLiJic0kn3TdGdABA=s64",
      "userId": "11041610993007874858"
     },
     "user_tz": 420
    },
    "id": "RR6bHXRh1iv0",
    "outputId": "7ee4c4e4-4d74-404a-f3f1-4f8e5c024324"
   },
   "outputs": [
    {
     "name": "stdout",
     "output_type": "stream",
     "text": [
      "          A         B         C         D\n",
      "z  1.757676 -0.011621  0.257289  0.455004\n",
      "y  0.261087 -0.401713  0.334370  0.305002\n",
      "x  1.057702 -0.395920 -0.507680  0.248234\n",
      "w  0.409102  0.028609 -1.101316 -1.105321\n",
      "v  1.106163  1.178086  0.146872 -0.257771\n",
      "u  0.255082  0.187995 -2.419165  0.069002\n",
      "0.028608831837822146\n",
      "0.028608831837822146\n"
     ]
    }
   ],
   "source": [
    "print(df2)\n",
    "print(df2.at['w','B']) #get single value out of dataframe\n",
    "print(df2.iat[3,1]) #get single value out of dataframe "
   ]
  },
  {
   "cell_type": "markdown",
   "metadata": {
    "id": "gkomPhti2Zt6"
   },
   "source": [
    "# Adding new columns\n",
    "\n",
    "If you give a column name that doesn't exist, Pandas assumes you want to create it. So, you could say:"
   ]
  },
  {
   "cell_type": "code",
   "execution_count": 19,
   "metadata": {
    "colab": {
     "base_uri": "https://localhost:8080/"
    },
    "executionInfo": {
     "elapsed": 787,
     "status": "ok",
     "timestamp": 1617666876935,
     "user": {
      "displayName": "Craig Stark",
      "photoUrl": "https://lh3.googleusercontent.com/a-/AOh14GgHTCQdxwqKpQoLMKn2jOrFLiJic0kn3TdGdABA=s64",
      "userId": "11041610993007874858"
     },
     "user_tz": 420
    },
    "id": "YuW5VRQ72dXo",
    "outputId": "556c9712-b66a-4b3b-ed89-a079871604bf"
   },
   "outputs": [
    {
     "name": "stdout",
     "output_type": "stream",
     "text": [
      "          A         B         C         D      Sum1\n",
      "z  1.757676 -0.011621  0.257289  0.455004  1.746055\n",
      "y  0.261087 -0.401713  0.334370  0.305002 -0.140625\n",
      "x  1.057702 -0.395920 -0.507680  0.248234  0.661782\n",
      "w  0.409102  0.028609 -1.101316 -1.105321  0.437711\n",
      "v  1.106163  1.178086  0.146872 -0.257771  2.284250\n",
      "u  0.255082  0.187995 -2.419165  0.069002  0.443077\n"
     ]
    }
   ],
   "source": [
    "df2['Sum1']=df2['A'] + df2['B']\n",
    "\n",
    "print(df2)"
   ]
  },
  {
   "cell_type": "markdown",
   "metadata": {
    "id": "5zbZHElC2is3"
   },
   "source": [
    "and we'd add A and B, creating a new variable Sum1 out of this. Remember, this is all still tied in with Numpy nicely, so if you want to leverage off of Numpy, you can. Here, we'll have Numpy do it's sum-along-an-axis routine to sum up A-D:"
   ]
  },
  {
   "cell_type": "code",
   "execution_count": 20,
   "metadata": {
    "colab": {
     "base_uri": "https://localhost:8080/"
    },
    "executionInfo": {
     "elapsed": 784,
     "status": "ok",
     "timestamp": 1617666876937,
     "user": {
      "displayName": "Craig Stark",
      "photoUrl": "https://lh3.googleusercontent.com/a-/AOh14GgHTCQdxwqKpQoLMKn2jOrFLiJic0kn3TdGdABA=s64",
      "userId": "11041610993007874858"
     },
     "user_tz": 420
    },
    "id": "6H95cKKV2jPa",
    "outputId": "e57ad378-0cf0-4c50-b2b3-b59baf596529"
   },
   "outputs": [
    {
     "name": "stdout",
     "output_type": "stream",
     "text": [
      "          A         B         C         D      Sum1      Sum2\n",
      "z  1.757676 -0.011621  0.257289  0.455004  1.746055  2.458347\n",
      "y  0.261087 -0.401713  0.334370  0.305002 -0.140625  0.498746\n",
      "x  1.057702 -0.395920 -0.507680  0.248234  0.661782  0.402336\n",
      "w  0.409102  0.028609 -1.101316 -1.105321  0.437711 -1.768926\n",
      "v  1.106163  1.178086  0.146872 -0.257771  2.284250  2.173351\n",
      "u  0.255082  0.187995 -2.419165  0.069002  0.443077 -1.907086\n"
     ]
    }
   ],
   "source": [
    "df2['Sum2']=np.sum(df2.iloc[:,0:4],1)\n",
    "\n",
    "print(df2)"
   ]
  },
  {
   "cell_type": "markdown",
   "metadata": {
    "id": "EDsGW58bXX7s"
   },
   "source": [
    "***Take your `grp1` from above*** and create a `zMean` column that's the average of your three existing columns.  Then print out the value of the whole dataframe."
   ]
  },
  {
   "cell_type": "code",
   "execution_count": 44,
   "metadata": {
    "id": "uwjggdGtXk2X"
   },
   "outputs": [
    {
     "name": "stdout",
     "output_type": "stream",
     "text": [
      "        zIQ      zAge  zPotential     zMean\n",
      "0  0.590255 -0.448439    0.942324  0.070908\n",
      "1 -0.096264 -0.499591   -0.278967 -0.297928\n",
      "2 -1.170693  1.214703    0.662719  0.022005\n",
      "3  0.350071 -0.827125    0.255312 -0.238527\n",
      "4  0.880955  0.435474   -1.452880  0.658214\n",
      "5  1.333024 -0.459600   -1.026356  0.436712\n",
      "6  0.069372  1.880858    1.635806  0.975115\n",
      "7  0.044476 -1.840984    0.194448 -0.898254\n"
     ]
    }
   ],
   "source": [
    "grp1['zMean'] = np.mean(grp1.iloc[:, 0:-1], 1)\n",
    "\n",
    "print(grp1)\n",
    "                        \n",
    "                "
   ]
  },
  {
   "cell_type": "markdown",
   "metadata": {
    "id": "fSfv9u8T2rlL"
   },
   "source": [
    "You can, of course, just pass in an array of values as well. Let's give these a species:"
   ]
  },
  {
   "cell_type": "code",
   "execution_count": 28,
   "metadata": {
    "colab": {
     "base_uri": "https://localhost:8080/",
     "height": 235
    },
    "executionInfo": {
     "elapsed": 778,
     "status": "ok",
     "timestamp": 1617666876937,
     "user": {
      "displayName": "Craig Stark",
      "photoUrl": "https://lh3.googleusercontent.com/a-/AOh14GgHTCQdxwqKpQoLMKn2jOrFLiJic0kn3TdGdABA=s64",
      "userId": "11041610993007874858"
     },
     "user_tz": 420
    },
    "id": "Bp1vb9us2ulq",
    "outputId": "6f09b569-8a82-4bb2-cbc8-187c04d410aa"
   },
   "outputs": [
    {
     "data": {
      "application/vnd.microsoft.datawrangler.viewer.v0+json": {
       "columns": [
        {
         "name": "index",
         "rawType": "object",
         "type": "string"
        },
        {
         "name": "A",
         "rawType": "float64",
         "type": "float"
        },
        {
         "name": "B",
         "rawType": "float64",
         "type": "float"
        },
        {
         "name": "C",
         "rawType": "float64",
         "type": "float"
        },
        {
         "name": "D",
         "rawType": "float64",
         "type": "float"
        },
        {
         "name": "Sum1",
         "rawType": "float64",
         "type": "float"
        },
        {
         "name": "Sum2",
         "rawType": "float64",
         "type": "float"
        },
        {
         "name": "Species",
         "rawType": "object",
         "type": "string"
        }
       ],
       "conversionMethod": "pd.DataFrame",
       "ref": "ab5dba1e-230d-4422-a1a1-d4420335fc36",
       "rows": [
        [
         "z",
         "1.7576755555384294",
         "-0.011620689675535636",
         "0.25728892617484794",
         "0.45500363958009055",
         "1.7460548658628938",
         "2.4583474316178324",
         "rat"
        ],
        [
         "y",
         "0.2610872347138389",
         "-0.40171265516957483",
         "0.3343699805193511",
         "0.30500182741844895",
         "-0.14062542045573595",
         "0.49874638748206407",
         "mouse"
        ],
        [
         "x",
         "1.0577018556117956",
         "-0.3959197261730969",
         "-0.5076803096913827",
         "0.24823421550809685",
         "0.6617821294386987",
         "0.40233603525541295",
         "mouse"
        ],
        [
         "w",
         "0.4091021974754239",
         "0.028608831837822146",
         "-1.1013161638983722",
         "-1.1053212123974276",
         "0.43771102931324607",
         "-1.7689263469825538",
         "rat"
        ],
        [
         "v",
         "1.10616342791072",
         "1.178086240103083",
         "0.1468721708906385",
         "-0.25777104079967794",
         "2.284249668013803",
         "2.1733507981047637",
         "rat"
        ],
        [
         "u",
         "0.25508243648638296",
         "0.18799470023096004",
         "-2.41916459348736",
         "0.06900161456952184",
         "0.443077136717343",
         "-1.9070858422004953",
         "human"
        ]
       ],
       "shape": {
        "columns": 7,
        "rows": 6
       }
      },
      "text/html": [
       "<div>\n",
       "<style scoped>\n",
       "    .dataframe tbody tr th:only-of-type {\n",
       "        vertical-align: middle;\n",
       "    }\n",
       "\n",
       "    .dataframe tbody tr th {\n",
       "        vertical-align: top;\n",
       "    }\n",
       "\n",
       "    .dataframe thead th {\n",
       "        text-align: right;\n",
       "    }\n",
       "</style>\n",
       "<table border=\"1\" class=\"dataframe\">\n",
       "  <thead>\n",
       "    <tr style=\"text-align: right;\">\n",
       "      <th></th>\n",
       "      <th>A</th>\n",
       "      <th>B</th>\n",
       "      <th>C</th>\n",
       "      <th>D</th>\n",
       "      <th>Sum1</th>\n",
       "      <th>Sum2</th>\n",
       "      <th>Species</th>\n",
       "    </tr>\n",
       "  </thead>\n",
       "  <tbody>\n",
       "    <tr>\n",
       "      <th>z</th>\n",
       "      <td>1.757676</td>\n",
       "      <td>-0.011621</td>\n",
       "      <td>0.257289</td>\n",
       "      <td>0.455004</td>\n",
       "      <td>1.746055</td>\n",
       "      <td>2.458347</td>\n",
       "      <td>rat</td>\n",
       "    </tr>\n",
       "    <tr>\n",
       "      <th>y</th>\n",
       "      <td>0.261087</td>\n",
       "      <td>-0.401713</td>\n",
       "      <td>0.334370</td>\n",
       "      <td>0.305002</td>\n",
       "      <td>-0.140625</td>\n",
       "      <td>0.498746</td>\n",
       "      <td>mouse</td>\n",
       "    </tr>\n",
       "    <tr>\n",
       "      <th>x</th>\n",
       "      <td>1.057702</td>\n",
       "      <td>-0.395920</td>\n",
       "      <td>-0.507680</td>\n",
       "      <td>0.248234</td>\n",
       "      <td>0.661782</td>\n",
       "      <td>0.402336</td>\n",
       "      <td>mouse</td>\n",
       "    </tr>\n",
       "    <tr>\n",
       "      <th>w</th>\n",
       "      <td>0.409102</td>\n",
       "      <td>0.028609</td>\n",
       "      <td>-1.101316</td>\n",
       "      <td>-1.105321</td>\n",
       "      <td>0.437711</td>\n",
       "      <td>-1.768926</td>\n",
       "      <td>rat</td>\n",
       "    </tr>\n",
       "    <tr>\n",
       "      <th>v</th>\n",
       "      <td>1.106163</td>\n",
       "      <td>1.178086</td>\n",
       "      <td>0.146872</td>\n",
       "      <td>-0.257771</td>\n",
       "      <td>2.284250</td>\n",
       "      <td>2.173351</td>\n",
       "      <td>rat</td>\n",
       "    </tr>\n",
       "    <tr>\n",
       "      <th>u</th>\n",
       "      <td>0.255082</td>\n",
       "      <td>0.187995</td>\n",
       "      <td>-2.419165</td>\n",
       "      <td>0.069002</td>\n",
       "      <td>0.443077</td>\n",
       "      <td>-1.907086</td>\n",
       "      <td>human</td>\n",
       "    </tr>\n",
       "  </tbody>\n",
       "</table>\n",
       "</div>"
      ],
      "text/plain": [
       "          A         B         C         D      Sum1      Sum2 Species\n",
       "z  1.757676 -0.011621  0.257289  0.455004  1.746055  2.458347     rat\n",
       "y  0.261087 -0.401713  0.334370  0.305002 -0.140625  0.498746   mouse\n",
       "x  1.057702 -0.395920 -0.507680  0.248234  0.661782  0.402336   mouse\n",
       "w  0.409102  0.028609 -1.101316 -1.105321  0.437711 -1.768926     rat\n",
       "v  1.106163  1.178086  0.146872 -0.257771  2.284250  2.173351     rat\n",
       "u  0.255082  0.187995 -2.419165  0.069002  0.443077 -1.907086   human"
      ]
     },
     "execution_count": 28,
     "metadata": {},
     "output_type": "execute_result"
    }
   ],
   "source": [
    "df2['Species']=['rat','mouse','mouse','rat','rat','human']\n",
    "\n",
    "df2"
   ]
  },
  {
   "cell_type": "markdown",
   "metadata": {
    "id": "ECneWGi_dVHl"
   },
   "source": [
    "# Grabbing by criteria\n",
    "\n",
    "Here we get to get fancy. We can grab data based on some sort of criterion. For example, let's say we wanted all the data from df2 in which the B column was positive:"
   ]
  },
  {
   "cell_type": "code",
   "execution_count": 29,
   "metadata": {
    "colab": {
     "base_uri": "https://localhost:8080/",
     "height": 111
    },
    "executionInfo": {
     "elapsed": 773,
     "status": "ok",
     "timestamp": 1617666876938,
     "user": {
      "displayName": "Craig Stark",
      "photoUrl": "https://lh3.googleusercontent.com/a-/AOh14GgHTCQdxwqKpQoLMKn2jOrFLiJic0kn3TdGdABA=s64",
      "userId": "11041610993007874858"
     },
     "user_tz": 420
    },
    "id": "6zASYg6EdXhh",
    "outputId": "767ce957-3d09-48d0-e982-391ab250da4c"
   },
   "outputs": [
    {
     "data": {
      "application/vnd.microsoft.datawrangler.viewer.v0+json": {
       "columns": [
        {
         "name": "index",
         "rawType": "object",
         "type": "string"
        },
        {
         "name": "A",
         "rawType": "float64",
         "type": "float"
        },
        {
         "name": "B",
         "rawType": "float64",
         "type": "float"
        },
        {
         "name": "C",
         "rawType": "float64",
         "type": "float"
        },
        {
         "name": "D",
         "rawType": "float64",
         "type": "float"
        },
        {
         "name": "Sum1",
         "rawType": "float64",
         "type": "float"
        },
        {
         "name": "Sum2",
         "rawType": "float64",
         "type": "float"
        },
        {
         "name": "Species",
         "rawType": "object",
         "type": "string"
        }
       ],
       "conversionMethod": "pd.DataFrame",
       "ref": "cfbf39e2-a660-48e8-a884-8675db081fcf",
       "rows": [
        [
         "w",
         "0.4091021974754239",
         "0.028608831837822146",
         "-1.1013161638983722",
         "-1.1053212123974276",
         "0.43771102931324607",
         "-1.7689263469825538",
         "rat"
        ],
        [
         "v",
         "1.10616342791072",
         "1.178086240103083",
         "0.1468721708906385",
         "-0.25777104079967794",
         "2.284249668013803",
         "2.1733507981047637",
         "rat"
        ],
        [
         "u",
         "0.25508243648638296",
         "0.18799470023096004",
         "-2.41916459348736",
         "0.06900161456952184",
         "0.443077136717343",
         "-1.9070858422004953",
         "human"
        ]
       ],
       "shape": {
        "columns": 7,
        "rows": 3
       }
      },
      "text/html": [
       "<div>\n",
       "<style scoped>\n",
       "    .dataframe tbody tr th:only-of-type {\n",
       "        vertical-align: middle;\n",
       "    }\n",
       "\n",
       "    .dataframe tbody tr th {\n",
       "        vertical-align: top;\n",
       "    }\n",
       "\n",
       "    .dataframe thead th {\n",
       "        text-align: right;\n",
       "    }\n",
       "</style>\n",
       "<table border=\"1\" class=\"dataframe\">\n",
       "  <thead>\n",
       "    <tr style=\"text-align: right;\">\n",
       "      <th></th>\n",
       "      <th>A</th>\n",
       "      <th>B</th>\n",
       "      <th>C</th>\n",
       "      <th>D</th>\n",
       "      <th>Sum1</th>\n",
       "      <th>Sum2</th>\n",
       "      <th>Species</th>\n",
       "    </tr>\n",
       "  </thead>\n",
       "  <tbody>\n",
       "    <tr>\n",
       "      <th>w</th>\n",
       "      <td>0.409102</td>\n",
       "      <td>0.028609</td>\n",
       "      <td>-1.101316</td>\n",
       "      <td>-1.105321</td>\n",
       "      <td>0.437711</td>\n",
       "      <td>-1.768926</td>\n",
       "      <td>rat</td>\n",
       "    </tr>\n",
       "    <tr>\n",
       "      <th>v</th>\n",
       "      <td>1.106163</td>\n",
       "      <td>1.178086</td>\n",
       "      <td>0.146872</td>\n",
       "      <td>-0.257771</td>\n",
       "      <td>2.284250</td>\n",
       "      <td>2.173351</td>\n",
       "      <td>rat</td>\n",
       "    </tr>\n",
       "    <tr>\n",
       "      <th>u</th>\n",
       "      <td>0.255082</td>\n",
       "      <td>0.187995</td>\n",
       "      <td>-2.419165</td>\n",
       "      <td>0.069002</td>\n",
       "      <td>0.443077</td>\n",
       "      <td>-1.907086</td>\n",
       "      <td>human</td>\n",
       "    </tr>\n",
       "  </tbody>\n",
       "</table>\n",
       "</div>"
      ],
      "text/plain": [
       "          A         B         C         D      Sum1      Sum2 Species\n",
       "w  0.409102  0.028609 -1.101316 -1.105321  0.437711 -1.768926     rat\n",
       "v  1.106163  1.178086  0.146872 -0.257771  2.284250  2.173351     rat\n",
       "u  0.255082  0.187995 -2.419165  0.069002  0.443077 -1.907086   human"
      ]
     },
     "execution_count": 29,
     "metadata": {},
     "output_type": "execute_result"
    }
   ],
   "source": [
    "df2[df2['B'] > 0]"
   ]
  },
  {
   "cell_type": "markdown",
   "metadata": {
    "id": "0vgnzfB_ddOG"
   },
   "source": [
    "Or, let's just grab all the rats:"
   ]
  },
  {
   "cell_type": "code",
   "execution_count": 30,
   "metadata": {
    "colab": {
     "base_uri": "https://localhost:8080/",
     "height": 142
    },
    "executionInfo": {
     "elapsed": 295,
     "status": "ok",
     "timestamp": 1617666914719,
     "user": {
      "displayName": "Craig Stark",
      "photoUrl": "https://lh3.googleusercontent.com/a-/AOh14GgHTCQdxwqKpQoLMKn2jOrFLiJic0kn3TdGdABA=s64",
      "userId": "11041610993007874858"
     },
     "user_tz": 420
    },
    "id": "8DD_GDlqdgu5",
    "outputId": "3847b2f3-88d7-4e80-bb7b-8b2e40b6084e"
   },
   "outputs": [
    {
     "data": {
      "application/vnd.microsoft.datawrangler.viewer.v0+json": {
       "columns": [
        {
         "name": "index",
         "rawType": "object",
         "type": "string"
        },
        {
         "name": "A",
         "rawType": "float64",
         "type": "float"
        },
        {
         "name": "B",
         "rawType": "float64",
         "type": "float"
        },
        {
         "name": "C",
         "rawType": "float64",
         "type": "float"
        },
        {
         "name": "D",
         "rawType": "float64",
         "type": "float"
        },
        {
         "name": "Sum1",
         "rawType": "float64",
         "type": "float"
        },
        {
         "name": "Sum2",
         "rawType": "float64",
         "type": "float"
        },
        {
         "name": "Species",
         "rawType": "object",
         "type": "string"
        }
       ],
       "conversionMethod": "pd.DataFrame",
       "ref": "856d1223-4bb1-4c00-8e7e-39d6cb579770",
       "rows": [
        [
         "z",
         "1.7576755555384294",
         "-0.011620689675535636",
         "0.25728892617484794",
         "0.45500363958009055",
         "1.7460548658628938",
         "2.4583474316178324",
         "rat"
        ],
        [
         "w",
         "0.4091021974754239",
         "0.028608831837822146",
         "-1.1013161638983722",
         "-1.1053212123974276",
         "0.43771102931324607",
         "-1.7689263469825538",
         "rat"
        ],
        [
         "v",
         "1.10616342791072",
         "1.178086240103083",
         "0.1468721708906385",
         "-0.25777104079967794",
         "2.284249668013803",
         "2.1733507981047637",
         "rat"
        ]
       ],
       "shape": {
        "columns": 7,
        "rows": 3
       }
      },
      "text/html": [
       "<div>\n",
       "<style scoped>\n",
       "    .dataframe tbody tr th:only-of-type {\n",
       "        vertical-align: middle;\n",
       "    }\n",
       "\n",
       "    .dataframe tbody tr th {\n",
       "        vertical-align: top;\n",
       "    }\n",
       "\n",
       "    .dataframe thead th {\n",
       "        text-align: right;\n",
       "    }\n",
       "</style>\n",
       "<table border=\"1\" class=\"dataframe\">\n",
       "  <thead>\n",
       "    <tr style=\"text-align: right;\">\n",
       "      <th></th>\n",
       "      <th>A</th>\n",
       "      <th>B</th>\n",
       "      <th>C</th>\n",
       "      <th>D</th>\n",
       "      <th>Sum1</th>\n",
       "      <th>Sum2</th>\n",
       "      <th>Species</th>\n",
       "    </tr>\n",
       "  </thead>\n",
       "  <tbody>\n",
       "    <tr>\n",
       "      <th>z</th>\n",
       "      <td>1.757676</td>\n",
       "      <td>-0.011621</td>\n",
       "      <td>0.257289</td>\n",
       "      <td>0.455004</td>\n",
       "      <td>1.746055</td>\n",
       "      <td>2.458347</td>\n",
       "      <td>rat</td>\n",
       "    </tr>\n",
       "    <tr>\n",
       "      <th>w</th>\n",
       "      <td>0.409102</td>\n",
       "      <td>0.028609</td>\n",
       "      <td>-1.101316</td>\n",
       "      <td>-1.105321</td>\n",
       "      <td>0.437711</td>\n",
       "      <td>-1.768926</td>\n",
       "      <td>rat</td>\n",
       "    </tr>\n",
       "    <tr>\n",
       "      <th>v</th>\n",
       "      <td>1.106163</td>\n",
       "      <td>1.178086</td>\n",
       "      <td>0.146872</td>\n",
       "      <td>-0.257771</td>\n",
       "      <td>2.284250</td>\n",
       "      <td>2.173351</td>\n",
       "      <td>rat</td>\n",
       "    </tr>\n",
       "  </tbody>\n",
       "</table>\n",
       "</div>"
      ],
      "text/plain": [
       "          A         B         C         D      Sum1      Sum2 Species\n",
       "z  1.757676 -0.011621  0.257289  0.455004  1.746055  2.458347     rat\n",
       "w  0.409102  0.028609 -1.101316 -1.105321  0.437711 -1.768926     rat\n",
       "v  1.106163  1.178086  0.146872 -0.257771  2.284250  2.173351     rat"
      ]
     },
     "execution_count": 30,
     "metadata": {},
     "output_type": "execute_result"
    }
   ],
   "source": [
    "df2[df2['Species'] == 'rat']"
   ]
  },
  {
   "cell_type": "markdown",
   "metadata": {
    "id": "tyvbBPtkdlXJ"
   },
   "source": [
    "Or, let's use the _isin_ (is in) operator to get all the rodents and put these into a frame called rodents:"
   ]
  },
  {
   "cell_type": "code",
   "execution_count": 31,
   "metadata": {
    "colab": {
     "base_uri": "https://localhost:8080/",
     "height": 204
    },
    "executionInfo": {
     "elapsed": 295,
     "status": "ok",
     "timestamp": 1617666932957,
     "user": {
      "displayName": "Craig Stark",
      "photoUrl": "https://lh3.googleusercontent.com/a-/AOh14GgHTCQdxwqKpQoLMKn2jOrFLiJic0kn3TdGdABA=s64",
      "userId": "11041610993007874858"
     },
     "user_tz": 420
    },
    "id": "yyZnyAkhdmBe",
    "outputId": "233608f9-7706-4d5d-ceed-01bd10184469"
   },
   "outputs": [
    {
     "data": {
      "application/vnd.microsoft.datawrangler.viewer.v0+json": {
       "columns": [
        {
         "name": "index",
         "rawType": "object",
         "type": "string"
        },
        {
         "name": "A",
         "rawType": "float64",
         "type": "float"
        },
        {
         "name": "B",
         "rawType": "float64",
         "type": "float"
        },
        {
         "name": "C",
         "rawType": "float64",
         "type": "float"
        },
        {
         "name": "D",
         "rawType": "float64",
         "type": "float"
        },
        {
         "name": "Sum1",
         "rawType": "float64",
         "type": "float"
        },
        {
         "name": "Sum2",
         "rawType": "float64",
         "type": "float"
        },
        {
         "name": "Species",
         "rawType": "object",
         "type": "string"
        }
       ],
       "conversionMethod": "pd.DataFrame",
       "ref": "3ef9a54d-f110-47cf-a18f-6e4003d2e92c",
       "rows": [
        [
         "z",
         "1.7576755555384294",
         "-0.011620689675535636",
         "0.25728892617484794",
         "0.45500363958009055",
         "1.7460548658628938",
         "2.4583474316178324",
         "rat"
        ],
        [
         "y",
         "0.2610872347138389",
         "-0.40171265516957483",
         "0.3343699805193511",
         "0.30500182741844895",
         "-0.14062542045573595",
         "0.49874638748206407",
         "mouse"
        ],
        [
         "x",
         "1.0577018556117956",
         "-0.3959197261730969",
         "-0.5076803096913827",
         "0.24823421550809685",
         "0.6617821294386987",
         "0.40233603525541295",
         "mouse"
        ],
        [
         "w",
         "0.4091021974754239",
         "0.028608831837822146",
         "-1.1013161638983722",
         "-1.1053212123974276",
         "0.43771102931324607",
         "-1.7689263469825538",
         "rat"
        ],
        [
         "v",
         "1.10616342791072",
         "1.178086240103083",
         "0.1468721708906385",
         "-0.25777104079967794",
         "2.284249668013803",
         "2.1733507981047637",
         "rat"
        ]
       ],
       "shape": {
        "columns": 7,
        "rows": 5
       }
      },
      "text/html": [
       "<div>\n",
       "<style scoped>\n",
       "    .dataframe tbody tr th:only-of-type {\n",
       "        vertical-align: middle;\n",
       "    }\n",
       "\n",
       "    .dataframe tbody tr th {\n",
       "        vertical-align: top;\n",
       "    }\n",
       "\n",
       "    .dataframe thead th {\n",
       "        text-align: right;\n",
       "    }\n",
       "</style>\n",
       "<table border=\"1\" class=\"dataframe\">\n",
       "  <thead>\n",
       "    <tr style=\"text-align: right;\">\n",
       "      <th></th>\n",
       "      <th>A</th>\n",
       "      <th>B</th>\n",
       "      <th>C</th>\n",
       "      <th>D</th>\n",
       "      <th>Sum1</th>\n",
       "      <th>Sum2</th>\n",
       "      <th>Species</th>\n",
       "    </tr>\n",
       "  </thead>\n",
       "  <tbody>\n",
       "    <tr>\n",
       "      <th>z</th>\n",
       "      <td>1.757676</td>\n",
       "      <td>-0.011621</td>\n",
       "      <td>0.257289</td>\n",
       "      <td>0.455004</td>\n",
       "      <td>1.746055</td>\n",
       "      <td>2.458347</td>\n",
       "      <td>rat</td>\n",
       "    </tr>\n",
       "    <tr>\n",
       "      <th>y</th>\n",
       "      <td>0.261087</td>\n",
       "      <td>-0.401713</td>\n",
       "      <td>0.334370</td>\n",
       "      <td>0.305002</td>\n",
       "      <td>-0.140625</td>\n",
       "      <td>0.498746</td>\n",
       "      <td>mouse</td>\n",
       "    </tr>\n",
       "    <tr>\n",
       "      <th>x</th>\n",
       "      <td>1.057702</td>\n",
       "      <td>-0.395920</td>\n",
       "      <td>-0.507680</td>\n",
       "      <td>0.248234</td>\n",
       "      <td>0.661782</td>\n",
       "      <td>0.402336</td>\n",
       "      <td>mouse</td>\n",
       "    </tr>\n",
       "    <tr>\n",
       "      <th>w</th>\n",
       "      <td>0.409102</td>\n",
       "      <td>0.028609</td>\n",
       "      <td>-1.101316</td>\n",
       "      <td>-1.105321</td>\n",
       "      <td>0.437711</td>\n",
       "      <td>-1.768926</td>\n",
       "      <td>rat</td>\n",
       "    </tr>\n",
       "    <tr>\n",
       "      <th>v</th>\n",
       "      <td>1.106163</td>\n",
       "      <td>1.178086</td>\n",
       "      <td>0.146872</td>\n",
       "      <td>-0.257771</td>\n",
       "      <td>2.284250</td>\n",
       "      <td>2.173351</td>\n",
       "      <td>rat</td>\n",
       "    </tr>\n",
       "  </tbody>\n",
       "</table>\n",
       "</div>"
      ],
      "text/plain": [
       "          A         B         C         D      Sum1      Sum2 Species\n",
       "z  1.757676 -0.011621  0.257289  0.455004  1.746055  2.458347     rat\n",
       "y  0.261087 -0.401713  0.334370  0.305002 -0.140625  0.498746   mouse\n",
       "x  1.057702 -0.395920 -0.507680  0.248234  0.661782  0.402336   mouse\n",
       "w  0.409102  0.028609 -1.101316 -1.105321  0.437711 -1.768926     rat\n",
       "v  1.106163  1.178086  0.146872 -0.257771  2.284250  2.173351     rat"
      ]
     },
     "execution_count": 31,
     "metadata": {},
     "output_type": "execute_result"
    }
   ],
   "source": [
    "rodents=df2[df2['Species'].isin(['rat','mouse'])]\n",
    "\n",
    "rodents"
   ]
  },
  {
   "cell_type": "markdown",
   "metadata": {
    "id": "7TRpUWuydqmW"
   },
   "source": [
    "Here are two other ways I could have gotten to that same rodents data frame:\n",
    "```\n",
    "rodents=df2[df2['Species'] != 'human']\n",
    "rodents=df2[~(df2['Species'] == 'human')]\n",
    "```"
   ]
  },
  {
   "cell_type": "markdown",
   "metadata": {
    "id": "2RjHcUzwXxAy"
   },
   "source": [
    "***Take your `grp1` dataframe***, and turn any value that is less than -1.0 into `np.nan`"
   ]
  },
  {
   "cell_type": "code",
   "execution_count": null,
   "metadata": {
    "id": "5xNbp08iYAjL"
   },
   "outputs": [
    {
     "data": {
      "application/vnd.microsoft.datawrangler.viewer.v0+json": {
       "columns": [
        {
         "name": "index",
         "rawType": "int64",
         "type": "integer"
        },
        {
         "name": "zIQ",
         "rawType": "float64",
         "type": "float"
        },
        {
         "name": "zAge",
         "rawType": "float64",
         "type": "float"
        },
        {
         "name": "zPotential",
         "rawType": "float64",
         "type": "float"
        },
        {
         "name": "zMean",
         "rawType": "float64",
         "type": "float"
        }
       ],
       "conversionMethod": "pd.DataFrame",
       "ref": "51f17053-bd7d-43cf-9292-11d8fb5b7b4c",
       "rows": [
        [
         "0",
         "0.5902549648509611",
         "-0.4484385591234431",
         "0.9423241472150082",
         "0.07090820286375898"
        ],
        [
         "1",
         "-0.0962641873445012",
         "-0.4995909253294547",
         "-0.2789674689934872",
         "-0.297927556336978"
        ],
        [
         "2",
         null,
         "1.2147025028239586",
         "0.6627191862361891",
         "0.022004708357160396"
        ],
        [
         "3",
         "0.35007131416040205",
         "-0.8271250435626056",
         "0.25531165079854296",
         "-0.2385268647011018"
        ],
        [
         "4",
         "0.8809546505315932",
         "0.4354739298397998",
         null,
         "0.6582142901856964"
        ],
        [
         "5",
         "1.3330239452448156",
         "-0.45960000351596414",
         null,
         "0.4367119708644257"
        ],
        [
         "6",
         "0.06937212356632323",
         "1.8808580726400022",
         "1.6358064077090848",
         "0.9751150981031627"
        ],
        [
         "7",
         "0.04447573621461718",
         "-1.8409836029045643",
         "0.19444838290321748",
         "-0.8982539333449736"
        ]
       ],
       "shape": {
        "columns": 4,
        "rows": 8
       }
      },
      "text/html": [
       "<div>\n",
       "<style scoped>\n",
       "    .dataframe tbody tr th:only-of-type {\n",
       "        vertical-align: middle;\n",
       "    }\n",
       "\n",
       "    .dataframe tbody tr th {\n",
       "        vertical-align: top;\n",
       "    }\n",
       "\n",
       "    .dataframe thead th {\n",
       "        text-align: right;\n",
       "    }\n",
       "</style>\n",
       "<table border=\"1\" class=\"dataframe\">\n",
       "  <thead>\n",
       "    <tr style=\"text-align: right;\">\n",
       "      <th></th>\n",
       "      <th>zIQ</th>\n",
       "      <th>zAge</th>\n",
       "      <th>zPotential</th>\n",
       "      <th>zMean</th>\n",
       "    </tr>\n",
       "  </thead>\n",
       "  <tbody>\n",
       "    <tr>\n",
       "      <th>0</th>\n",
       "      <td>0.590255</td>\n",
       "      <td>-0.448439</td>\n",
       "      <td>0.942324</td>\n",
       "      <td>0.070908</td>\n",
       "    </tr>\n",
       "    <tr>\n",
       "      <th>1</th>\n",
       "      <td>-0.096264</td>\n",
       "      <td>-0.499591</td>\n",
       "      <td>-0.278967</td>\n",
       "      <td>-0.297928</td>\n",
       "    </tr>\n",
       "    <tr>\n",
       "      <th>2</th>\n",
       "      <td>NaN</td>\n",
       "      <td>1.214703</td>\n",
       "      <td>0.662719</td>\n",
       "      <td>0.022005</td>\n",
       "    </tr>\n",
       "    <tr>\n",
       "      <th>3</th>\n",
       "      <td>0.350071</td>\n",
       "      <td>-0.827125</td>\n",
       "      <td>0.255312</td>\n",
       "      <td>-0.238527</td>\n",
       "    </tr>\n",
       "    <tr>\n",
       "      <th>4</th>\n",
       "      <td>0.880955</td>\n",
       "      <td>0.435474</td>\n",
       "      <td>NaN</td>\n",
       "      <td>0.658214</td>\n",
       "    </tr>\n",
       "    <tr>\n",
       "      <th>5</th>\n",
       "      <td>1.333024</td>\n",
       "      <td>-0.459600</td>\n",
       "      <td>NaN</td>\n",
       "      <td>0.436712</td>\n",
       "    </tr>\n",
       "    <tr>\n",
       "      <th>6</th>\n",
       "      <td>0.069372</td>\n",
       "      <td>1.880858</td>\n",
       "      <td>1.635806</td>\n",
       "      <td>0.975115</td>\n",
       "    </tr>\n",
       "    <tr>\n",
       "      <th>7</th>\n",
       "      <td>0.044476</td>\n",
       "      <td>-1.840984</td>\n",
       "      <td>0.194448</td>\n",
       "      <td>-0.898254</td>\n",
       "    </tr>\n",
       "  </tbody>\n",
       "</table>\n",
       "</div>"
      ],
      "text/plain": [
       "        zIQ      zAge  zPotential     zMean\n",
       "0  0.590255 -0.448439    0.942324  0.070908\n",
       "1 -0.096264 -0.499591   -0.278967 -0.297928\n",
       "2       NaN  1.214703    0.662719  0.022005\n",
       "3  0.350071 -0.827125    0.255312 -0.238527\n",
       "4  0.880955  0.435474         NaN  0.658214\n",
       "5  1.333024 -0.459600         NaN  0.436712\n",
       "6  0.069372  1.880858    1.635806  0.975115\n",
       "7  0.044476 -1.840984    0.194448 -0.898254"
      ]
     },
     "execution_count": 45,
     "metadata": {},
     "output_type": "execute_result"
    }
   ],
   "source": [
    "grp1[grp1[0:-1] <  -1] = np.nan\n",
    "print(grp1)"
   ]
  },
  {
   "cell_type": "markdown",
   "metadata": {
    "id": "-aB6Yv27dy0g"
   },
   "source": [
    "# Missing data\n",
    "\n",
    "Pandas is setup to deal well with missing data. When you do things like ask Pandas for means, etc. it'll gracefully ignore any missing bits in the calculations. Let's make a copy of df2 here and flag one of the human bits as invalid by setting its value to _None_"
   ]
  },
  {
   "cell_type": "code",
   "execution_count": 46,
   "metadata": {
    "colab": {
     "base_uri": "https://localhost:8080/",
     "height": 235
    },
    "executionInfo": {
     "elapsed": 280,
     "status": "ok",
     "timestamp": 1617666998258,
     "user": {
      "displayName": "Craig Stark",
      "photoUrl": "https://lh3.googleusercontent.com/a-/AOh14GgHTCQdxwqKpQoLMKn2jOrFLiJic0kn3TdGdABA=s64",
      "userId": "11041610993007874858"
     },
     "user_tz": 420
    },
    "id": "GBM666CMd0Of",
    "outputId": "abceb198-b826-46ff-d48d-70c829f88270"
   },
   "outputs": [
    {
     "data": {
      "application/vnd.microsoft.datawrangler.viewer.v0+json": {
       "columns": [
        {
         "name": "index",
         "rawType": "object",
         "type": "string"
        },
        {
         "name": "A",
         "rawType": "float64",
         "type": "float"
        },
        {
         "name": "B",
         "rawType": "float64",
         "type": "float"
        },
        {
         "name": "C",
         "rawType": "float64",
         "type": "float"
        },
        {
         "name": "D",
         "rawType": "float64",
         "type": "float"
        },
        {
         "name": "Sum1",
         "rawType": "float64",
         "type": "float"
        },
        {
         "name": "Sum2",
         "rawType": "float64",
         "type": "float"
        },
        {
         "name": "Species",
         "rawType": "object",
         "type": "string"
        }
       ],
       "conversionMethod": "pd.DataFrame",
       "ref": "c54c329f-ce14-4801-bf2f-86dc1153b381",
       "rows": [
        [
         "z",
         "1.7576755555384294",
         "-0.011620689675535636",
         "0.25728892617484794",
         "0.45500363958009055",
         "1.7460548658628938",
         "2.4583474316178324",
         "rat"
        ],
        [
         "y",
         "0.2610872347138389",
         "-0.40171265516957483",
         "0.3343699805193511",
         "0.30500182741844895",
         "-0.14062542045573595",
         "0.49874638748206407",
         "mouse"
        ],
        [
         "x",
         "1.0577018556117956",
         "-0.3959197261730969",
         "-0.5076803096913827",
         "0.24823421550809685",
         "0.6617821294386987",
         "0.40233603525541295",
         "mouse"
        ],
        [
         "w",
         "0.4091021974754239",
         "0.028608831837822146",
         "-1.1013161638983722",
         "-1.1053212123974276",
         "0.43771102931324607",
         "-1.7689263469825538",
         "rat"
        ],
        [
         "v",
         "1.10616342791072",
         "1.178086240103083",
         "0.1468721708906385",
         "-0.25777104079967794",
         "2.284249668013803",
         "2.1733507981047637",
         "rat"
        ],
        [
         "u",
         "0.25508243648638296",
         "0.18799470023096004",
         "-2.41916459348736",
         null,
         "0.443077136717343",
         "-1.9070858422004953",
         "human"
        ]
       ],
       "shape": {
        "columns": 7,
        "rows": 6
       }
      },
      "text/html": [
       "<div>\n",
       "<style scoped>\n",
       "    .dataframe tbody tr th:only-of-type {\n",
       "        vertical-align: middle;\n",
       "    }\n",
       "\n",
       "    .dataframe tbody tr th {\n",
       "        vertical-align: top;\n",
       "    }\n",
       "\n",
       "    .dataframe thead th {\n",
       "        text-align: right;\n",
       "    }\n",
       "</style>\n",
       "<table border=\"1\" class=\"dataframe\">\n",
       "  <thead>\n",
       "    <tr style=\"text-align: right;\">\n",
       "      <th></th>\n",
       "      <th>A</th>\n",
       "      <th>B</th>\n",
       "      <th>C</th>\n",
       "      <th>D</th>\n",
       "      <th>Sum1</th>\n",
       "      <th>Sum2</th>\n",
       "      <th>Species</th>\n",
       "    </tr>\n",
       "  </thead>\n",
       "  <tbody>\n",
       "    <tr>\n",
       "      <th>z</th>\n",
       "      <td>1.757676</td>\n",
       "      <td>-0.011621</td>\n",
       "      <td>0.257289</td>\n",
       "      <td>0.455004</td>\n",
       "      <td>1.746055</td>\n",
       "      <td>2.458347</td>\n",
       "      <td>rat</td>\n",
       "    </tr>\n",
       "    <tr>\n",
       "      <th>y</th>\n",
       "      <td>0.261087</td>\n",
       "      <td>-0.401713</td>\n",
       "      <td>0.334370</td>\n",
       "      <td>0.305002</td>\n",
       "      <td>-0.140625</td>\n",
       "      <td>0.498746</td>\n",
       "      <td>mouse</td>\n",
       "    </tr>\n",
       "    <tr>\n",
       "      <th>x</th>\n",
       "      <td>1.057702</td>\n",
       "      <td>-0.395920</td>\n",
       "      <td>-0.507680</td>\n",
       "      <td>0.248234</td>\n",
       "      <td>0.661782</td>\n",
       "      <td>0.402336</td>\n",
       "      <td>mouse</td>\n",
       "    </tr>\n",
       "    <tr>\n",
       "      <th>w</th>\n",
       "      <td>0.409102</td>\n",
       "      <td>0.028609</td>\n",
       "      <td>-1.101316</td>\n",
       "      <td>-1.105321</td>\n",
       "      <td>0.437711</td>\n",
       "      <td>-1.768926</td>\n",
       "      <td>rat</td>\n",
       "    </tr>\n",
       "    <tr>\n",
       "      <th>v</th>\n",
       "      <td>1.106163</td>\n",
       "      <td>1.178086</td>\n",
       "      <td>0.146872</td>\n",
       "      <td>-0.257771</td>\n",
       "      <td>2.284250</td>\n",
       "      <td>2.173351</td>\n",
       "      <td>rat</td>\n",
       "    </tr>\n",
       "    <tr>\n",
       "      <th>u</th>\n",
       "      <td>0.255082</td>\n",
       "      <td>0.187995</td>\n",
       "      <td>-2.419165</td>\n",
       "      <td>NaN</td>\n",
       "      <td>0.443077</td>\n",
       "      <td>-1.907086</td>\n",
       "      <td>human</td>\n",
       "    </tr>\n",
       "  </tbody>\n",
       "</table>\n",
       "</div>"
      ],
      "text/plain": [
       "          A         B         C         D      Sum1      Sum2 Species\n",
       "z  1.757676 -0.011621  0.257289  0.455004  1.746055  2.458347     rat\n",
       "y  0.261087 -0.401713  0.334370  0.305002 -0.140625  0.498746   mouse\n",
       "x  1.057702 -0.395920 -0.507680  0.248234  0.661782  0.402336   mouse\n",
       "w  0.409102  0.028609 -1.101316 -1.105321  0.437711 -1.768926     rat\n",
       "v  1.106163  1.178086  0.146872 -0.257771  2.284250  2.173351     rat\n",
       "u  0.255082  0.187995 -2.419165       NaN  0.443077 -1.907086   human"
      ]
     },
     "execution_count": 46,
     "metadata": {},
     "output_type": "execute_result"
    }
   ],
   "source": [
    "df2c = df2.copy()\n",
    "df2c.at['u','D']= None\n",
    "df2c"
   ]
  },
  {
   "cell_type": "markdown",
   "metadata": {
    "id": "Z0GK_8mJd7W6"
   },
   "source": [
    "\n",
    "So, if we compute some means here, we can see the following (Note the different values for D based on df2c having one value flagged as None.):"
   ]
  },
  {
   "cell_type": "code",
   "execution_count": null,
   "metadata": {
    "colab": {
     "base_uri": "https://localhost:8080/"
    },
    "executionInfo": {
     "elapsed": 259,
     "status": "ok",
     "timestamp": 1617667035101,
     "user": {
      "displayName": "Craig Stark",
      "photoUrl": "https://lh3.googleusercontent.com/a-/AOh14GgHTCQdxwqKpQoLMKn2jOrFLiJic0kn3TdGdABA=s64",
      "userId": "11041610993007874858"
     },
     "user_tz": 420
    },
    "id": "U5aNcrLWd8H_",
    "outputId": "b9965a76-0995-4aa4-9b59-ca684343d121"
   },
   "outputs": [
    {
     "ename": "TypeError",
     "evalue": "Could not convert ['ratmousemouseratrathuman'] to numeric",
     "output_type": "error",
     "traceback": [
      "\u001b[0;31m---------------------------------------------------------------------------\u001b[0m",
      "\u001b[0;31mTypeError\u001b[0m                                 Traceback (most recent call last)",
      "Cell \u001b[0;32mIn[49], line 2\u001b[0m\n\u001b[1;32m      1\u001b[0m \u001b[38;5;66;03m# print(df2.mean())\u001b[39;00m\n\u001b[0;32m----> 2\u001b[0m \u001b[38;5;28mprint\u001b[39m(\u001b[43mdf2c\u001b[49m\u001b[38;5;241;43m.\u001b[39;49m\u001b[43mmean\u001b[49m\u001b[43m(\u001b[49m\u001b[43m)\u001b[49m)\n",
      "File \u001b[0;32m/Library/Frameworks/Python.framework/Versions/3.12/lib/python3.12/site-packages/pandas/core/frame.py:11680\u001b[0m, in \u001b[0;36mDataFrame.mean\u001b[0;34m(self, axis, skipna, numeric_only, **kwargs)\u001b[0m\n\u001b[1;32m  11672\u001b[0m \u001b[38;5;129m@doc\u001b[39m(make_doc(\u001b[38;5;124m\"\u001b[39m\u001b[38;5;124mmean\u001b[39m\u001b[38;5;124m\"\u001b[39m, ndim\u001b[38;5;241m=\u001b[39m\u001b[38;5;241m2\u001b[39m))\n\u001b[1;32m  11673\u001b[0m \u001b[38;5;28;01mdef\u001b[39;00m \u001b[38;5;21mmean\u001b[39m(\n\u001b[1;32m  11674\u001b[0m     \u001b[38;5;28mself\u001b[39m,\n\u001b[0;32m   (...)\u001b[0m\n\u001b[1;32m  11678\u001b[0m     \u001b[38;5;241m*\u001b[39m\u001b[38;5;241m*\u001b[39mkwargs,\n\u001b[1;32m  11679\u001b[0m ):\n\u001b[0;32m> 11680\u001b[0m     result \u001b[38;5;241m=\u001b[39m \u001b[38;5;28;43msuper\u001b[39;49m\u001b[43m(\u001b[49m\u001b[43m)\u001b[49m\u001b[38;5;241;43m.\u001b[39;49m\u001b[43mmean\u001b[49m\u001b[43m(\u001b[49m\u001b[43maxis\u001b[49m\u001b[43m,\u001b[49m\u001b[43m \u001b[49m\u001b[43mskipna\u001b[49m\u001b[43m,\u001b[49m\u001b[43m \u001b[49m\u001b[43mnumeric_only\u001b[49m\u001b[43m,\u001b[49m\u001b[43m \u001b[49m\u001b[38;5;241;43m*\u001b[39;49m\u001b[38;5;241;43m*\u001b[39;49m\u001b[43mkwargs\u001b[49m\u001b[43m)\u001b[49m\n\u001b[1;32m  11681\u001b[0m     \u001b[38;5;28;01mif\u001b[39;00m \u001b[38;5;28misinstance\u001b[39m(result, Series):\n\u001b[1;32m  11682\u001b[0m         result \u001b[38;5;241m=\u001b[39m result\u001b[38;5;241m.\u001b[39m__finalize__(\u001b[38;5;28mself\u001b[39m, method\u001b[38;5;241m=\u001b[39m\u001b[38;5;124m\"\u001b[39m\u001b[38;5;124mmean\u001b[39m\u001b[38;5;124m\"\u001b[39m)\n",
      "File \u001b[0;32m/Library/Frameworks/Python.framework/Versions/3.12/lib/python3.12/site-packages/pandas/core/generic.py:12417\u001b[0m, in \u001b[0;36mNDFrame.mean\u001b[0;34m(self, axis, skipna, numeric_only, **kwargs)\u001b[0m\n\u001b[1;32m  12410\u001b[0m \u001b[38;5;28;01mdef\u001b[39;00m \u001b[38;5;21mmean\u001b[39m(\n\u001b[1;32m  12411\u001b[0m     \u001b[38;5;28mself\u001b[39m,\n\u001b[1;32m  12412\u001b[0m     axis: Axis \u001b[38;5;241m|\u001b[39m \u001b[38;5;28;01mNone\u001b[39;00m \u001b[38;5;241m=\u001b[39m \u001b[38;5;241m0\u001b[39m,\n\u001b[0;32m   (...)\u001b[0m\n\u001b[1;32m  12415\u001b[0m     \u001b[38;5;241m*\u001b[39m\u001b[38;5;241m*\u001b[39mkwargs,\n\u001b[1;32m  12416\u001b[0m ) \u001b[38;5;241m-\u001b[39m\u001b[38;5;241m>\u001b[39m Series \u001b[38;5;241m|\u001b[39m \u001b[38;5;28mfloat\u001b[39m:\n\u001b[0;32m> 12417\u001b[0m     \u001b[38;5;28;01mreturn\u001b[39;00m \u001b[38;5;28;43mself\u001b[39;49m\u001b[38;5;241;43m.\u001b[39;49m\u001b[43m_stat_function\u001b[49m\u001b[43m(\u001b[49m\n\u001b[1;32m  12418\u001b[0m \u001b[43m        \u001b[49m\u001b[38;5;124;43m\"\u001b[39;49m\u001b[38;5;124;43mmean\u001b[39;49m\u001b[38;5;124;43m\"\u001b[39;49m\u001b[43m,\u001b[49m\u001b[43m \u001b[49m\u001b[43mnanops\u001b[49m\u001b[38;5;241;43m.\u001b[39;49m\u001b[43mnanmean\u001b[49m\u001b[43m,\u001b[49m\u001b[43m \u001b[49m\u001b[43maxis\u001b[49m\u001b[43m,\u001b[49m\u001b[43m \u001b[49m\u001b[43mskipna\u001b[49m\u001b[43m,\u001b[49m\u001b[43m \u001b[49m\u001b[43mnumeric_only\u001b[49m\u001b[43m,\u001b[49m\u001b[43m \u001b[49m\u001b[38;5;241;43m*\u001b[39;49m\u001b[38;5;241;43m*\u001b[39;49m\u001b[43mkwargs\u001b[49m\n\u001b[1;32m  12419\u001b[0m \u001b[43m    \u001b[49m\u001b[43m)\u001b[49m\n",
      "File \u001b[0;32m/Library/Frameworks/Python.framework/Versions/3.12/lib/python3.12/site-packages/pandas/core/generic.py:12374\u001b[0m, in \u001b[0;36mNDFrame._stat_function\u001b[0;34m(self, name, func, axis, skipna, numeric_only, **kwargs)\u001b[0m\n\u001b[1;32m  12370\u001b[0m nv\u001b[38;5;241m.\u001b[39mvalidate_func(name, (), kwargs)\n\u001b[1;32m  12372\u001b[0m validate_bool_kwarg(skipna, \u001b[38;5;124m\"\u001b[39m\u001b[38;5;124mskipna\u001b[39m\u001b[38;5;124m\"\u001b[39m, none_allowed\u001b[38;5;241m=\u001b[39m\u001b[38;5;28;01mFalse\u001b[39;00m)\n\u001b[0;32m> 12374\u001b[0m \u001b[38;5;28;01mreturn\u001b[39;00m \u001b[38;5;28;43mself\u001b[39;49m\u001b[38;5;241;43m.\u001b[39;49m\u001b[43m_reduce\u001b[49m\u001b[43m(\u001b[49m\n\u001b[1;32m  12375\u001b[0m \u001b[43m    \u001b[49m\u001b[43mfunc\u001b[49m\u001b[43m,\u001b[49m\u001b[43m \u001b[49m\u001b[43mname\u001b[49m\u001b[38;5;241;43m=\u001b[39;49m\u001b[43mname\u001b[49m\u001b[43m,\u001b[49m\u001b[43m \u001b[49m\u001b[43maxis\u001b[49m\u001b[38;5;241;43m=\u001b[39;49m\u001b[43maxis\u001b[49m\u001b[43m,\u001b[49m\u001b[43m \u001b[49m\u001b[43mskipna\u001b[49m\u001b[38;5;241;43m=\u001b[39;49m\u001b[43mskipna\u001b[49m\u001b[43m,\u001b[49m\u001b[43m \u001b[49m\u001b[43mnumeric_only\u001b[49m\u001b[38;5;241;43m=\u001b[39;49m\u001b[43mnumeric_only\u001b[49m\n\u001b[1;32m  12376\u001b[0m \u001b[43m\u001b[49m\u001b[43m)\u001b[49m\n",
      "File \u001b[0;32m/Library/Frameworks/Python.framework/Versions/3.12/lib/python3.12/site-packages/pandas/core/frame.py:11549\u001b[0m, in \u001b[0;36mDataFrame._reduce\u001b[0;34m(self, op, name, axis, skipna, numeric_only, filter_type, **kwds)\u001b[0m\n\u001b[1;32m  11545\u001b[0m     df \u001b[38;5;241m=\u001b[39m df\u001b[38;5;241m.\u001b[39mT\n\u001b[1;32m  11547\u001b[0m \u001b[38;5;66;03m# After possibly _get_data and transposing, we are now in the\u001b[39;00m\n\u001b[1;32m  11548\u001b[0m \u001b[38;5;66;03m#  simple case where we can use BlockManager.reduce\u001b[39;00m\n\u001b[0;32m> 11549\u001b[0m res \u001b[38;5;241m=\u001b[39m \u001b[43mdf\u001b[49m\u001b[38;5;241;43m.\u001b[39;49m\u001b[43m_mgr\u001b[49m\u001b[38;5;241;43m.\u001b[39;49m\u001b[43mreduce\u001b[49m\u001b[43m(\u001b[49m\u001b[43mblk_func\u001b[49m\u001b[43m)\u001b[49m\n\u001b[1;32m  11550\u001b[0m out \u001b[38;5;241m=\u001b[39m df\u001b[38;5;241m.\u001b[39m_constructor_from_mgr(res, axes\u001b[38;5;241m=\u001b[39mres\u001b[38;5;241m.\u001b[39maxes)\u001b[38;5;241m.\u001b[39miloc[\u001b[38;5;241m0\u001b[39m]\n\u001b[1;32m  11551\u001b[0m \u001b[38;5;28;01mif\u001b[39;00m out_dtype \u001b[38;5;129;01mis\u001b[39;00m \u001b[38;5;129;01mnot\u001b[39;00m \u001b[38;5;28;01mNone\u001b[39;00m \u001b[38;5;129;01mand\u001b[39;00m out\u001b[38;5;241m.\u001b[39mdtype \u001b[38;5;241m!=\u001b[39m \u001b[38;5;124m\"\u001b[39m\u001b[38;5;124mboolean\u001b[39m\u001b[38;5;124m\"\u001b[39m:\n",
      "File \u001b[0;32m/Library/Frameworks/Python.framework/Versions/3.12/lib/python3.12/site-packages/pandas/core/internals/managers.py:1500\u001b[0m, in \u001b[0;36mBlockManager.reduce\u001b[0;34m(self, func)\u001b[0m\n\u001b[1;32m   1498\u001b[0m res_blocks: \u001b[38;5;28mlist\u001b[39m[Block] \u001b[38;5;241m=\u001b[39m []\n\u001b[1;32m   1499\u001b[0m \u001b[38;5;28;01mfor\u001b[39;00m blk \u001b[38;5;129;01min\u001b[39;00m \u001b[38;5;28mself\u001b[39m\u001b[38;5;241m.\u001b[39mblocks:\n\u001b[0;32m-> 1500\u001b[0m     nbs \u001b[38;5;241m=\u001b[39m \u001b[43mblk\u001b[49m\u001b[38;5;241;43m.\u001b[39;49m\u001b[43mreduce\u001b[49m\u001b[43m(\u001b[49m\u001b[43mfunc\u001b[49m\u001b[43m)\u001b[49m\n\u001b[1;32m   1501\u001b[0m     res_blocks\u001b[38;5;241m.\u001b[39mextend(nbs)\n\u001b[1;32m   1503\u001b[0m index \u001b[38;5;241m=\u001b[39m Index([\u001b[38;5;28;01mNone\u001b[39;00m])  \u001b[38;5;66;03m# placeholder\u001b[39;00m\n",
      "File \u001b[0;32m/Library/Frameworks/Python.framework/Versions/3.12/lib/python3.12/site-packages/pandas/core/internals/blocks.py:404\u001b[0m, in \u001b[0;36mBlock.reduce\u001b[0;34m(self, func)\u001b[0m\n\u001b[1;32m    398\u001b[0m \u001b[38;5;129m@final\u001b[39m\n\u001b[1;32m    399\u001b[0m \u001b[38;5;28;01mdef\u001b[39;00m \u001b[38;5;21mreduce\u001b[39m(\u001b[38;5;28mself\u001b[39m, func) \u001b[38;5;241m-\u001b[39m\u001b[38;5;241m>\u001b[39m \u001b[38;5;28mlist\u001b[39m[Block]:\n\u001b[1;32m    400\u001b[0m     \u001b[38;5;66;03m# We will apply the function and reshape the result into a single-row\u001b[39;00m\n\u001b[1;32m    401\u001b[0m     \u001b[38;5;66;03m#  Block with the same mgr_locs; squeezing will be done at a higher level\u001b[39;00m\n\u001b[1;32m    402\u001b[0m     \u001b[38;5;28;01massert\u001b[39;00m \u001b[38;5;28mself\u001b[39m\u001b[38;5;241m.\u001b[39mndim \u001b[38;5;241m==\u001b[39m \u001b[38;5;241m2\u001b[39m\n\u001b[0;32m--> 404\u001b[0m     result \u001b[38;5;241m=\u001b[39m \u001b[43mfunc\u001b[49m\u001b[43m(\u001b[49m\u001b[38;5;28;43mself\u001b[39;49m\u001b[38;5;241;43m.\u001b[39;49m\u001b[43mvalues\u001b[49m\u001b[43m)\u001b[49m\n\u001b[1;32m    406\u001b[0m     \u001b[38;5;28;01mif\u001b[39;00m \u001b[38;5;28mself\u001b[39m\u001b[38;5;241m.\u001b[39mvalues\u001b[38;5;241m.\u001b[39mndim \u001b[38;5;241m==\u001b[39m \u001b[38;5;241m1\u001b[39m:\n\u001b[1;32m    407\u001b[0m         res_values \u001b[38;5;241m=\u001b[39m result\n",
      "File \u001b[0;32m/Library/Frameworks/Python.framework/Versions/3.12/lib/python3.12/site-packages/pandas/core/frame.py:11468\u001b[0m, in \u001b[0;36mDataFrame._reduce.<locals>.blk_func\u001b[0;34m(values, axis)\u001b[0m\n\u001b[1;32m  11466\u001b[0m         \u001b[38;5;28;01mreturn\u001b[39;00m np\u001b[38;5;241m.\u001b[39marray([result])\n\u001b[1;32m  11467\u001b[0m \u001b[38;5;28;01melse\u001b[39;00m:\n\u001b[0;32m> 11468\u001b[0m     \u001b[38;5;28;01mreturn\u001b[39;00m \u001b[43mop\u001b[49m\u001b[43m(\u001b[49m\u001b[43mvalues\u001b[49m\u001b[43m,\u001b[49m\u001b[43m \u001b[49m\u001b[43maxis\u001b[49m\u001b[38;5;241;43m=\u001b[39;49m\u001b[43maxis\u001b[49m\u001b[43m,\u001b[49m\u001b[43m \u001b[49m\u001b[43mskipna\u001b[49m\u001b[38;5;241;43m=\u001b[39;49m\u001b[43mskipna\u001b[49m\u001b[43m,\u001b[49m\u001b[43m \u001b[49m\u001b[38;5;241;43m*\u001b[39;49m\u001b[38;5;241;43m*\u001b[39;49m\u001b[43mkwds\u001b[49m\u001b[43m)\u001b[49m\n",
      "File \u001b[0;32m/Library/Frameworks/Python.framework/Versions/3.12/lib/python3.12/site-packages/pandas/core/nanops.py:147\u001b[0m, in \u001b[0;36mbottleneck_switch.__call__.<locals>.f\u001b[0;34m(values, axis, skipna, **kwds)\u001b[0m\n\u001b[1;32m    145\u001b[0m         result \u001b[38;5;241m=\u001b[39m alt(values, axis\u001b[38;5;241m=\u001b[39maxis, skipna\u001b[38;5;241m=\u001b[39mskipna, \u001b[38;5;241m*\u001b[39m\u001b[38;5;241m*\u001b[39mkwds)\n\u001b[1;32m    146\u001b[0m \u001b[38;5;28;01melse\u001b[39;00m:\n\u001b[0;32m--> 147\u001b[0m     result \u001b[38;5;241m=\u001b[39m \u001b[43malt\u001b[49m\u001b[43m(\u001b[49m\u001b[43mvalues\u001b[49m\u001b[43m,\u001b[49m\u001b[43m \u001b[49m\u001b[43maxis\u001b[49m\u001b[38;5;241;43m=\u001b[39;49m\u001b[43maxis\u001b[49m\u001b[43m,\u001b[49m\u001b[43m \u001b[49m\u001b[43mskipna\u001b[49m\u001b[38;5;241;43m=\u001b[39;49m\u001b[43mskipna\u001b[49m\u001b[43m,\u001b[49m\u001b[43m \u001b[49m\u001b[38;5;241;43m*\u001b[39;49m\u001b[38;5;241;43m*\u001b[39;49m\u001b[43mkwds\u001b[49m\u001b[43m)\u001b[49m\n\u001b[1;32m    149\u001b[0m \u001b[38;5;28;01mreturn\u001b[39;00m result\n",
      "File \u001b[0;32m/Library/Frameworks/Python.framework/Versions/3.12/lib/python3.12/site-packages/pandas/core/nanops.py:404\u001b[0m, in \u001b[0;36m_datetimelike_compat.<locals>.new_func\u001b[0;34m(values, axis, skipna, mask, **kwargs)\u001b[0m\n\u001b[1;32m    401\u001b[0m \u001b[38;5;28;01mif\u001b[39;00m datetimelike \u001b[38;5;129;01mand\u001b[39;00m mask \u001b[38;5;129;01mis\u001b[39;00m \u001b[38;5;28;01mNone\u001b[39;00m:\n\u001b[1;32m    402\u001b[0m     mask \u001b[38;5;241m=\u001b[39m isna(values)\n\u001b[0;32m--> 404\u001b[0m result \u001b[38;5;241m=\u001b[39m \u001b[43mfunc\u001b[49m\u001b[43m(\u001b[49m\u001b[43mvalues\u001b[49m\u001b[43m,\u001b[49m\u001b[43m \u001b[49m\u001b[43maxis\u001b[49m\u001b[38;5;241;43m=\u001b[39;49m\u001b[43maxis\u001b[49m\u001b[43m,\u001b[49m\u001b[43m \u001b[49m\u001b[43mskipna\u001b[49m\u001b[38;5;241;43m=\u001b[39;49m\u001b[43mskipna\u001b[49m\u001b[43m,\u001b[49m\u001b[43m \u001b[49m\u001b[43mmask\u001b[49m\u001b[38;5;241;43m=\u001b[39;49m\u001b[43mmask\u001b[49m\u001b[43m,\u001b[49m\u001b[43m \u001b[49m\u001b[38;5;241;43m*\u001b[39;49m\u001b[38;5;241;43m*\u001b[39;49m\u001b[43mkwargs\u001b[49m\u001b[43m)\u001b[49m\n\u001b[1;32m    406\u001b[0m \u001b[38;5;28;01mif\u001b[39;00m datetimelike:\n\u001b[1;32m    407\u001b[0m     result \u001b[38;5;241m=\u001b[39m _wrap_results(result, orig_values\u001b[38;5;241m.\u001b[39mdtype, fill_value\u001b[38;5;241m=\u001b[39miNaT)\n",
      "File \u001b[0;32m/Library/Frameworks/Python.framework/Versions/3.12/lib/python3.12/site-packages/pandas/core/nanops.py:720\u001b[0m, in \u001b[0;36mnanmean\u001b[0;34m(values, axis, skipna, mask)\u001b[0m\n\u001b[1;32m    718\u001b[0m count \u001b[38;5;241m=\u001b[39m _get_counts(values\u001b[38;5;241m.\u001b[39mshape, mask, axis, dtype\u001b[38;5;241m=\u001b[39mdtype_count)\n\u001b[1;32m    719\u001b[0m the_sum \u001b[38;5;241m=\u001b[39m values\u001b[38;5;241m.\u001b[39msum(axis, dtype\u001b[38;5;241m=\u001b[39mdtype_sum)\n\u001b[0;32m--> 720\u001b[0m the_sum \u001b[38;5;241m=\u001b[39m \u001b[43m_ensure_numeric\u001b[49m\u001b[43m(\u001b[49m\u001b[43mthe_sum\u001b[49m\u001b[43m)\u001b[49m\n\u001b[1;32m    722\u001b[0m \u001b[38;5;28;01mif\u001b[39;00m axis \u001b[38;5;129;01mis\u001b[39;00m \u001b[38;5;129;01mnot\u001b[39;00m \u001b[38;5;28;01mNone\u001b[39;00m \u001b[38;5;129;01mand\u001b[39;00m \u001b[38;5;28mgetattr\u001b[39m(the_sum, \u001b[38;5;124m\"\u001b[39m\u001b[38;5;124mndim\u001b[39m\u001b[38;5;124m\"\u001b[39m, \u001b[38;5;28;01mFalse\u001b[39;00m):\n\u001b[1;32m    723\u001b[0m     count \u001b[38;5;241m=\u001b[39m cast(np\u001b[38;5;241m.\u001b[39mndarray, count)\n",
      "File \u001b[0;32m/Library/Frameworks/Python.framework/Versions/3.12/lib/python3.12/site-packages/pandas/core/nanops.py:1686\u001b[0m, in \u001b[0;36m_ensure_numeric\u001b[0;34m(x)\u001b[0m\n\u001b[1;32m   1683\u001b[0m inferred \u001b[38;5;241m=\u001b[39m lib\u001b[38;5;241m.\u001b[39minfer_dtype(x)\n\u001b[1;32m   1684\u001b[0m \u001b[38;5;28;01mif\u001b[39;00m inferred \u001b[38;5;129;01min\u001b[39;00m [\u001b[38;5;124m\"\u001b[39m\u001b[38;5;124mstring\u001b[39m\u001b[38;5;124m\"\u001b[39m, \u001b[38;5;124m\"\u001b[39m\u001b[38;5;124mmixed\u001b[39m\u001b[38;5;124m\"\u001b[39m]:\n\u001b[1;32m   1685\u001b[0m     \u001b[38;5;66;03m# GH#44008, GH#36703 avoid casting e.g. strings to numeric\u001b[39;00m\n\u001b[0;32m-> 1686\u001b[0m     \u001b[38;5;28;01mraise\u001b[39;00m \u001b[38;5;167;01mTypeError\u001b[39;00m(\u001b[38;5;124mf\u001b[39m\u001b[38;5;124m\"\u001b[39m\u001b[38;5;124mCould not convert \u001b[39m\u001b[38;5;132;01m{\u001b[39;00mx\u001b[38;5;132;01m}\u001b[39;00m\u001b[38;5;124m to numeric\u001b[39m\u001b[38;5;124m\"\u001b[39m)\n\u001b[1;32m   1687\u001b[0m \u001b[38;5;28;01mtry\u001b[39;00m:\n\u001b[1;32m   1688\u001b[0m     x \u001b[38;5;241m=\u001b[39m x\u001b[38;5;241m.\u001b[39mastype(np\u001b[38;5;241m.\u001b[39mcomplex128)\n",
      "\u001b[0;31mTypeError\u001b[0m: Could not convert ['ratmousemouseratrathuman'] to numeric"
     ]
    }
   ],
   "source": [
    "print(df2.mean())\n",
    "print(df2c.mean())"
   ]
  },
  {
   "cell_type": "markdown",
   "metadata": {
    "id": "gNHOvbvreLv7"
   },
   "source": [
    "# Loading and saving data\n",
    "\n",
    "You can, of course, bring in data via NumPy and just stick it in a Pandas data frame.  Odds are, though, that you'll want to leverage off of the nice, [built-in Pandas routines](http://pandas.pydata.org/pandas-docs/stable/10min.html#getting-data-in-out) to get things in and out using either \"CSV\" (comma separated values) or Excel formats.  \n",
    "\n",
    "CSV is just a text file with each column separated by a \"delimiter\".  This can be a comma, but might be a space or a tab.  It's a very simple format that anything should be able to read and write.  If it's a simple file with no header and using commas, you might have:\n",
    "\n",
    "\n",
    "```\n",
    "data = pd.read_csv('foo.txt')\n",
    "```\n",
    "\n",
    "\n",
    "But, let's say it's got the top row having a header that gives the names of each of the columns.  You'd have:\n",
    "\n",
    "\n",
    "```\n",
    "data = pd.read_csv('foo.txt',header=0)\n",
    "```\n",
    "\n",
    "\n",
    "Use a space instead of a comma as the delimiter?\n",
    "\n",
    "\n",
    "```\n",
    "data = pd.read_csv('foo.txt',header=0,sep=' ')\n",
    "```\n",
    "\n",
    "\n",
    "Note, there is also pd.read_table, which offers very similar functionality.  \n",
    "\n",
    "Excel files are handled just as easily.  \n",
    "\n",
    "\n",
    "```\n",
    "data = pd.read_excel('foo.xlsx')\n",
    "data = pd.read_excel('foo.xls','Sheet2')\n",
    "```\n",
    "\n",
    "\n",
    "Once you've got a data frame you'd like to save:\n",
    "\n",
    "\n",
    "```\n",
    "pd.to_csv('results.csv')\n",
    "pd.to_excel('results.xlsx')\n",
    "```\n"
   ]
  },
  {
   "cell_type": "markdown",
   "metadata": {
    "id": "3U8SW-u7eSN5"
   },
   "source": [
    "# Plotting and visualizing\n",
    "\n",
    "Perhaps the simplest visualization is a table.  "
   ]
  },
  {
   "cell_type": "code",
   "execution_count": 50,
   "metadata": {
    "colab": {
     "base_uri": "https://localhost:8080/",
     "height": 297
    },
    "executionInfo": {
     "elapsed": 274,
     "status": "ok",
     "timestamp": 1617667123814,
     "user": {
      "displayName": "Craig Stark",
      "photoUrl": "https://lh3.googleusercontent.com/a-/AOh14GgHTCQdxwqKpQoLMKn2jOrFLiJic0kn3TdGdABA=s64",
      "userId": "11041610993007874858"
     },
     "user_tz": 420
    },
    "id": "CZSbb8SreVRe",
    "outputId": "617a4def-20ca-48b9-c043-848ebead503e"
   },
   "outputs": [
    {
     "data": {
      "application/vnd.microsoft.datawrangler.viewer.v0+json": {
       "columns": [
        {
         "name": "index",
         "rawType": "object",
         "type": "string"
        },
        {
         "name": "A",
         "rawType": "float64",
         "type": "float"
        },
        {
         "name": "B",
         "rawType": "float64",
         "type": "float"
        },
        {
         "name": "C",
         "rawType": "float64",
         "type": "float"
        },
        {
         "name": "D",
         "rawType": "float64",
         "type": "float"
        },
        {
         "name": "Sum1",
         "rawType": "float64",
         "type": "float"
        },
        {
         "name": "Sum2",
         "rawType": "float64",
         "type": "float"
        }
       ],
       "conversionMethod": "pd.DataFrame",
       "ref": "9d0a91b4-df98-49cb-b93e-83dd9ae100b2",
       "rows": [
        [
         "count",
         "6.0",
         "6.0",
         "6.0",
         "6.0",
         "6.0",
         "6.0"
        ],
        [
         "mean",
         "0.8078021179560985",
         "0.09757278352560965",
         "-0.5482716649153795",
         "-0.04764182602015793",
         "0.9053749014817082",
         "0.30946141054617066"
        ],
        [
         "std",
         "0.6028410626386653",
         "0.5805489644310055",
         "1.0694816799541151",
         "0.572887127775324",
         "0.9158516536004565",
         "1.8638147264856195"
        ],
        [
         "min",
         "0.25508243648638296",
         "-0.40171265516957483",
         "-2.41916459348736",
         "-1.1053212123974276",
         "-0.14062542045573595",
         "-1.9070858422004953"
        ],
        [
         "25%",
         "0.2980909754042351",
         "-0.29984496704870656",
         "-0.9529072003466248",
         "-0.176077876957378",
         "0.4390525561642703",
         "-1.2261107514230623"
        ],
        [
         "50%",
         "0.7334020265436098",
         "0.008494071081143254",
         "-0.1804040694003721",
         "0.15861791503880934",
         "0.5524296330780208",
         "0.4505412113687385"
        ],
        [
         "75%",
         "1.094048034835989",
         "0.14814823313267556",
         "0.22968473735379558",
         "0.2908099244408609",
         "1.474986681756845",
         "1.7546996954490888"
        ],
        [
         "max",
         "1.7576755555384294",
         "1.178086240103083",
         "0.3343699805193511",
         "0.45500363958009055",
         "2.284249668013803",
         "2.4583474316178324"
        ]
       ],
       "shape": {
        "columns": 6,
        "rows": 8
       }
      },
      "text/html": [
       "<div>\n",
       "<style scoped>\n",
       "    .dataframe tbody tr th:only-of-type {\n",
       "        vertical-align: middle;\n",
       "    }\n",
       "\n",
       "    .dataframe tbody tr th {\n",
       "        vertical-align: top;\n",
       "    }\n",
       "\n",
       "    .dataframe thead th {\n",
       "        text-align: right;\n",
       "    }\n",
       "</style>\n",
       "<table border=\"1\" class=\"dataframe\">\n",
       "  <thead>\n",
       "    <tr style=\"text-align: right;\">\n",
       "      <th></th>\n",
       "      <th>A</th>\n",
       "      <th>B</th>\n",
       "      <th>C</th>\n",
       "      <th>D</th>\n",
       "      <th>Sum1</th>\n",
       "      <th>Sum2</th>\n",
       "    </tr>\n",
       "  </thead>\n",
       "  <tbody>\n",
       "    <tr>\n",
       "      <th>count</th>\n",
       "      <td>6.000000</td>\n",
       "      <td>6.000000</td>\n",
       "      <td>6.000000</td>\n",
       "      <td>6.000000</td>\n",
       "      <td>6.000000</td>\n",
       "      <td>6.000000</td>\n",
       "    </tr>\n",
       "    <tr>\n",
       "      <th>mean</th>\n",
       "      <td>0.807802</td>\n",
       "      <td>0.097573</td>\n",
       "      <td>-0.548272</td>\n",
       "      <td>-0.047642</td>\n",
       "      <td>0.905375</td>\n",
       "      <td>0.309461</td>\n",
       "    </tr>\n",
       "    <tr>\n",
       "      <th>std</th>\n",
       "      <td>0.602841</td>\n",
       "      <td>0.580549</td>\n",
       "      <td>1.069482</td>\n",
       "      <td>0.572887</td>\n",
       "      <td>0.915852</td>\n",
       "      <td>1.863815</td>\n",
       "    </tr>\n",
       "    <tr>\n",
       "      <th>min</th>\n",
       "      <td>0.255082</td>\n",
       "      <td>-0.401713</td>\n",
       "      <td>-2.419165</td>\n",
       "      <td>-1.105321</td>\n",
       "      <td>-0.140625</td>\n",
       "      <td>-1.907086</td>\n",
       "    </tr>\n",
       "    <tr>\n",
       "      <th>25%</th>\n",
       "      <td>0.298091</td>\n",
       "      <td>-0.299845</td>\n",
       "      <td>-0.952907</td>\n",
       "      <td>-0.176078</td>\n",
       "      <td>0.439053</td>\n",
       "      <td>-1.226111</td>\n",
       "    </tr>\n",
       "    <tr>\n",
       "      <th>50%</th>\n",
       "      <td>0.733402</td>\n",
       "      <td>0.008494</td>\n",
       "      <td>-0.180404</td>\n",
       "      <td>0.158618</td>\n",
       "      <td>0.552430</td>\n",
       "      <td>0.450541</td>\n",
       "    </tr>\n",
       "    <tr>\n",
       "      <th>75%</th>\n",
       "      <td>1.094048</td>\n",
       "      <td>0.148148</td>\n",
       "      <td>0.229685</td>\n",
       "      <td>0.290810</td>\n",
       "      <td>1.474987</td>\n",
       "      <td>1.754700</td>\n",
       "    </tr>\n",
       "    <tr>\n",
       "      <th>max</th>\n",
       "      <td>1.757676</td>\n",
       "      <td>1.178086</td>\n",
       "      <td>0.334370</td>\n",
       "      <td>0.455004</td>\n",
       "      <td>2.284250</td>\n",
       "      <td>2.458347</td>\n",
       "    </tr>\n",
       "  </tbody>\n",
       "</table>\n",
       "</div>"
      ],
      "text/plain": [
       "              A         B         C         D      Sum1      Sum2\n",
       "count  6.000000  6.000000  6.000000  6.000000  6.000000  6.000000\n",
       "mean   0.807802  0.097573 -0.548272 -0.047642  0.905375  0.309461\n",
       "std    0.602841  0.580549  1.069482  0.572887  0.915852  1.863815\n",
       "min    0.255082 -0.401713 -2.419165 -1.105321 -0.140625 -1.907086\n",
       "25%    0.298091 -0.299845 -0.952907 -0.176078  0.439053 -1.226111\n",
       "50%    0.733402  0.008494 -0.180404  0.158618  0.552430  0.450541\n",
       "75%    1.094048  0.148148  0.229685  0.290810  1.474987  1.754700\n",
       "max    1.757676  1.178086  0.334370  0.455004  2.284250  2.458347"
      ]
     },
     "execution_count": 50,
     "metadata": {},
     "output_type": "execute_result"
    }
   ],
   "source": [
    "df2.describe()"
   ]
  },
  {
   "cell_type": "markdown",
   "metadata": {
    "id": "oUXbe2mYecdH"
   },
   "source": [
    "But, we'll want more than that usually. While you'll sometimes need to just grab bits out of your data frame and pass this on to matplotlib, Pandas has built in a set of handy plotting functions to the data frames themselves. They leverage off of matplotlib by try to make your life easier. For example:"
   ]
  },
  {
   "cell_type": "code",
   "execution_count": 51,
   "metadata": {
    "colab": {
     "base_uri": "https://localhost:8080/",
     "height": 282
    },
    "executionInfo": {
     "elapsed": 617,
     "status": "ok",
     "timestamp": 1617667155552,
     "user": {
      "displayName": "Craig Stark",
      "photoUrl": "https://lh3.googleusercontent.com/a-/AOh14GgHTCQdxwqKpQoLMKn2jOrFLiJic0kn3TdGdABA=s64",
      "userId": "11041610993007874858"
     },
     "user_tz": 420
    },
    "id": "Jr1V_jMvedC8",
    "outputId": "03c70c34-a777-4c51-b6a8-251bd9b593ff"
   },
   "outputs": [
    {
     "data": {
      "text/plain": [
       "<Axes: >"
      ]
     },
     "execution_count": 51,
     "metadata": {},
     "output_type": "execute_result"
    },
    {
     "data": {
      "image/png": "[encoded data removed]",
      "text/plain": [
       "<Figure size 640x480 with 1 Axes>"
      ]
     },
     "metadata": {},
     "output_type": "display_data"
    }
   ],
   "source": [
    "df2.plot()"
   ]
  },
  {
   "cell_type": "markdown",
   "metadata": {
    "id": "pYN2_GxheizK"
   },
   "source": [
    "There's a lot more buried inside dataframe.plot()... bar plots, histograms, scatters, box plots, etc. Here are a few examples, but I strongly encourage you to have a look at the [visualization section of the manual](http://pandas.pydata.org/pandas-docs/stable/visualization.html) for more.  \n"
   ]
  },
  {
   "cell_type": "code",
   "execution_count": null,
   "metadata": {
    "colab": {
     "base_uri": "https://localhost:8080/",
     "height": 544
    },
    "executionInfo": {
     "elapsed": 721,
     "status": "ok",
     "timestamp": 1617667198488,
     "user": {
      "displayName": "Craig Stark",
      "photoUrl": "https://lh3.googleusercontent.com/a-/AOh14GgHTCQdxwqKpQoLMKn2jOrFLiJic0kn3TdGdABA=s64",
      "userId": "11041610993007874858"
     },
     "user_tz": 420
    },
    "id": "quA-F7fMejib",
    "outputId": "3be140b9-0e41-404d-a5cc-581206563c01"
   },
   "outputs": [],
   "source": [
    "df2.plot.scatter(x='B',y='C')\n",
    "\n",
    "df2.plot.box()"
   ]
  },
  {
   "cell_type": "markdown",
   "metadata": {
    "id": "yW7BpDmpe0jj"
   },
   "source": [
    "## Subplots\n",
    "\n",
    "Often, we want to have more than one plot shown at a time.  Fortunately, since Pandas is built on matplotlib, we can leverage off of matplotlib's _subplot_() routine.\n"
   ]
  },
  {
   "cell_type": "code",
   "execution_count": null,
   "metadata": {
    "colab": {
     "base_uri": "https://localhost:8080/",
     "height": 296
    },
    "executionInfo": {
     "elapsed": 830,
     "status": "ok",
     "timestamp": 1617667260067,
     "user": {
      "displayName": "Craig Stark",
      "photoUrl": "https://lh3.googleusercontent.com/a-/AOh14GgHTCQdxwqKpQoLMKn2jOrFLiJic0kn3TdGdABA=s64",
      "userId": "11041610993007874858"
     },
     "user_tz": 420
    },
    "id": "sOu8lmJZe1-I",
    "outputId": "38e797b4-14f2-4233-b524-4857381aabb9"
   },
   "outputs": [],
   "source": [
    "rng=np.random.default_rng()\n",
    "df = pd.DataFrame(rng.normal(size=(6,4)), index=list('zyxwvu'), columns=list('ABCD'))\n",
    "\n",
    "fig,axes=plt.subplots(2,2)\n",
    "df.plot.scatter(x='A',y='B',ax=axes[0,0])\n",
    "df.plot.scatter(x='A',y='C',ax=axes[0,1])\n",
    "df.plot.scatter(x='A',y='D',ax=axes[1,0])\n",
    "df.plot.scatter(x='B',y='C',ax=axes[1,1])"
   ]
  },
  {
   "cell_type": "markdown",
   "metadata": {
    "id": "SPDaiiuYe5Mr"
   },
   "source": [
    "Key to this working is that we call _plt.subplots(nrows,ncols)_ here and save \"handles\" to the figures and to the axes.  These axes are our subplots.  So, when we want to put a particular scatter in a particular subplot, all we need to do is to tell the plot function (_scatter()_ in this case) what axis (subplot) to use.   "
   ]
  },
  {
   "cell_type": "markdown",
   "metadata": {
    "id": "tXO81kFhe7CI"
   },
   "source": [
    "# Grouping\n",
    "\n",
    "Pandas has a great ability to group / collapse / aggregate feature that will make your life a lot easier.  If you want more of a tutorial, [have a look here](http://nbviewer.jupyter.org/github/jvns/pandas-cookbook/blob/v0.1/cookbook/Chapter%204%20-%20Find%20out%20on%20which%20weekday%20people%20bike%20the%20most%20with%20groupby%20and%20aggregate.ipynb) or [here](http://pandas.pydata.org/pandas-docs/stable/10min.html#grouping). Let's take our df2 and group it by species:\n"
   ]
  },
  {
   "cell_type": "code",
   "execution_count": null,
   "metadata": {
    "id": "6d7RKep_fFHy"
   },
   "outputs": [],
   "source": [
    "print(df2)\n",
    "grp_species = df2.groupby('Species')"
   ]
  },
  {
   "cell_type": "markdown",
   "metadata": {
    "id": "KnQV8ReKfO2l"
   },
   "source": [
    "At this point, you have an object that has your data grouped by the species column. From here, you can now do things like:"
   ]
  },
  {
   "cell_type": "code",
   "execution_count": null,
   "metadata": {
    "colab": {
     "base_uri": "https://localhost:8080/",
     "height": 173
    },
    "executionInfo": {
     "elapsed": 268,
     "status": "ok",
     "timestamp": 1617667369525,
     "user": {
      "displayName": "Craig Stark",
      "photoUrl": "https://lh3.googleusercontent.com/a-/AOh14GgHTCQdxwqKpQoLMKn2jOrFLiJic0kn3TdGdABA=s64",
      "userId": "11041610993007874858"
     },
     "user_tz": 420
    },
    "id": "_1P3GPJufRZb",
    "outputId": "9f739fe6-7b17-4236-eebc-21ff7e5e84e1"
   },
   "outputs": [],
   "source": [
    "grp_species.mean()"
   ]
  },
  {
   "cell_type": "markdown",
   "metadata": {
    "id": "rJ_iYDzFfVL8"
   },
   "source": [
    "Of course, you could, if you want just that, put this together in one step by:"
   ]
  },
  {
   "cell_type": "code",
   "execution_count": null,
   "metadata": {
    "colab": {
     "base_uri": "https://localhost:8080/",
     "height": 173
    },
    "executionInfo": {
     "elapsed": 277,
     "status": "ok",
     "timestamp": 1617667394082,
     "user": {
      "displayName": "Craig Stark",
      "photoUrl": "https://lh3.googleusercontent.com/a-/AOh14GgHTCQdxwqKpQoLMKn2jOrFLiJic0kn3TdGdABA=s64",
      "userId": "11041610993007874858"
     },
     "user_tz": 420
    },
    "id": "KWLI2242fVwE",
    "outputId": "033599f0-40d3-49db-847d-db0c061f5050"
   },
   "outputs": [],
   "source": [
    "df2.groupby('Species').mean()"
   ]
  },
  {
   "cell_type": "markdown",
   "metadata": {
    "id": "Y0eC5R56fbke"
   },
   "source": [
    "Now, the neat thing about this and about Python being \"object-oriented\" (remember, everything is an object) is that all the cool bits you know about data frames and series and such apply to these groups. That's why you can do the .mean() bit here. All those same functions apply.  Heck, even the plotting applies.\n"
   ]
  },
  {
   "cell_type": "code",
   "execution_count": null,
   "metadata": {
    "colab": {
     "base_uri": "https://localhost:8080/",
     "height": 321
    },
    "executionInfo": {
     "elapsed": 415,
     "status": "ok",
     "timestamp": 1617667414134,
     "user": {
      "displayName": "Craig Stark",
      "photoUrl": "https://lh3.googleusercontent.com/a-/AOh14GgHTCQdxwqKpQoLMKn2jOrFLiJic0kn3TdGdABA=s64",
      "userId": "11041610993007874858"
     },
     "user_tz": 420
    },
    "id": "Qe8Kr6dpfcM1",
    "outputId": "b0cf1805-3b8a-4ea3-d474-30eee80a5ce1"
   },
   "outputs": [],
   "source": [
    "df2.groupby('Species').mean().plot.bar()"
   ]
  },
  {
   "cell_type": "markdown",
   "metadata": {
    "id": "WBDgj4ywfk7B"
   },
   "source": [
    "Just to be clear, I could have done this in several steps\n",
    "\n",
    "\n",
    "```\n",
    "grp_species = df2.groupby('Species')\n",
    "grp_species_m = grp_species.mean()\n",
    "grp_species_m.plot.bar()\n",
    "```\n",
    "\n",
    "\n",
    "But, by now you should be starting to get comfortable with that chained style of calling things.\n",
    "\n",
    "Note, you can group by more than one key as well.  Here, we just had 'Species', but if we had gender in this we could:\n",
    "\n",
    "\n",
    "```\n",
    "df2.groupby(['Species','Gender'])\n",
    "```\n",
    "## What if a function isn't in there?\n",
    "\n",
    "OK, so you've got something you'd like to run on the grouped data, but it's not built into Pandas.  Now what, smartypants?  You can use the _.agg_ or _.aggregate()_ functions to grab that data and apply some other function to it.  Here, we'll just use the mean again to show how it works:"
   ]
  },
  {
   "cell_type": "code",
   "execution_count": null,
   "metadata": {
    "colab": {
     "base_uri": "https://localhost:8080/"
    },
    "executionInfo": {
     "elapsed": 265,
     "status": "ok",
     "timestamp": 1617667541555,
     "user": {
      "displayName": "Craig Stark",
      "photoUrl": "https://lh3.googleusercontent.com/a-/AOh14GgHTCQdxwqKpQoLMKn2jOrFLiJic0kn3TdGdABA=s64",
      "userId": "11041610993007874858"
     },
     "user_tz": 420
    },
    "id": "6h0-9DqqfrUh",
    "outputId": "5fe89c8d-6515-495e-97c1-25e666c2430d"
   },
   "outputs": [],
   "source": [
    "print('Normal mean')\n",
    "print(grp_species.mean())\n",
    "print('\\nAggregate')\n",
    "print(grp_species.aggregate(np.mean))"
   ]
  },
  {
   "cell_type": "markdown",
   "metadata": {
    "id": "eIp3l-M7gHRa"
   },
   "source": [
    "And you can get fancier by having multiple functions applied:"
   ]
  },
  {
   "cell_type": "code",
   "execution_count": null,
   "metadata": {
    "colab": {
     "base_uri": "https://localhost:8080/",
     "height": 204
    },
    "executionInfo": {
     "elapsed": 287,
     "status": "ok",
     "timestamp": 1617667600064,
     "user": {
      "displayName": "Craig Stark",
      "photoUrl": "https://lh3.googleusercontent.com/a-/AOh14GgHTCQdxwqKpQoLMKn2jOrFLiJic0kn3TdGdABA=s64",
      "userId": "11041610993007874858"
     },
     "user_tz": 420
    },
    "id": "Nq-FzUF_gI-c",
    "outputId": "4c4488dd-7db6-40fc-bbb1-d4cf76a5a308"
   },
   "outputs": [],
   "source": [
    "summary=grp_species.aggregate([np.mean,np.std])\n",
    "summary"
   ]
  }
 ],
 "metadata": {
  "colab": {
   "authorship_tag": "ABX9TyOrMrF2tCMbE++TsqRcfd0b",
   "name": "N247 Class 6.1 Introduction to Pandas.ipynb",
   "provenance": []
  },
  "kernelspec": {
   "display_name": "Python 3",
   "language": "python",
   "name": "python3"
  },
  "language_info": {
   "codemirror_mode": {
    "name": "ipython",
    "version": 3
   },
   "file_extension": ".py",
   "mimetype": "text/x-python",
   "name": "python",
   "nbconvert_exporter": "python",
   "pygments_lexer": "ipython3",
   "version": "3.12.2"
  }
 },
 "nbformat": 4,
 "nbformat_minor": 0
}
