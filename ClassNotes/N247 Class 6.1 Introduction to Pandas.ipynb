{
 "cells": [
  {
   "cell_type": "markdown",
   "metadata": {
    "id": "GTjtGAMfzWHO"
   },
   "source": [
    "# Why Pandas?\n",
    "\n",
    "A lot of what we end up doing has data that's organized in some kind of table format.  Each row may be a subject or an observation and we have a number of bits of data associated with this.  We might have the observation date, the condition that was being used and several scores for example.  A generic term for this kind of setup is a \"data frame\" and it's used in most every stats package that I can think of.\n",
    "\n",
    "Scientific Python has a nice implementation of this, called Pandas and if you want to do something like load in an Excel table and analyze things or if you want to do the sorts of data analysis one might do in R, you're going to get to know Pandas.\n",
    "\n",
    "Now, you can do everything we're going to lay out here without Pandas.  It'd just be more of a pain.  What Pandas does for you is gives you the ability to easily mix columns with different data types (e.g., strings, integers, and floats) and the ability to easily select bits and pieces of the data."
   ]
  },
  {
   "cell_type": "markdown",
   "metadata": {
    "id": "8pawBgMzzYKz"
   },
   "source": [
    "# Data frames and series\n",
    "\n",
    "To get started, try the following:"
   ]
  },
  {
   "cell_type": "code",
   "execution_count": 1,
   "metadata": {
    "executionInfo": {
     "elapsed": 323,
     "status": "ok",
     "timestamp": 1620152836314,
     "user": {
      "displayName": "Craig Stark",
      "photoUrl": "https://lh3.googleusercontent.com/a-/AOh14GgHTCQdxwqKpQoLMKn2jOrFLiJic0kn3TdGdABA=s64",
      "userId": "11041610993007874858"
     },
     "user_tz": 420
    },
    "id": "uZFBUuluyEJ1"
   },
   "outputs": [],
   "source": [
    "import numpy as np\n",
    "import pandas as pd\n",
    "from matplotlib import pyplot as plt\n",
    "df = pd.DataFrame(np.random.randn(6,4), columns=list('ABCD'))"
   ]
  },
  {
   "cell_type": "markdown",
   "metadata": {
    "id": "lTqb47lbzlMO"
   },
   "source": [
    "(Note, much of this is modified from the [10-minutes to pandas](http://pandas.pydata.org/pandas-docs/stable/10min.html) on the [main pandas docs](http://pandas.pydata.org/pandas-docs/stable/index.html) site) \n",
    "\n",
    "What we've done here apart from importing things is to create a \"data frame\" called df.  It's got 4 columns with the imaginative names of A, B, C, and D.  It's got 6 observations (rows) and it's just filled with random numbers for now.  Have a look:"
   ]
  },
  {
   "cell_type": "code",
   "execution_count": 2,
   "metadata": {
    "colab": {
     "base_uri": "https://localhost:8080/",
     "height": 415
    },
    "executionInfo": {
     "elapsed": 273,
     "status": "ok",
     "timestamp": 1620152884273,
     "user": {
      "displayName": "Craig Stark",
      "photoUrl": "https://lh3.googleusercontent.com/a-/AOh14GgHTCQdxwqKpQoLMKn2jOrFLiJic0kn3TdGdABA=s64",
      "userId": "11041610993007874858"
     },
     "user_tz": 420
    },
    "id": "JYJ7pL31zqq9",
    "outputId": "6af75c42-a073-4f34-9838-cb7c54405081"
   },
   "outputs": [
    {
     "name": "stdout",
     "output_type": "stream",
     "text": [
      "          A         B         C         D\n",
      "0  0.652033  0.346538 -0.720394 -0.054137\n",
      "1  1.506004 -0.274139  1.319222  1.490255\n",
      "2  0.528867  0.741919 -0.109293 -1.227570\n",
      "3 -0.008141 -0.270398  0.745527 -0.046284\n",
      "4  0.542719 -0.537720  0.100714  1.344356\n",
      "5 -1.080613  0.599527  0.269061  1.574087\n"
     ]
    },
    {
     "data": {
      "application/vnd.microsoft.datawrangler.viewer.v0+json": {
       "columns": [
        {
         "name": "index",
         "rawType": "object",
         "type": "string"
        },
        {
         "name": "A",
         "rawType": "float64",
         "type": "float"
        },
        {
         "name": "B",
         "rawType": "float64",
         "type": "float"
        },
        {
         "name": "C",
         "rawType": "float64",
         "type": "float"
        },
        {
         "name": "D",
         "rawType": "float64",
         "type": "float"
        }
       ],
       "conversionMethod": "pd.DataFrame",
       "ref": "8a4115b1-53b3-4da5-9b44-63cb4049da5a",
       "rows": [
        [
         "count",
         "6.0",
         "6.0",
         "6.0",
         "6.0"
        ],
        [
         "mean",
         "0.3568113494196563",
         "0.10095447384238897",
         "0.267472907871277",
         "0.5134511148802398"
        ],
        [
         "std",
         "0.8568948194169226",
         "0.5303252797234645",
         "0.704323438644242",
         "1.1345579019405576"
        ],
        [
         "min",
         "-1.0806132046069827",
         "-0.5377200942879048",
         "-0.7203942163548508",
         "-1.2275696496158404"
        ],
        [
         "25%",
         "0.12611086733243473",
         "-0.2732038436266929",
         "-0.05679112871864203",
         "-0.05217356717116489"
        ],
        [
         "50%",
         "0.5357928826473353",
         "0.038069922418750235",
         "0.1848875364007241",
         "0.6490359114927333"
        ],
        [
         "75%",
         "0.62470430212537",
         "0.5362798506361411",
         "0.6264106922024346",
         "1.4537799976966053"
        ],
        [
         "max",
         "1.5060038983180677",
         "0.741919031437974",
         "1.3192221970698237",
         "1.5740865495397134"
        ]
       ],
       "shape": {
        "columns": 4,
        "rows": 8
       }
      },
      "text/html": [
       "<div>\n",
       "<style scoped>\n",
       "    .dataframe tbody tr th:only-of-type {\n",
       "        vertical-align: middle;\n",
       "    }\n",
       "\n",
       "    .dataframe tbody tr th {\n",
       "        vertical-align: top;\n",
       "    }\n",
       "\n",
       "    .dataframe thead th {\n",
       "        text-align: right;\n",
       "    }\n",
       "</style>\n",
       "<table border=\"1\" class=\"dataframe\">\n",
       "  <thead>\n",
       "    <tr style=\"text-align: right;\">\n",
       "      <th></th>\n",
       "      <th>A</th>\n",
       "      <th>B</th>\n",
       "      <th>C</th>\n",
       "      <th>D</th>\n",
       "    </tr>\n",
       "  </thead>\n",
       "  <tbody>\n",
       "    <tr>\n",
       "      <th>count</th>\n",
       "      <td>6.000000</td>\n",
       "      <td>6.000000</td>\n",
       "      <td>6.000000</td>\n",
       "      <td>6.000000</td>\n",
       "    </tr>\n",
       "    <tr>\n",
       "      <th>mean</th>\n",
       "      <td>0.356811</td>\n",
       "      <td>0.100954</td>\n",
       "      <td>0.267473</td>\n",
       "      <td>0.513451</td>\n",
       "    </tr>\n",
       "    <tr>\n",
       "      <th>std</th>\n",
       "      <td>0.856895</td>\n",
       "      <td>0.530325</td>\n",
       "      <td>0.704323</td>\n",
       "      <td>1.134558</td>\n",
       "    </tr>\n",
       "    <tr>\n",
       "      <th>min</th>\n",
       "      <td>-1.080613</td>\n",
       "      <td>-0.537720</td>\n",
       "      <td>-0.720394</td>\n",
       "      <td>-1.227570</td>\n",
       "    </tr>\n",
       "    <tr>\n",
       "      <th>25%</th>\n",
       "      <td>0.126111</td>\n",
       "      <td>-0.273204</td>\n",
       "      <td>-0.056791</td>\n",
       "      <td>-0.052174</td>\n",
       "    </tr>\n",
       "    <tr>\n",
       "      <th>50%</th>\n",
       "      <td>0.535793</td>\n",
       "      <td>0.038070</td>\n",
       "      <td>0.184888</td>\n",
       "      <td>0.649036</td>\n",
       "    </tr>\n",
       "    <tr>\n",
       "      <th>75%</th>\n",
       "      <td>0.624704</td>\n",
       "      <td>0.536280</td>\n",
       "      <td>0.626411</td>\n",
       "      <td>1.453780</td>\n",
       "    </tr>\n",
       "    <tr>\n",
       "      <th>max</th>\n",
       "      <td>1.506004</td>\n",
       "      <td>0.741919</td>\n",
       "      <td>1.319222</td>\n",
       "      <td>1.574087</td>\n",
       "    </tr>\n",
       "  </tbody>\n",
       "</table>\n",
       "</div>"
      ],
      "text/plain": [
       "              A         B         C         D\n",
       "count  6.000000  6.000000  6.000000  6.000000\n",
       "mean   0.356811  0.100954  0.267473  0.513451\n",
       "std    0.856895  0.530325  0.704323  1.134558\n",
       "min   -1.080613 -0.537720 -0.720394 -1.227570\n",
       "25%    0.126111 -0.273204 -0.056791 -0.052174\n",
       "50%    0.535793  0.038070  0.184888  0.649036\n",
       "75%    0.624704  0.536280  0.626411  1.453780\n",
       "max    1.506004  0.741919  1.319222  1.574087"
      ]
     },
     "execution_count": 2,
     "metadata": {},
     "output_type": "execute_result"
    }
   ],
   "source": [
    "print(df)\n",
    "df.describe()"
   ]
  },
  {
   "cell_type": "markdown",
   "metadata": {
    "id": "y5YWoPECz0ua"
   },
   "source": [
    "A data series is just a 1D version of the data frame\n",
    "\n"
   ]
  },
  {
   "cell_type": "code",
   "execution_count": 3,
   "metadata": {
    "colab": {
     "base_uri": "https://localhost:8080/"
    },
    "executionInfo": {
     "elapsed": 525,
     "status": "ok",
     "timestamp": 1617666876600,
     "user": {
      "displayName": "Craig Stark",
      "photoUrl": "https://lh3.googleusercontent.com/a-/AOh14GgHTCQdxwqKpQoLMKn2jOrFLiJic0kn3TdGdABA=s64",
      "userId": "11041610993007874858"
     },
     "user_tz": 420
    },
    "id": "3tmy6afzz0aG",
    "outputId": "350fee54-c184-4e8c-df60-2a003e37d57f"
   },
   "outputs": [
    {
     "name": "stdout",
     "output_type": "stream",
     "text": [
      "0    3\n",
      "1    1\n",
      "2    4\n",
      "3    1\n",
      "4    5\n",
      "5    9\n",
      "dtype: int64\n"
     ]
    }
   ],
   "source": [
    "s=pd.Series([3,1,4,1,5,9])\n",
    "print(s)"
   ]
  },
  {
   "cell_type": "markdown",
   "metadata": {
    "id": "j5_uFFXbz_Ig"
   },
   "source": [
    "# Grabbing bits of data: Columns and Rows\n",
    "\n",
    "Want just a single column? One easy way is just to put the name of the column  (in quotes) inside brackets:"
   ]
  },
  {
   "cell_type": "code",
   "execution_count": 4,
   "metadata": {
    "colab": {
     "base_uri": "https://localhost:8080/"
    },
    "executionInfo": {
     "elapsed": 267,
     "status": "ok",
     "timestamp": 1620153128895,
     "user": {
      "displayName": "Craig Stark",
      "photoUrl": "https://lh3.googleusercontent.com/a-/AOh14GgHTCQdxwqKpQoLMKn2jOrFLiJic0kn3TdGdABA=s64",
      "userId": "11041610993007874858"
     },
     "user_tz": 420
    },
    "id": "4jsTfiey0A6D",
    "outputId": "e96bbac1-ad8e-4f3b-dfda-df70eff7ad3e"
   },
   "outputs": [
    {
     "data": {
      "text/plain": [
       "0   -0.720394\n",
       "1    1.319222\n",
       "2   -0.109293\n",
       "3    0.745527\n",
       "4    0.100714\n",
       "5    0.269061\n",
       "Name: C, dtype: float64"
      ]
     },
     "execution_count": 4,
     "metadata": {},
     "output_type": "execute_result"
    }
   ],
   "source": [
    "df['C']"
   ]
  },
  {
   "cell_type": "markdown",
   "metadata": {
    "id": "kso4TXh-0PKF"
   },
   "source": [
    "Want more than one column? (see the bit about loc below before you go too far here)"
   ]
  },
  {
   "cell_type": "code",
   "execution_count": 5,
   "metadata": {
    "colab": {
     "base_uri": "https://localhost:8080/",
     "height": 234
    },
    "executionInfo": {
     "elapsed": 228,
     "status": "ok",
     "timestamp": 1620153143869,
     "user": {
      "displayName": "Craig Stark",
      "photoUrl": "https://lh3.googleusercontent.com/a-/AOh14GgHTCQdxwqKpQoLMKn2jOrFLiJic0kn3TdGdABA=s64",
      "userId": "11041610993007874858"
     },
     "user_tz": 420
    },
    "id": "vbeN2LaD0Q0e",
    "outputId": "5027fdcb-2bb8-4d93-f2e2-07cb076b17dc"
   },
   "outputs": [
    {
     "data": {
      "application/vnd.microsoft.datawrangler.viewer.v0+json": {
       "columns": [
        {
         "name": "index",
         "rawType": "int64",
         "type": "integer"
        },
        {
         "name": "A",
         "rawType": "float64",
         "type": "float"
        },
        {
         "name": "D",
         "rawType": "float64",
         "type": "float"
        }
       ],
       "conversionMethod": "pd.DataFrame",
       "ref": "28e437eb-9676-44a0-bc47-d27d7f309eac",
       "rows": [
        [
         "0",
         "0.6520328311615364",
         "-0.054136751594364006"
        ],
        [
         "1",
         "1.5060038983180677",
         "1.4902547179664625"
        ],
        [
         "2",
         "0.5288670502777996",
         "-1.2275696496158404"
        ],
        [
         "3",
         "-0.008141193649353546",
         "-0.04628401390156755"
        ],
        [
         "4",
         "0.5427187150168709",
         "1.344355836887034"
        ],
        [
         "5",
         "-1.0806132046069827",
         "1.5740865495397134"
        ]
       ],
       "shape": {
        "columns": 2,
        "rows": 6
       }
      },
      "text/html": [
       "<div>\n",
       "<style scoped>\n",
       "    .dataframe tbody tr th:only-of-type {\n",
       "        vertical-align: middle;\n",
       "    }\n",
       "\n",
       "    .dataframe tbody tr th {\n",
       "        vertical-align: top;\n",
       "    }\n",
       "\n",
       "    .dataframe thead th {\n",
       "        text-align: right;\n",
       "    }\n",
       "</style>\n",
       "<table border=\"1\" class=\"dataframe\">\n",
       "  <thead>\n",
       "    <tr style=\"text-align: right;\">\n",
       "      <th></th>\n",
       "      <th>A</th>\n",
       "      <th>D</th>\n",
       "    </tr>\n",
       "  </thead>\n",
       "  <tbody>\n",
       "    <tr>\n",
       "      <th>0</th>\n",
       "      <td>0.652033</td>\n",
       "      <td>-0.054137</td>\n",
       "    </tr>\n",
       "    <tr>\n",
       "      <th>1</th>\n",
       "      <td>1.506004</td>\n",
       "      <td>1.490255</td>\n",
       "    </tr>\n",
       "    <tr>\n",
       "      <th>2</th>\n",
       "      <td>0.528867</td>\n",
       "      <td>-1.227570</td>\n",
       "    </tr>\n",
       "    <tr>\n",
       "      <th>3</th>\n",
       "      <td>-0.008141</td>\n",
       "      <td>-0.046284</td>\n",
       "    </tr>\n",
       "    <tr>\n",
       "      <th>4</th>\n",
       "      <td>0.542719</td>\n",
       "      <td>1.344356</td>\n",
       "    </tr>\n",
       "    <tr>\n",
       "      <th>5</th>\n",
       "      <td>-1.080613</td>\n",
       "      <td>1.574087</td>\n",
       "    </tr>\n",
       "  </tbody>\n",
       "</table>\n",
       "</div>"
      ],
      "text/plain": [
       "          A         D\n",
       "0  0.652033 -0.054137\n",
       "1  1.506004  1.490255\n",
       "2  0.528867 -1.227570\n",
       "3 -0.008141 -0.046284\n",
       "4  0.542719  1.344356\n",
       "5 -1.080613  1.574087"
      ]
     },
     "execution_count": 5,
     "metadata": {},
     "output_type": "execute_result"
    }
   ],
   "source": [
    "df[['A','D']]"
   ]
  },
  {
   "cell_type": "markdown",
   "metadata": {
    "id": "zTkoLLZR0W05"
   },
   "source": [
    "Want a range of rows?  You can do so easily by number:"
   ]
  },
  {
   "cell_type": "code",
   "execution_count": 6,
   "metadata": {
    "colab": {
     "base_uri": "https://localhost:8080/",
     "height": 110
    },
    "executionInfo": {
     "elapsed": 232,
     "status": "ok",
     "timestamp": 1620153171468,
     "user": {
      "displayName": "Craig Stark",
      "photoUrl": "https://lh3.googleusercontent.com/a-/AOh14GgHTCQdxwqKpQoLMKn2jOrFLiJic0kn3TdGdABA=s64",
      "userId": "11041610993007874858"
     },
     "user_tz": 420
    },
    "id": "PmVSxcxH0Xov",
    "outputId": "16d44a9b-42ab-4932-def3-de380be952a6"
   },
   "outputs": [
    {
     "data": {
      "application/vnd.microsoft.datawrangler.viewer.v0+json": {
       "columns": [
        {
         "name": "index",
         "rawType": "int64",
         "type": "integer"
        },
        {
         "name": "A",
         "rawType": "float64",
         "type": "float"
        },
        {
         "name": "B",
         "rawType": "float64",
         "type": "float"
        },
        {
         "name": "C",
         "rawType": "float64",
         "type": "float"
        },
        {
         "name": "D",
         "rawType": "float64",
         "type": "float"
        }
       ],
       "conversionMethod": "pd.DataFrame",
       "ref": "185c33fb-2e73-46b1-bfb8-2f36d8d6a4fa",
       "rows": [
        [
         "1",
         "1.5060038983180677",
         "-0.27413915831053703",
         "1.3192221970698237",
         "1.4902547179664625"
        ],
        [
         "2",
         "0.5288670502777996",
         "0.741919031437974",
         "-0.10929296513850856",
         "-1.2275696496158404"
        ]
       ],
       "shape": {
        "columns": 4,
        "rows": 2
       }
      },
      "text/html": [
       "<div>\n",
       "<style scoped>\n",
       "    .dataframe tbody tr th:only-of-type {\n",
       "        vertical-align: middle;\n",
       "    }\n",
       "\n",
       "    .dataframe tbody tr th {\n",
       "        vertical-align: top;\n",
       "    }\n",
       "\n",
       "    .dataframe thead th {\n",
       "        text-align: right;\n",
       "    }\n",
       "</style>\n",
       "<table border=\"1\" class=\"dataframe\">\n",
       "  <thead>\n",
       "    <tr style=\"text-align: right;\">\n",
       "      <th></th>\n",
       "      <th>A</th>\n",
       "      <th>B</th>\n",
       "      <th>C</th>\n",
       "      <th>D</th>\n",
       "    </tr>\n",
       "  </thead>\n",
       "  <tbody>\n",
       "    <tr>\n",
       "      <th>1</th>\n",
       "      <td>1.506004</td>\n",
       "      <td>-0.274139</td>\n",
       "      <td>1.319222</td>\n",
       "      <td>1.490255</td>\n",
       "    </tr>\n",
       "    <tr>\n",
       "      <th>2</th>\n",
       "      <td>0.528867</td>\n",
       "      <td>0.741919</td>\n",
       "      <td>-0.109293</td>\n",
       "      <td>-1.227570</td>\n",
       "    </tr>\n",
       "  </tbody>\n",
       "</table>\n",
       "</div>"
      ],
      "text/plain": [
       "          A         B         C         D\n",
       "1  1.506004 -0.274139  1.319222  1.490255\n",
       "2  0.528867  0.741919 -0.109293 -1.227570"
      ]
     },
     "execution_count": 6,
     "metadata": {},
     "output_type": "execute_result"
    }
   ],
   "source": [
    "df[1:3]"
   ]
  },
  {
   "cell_type": "markdown",
   "metadata": {
    "id": "RCDZIPhV0bPE"
   },
   "source": [
    "You can also do this by row name (aka index). Now, in our example so far, the index has been boring. It's just the numbers 0-5. These can be cooler than that, though. Here, we'll make a new data frame, df2, and again give it random values in A-D columns, but give each observation (each row) a name. Later, we'll see more legit ways of making the index names."
   ]
  },
  {
   "cell_type": "code",
   "execution_count": 7,
   "metadata": {
    "colab": {
     "base_uri": "https://localhost:8080/",
     "height": 235
    },
    "executionInfo": {
     "elapsed": 502,
     "status": "ok",
     "timestamp": 1617666876603,
     "user": {
      "displayName": "Craig Stark",
      "photoUrl": "https://lh3.googleusercontent.com/a-/AOh14GgHTCQdxwqKpQoLMKn2jOrFLiJic0kn3TdGdABA=s64",
      "userId": "11041610993007874858"
     },
     "user_tz": 420
    },
    "id": "8cSW7d-d0emC",
    "outputId": "82b04535-fbae-4109-900f-3e8184e2b603"
   },
   "outputs": [
    {
     "data": {
      "application/vnd.microsoft.datawrangler.viewer.v0+json": {
       "columns": [
        {
         "name": "index",
         "rawType": "object",
         "type": "string"
        },
        {
         "name": "A",
         "rawType": "float64",
         "type": "float"
        },
        {
         "name": "B",
         "rawType": "float64",
         "type": "float"
        },
        {
         "name": "C",
         "rawType": "float64",
         "type": "float"
        },
        {
         "name": "D",
         "rawType": "float64",
         "type": "float"
        }
       ],
       "conversionMethod": "pd.DataFrame",
       "ref": "3687ac2c-0618-42ec-ab3b-cfd6e666f69d",
       "rows": [
        [
         "z",
         "1.7576755555384294",
         "-0.011620689675535636",
         "0.25728892617484794",
         "0.45500363958009055"
        ],
        [
         "y",
         "0.2610872347138389",
         "-0.40171265516957483",
         "0.3343699805193511",
         "0.30500182741844895"
        ],
        [
         "x",
         "1.0577018556117956",
         "-0.3959197261730969",
         "-0.5076803096913827",
         "0.24823421550809685"
        ],
        [
         "w",
         "0.4091021974754239",
         "0.028608831837822146",
         "-1.1013161638983722",
         "-1.1053212123974276"
        ],
        [
         "v",
         "1.10616342791072",
         "1.178086240103083",
         "0.1468721708906385",
         "-0.25777104079967794"
        ],
        [
         "u",
         "0.25508243648638296",
         "0.18799470023096004",
         "-2.41916459348736",
         "0.06900161456952184"
        ]
       ],
       "shape": {
        "columns": 4,
        "rows": 6
       }
      },
      "text/html": [
       "<div>\n",
       "<style scoped>\n",
       "    .dataframe tbody tr th:only-of-type {\n",
       "        vertical-align: middle;\n",
       "    }\n",
       "\n",
       "    .dataframe tbody tr th {\n",
       "        vertical-align: top;\n",
       "    }\n",
       "\n",
       "    .dataframe thead th {\n",
       "        text-align: right;\n",
       "    }\n",
       "</style>\n",
       "<table border=\"1\" class=\"dataframe\">\n",
       "  <thead>\n",
       "    <tr style=\"text-align: right;\">\n",
       "      <th></th>\n",
       "      <th>A</th>\n",
       "      <th>B</th>\n",
       "      <th>C</th>\n",
       "      <th>D</th>\n",
       "    </tr>\n",
       "  </thead>\n",
       "  <tbody>\n",
       "    <tr>\n",
       "      <th>z</th>\n",
       "      <td>1.757676</td>\n",
       "      <td>-0.011621</td>\n",
       "      <td>0.257289</td>\n",
       "      <td>0.455004</td>\n",
       "    </tr>\n",
       "    <tr>\n",
       "      <th>y</th>\n",
       "      <td>0.261087</td>\n",
       "      <td>-0.401713</td>\n",
       "      <td>0.334370</td>\n",
       "      <td>0.305002</td>\n",
       "    </tr>\n",
       "    <tr>\n",
       "      <th>x</th>\n",
       "      <td>1.057702</td>\n",
       "      <td>-0.395920</td>\n",
       "      <td>-0.507680</td>\n",
       "      <td>0.248234</td>\n",
       "    </tr>\n",
       "    <tr>\n",
       "      <th>w</th>\n",
       "      <td>0.409102</td>\n",
       "      <td>0.028609</td>\n",
       "      <td>-1.101316</td>\n",
       "      <td>-1.105321</td>\n",
       "    </tr>\n",
       "    <tr>\n",
       "      <th>v</th>\n",
       "      <td>1.106163</td>\n",
       "      <td>1.178086</td>\n",
       "      <td>0.146872</td>\n",
       "      <td>-0.257771</td>\n",
       "    </tr>\n",
       "    <tr>\n",
       "      <th>u</th>\n",
       "      <td>0.255082</td>\n",
       "      <td>0.187995</td>\n",
       "      <td>-2.419165</td>\n",
       "      <td>0.069002</td>\n",
       "    </tr>\n",
       "  </tbody>\n",
       "</table>\n",
       "</div>"
      ],
      "text/plain": [
       "          A         B         C         D\n",
       "z  1.757676 -0.011621  0.257289  0.455004\n",
       "y  0.261087 -0.401713  0.334370  0.305002\n",
       "x  1.057702 -0.395920 -0.507680  0.248234\n",
       "w  0.409102  0.028609 -1.101316 -1.105321\n",
       "v  1.106163  1.178086  0.146872 -0.257771\n",
       "u  0.255082  0.187995 -2.419165  0.069002"
      ]
     },
     "execution_count": 7,
     "metadata": {},
     "output_type": "execute_result"
    }
   ],
   "source": [
    "rng=np.random.default_rng()\n",
    "df2 = pd.DataFrame(rng.normal(size=(6,4)), index=list('zyxwvu'), columns=list('ABCD'))\n",
    "\n",
    "df2"
   ]
  },
  {
   "cell_type": "markdown",
   "metadata": {
    "id": "FHBgqyfh0kkH"
   },
   "source": [
    "Now, we can grab a range of rows (observations) by naming the start one and the end one **_(note, not end-plus-one, but actual end)_**."
   ]
  },
  {
   "cell_type": "code",
   "execution_count": 8,
   "metadata": {
    "colab": {
     "base_uri": "https://localhost:8080/",
     "height": 173
    },
    "executionInfo": {
     "elapsed": 495,
     "status": "ok",
     "timestamp": 1617666876604,
     "user": {
      "displayName": "Craig Stark",
      "photoUrl": "https://lh3.googleusercontent.com/a-/AOh14GgHTCQdxwqKpQoLMKn2jOrFLiJic0kn3TdGdABA=s64",
      "userId": "11041610993007874858"
     },
     "user_tz": 420
    },
    "id": "pbZiv6eU0lhY",
    "outputId": "ff1b21e4-d51e-460c-c924-8f6aca3626de"
   },
   "outputs": [
    {
     "data": {
      "application/vnd.microsoft.datawrangler.viewer.v0+json": {
       "columns": [
        {
         "name": "index",
         "rawType": "object",
         "type": "string"
        },
        {
         "name": "A",
         "rawType": "float64",
         "type": "float"
        },
        {
         "name": "B",
         "rawType": "float64",
         "type": "float"
        },
        {
         "name": "C",
         "rawType": "float64",
         "type": "float"
        },
        {
         "name": "D",
         "rawType": "float64",
         "type": "float"
        }
       ],
       "conversionMethod": "pd.DataFrame",
       "ref": "7a036491-6c51-4481-acec-a68f9cb10ee3",
       "rows": [
        [
         "y",
         "0.2610872347138389",
         "-0.40171265516957483",
         "0.3343699805193511",
         "0.30500182741844895"
        ],
        [
         "x",
         "1.0577018556117956",
         "-0.3959197261730969",
         "-0.5076803096913827",
         "0.24823421550809685"
        ],
        [
         "w",
         "0.4091021974754239",
         "0.028608831837822146",
         "-1.1013161638983722",
         "-1.1053212123974276"
        ],
        [
         "v",
         "1.10616342791072",
         "1.178086240103083",
         "0.1468721708906385",
         "-0.25777104079967794"
        ]
       ],
       "shape": {
        "columns": 4,
        "rows": 4
       }
      },
      "text/html": [
       "<div>\n",
       "<style scoped>\n",
       "    .dataframe tbody tr th:only-of-type {\n",
       "        vertical-align: middle;\n",
       "    }\n",
       "\n",
       "    .dataframe tbody tr th {\n",
       "        vertical-align: top;\n",
       "    }\n",
       "\n",
       "    .dataframe thead th {\n",
       "        text-align: right;\n",
       "    }\n",
       "</style>\n",
       "<table border=\"1\" class=\"dataframe\">\n",
       "  <thead>\n",
       "    <tr style=\"text-align: right;\">\n",
       "      <th></th>\n",
       "      <th>A</th>\n",
       "      <th>B</th>\n",
       "      <th>C</th>\n",
       "      <th>D</th>\n",
       "    </tr>\n",
       "  </thead>\n",
       "  <tbody>\n",
       "    <tr>\n",
       "      <th>y</th>\n",
       "      <td>0.261087</td>\n",
       "      <td>-0.401713</td>\n",
       "      <td>0.334370</td>\n",
       "      <td>0.305002</td>\n",
       "    </tr>\n",
       "    <tr>\n",
       "      <th>x</th>\n",
       "      <td>1.057702</td>\n",
       "      <td>-0.395920</td>\n",
       "      <td>-0.507680</td>\n",
       "      <td>0.248234</td>\n",
       "    </tr>\n",
       "    <tr>\n",
       "      <th>w</th>\n",
       "      <td>0.409102</td>\n",
       "      <td>0.028609</td>\n",
       "      <td>-1.101316</td>\n",
       "      <td>-1.105321</td>\n",
       "    </tr>\n",
       "    <tr>\n",
       "      <th>v</th>\n",
       "      <td>1.106163</td>\n",
       "      <td>1.178086</td>\n",
       "      <td>0.146872</td>\n",
       "      <td>-0.257771</td>\n",
       "    </tr>\n",
       "  </tbody>\n",
       "</table>\n",
       "</div>"
      ],
      "text/plain": [
       "          A         B         C         D\n",
       "y  0.261087 -0.401713  0.334370  0.305002\n",
       "x  1.057702 -0.395920 -0.507680  0.248234\n",
       "w  0.409102  0.028609 -1.101316 -1.105321\n",
       "v  1.106163  1.178086  0.146872 -0.257771"
      ]
     },
     "execution_count": 8,
     "metadata": {},
     "output_type": "execute_result"
    }
   ],
   "source": [
    "df2['y':'v']"
   ]
  },
  {
   "cell_type": "markdown",
   "metadata": {
    "id": "g2Zcg-XzWQ5V"
   },
   "source": [
    "***In the space below***, create a dataframe called `grp1` that has 3 columns called \"zIQ\", \"zAge\", and \"zPotential\".  Have 8 rows of each and fill them with random numbers.  Use `describe()` to print out the summary statistics."
   ]
  },
  {
   "cell_type": "code",
   "execution_count": 13,
   "metadata": {
    "id": "h__iNUHEXG_l"
   },
   "outputs": [
    {
     "data": {
      "application/vnd.microsoft.datawrangler.viewer.v0+json": {
       "columns": [
        {
         "name": "index",
         "rawType": "object",
         "type": "string"
        },
        {
         "name": "zIQ",
         "rawType": "float64",
         "type": "float"
        },
        {
         "name": "zAge",
         "rawType": "float64",
         "type": "float"
        },
        {
         "name": "zPotential",
         "rawType": "float64",
         "type": "float"
        }
       ],
       "conversionMethod": "pd.DataFrame",
       "ref": "22557340-4c80-46e9-8951-8ee85ad38330",
       "rows": [
        [
         "count",
         "8.0",
         "8.0",
         "8.0"
        ],
        [
         "mean",
         "0.293850165787666",
         "0.029989759164337444",
         "-0.0799089097295456"
        ],
        [
         "std",
         "0.8137499150037828",
         "0.5605774000387789",
         "0.8701284679653583"
        ],
        [
         "min",
         "-0.9904844362997638",
         "-0.8564926275132836",
         "-1.3911067969321806"
        ],
        [
         "25%",
         "-0.04760799152915297",
         "-0.28831842903618876",
         "-0.5548981443755062"
        ],
        [
         "50%",
         "0.2125021213733043",
         "0.026887713674183328",
         "-0.28172886262295865"
        ],
        [
         "75%",
         "0.5046896544377673",
         "0.31005908963505757",
         "0.5842870344112259"
        ],
        [
         "max",
         "1.7012439737880365",
         "1.0341304185099518",
         "1.3483284963428244"
        ]
       ],
       "shape": {
        "columns": 3,
        "rows": 8
       }
      },
      "text/html": [
       "<div>\n",
       "<style scoped>\n",
       "    .dataframe tbody tr th:only-of-type {\n",
       "        vertical-align: middle;\n",
       "    }\n",
       "\n",
       "    .dataframe tbody tr th {\n",
       "        vertical-align: top;\n",
       "    }\n",
       "\n",
       "    .dataframe thead th {\n",
       "        text-align: right;\n",
       "    }\n",
       "</style>\n",
       "<table border=\"1\" class=\"dataframe\">\n",
       "  <thead>\n",
       "    <tr style=\"text-align: right;\">\n",
       "      <th></th>\n",
       "      <th>zIQ</th>\n",
       "      <th>zAge</th>\n",
       "      <th>zPotential</th>\n",
       "    </tr>\n",
       "  </thead>\n",
       "  <tbody>\n",
       "    <tr>\n",
       "      <th>count</th>\n",
       "      <td>8.000000</td>\n",
       "      <td>8.000000</td>\n",
       "      <td>8.000000</td>\n",
       "    </tr>\n",
       "    <tr>\n",
       "      <th>mean</th>\n",
       "      <td>0.293850</td>\n",
       "      <td>0.029990</td>\n",
       "      <td>-0.079909</td>\n",
       "    </tr>\n",
       "    <tr>\n",
       "      <th>std</th>\n",
       "      <td>0.813750</td>\n",
       "      <td>0.560577</td>\n",
       "      <td>0.870128</td>\n",
       "    </tr>\n",
       "    <tr>\n",
       "      <th>min</th>\n",
       "      <td>-0.990484</td>\n",
       "      <td>-0.856493</td>\n",
       "      <td>-1.391107</td>\n",
       "    </tr>\n",
       "    <tr>\n",
       "      <th>25%</th>\n",
       "      <td>-0.047608</td>\n",
       "      <td>-0.288318</td>\n",
       "      <td>-0.554898</td>\n",
       "    </tr>\n",
       "    <tr>\n",
       "      <th>50%</th>\n",
       "      <td>0.212502</td>\n",
       "      <td>0.026888</td>\n",
       "      <td>-0.281729</td>\n",
       "    </tr>\n",
       "    <tr>\n",
       "      <th>75%</th>\n",
       "      <td>0.504690</td>\n",
       "      <td>0.310059</td>\n",
       "      <td>0.584287</td>\n",
       "    </tr>\n",
       "    <tr>\n",
       "      <th>max</th>\n",
       "      <td>1.701244</td>\n",
       "      <td>1.034130</td>\n",
       "      <td>1.348328</td>\n",
       "    </tr>\n",
       "  </tbody>\n",
       "</table>\n",
       "</div>"
      ],
      "text/plain": [
       "            zIQ      zAge  zPotential\n",
       "count  8.000000  8.000000    8.000000\n",
       "mean   0.293850  0.029990   -0.079909\n",
       "std    0.813750  0.560577    0.870128\n",
       "min   -0.990484 -0.856493   -1.391107\n",
       "25%   -0.047608 -0.288318   -0.554898\n",
       "50%    0.212502  0.026888   -0.281729\n",
       "75%    0.504690  0.310059    0.584287\n",
       "max    1.701244  1.034130    1.348328"
      ]
     },
     "execution_count": 13,
     "metadata": {},
     "output_type": "execute_result"
    }
   ],
   "source": [
    "grp1= pd.DataFrame(np.random.randn(8, 3), columns = ['zIQ', 'zAge', 'zPotential'])\n",
    "\n",
    "grp1.describe()"
   ]
  },
  {
   "cell_type": "code",
   "execution_count": null,
   "metadata": {},
   "outputs": [],
   "source": []
  },
  {
   "cell_type": "markdown",
   "metadata": {
    "id": "PIYU_IBy0p4Z"
   },
   "source": [
    "# Grabbing by label and index revisited - loc and iloc\n",
    "\n",
    "The above examples all work, but Pandas really wants you to use the .loc (label) and .iloc (index number) operators. They give you the flexibility to combine row and column filters and are a bit more powerful. Using loc, we could get all observations of columns A and D with:"
   ]
  },
  {
   "cell_type": "code",
   "execution_count": 14,
   "metadata": {
    "colab": {
     "base_uri": "https://localhost:8080/",
     "height": 235
    },
    "executionInfo": {
     "elapsed": 651,
     "status": "ok",
     "timestamp": 1617666876767,
     "user": {
      "displayName": "Craig Stark",
      "photoUrl": "https://lh3.googleusercontent.com/a-/AOh14GgHTCQdxwqKpQoLMKn2jOrFLiJic0kn3TdGdABA=s64",
      "userId": "11041610993007874858"
     },
     "user_tz": 420
    },
    "id": "PW-o8Axt0quX",
    "outputId": "c96f0226-d2ec-443d-9acf-b2f723010cba"
   },
   "outputs": [
    {
     "data": {
      "application/vnd.microsoft.datawrangler.viewer.v0+json": {
       "columns": [
        {
         "name": "index",
         "rawType": "object",
         "type": "string"
        },
        {
         "name": "A",
         "rawType": "float64",
         "type": "float"
        },
        {
         "name": "D",
         "rawType": "float64",
         "type": "float"
        }
       ],
       "conversionMethod": "pd.DataFrame",
       "ref": "b0226fb3-3b25-45f6-9ac8-8d4fe17a020e",
       "rows": [
        [
         "z",
         "1.7576755555384294",
         "0.45500363958009055"
        ],
        [
         "y",
         "0.2610872347138389",
         "0.30500182741844895"
        ],
        [
         "x",
         "1.0577018556117956",
         "0.24823421550809685"
        ],
        [
         "w",
         "0.4091021974754239",
         "-1.1053212123974276"
        ],
        [
         "v",
         "1.10616342791072",
         "-0.25777104079967794"
        ],
        [
         "u",
         "0.25508243648638296",
         "0.06900161456952184"
        ]
       ],
       "shape": {
        "columns": 2,
        "rows": 6
       }
      },
      "text/html": [
       "<div>\n",
       "<style scoped>\n",
       "    .dataframe tbody tr th:only-of-type {\n",
       "        vertical-align: middle;\n",
       "    }\n",
       "\n",
       "    .dataframe tbody tr th {\n",
       "        vertical-align: top;\n",
       "    }\n",
       "\n",
       "    .dataframe thead th {\n",
       "        text-align: right;\n",
       "    }\n",
       "</style>\n",
       "<table border=\"1\" class=\"dataframe\">\n",
       "  <thead>\n",
       "    <tr style=\"text-align: right;\">\n",
       "      <th></th>\n",
       "      <th>A</th>\n",
       "      <th>D</th>\n",
       "    </tr>\n",
       "  </thead>\n",
       "  <tbody>\n",
       "    <tr>\n",
       "      <th>z</th>\n",
       "      <td>1.757676</td>\n",
       "      <td>0.455004</td>\n",
       "    </tr>\n",
       "    <tr>\n",
       "      <th>y</th>\n",
       "      <td>0.261087</td>\n",
       "      <td>0.305002</td>\n",
       "    </tr>\n",
       "    <tr>\n",
       "      <th>x</th>\n",
       "      <td>1.057702</td>\n",
       "      <td>0.248234</td>\n",
       "    </tr>\n",
       "    <tr>\n",
       "      <th>w</th>\n",
       "      <td>0.409102</td>\n",
       "      <td>-1.105321</td>\n",
       "    </tr>\n",
       "    <tr>\n",
       "      <th>v</th>\n",
       "      <td>1.106163</td>\n",
       "      <td>-0.257771</td>\n",
       "    </tr>\n",
       "    <tr>\n",
       "      <th>u</th>\n",
       "      <td>0.255082</td>\n",
       "      <td>0.069002</td>\n",
       "    </tr>\n",
       "  </tbody>\n",
       "</table>\n",
       "</div>"
      ],
      "text/plain": [
       "          A         D\n",
       "z  1.757676  0.455004\n",
       "y  0.261087  0.305002\n",
       "x  1.057702  0.248234\n",
       "w  0.409102 -1.105321\n",
       "v  1.106163 -0.257771\n",
       "u  0.255082  0.069002"
      ]
     },
     "execution_count": 14,
     "metadata": {},
     "output_type": "execute_result"
    }
   ],
   "source": [
    "df2.loc[:,['A','D']]"
   ]
  },
  {
   "cell_type": "markdown",
   "metadata": {
    "id": "WKze2cXx0uzo"
   },
   "source": [
    "We could get everything on subjects y, x and w with:"
   ]
  },
  {
   "cell_type": "code",
   "execution_count": 15,
   "metadata": {
    "colab": {
     "base_uri": "https://localhost:8080/",
     "height": 142
    },
    "executionInfo": {
     "elapsed": 644,
     "status": "ok",
     "timestamp": 1617666876768,
     "user": {
      "displayName": "Craig Stark",
      "photoUrl": "https://lh3.googleusercontent.com/a-/AOh14GgHTCQdxwqKpQoLMKn2jOrFLiJic0kn3TdGdABA=s64",
      "userId": "11041610993007874858"
     },
     "user_tz": 420
    },
    "id": "orgxDZoF0vcC",
    "outputId": "ffa9cee5-9f1c-4eed-a2b0-87302f4cd334"
   },
   "outputs": [
    {
     "data": {
      "application/vnd.microsoft.datawrangler.viewer.v0+json": {
       "columns": [
        {
         "name": "index",
         "rawType": "object",
         "type": "string"
        },
        {
         "name": "A",
         "rawType": "float64",
         "type": "float"
        },
        {
         "name": "B",
         "rawType": "float64",
         "type": "float"
        },
        {
         "name": "C",
         "rawType": "float64",
         "type": "float"
        },
        {
         "name": "D",
         "rawType": "float64",
         "type": "float"
        }
       ],
       "conversionMethod": "pd.DataFrame",
       "ref": "f42f801c-1454-44b1-86b0-43711cab23f2",
       "rows": [
        [
         "y",
         "0.2610872347138389",
         "-0.40171265516957483",
         "0.3343699805193511",
         "0.30500182741844895"
        ],
        [
         "x",
         "1.0577018556117956",
         "-0.3959197261730969",
         "-0.5076803096913827",
         "0.24823421550809685"
        ],
        [
         "w",
         "0.4091021974754239",
         "0.028608831837822146",
         "-1.1013161638983722",
         "-1.1053212123974276"
        ]
       ],
       "shape": {
        "columns": 4,
        "rows": 3
       }
      },
      "text/html": [
       "<div>\n",
       "<style scoped>\n",
       "    .dataframe tbody tr th:only-of-type {\n",
       "        vertical-align: middle;\n",
       "    }\n",
       "\n",
       "    .dataframe tbody tr th {\n",
       "        vertical-align: top;\n",
       "    }\n",
       "\n",
       "    .dataframe thead th {\n",
       "        text-align: right;\n",
       "    }\n",
       "</style>\n",
       "<table border=\"1\" class=\"dataframe\">\n",
       "  <thead>\n",
       "    <tr style=\"text-align: right;\">\n",
       "      <th></th>\n",
       "      <th>A</th>\n",
       "      <th>B</th>\n",
       "      <th>C</th>\n",
       "      <th>D</th>\n",
       "    </tr>\n",
       "  </thead>\n",
       "  <tbody>\n",
       "    <tr>\n",
       "      <th>y</th>\n",
       "      <td>0.261087</td>\n",
       "      <td>-0.401713</td>\n",
       "      <td>0.334370</td>\n",
       "      <td>0.305002</td>\n",
       "    </tr>\n",
       "    <tr>\n",
       "      <th>x</th>\n",
       "      <td>1.057702</td>\n",
       "      <td>-0.395920</td>\n",
       "      <td>-0.507680</td>\n",
       "      <td>0.248234</td>\n",
       "    </tr>\n",
       "    <tr>\n",
       "      <th>w</th>\n",
       "      <td>0.409102</td>\n",
       "      <td>0.028609</td>\n",
       "      <td>-1.101316</td>\n",
       "      <td>-1.105321</td>\n",
       "    </tr>\n",
       "  </tbody>\n",
       "</table>\n",
       "</div>"
      ],
      "text/plain": [
       "          A         B         C         D\n",
       "y  0.261087 -0.401713  0.334370  0.305002\n",
       "x  1.057702 -0.395920 -0.507680  0.248234\n",
       "w  0.409102  0.028609 -1.101316 -1.105321"
      ]
     },
     "execution_count": 15,
     "metadata": {},
     "output_type": "execute_result"
    }
   ],
   "source": [
    "df2.loc['y':'w']"
   ]
  },
  {
   "cell_type": "markdown",
   "metadata": {
    "id": "w9DiPqPd06Hk"
   },
   "source": [
    "We could get just columns D and B on these (in that order) with:\n"
   ]
  },
  {
   "cell_type": "code",
   "execution_count": 16,
   "metadata": {
    "colab": {
     "base_uri": "https://localhost:8080/",
     "height": 142
    },
    "executionInfo": {
     "elapsed": 638,
     "status": "ok",
     "timestamp": 1617666876769,
     "user": {
      "displayName": "Craig Stark",
      "photoUrl": "https://lh3.googleusercontent.com/a-/AOh14GgHTCQdxwqKpQoLMKn2jOrFLiJic0kn3TdGdABA=s64",
      "userId": "11041610993007874858"
     },
     "user_tz": 420
    },
    "id": "WT8cTnlA07Ne",
    "outputId": "6b47c905-e75c-4056-bbbf-562d620853de"
   },
   "outputs": [
    {
     "data": {
      "application/vnd.microsoft.datawrangler.viewer.v0+json": {
       "columns": [
        {
         "name": "index",
         "rawType": "object",
         "type": "string"
        },
        {
         "name": "D",
         "rawType": "float64",
         "type": "float"
        },
        {
         "name": "B",
         "rawType": "float64",
         "type": "float"
        }
       ],
       "conversionMethod": "pd.DataFrame",
       "ref": "7e9e0d26-3b8a-4be2-b002-35c5360c73d2",
       "rows": [
        [
         "y",
         "0.30500182741844895",
         "-0.40171265516957483"
        ],
        [
         "x",
         "0.24823421550809685",
         "-0.3959197261730969"
        ],
        [
         "w",
         "-1.1053212123974276",
         "0.028608831837822146"
        ]
       ],
       "shape": {
        "columns": 2,
        "rows": 3
       }
      },
      "text/html": [
       "<div>\n",
       "<style scoped>\n",
       "    .dataframe tbody tr th:only-of-type {\n",
       "        vertical-align: middle;\n",
       "    }\n",
       "\n",
       "    .dataframe tbody tr th {\n",
       "        vertical-align: top;\n",
       "    }\n",
       "\n",
       "    .dataframe thead th {\n",
       "        text-align: right;\n",
       "    }\n",
       "</style>\n",
       "<table border=\"1\" class=\"dataframe\">\n",
       "  <thead>\n",
       "    <tr style=\"text-align: right;\">\n",
       "      <th></th>\n",
       "      <th>D</th>\n",
       "      <th>B</th>\n",
       "    </tr>\n",
       "  </thead>\n",
       "  <tbody>\n",
       "    <tr>\n",
       "      <th>y</th>\n",
       "      <td>0.305002</td>\n",
       "      <td>-0.401713</td>\n",
       "    </tr>\n",
       "    <tr>\n",
       "      <th>x</th>\n",
       "      <td>0.248234</td>\n",
       "      <td>-0.395920</td>\n",
       "    </tr>\n",
       "    <tr>\n",
       "      <th>w</th>\n",
       "      <td>-1.105321</td>\n",
       "      <td>0.028609</td>\n",
       "    </tr>\n",
       "  </tbody>\n",
       "</table>\n",
       "</div>"
      ],
      "text/plain": [
       "          D         B\n",
       "y  0.305002 -0.401713\n",
       "x  0.248234 -0.395920\n",
       "w -1.105321  0.028609"
      ]
     },
     "execution_count": 16,
     "metadata": {},
     "output_type": "execute_result"
    }
   ],
   "source": [
    "df2.loc['y':'w',['D','B']]"
   ]
  },
  {
   "cell_type": "markdown",
   "metadata": {
    "id": "a3yiMEFO1AZd"
   },
   "source": [
    "If you like numbers rather than labels, use _.iloc_ and remember that, like Python, we're now doing ranges as start:end+1:\n",
    "\n"
   ]
  },
  {
   "cell_type": "code",
   "execution_count": 17,
   "metadata": {
    "colab": {
     "base_uri": "https://localhost:8080/",
     "height": 142
    },
    "executionInfo": {
     "elapsed": 633,
     "status": "ok",
     "timestamp": 1617666876770,
     "user": {
      "displayName": "Craig Stark",
      "photoUrl": "https://lh3.googleusercontent.com/a-/AOh14GgHTCQdxwqKpQoLMKn2jOrFLiJic0kn3TdGdABA=s64",
      "userId": "11041610993007874858"
     },
     "user_tz": 420
    },
    "id": "iXUt-ck-1BQC",
    "outputId": "806abd91-0b5d-4634-9f25-4e4c8f56ddb6"
   },
   "outputs": [
    {
     "data": {
      "application/vnd.microsoft.datawrangler.viewer.v0+json": {
       "columns": [
        {
         "name": "index",
         "rawType": "object",
         "type": "string"
        },
        {
         "name": "D",
         "rawType": "float64",
         "type": "float"
        },
        {
         "name": "B",
         "rawType": "float64",
         "type": "float"
        }
       ],
       "conversionMethod": "pd.DataFrame",
       "ref": "f9f637bc-fdb8-4089-b303-cacd25f0da3f",
       "rows": [
        [
         "y",
         "0.30500182741844895",
         "-0.40171265516957483"
        ],
        [
         "x",
         "0.24823421550809685",
         "-0.3959197261730969"
        ],
        [
         "w",
         "-1.1053212123974276",
         "0.028608831837822146"
        ]
       ],
       "shape": {
        "columns": 2,
        "rows": 3
       }
      },
      "text/html": [
       "<div>\n",
       "<style scoped>\n",
       "    .dataframe tbody tr th:only-of-type {\n",
       "        vertical-align: middle;\n",
       "    }\n",
       "\n",
       "    .dataframe tbody tr th {\n",
       "        vertical-align: top;\n",
       "    }\n",
       "\n",
       "    .dataframe thead th {\n",
       "        text-align: right;\n",
       "    }\n",
       "</style>\n",
       "<table border=\"1\" class=\"dataframe\">\n",
       "  <thead>\n",
       "    <tr style=\"text-align: right;\">\n",
       "      <th></th>\n",
       "      <th>D</th>\n",
       "      <th>B</th>\n",
       "    </tr>\n",
       "  </thead>\n",
       "  <tbody>\n",
       "    <tr>\n",
       "      <th>y</th>\n",
       "      <td>0.305002</td>\n",
       "      <td>-0.401713</td>\n",
       "    </tr>\n",
       "    <tr>\n",
       "      <th>x</th>\n",
       "      <td>0.248234</td>\n",
       "      <td>-0.395920</td>\n",
       "    </tr>\n",
       "    <tr>\n",
       "      <th>w</th>\n",
       "      <td>-1.105321</td>\n",
       "      <td>0.028609</td>\n",
       "    </tr>\n",
       "  </tbody>\n",
       "</table>\n",
       "</div>"
      ],
      "text/plain": [
       "          D         B\n",
       "y  0.305002 -0.401713\n",
       "x  0.248234 -0.395920\n",
       "w -1.105321  0.028609"
      ]
     },
     "execution_count": 17,
     "metadata": {},
     "output_type": "execute_result"
    }
   ],
   "source": [
    "df2.iloc[1:4,[3,1]]"
   ]
  },
  {
   "cell_type": "markdown",
   "metadata": {
    "id": "8zDTxxH51evH"
   },
   "source": [
    "# Grabbing single values\n",
    "\n",
    "If all you want is a single value out of the data frame, you're best off using _at_ (label) or _iat_ (row,column -- both 0-indexed)"
   ]
  },
  {
   "cell_type": "code",
   "execution_count": null,
   "metadata": {
    "colab": {
     "base_uri": "https://localhost:8080/"
    },
    "executionInfo": {
     "elapsed": 628,
     "status": "ok",
     "timestamp": 1617666876771,
     "user": {
      "displayName": "Craig Stark",
      "photoUrl": "https://lh3.googleusercontent.com/a-/AOh14GgHTCQdxwqKpQoLMKn2jOrFLiJic0kn3TdGdABA=s64",
      "userId": "11041610993007874858"
     },
     "user_tz": 420
    },
    "id": "RR6bHXRh1iv0",
    "outputId": "7ee4c4e4-4d74-404a-f3f1-4f8e5c024324"
   },
   "outputs": [
    {
     "name": "stdout",
     "output_type": "stream",
     "text": [
      "          A         B         C         D\n",
      "z  1.757676 -0.011621  0.257289  0.455004\n",
      "y  0.261087 -0.401713  0.334370  0.305002\n",
      "x  1.057702 -0.395920 -0.507680  0.248234\n",
      "w  0.409102  0.028609 -1.101316 -1.105321\n",
      "v  1.106163  1.178086  0.146872 -0.257771\n",
      "u  0.255082  0.187995 -2.419165  0.069002\n",
      "0.028608831837822146\n",
      "0.028608831837822146\n"
     ]
    }
   ],
   "source": [
    "print(df2)\n",
    "print(df2.at['w','B']) #get single value out of dataframe\n",
    "print(df2.iat[3,1]) #get single value out of dataframe "
   ]
  },
  {
   "cell_type": "markdown",
   "metadata": {
    "id": "gkomPhti2Zt6"
   },
   "source": [
    "# Adding new columns\n",
    "\n",
    "If you give a column name that doesn't exist, Pandas assumes you want to create it. So, you could say:"
   ]
  },
  {
   "cell_type": "code",
   "execution_count": null,
   "metadata": {
    "colab": {
     "base_uri": "https://localhost:8080/"
    },
    "executionInfo": {
     "elapsed": 787,
     "status": "ok",
     "timestamp": 1617666876935,
     "user": {
      "displayName": "Craig Stark",
      "photoUrl": "https://lh3.googleusercontent.com/a-/AOh14GgHTCQdxwqKpQoLMKn2jOrFLiJic0kn3TdGdABA=s64",
      "userId": "11041610993007874858"
     },
     "user_tz": 420
    },
    "id": "YuW5VRQ72dXo",
    "outputId": "556c9712-b66a-4b3b-ed89-a079871604bf"
   },
   "outputs": [],
   "source": [
    "df2['Sum1']=df2['A'] + df2['B']\n",
    "\n",
    "print(df2)"
   ]
  },
  {
   "cell_type": "markdown",
   "metadata": {
    "id": "5zbZHElC2is3"
   },
   "source": [
    "and we'd add A and B, creating a new variable Sum1 out of this. Remember, this is all still tied in with Numpy nicely, so if you want to leverage off of Numpy, you can. Here, we'll have Numpy do it's sum-along-an-axis routine to sum up A-D:"
   ]
  },
  {
   "cell_type": "code",
   "execution_count": null,
   "metadata": {
    "colab": {
     "base_uri": "https://localhost:8080/"
    },
    "executionInfo": {
     "elapsed": 784,
     "status": "ok",
     "timestamp": 1617666876937,
     "user": {
      "displayName": "Craig Stark",
      "photoUrl": "https://lh3.googleusercontent.com/a-/AOh14GgHTCQdxwqKpQoLMKn2jOrFLiJic0kn3TdGdABA=s64",
      "userId": "11041610993007874858"
     },
     "user_tz": 420
    },
    "id": "6H95cKKV2jPa",
    "outputId": "e57ad378-0cf0-4c50-b2b3-b59baf596529"
   },
   "outputs": [],
   "source": [
    "df2['Sum2']=np.sum(df2.iloc[:,0:4],1)\n",
    "\n",
    "print(df2)"
   ]
  },
  {
   "cell_type": "markdown",
   "metadata": {
    "id": "EDsGW58bXX7s"
   },
   "source": [
    "***Take your `grp1` from above*** and create a `zMean` column that's the average of your three existing columns.  Then print out the value of the whole dataframe."
   ]
  },
  {
   "cell_type": "code",
   "execution_count": null,
   "metadata": {
    "id": "uwjggdGtXk2X"
   },
   "outputs": [],
   "source": []
  },
  {
   "cell_type": "markdown",
   "metadata": {
    "id": "fSfv9u8T2rlL"
   },
   "source": [
    "You can, of course, just pass in an array of values as well. Let's give these a species:"
   ]
  },
  {
   "cell_type": "code",
   "execution_count": null,
   "metadata": {
    "colab": {
     "base_uri": "https://localhost:8080/",
     "height": 235
    },
    "executionInfo": {
     "elapsed": 778,
     "status": "ok",
     "timestamp": 1617666876937,
     "user": {
      "displayName": "Craig Stark",
      "photoUrl": "https://lh3.googleusercontent.com/a-/AOh14GgHTCQdxwqKpQoLMKn2jOrFLiJic0kn3TdGdABA=s64",
      "userId": "11041610993007874858"
     },
     "user_tz": 420
    },
    "id": "Bp1vb9us2ulq",
    "outputId": "6f09b569-8a82-4bb2-cbc8-187c04d410aa"
   },
   "outputs": [],
   "source": [
    "df2['Species']=['rat','mouse','mouse','rat','rat','human']\n",
    "\n",
    "df2"
   ]
  },
  {
   "cell_type": "markdown",
   "metadata": {
    "id": "ECneWGi_dVHl"
   },
   "source": [
    "# Grabbing by criteria\n",
    "\n",
    "Here we get to get fancy. We can grab data based on some sort of criterion. For example, let's say we wanted all the data from df2 in which the B column was positive:"
   ]
  },
  {
   "cell_type": "code",
   "execution_count": null,
   "metadata": {
    "colab": {
     "base_uri": "https://localhost:8080/",
     "height": 111
    },
    "executionInfo": {
     "elapsed": 773,
     "status": "ok",
     "timestamp": 1617666876938,
     "user": {
      "displayName": "Craig Stark",
      "photoUrl": "https://lh3.googleusercontent.com/a-/AOh14GgHTCQdxwqKpQoLMKn2jOrFLiJic0kn3TdGdABA=s64",
      "userId": "11041610993007874858"
     },
     "user_tz": 420
    },
    "id": "6zASYg6EdXhh",
    "outputId": "767ce957-3d09-48d0-e982-391ab250da4c"
   },
   "outputs": [],
   "source": [
    "df2[df2['B'] > 0]"
   ]
  },
  {
   "cell_type": "markdown",
   "metadata": {
    "id": "0vgnzfB_ddOG"
   },
   "source": [
    "Or, let's just grab all the rats:"
   ]
  },
  {
   "cell_type": "code",
   "execution_count": null,
   "metadata": {
    "colab": {
     "base_uri": "https://localhost:8080/",
     "height": 142
    },
    "executionInfo": {
     "elapsed": 295,
     "status": "ok",
     "timestamp": 1617666914719,
     "user": {
      "displayName": "Craig Stark",
      "photoUrl": "https://lh3.googleusercontent.com/a-/AOh14GgHTCQdxwqKpQoLMKn2jOrFLiJic0kn3TdGdABA=s64",
      "userId": "11041610993007874858"
     },
     "user_tz": 420
    },
    "id": "8DD_GDlqdgu5",
    "outputId": "3847b2f3-88d7-4e80-bb7b-8b2e40b6084e"
   },
   "outputs": [],
   "source": [
    "df2[df2['Species'] == 'rat']"
   ]
  },
  {
   "cell_type": "markdown",
   "metadata": {
    "id": "tyvbBPtkdlXJ"
   },
   "source": [
    "Or, let's use the _isin_ (is in) operator to get all the rodents and put these into a frame called rodents:"
   ]
  },
  {
   "cell_type": "code",
   "execution_count": null,
   "metadata": {
    "colab": {
     "base_uri": "https://localhost:8080/",
     "height": 204
    },
    "executionInfo": {
     "elapsed": 295,
     "status": "ok",
     "timestamp": 1617666932957,
     "user": {
      "displayName": "Craig Stark",
      "photoUrl": "https://lh3.googleusercontent.com/a-/AOh14GgHTCQdxwqKpQoLMKn2jOrFLiJic0kn3TdGdABA=s64",
      "userId": "11041610993007874858"
     },
     "user_tz": 420
    },
    "id": "yyZnyAkhdmBe",
    "outputId": "233608f9-7706-4d5d-ceed-01bd10184469"
   },
   "outputs": [],
   "source": [
    "rodents=df2[df2['Species'].isin(['rat','mouse'])]\n",
    "\n",
    "rodents"
   ]
  },
  {
   "cell_type": "markdown",
   "metadata": {
    "id": "7TRpUWuydqmW"
   },
   "source": [
    "Here are two other ways I could have gotten to that same rodents data frame:\n",
    "```\n",
    "rodents=df2[df2['Species'] != 'human']\n",
    "rodents=df2[~(df2['Species'] == 'human')]\n",
    "```"
   ]
  },
  {
   "cell_type": "markdown",
   "metadata": {
    "id": "2RjHcUzwXxAy"
   },
   "source": [
    "***Take your `grp1` dataframe***, and turn any value that is less than -1.0 into `np.nan`"
   ]
  },
  {
   "cell_type": "code",
   "execution_count": null,
   "metadata": {
    "id": "5xNbp08iYAjL"
   },
   "outputs": [],
   "source": []
  },
  {
   "cell_type": "markdown",
   "metadata": {
    "id": "-aB6Yv27dy0g"
   },
   "source": [
    "# Missing data\n",
    "\n",
    "Pandas is setup to deal well with missing data. When you do things like ask Pandas for means, etc. it'll gracefully ignore any missing bits in the calculations. Let's make a copy of df2 here and flag one of the human bits as invalid by setting its value to _None_"
   ]
  },
  {
   "cell_type": "code",
   "execution_count": null,
   "metadata": {
    "colab": {
     "base_uri": "https://localhost:8080/",
     "height": 235
    },
    "executionInfo": {
     "elapsed": 280,
     "status": "ok",
     "timestamp": 1617666998258,
     "user": {
      "displayName": "Craig Stark",
      "photoUrl": "https://lh3.googleusercontent.com/a-/AOh14GgHTCQdxwqKpQoLMKn2jOrFLiJic0kn3TdGdABA=s64",
      "userId": "11041610993007874858"
     },
     "user_tz": 420
    },
    "id": "GBM666CMd0Of",
    "outputId": "abceb198-b826-46ff-d48d-70c829f88270"
   },
   "outputs": [],
   "source": [
    "df2c = df2.copy()\n",
    "df2c.at['u','D']= None\n",
    "df2c"
   ]
  },
  {
   "cell_type": "markdown",
   "metadata": {
    "id": "Z0GK_8mJd7W6"
   },
   "source": [
    "\n",
    "So, if we compute some means here, we can see the following (Note the different values for D based on df2c having one value flagged as None.):"
   ]
  },
  {
   "cell_type": "code",
   "execution_count": null,
   "metadata": {
    "colab": {
     "base_uri": "https://localhost:8080/"
    },
    "executionInfo": {
     "elapsed": 259,
     "status": "ok",
     "timestamp": 1617667035101,
     "user": {
      "displayName": "Craig Stark",
      "photoUrl": "https://lh3.googleusercontent.com/a-/AOh14GgHTCQdxwqKpQoLMKn2jOrFLiJic0kn3TdGdABA=s64",
      "userId": "11041610993007874858"
     },
     "user_tz": 420
    },
    "id": "U5aNcrLWd8H_",
    "outputId": "b9965a76-0995-4aa4-9b59-ca684343d121"
   },
   "outputs": [],
   "source": [
    "print(df2.mean())\n",
    "print(df2c.mean())"
   ]
  },
  {
   "cell_type": "markdown",
   "metadata": {
    "id": "gNHOvbvreLv7"
   },
   "source": [
    "# Loading and saving data\n",
    "\n",
    "You can, of course, bring in data via NumPy and just stick it in a Pandas data frame.  Odds are, though, that you'll want to leverage off of the nice, [built-in Pandas routines](http://pandas.pydata.org/pandas-docs/stable/10min.html#getting-data-in-out) to get things in and out using either \"CSV\" (comma separated values) or Excel formats.  \n",
    "\n",
    "CSV is just a text file with each column separated by a \"delimiter\".  This can be a comma, but might be a space or a tab.  It's a very simple format that anything should be able to read and write.  If it's a simple file with no header and using commas, you might have:\n",
    "\n",
    "\n",
    "```\n",
    "data = pd.read_csv('foo.txt')\n",
    "```\n",
    "\n",
    "\n",
    "But, let's say it's got the top row having a header that gives the names of each of the columns.  You'd have:\n",
    "\n",
    "\n",
    "```\n",
    "data = pd.read_csv('foo.txt',header=0)\n",
    "```\n",
    "\n",
    "\n",
    "Use a space instead of a comma as the delimiter?\n",
    "\n",
    "\n",
    "```\n",
    "data = pd.read_csv('foo.txt',header=0,sep=' ')\n",
    "```\n",
    "\n",
    "\n",
    "Note, there is also pd.read_table, which offers very similar functionality.  \n",
    "\n",
    "Excel files are handled just as easily.  \n",
    "\n",
    "\n",
    "```\n",
    "data = pd.read_excel('foo.xlsx')\n",
    "data = pd.read_excel('foo.xls','Sheet2')\n",
    "```\n",
    "\n",
    "\n",
    "Once you've got a data frame you'd like to save:\n",
    "\n",
    "\n",
    "```\n",
    "pd.to_csv('results.csv')\n",
    "pd.to_excel('results.xlsx')\n",
    "```\n"
   ]
  },
  {
   "cell_type": "markdown",
   "metadata": {
    "id": "3U8SW-u7eSN5"
   },
   "source": [
    "# Plotting and visualizing\n",
    "\n",
    "Perhaps the simplest visualization is a table.  "
   ]
  },
  {
   "cell_type": "code",
   "execution_count": null,
   "metadata": {
    "colab": {
     "base_uri": "https://localhost:8080/",
     "height": 297
    },
    "executionInfo": {
     "elapsed": 274,
     "status": "ok",
     "timestamp": 1617667123814,
     "user": {
      "displayName": "Craig Stark",
      "photoUrl": "https://lh3.googleusercontent.com/a-/AOh14GgHTCQdxwqKpQoLMKn2jOrFLiJic0kn3TdGdABA=s64",
      "userId": "11041610993007874858"
     },
     "user_tz": 420
    },
    "id": "CZSbb8SreVRe",
    "outputId": "617a4def-20ca-48b9-c043-848ebead503e"
   },
   "outputs": [],
   "source": [
    "df2.describe()"
   ]
  },
  {
   "cell_type": "markdown",
   "metadata": {
    "id": "oUXbe2mYecdH"
   },
   "source": [
    "But, we'll want more than that usually. While you'll sometimes need to just grab bits out of your data frame and pass this on to matplotlib, Pandas has built in a set of handy plotting functions to the data frames themselves. They leverage off of matplotlib by try to make your life easier. For example:"
   ]
  },
  {
   "cell_type": "code",
   "execution_count": null,
   "metadata": {
    "colab": {
     "base_uri": "https://localhost:8080/",
     "height": 282
    },
    "executionInfo": {
     "elapsed": 617,
     "status": "ok",
     "timestamp": 1617667155552,
     "user": {
      "displayName": "Craig Stark",
      "photoUrl": "https://lh3.googleusercontent.com/a-/AOh14GgHTCQdxwqKpQoLMKn2jOrFLiJic0kn3TdGdABA=s64",
      "userId": "11041610993007874858"
     },
     "user_tz": 420
    },
    "id": "Jr1V_jMvedC8",
    "outputId": "03c70c34-a777-4c51-b6a8-251bd9b593ff"
   },
   "outputs": [],
   "source": [
    "df2.plot()"
   ]
  },
  {
   "cell_type": "markdown",
   "metadata": {
    "id": "pYN2_GxheizK"
   },
   "source": [
    "There's a lot more buried inside dataframe.plot()... bar plots, histograms, scatters, box plots, etc. Here are a few examples, but I strongly encourage you to have a look at the [visualization section of the manual](http://pandas.pydata.org/pandas-docs/stable/visualization.html) for more.  \n"
   ]
  },
  {
   "cell_type": "code",
   "execution_count": null,
   "metadata": {
    "colab": {
     "base_uri": "https://localhost:8080/",
     "height": 544
    },
    "executionInfo": {
     "elapsed": 721,
     "status": "ok",
     "timestamp": 1617667198488,
     "user": {
      "displayName": "Craig Stark",
      "photoUrl": "https://lh3.googleusercontent.com/a-/AOh14GgHTCQdxwqKpQoLMKn2jOrFLiJic0kn3TdGdABA=s64",
      "userId": "11041610993007874858"
     },
     "user_tz": 420
    },
    "id": "quA-F7fMejib",
    "outputId": "3be140b9-0e41-404d-a5cc-581206563c01"
   },
   "outputs": [],
   "source": [
    "df2.plot.scatter(x='B',y='C')\n",
    "\n",
    "df2.plot.box()"
   ]
  },
  {
   "cell_type": "markdown",
   "metadata": {
    "id": "yW7BpDmpe0jj"
   },
   "source": [
    "## Subplots\n",
    "\n",
    "Often, we want to have more than one plot shown at a time.  Fortunately, since Pandas is built on matplotlib, we can leverage off of matplotlib's _subplot_() routine.\n"
   ]
  },
  {
   "cell_type": "code",
   "execution_count": null,
   "metadata": {
    "colab": {
     "base_uri": "https://localhost:8080/",
     "height": 296
    },
    "executionInfo": {
     "elapsed": 830,
     "status": "ok",
     "timestamp": 1617667260067,
     "user": {
      "displayName": "Craig Stark",
      "photoUrl": "https://lh3.googleusercontent.com/a-/AOh14GgHTCQdxwqKpQoLMKn2jOrFLiJic0kn3TdGdABA=s64",
      "userId": "11041610993007874858"
     },
     "user_tz": 420
    },
    "id": "sOu8lmJZe1-I",
    "outputId": "38e797b4-14f2-4233-b524-4857381aabb9"
   },
   "outputs": [],
   "source": [
    "rng=np.random.default_rng()\n",
    "df = pd.DataFrame(rng.normal(size=(6,4)), index=list('zyxwvu'), columns=list('ABCD'))\n",
    "\n",
    "fig,axes=plt.subplots(2,2)\n",
    "df.plot.scatter(x='A',y='B',ax=axes[0,0])\n",
    "df.plot.scatter(x='A',y='C',ax=axes[0,1])\n",
    "df.plot.scatter(x='A',y='D',ax=axes[1,0])\n",
    "df.plot.scatter(x='B',y='C',ax=axes[1,1])"
   ]
  },
  {
   "cell_type": "markdown",
   "metadata": {
    "id": "SPDaiiuYe5Mr"
   },
   "source": [
    "Key to this working is that we call _plt.subplots(nrows,ncols)_ here and save \"handles\" to the figures and to the axes.  These axes are our subplots.  So, when we want to put a particular scatter in a particular subplot, all we need to do is to tell the plot function (_scatter()_ in this case) what axis (subplot) to use.   "
   ]
  },
  {
   "cell_type": "markdown",
   "metadata": {
    "id": "tXO81kFhe7CI"
   },
   "source": [
    "# Grouping\n",
    "\n",
    "Pandas has a great ability to group / collapse / aggregate feature that will make your life a lot easier.  If you want more of a tutorial, [have a look here](http://nbviewer.jupyter.org/github/jvns/pandas-cookbook/blob/v0.1/cookbook/Chapter%204%20-%20Find%20out%20on%20which%20weekday%20people%20bike%20the%20most%20with%20groupby%20and%20aggregate.ipynb) or [here](http://pandas.pydata.org/pandas-docs/stable/10min.html#grouping). Let's take our df2 and group it by species:\n"
   ]
  },
  {
   "cell_type": "code",
   "execution_count": null,
   "metadata": {
    "id": "6d7RKep_fFHy"
   },
   "outputs": [],
   "source": [
    "print(df2)\n",
    "grp_species = df2.groupby('Species')"
   ]
  },
  {
   "cell_type": "markdown",
   "metadata": {
    "id": "KnQV8ReKfO2l"
   },
   "source": [
    "At this point, you have an object that has your data grouped by the species column. From here, you can now do things like:"
   ]
  },
  {
   "cell_type": "code",
   "execution_count": null,
   "metadata": {
    "colab": {
     "base_uri": "https://localhost:8080/",
     "height": 173
    },
    "executionInfo": {
     "elapsed": 268,
     "status": "ok",
     "timestamp": 1617667369525,
     "user": {
      "displayName": "Craig Stark",
      "photoUrl": "https://lh3.googleusercontent.com/a-/AOh14GgHTCQdxwqKpQoLMKn2jOrFLiJic0kn3TdGdABA=s64",
      "userId": "11041610993007874858"
     },
     "user_tz": 420
    },
    "id": "_1P3GPJufRZb",
    "outputId": "9f739fe6-7b17-4236-eebc-21ff7e5e84e1"
   },
   "outputs": [],
   "source": [
    "grp_species.mean()"
   ]
  },
  {
   "cell_type": "markdown",
   "metadata": {
    "id": "rJ_iYDzFfVL8"
   },
   "source": [
    "Of course, you could, if you want just that, put this together in one step by:"
   ]
  },
  {
   "cell_type": "code",
   "execution_count": null,
   "metadata": {
    "colab": {
     "base_uri": "https://localhost:8080/",
     "height": 173
    },
    "executionInfo": {
     "elapsed": 277,
     "status": "ok",
     "timestamp": 1617667394082,
     "user": {
      "displayName": "Craig Stark",
      "photoUrl": "https://lh3.googleusercontent.com/a-/AOh14GgHTCQdxwqKpQoLMKn2jOrFLiJic0kn3TdGdABA=s64",
      "userId": "11041610993007874858"
     },
     "user_tz": 420
    },
    "id": "KWLI2242fVwE",
    "outputId": "033599f0-40d3-49db-847d-db0c061f5050"
   },
   "outputs": [],
   "source": [
    "df2.groupby('Species').mean()"
   ]
  },
  {
   "cell_type": "markdown",
   "metadata": {
    "id": "Y0eC5R56fbke"
   },
   "source": [
    "Now, the neat thing about this and about Python being \"object-oriented\" (remember, everything is an object) is that all the cool bits you know about data frames and series and such apply to these groups. That's why you can do the .mean() bit here. All those same functions apply.  Heck, even the plotting applies.\n"
   ]
  },
  {
   "cell_type": "code",
   "execution_count": null,
   "metadata": {
    "colab": {
     "base_uri": "https://localhost:8080/",
     "height": 321
    },
    "executionInfo": {
     "elapsed": 415,
     "status": "ok",
     "timestamp": 1617667414134,
     "user": {
      "displayName": "Craig Stark",
      "photoUrl": "https://lh3.googleusercontent.com/a-/AOh14GgHTCQdxwqKpQoLMKn2jOrFLiJic0kn3TdGdABA=s64",
      "userId": "11041610993007874858"
     },
     "user_tz": 420
    },
    "id": "Qe8Kr6dpfcM1",
    "outputId": "b0cf1805-3b8a-4ea3-d474-30eee80a5ce1"
   },
   "outputs": [],
   "source": [
    "df2.groupby('Species').mean().plot.bar()"
   ]
  },
  {
   "cell_type": "markdown",
   "metadata": {
    "id": "WBDgj4ywfk7B"
   },
   "source": [
    "Just to be clear, I could have done this in several steps\n",
    "\n",
    "\n",
    "```\n",
    "grp_species = df2.groupby('Species')\n",
    "grp_species_m = grp_species.mean()\n",
    "grp_species_m.plot.bar()\n",
    "```\n",
    "\n",
    "\n",
    "But, by now you should be starting to get comfortable with that chained style of calling things.\n",
    "\n",
    "Note, you can group by more than one key as well.  Here, we just had 'Species', but if we had gender in this we could:\n",
    "\n",
    "\n",
    "```\n",
    "df2.groupby(['Species','Gender'])\n",
    "```\n",
    "## What if a function isn't in there?\n",
    "\n",
    "OK, so you've got something you'd like to run on the grouped data, but it's not built into Pandas.  Now what, smartypants?  You can use the _.agg_ or _.aggregate()_ functions to grab that data and apply some other function to it.  Here, we'll just use the mean again to show how it works:"
   ]
  },
  {
   "cell_type": "code",
   "execution_count": null,
   "metadata": {
    "colab": {
     "base_uri": "https://localhost:8080/"
    },
    "executionInfo": {
     "elapsed": 265,
     "status": "ok",
     "timestamp": 1617667541555,
     "user": {
      "displayName": "Craig Stark",
      "photoUrl": "https://lh3.googleusercontent.com/a-/AOh14GgHTCQdxwqKpQoLMKn2jOrFLiJic0kn3TdGdABA=s64",
      "userId": "11041610993007874858"
     },
     "user_tz": 420
    },
    "id": "6h0-9DqqfrUh",
    "outputId": "5fe89c8d-6515-495e-97c1-25e666c2430d"
   },
   "outputs": [],
   "source": [
    "print('Normal mean')\n",
    "print(grp_species.mean())\n",
    "print('\\nAggregate')\n",
    "print(grp_species.aggregate(np.mean))"
   ]
  },
  {
   "cell_type": "markdown",
   "metadata": {
    "id": "eIp3l-M7gHRa"
   },
   "source": [
    "And you can get fancier by having multiple functions applied:"
   ]
  },
  {
   "cell_type": "code",
   "execution_count": null,
   "metadata": {
    "colab": {
     "base_uri": "https://localhost:8080/",
     "height": 204
    },
    "executionInfo": {
     "elapsed": 287,
     "status": "ok",
     "timestamp": 1617667600064,
     "user": {
      "displayName": "Craig Stark",
      "photoUrl": "https://lh3.googleusercontent.com/a-/AOh14GgHTCQdxwqKpQoLMKn2jOrFLiJic0kn3TdGdABA=s64",
      "userId": "11041610993007874858"
     },
     "user_tz": 420
    },
    "id": "Nq-FzUF_gI-c",
    "outputId": "4c4488dd-7db6-40fc-bbb1-d4cf76a5a308"
   },
   "outputs": [],
   "source": [
    "summary=grp_species.aggregate([np.mean,np.std])\n",
    "summary"
   ]
  }
 ],
 "metadata": {
  "colab": {
   "authorship_tag": "ABX9TyOrMrF2tCMbE++TsqRcfd0b",
   "name": "N247 Class 6.1 Introduction to Pandas.ipynb",
   "provenance": []
  },
  "kernelspec": {
   "display_name": "Python 3",
   "language": "python",
   "name": "python3"
  },
  "language_info": {
   "codemirror_mode": {
    "name": "ipython",
    "version": 3
   },
   "file_extension": ".py",
   "mimetype": "text/x-python",
   "name": "python",
   "nbconvert_exporter": "python",
   "pygments_lexer": "ipython3",
   "version": "3.12.2"
  }
 },
 "nbformat": 4,
 "nbformat_minor": 0
}
