{
 "cells": [
  {
   "cell_type": "code",
   "execution_count": null,
   "id": "bd1daf95",
   "metadata": {},
   "outputs": [
    {
     "name": "stdout",
     "output_type": "stream",
     "text": [
      "Age vs. LDI -0.49\n",
      "  r=-0.49 p=0.0000 r^2=0.243\n"
     ]
    }
   ],
   "source": [
    "import pandas as pd\n",
    "from scipy.stats import pearsonr\n",
    "\n",
    "data =  pd.read_csv('https://raw.githubusercontent.com/celstark/n247data/main/data/StarkData.csv',header=0)\n",
    "data['Recog'] = data['pO_R'] - data['pO_F']\n",
    "data['LDI'] = data['pS_L'] - data['pS_F']\n",
    "\n",
    "    \n",
    "print('Age vs. LDI {0:.2f}'.format(data['LDI'].corr(data['Age'])))\n",
    "(r,p)=pearsonr(data['Age'],data['LDI'])\n",
    "print(f'  r={r:.2f} p={p:.4f} r^2={r ** 2:.3f}')"
   ]
  },
  {
   "cell_type": "code",
   "execution_count": 3,
   "id": "e5db6f5e",
   "metadata": {},
   "outputs": [
    {
     "name": "stdout",
     "output_type": "stream",
     "text": [
      "Standard statsmodels setup\n",
      "                            OLS Regression Results                            \n",
      "==============================================================================\n",
      "Dep. Variable:                    LDI   R-squared:                       0.243\n",
      "Model:                            OLS   Adj. R-squared:                  0.235\n",
      "Method:                 Least Squares   F-statistic:                     30.78\n",
      "Date:                Tue, 20 May 2025   Prob (F-statistic):           2.55e-07\n",
      "Time:                        09:25:01   Log-Likelihood:                 31.244\n",
      "No. Observations:                  98   AIC:                            -58.49\n",
      "Df Residuals:                      96   BIC:                            -53.32\n",
      "Df Model:                           1                                         \n",
      "Covariance Type:            nonrobust                                         \n",
      "==============================================================================\n",
      "                 coef    std err          t      P>|t|      [0.025      0.975]\n",
      "------------------------------------------------------------------------------\n",
      "Age           -0.0050      0.001     -5.548      0.000      -0.007      -0.003\n",
      "const          0.4801      0.054      8.964      0.000       0.374       0.586\n",
      "==============================================================================\n",
      "Omnibus:                        6.034   Durbin-Watson:                   2.062\n",
      "Prob(Omnibus):                  0.049   Jarque-Bera (JB):                5.535\n",
      "Skew:                          -0.467   Prob(JB):                       0.0628\n",
      "Kurtosis:                       3.694   Cond. No.                         179.\n",
      "==============================================================================\n",
      "\n",
      "Notes:\n",
      "[1] Standard Errors assume that the covariance matrix of the errors is correctly specified.\n"
     ]
    }
   ],
   "source": [
    "import statsmodels.api as sm\n",
    "\n",
    "print('Standard statsmodels setup')\n",
    "smLM_endog=data['LDI']  # Endognenous or y-value\n",
    "smLM_exog=data['Age']  # Exogneous, or x-values\n",
    "smLM_exog=sm.add_constant(smLM_exog, prepend=False)  # Add our constant / intercept / offset term\n",
    "smLM_model = sm.OLS(smLM_endog, smLM_exog)\n",
    "smLM_results = smLM_model.fit()\n",
    "print(smLM_results.summary())"
   ]
  },
  {
   "cell_type": "code",
   "execution_count": 4,
   "id": "1924d0f1",
   "metadata": {},
   "outputs": [
    {
     "name": "stdout",
     "output_type": "stream",
     "text": [
      "R-style statsmodels setup\n",
      "                            OLS Regression Results                            \n",
      "==============================================================================\n",
      "Dep. Variable:                    LDI   R-squared:                       0.243\n",
      "Model:                            OLS   Adj. R-squared:                  0.235\n",
      "Method:                 Least Squares   F-statistic:                     30.78\n",
      "Date:                Tue, 20 May 2025   Prob (F-statistic):           2.55e-07\n",
      "Time:                        09:25:01   Log-Likelihood:                 31.244\n",
      "No. Observations:                  98   AIC:                            -58.49\n",
      "Df Residuals:                      96   BIC:                            -53.32\n",
      "Df Model:                           1                                         \n",
      "Covariance Type:            nonrobust                                         \n",
      "==============================================================================\n",
      "                 coef    std err          t      P>|t|      [0.025      0.975]\n",
      "------------------------------------------------------------------------------\n",
      "Intercept      0.4801      0.054      8.964      0.000       0.374       0.586\n",
      "Age           -0.0050      0.001     -5.548      0.000      -0.007      -0.003\n",
      "==============================================================================\n",
      "Omnibus:                        6.034   Durbin-Watson:                   2.062\n",
      "Prob(Omnibus):                  0.049   Jarque-Bera (JB):                5.535\n",
      "Skew:                          -0.467   Prob(JB):                       0.0628\n",
      "Kurtosis:                       3.694   Cond. No.                         179.\n",
      "==============================================================================\n",
      "\n",
      "Notes:\n",
      "[1] Standard Errors assume that the covariance matrix of the errors is correctly specified.\n"
     ]
    }
   ],
   "source": [
    "import statsmodels.formula.api as smf\n",
    "\n",
    "print('R-style statsmodels setup')\n",
    "smfLM_model = smf.ols(formula='LDI ~ Age',data=data)\n",
    "smfLM_results = smfLM_model.fit()\n",
    "print(smfLM_results.summary())"
   ]
  },
  {
   "cell_type": "code",
   "execution_count": 6,
   "id": "f822f931",
   "metadata": {},
   "outputs": [
    {
     "name": "stdout",
     "output_type": "stream",
     "text": [
      "Fancier model\n",
      "                            OLS Regression Results                            \n",
      "==============================================================================\n",
      "Dep. Variable:                    LDI   R-squared:                       0.267\n",
      "Model:                            OLS   Adj. R-squared:                  0.236\n",
      "Method:                 Least Squares   F-statistic:                     8.476\n",
      "Date:                Tue, 20 May 2025   Prob (F-statistic):           7.09e-06\n",
      "Time:                        09:25:43   Log-Likelihood:                 32.847\n",
      "No. Observations:                  98   AIC:                            -55.69\n",
      "Df Residuals:                      93   BIC:                            -42.77\n",
      "Df Model:                           4                                         \n",
      "Covariance Type:            nonrobust                                         \n",
      "===============================================================================\n",
      "                  coef    std err          t      P>|t|      [0.025      0.975]\n",
      "-------------------------------------------------------------------------------\n",
      "Intercept       0.1370      0.423      0.323      0.747      -0.704       0.978\n",
      "C(Set)[T.D]     0.0056      0.036      0.153      0.879      -0.067       0.078\n",
      "Age            -0.0030      0.007     -0.464      0.644      -0.016       0.010\n",
      "Recog           0.4208      0.538      0.783      0.436      -0.647       1.488\n",
      "Age:Recog      -0.0022      0.008     -0.260      0.795      -0.019       0.014\n",
      "==============================================================================\n",
      "Omnibus:                        7.896   Durbin-Watson:                   2.088\n",
      "Prob(Omnibus):                  0.019   Jarque-Bera (JB):                7.844\n",
      "Skew:                          -0.539   Prob(JB):                       0.0198\n",
      "Kurtosis:                       3.871   Cond. No.                     2.86e+03\n",
      "==============================================================================\n",
      "\n",
      "Notes:\n",
      "[1] Standard Errors assume that the covariance matrix of the errors is correctly specified.\n",
      "[2] The condition number is large, 2.86e+03. This might indicate that there are\n",
      "strong multicollinearity or other numerical problems.\n"
     ]
    }
   ],
   "source": [
    "print('Fancier model')\n",
    "smfLM_model2 = smf.ols(formula='LDI ~ Age*Recog + C(Set)',data=data)\n",
    "smfLM_results2 = smfLM_model2.fit()\n",
    "print(smfLM_results2.summary())"
   ]
  }
 ],
 "metadata": {
  "kernelspec": {
   "display_name": "scipy",
   "language": "python",
   "name": "python3"
  },
  "language_info": {
   "codemirror_mode": {
    "name": "ipython",
    "version": 3
   },
   "file_extension": ".py",
   "mimetype": "text/x-python",
   "name": "python",
   "nbconvert_exporter": "python",
   "pygments_lexer": "ipython3",
   "version": "3.12.10"
  }
 },
 "nbformat": 4,
 "nbformat_minor": 5
}
