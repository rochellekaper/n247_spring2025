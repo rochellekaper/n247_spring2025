{
 "cells": [
  {
   "cell_type": "markdown",
   "metadata": {
    "id": "Ni_KdqgC_ANF"
   },
   "source": [
    "Pandas array\n",
    "\n",
    "\t- Task: TaskA or TaskB\n",
    "\t- Val1-Val4\n",
    "\t- If Task A, Score1=Val2-Val1, Score2=Val4-Val3\n",
    "\t- If Task B, Score1=f(Val1,Val2), Score2=f(Val3,Val4)\n",
    "    \n",
    "F(Val1,Val2) = np.normppf(Val2)-np.normppf(Val1), BUT if either val == 0, fudge it to 0.01 and if either value == 1, fudge it to 0.99"
   ]
  },
  {
   "cell_type": "code",
   "execution_count": 1,
   "metadata": {
    "id": "j2LJTajEtUvJ"
   },
   "outputs": [],
   "source": [
    "import pandas as pd\n",
    "import numpy as np\n",
    "from scipy.stats import norm"
   ]
  },
  {
   "cell_type": "code",
   "execution_count": 7,
   "metadata": {
    "id": "soxFqHTxuWYT"
   },
   "outputs": [],
   "source": [
    "# Two variants of even just how to create the data\n",
    "def create_data_old(n=100):\n",
    "    # Old method of randomness\n",
    "    tasks=np.random.choice(['TaskA','TaskB'],n)\n",
    "    vals=np.random.random_sample((n,4))\n",
    "    nbad=int(n/20)\n",
    "    for i in range(4): # Put in some \"bad\" values\n",
    "        vals[np.random.choice(vals.shape[0],nbad,False)]=0\n",
    "        vals[np.random.choice(vals.shape[0],nbad,False)]=1\n",
    "    df=pd.DataFrame(vals,columns=['val1','val2','val3','val4'])\n",
    "    df['task']=tasks\n",
    "    return df\n",
    "\n",
    "def create_data(n=100):\n",
    "    rng=np.random.default_rng()\n",
    "    tasks=rng.choice(['TaskA','TaskB'],n)\n",
    "    vals=rng.random((n,4))\n",
    "    nbad=int(n/20)\n",
    "    def flagbad(d,n):\n",
    "        rng=np.random.default_rng()\n",
    "        d[rng.choice(d.shape[0],n,False)]=0\n",
    "        d[rng.choice(d.shape[0],n,False)]=1\n",
    "    np.apply_along_axis(flagbad,0,vals,nbad)\n",
    "    return pd.DataFrame({'task':tasks,\n",
    "                 'val1':vals[:,0],'val2':vals[:,1],'val3':vals[:,2],'val4':vals[:,3]})"
   ]
  },
  {
   "cell_type": "code",
   "execution_count": 9,
   "metadata": {
    "colab": {
     "base_uri": "https://localhost:8080/"
    },
    "executionInfo": {
     "elapsed": 5945,
     "status": "ok",
     "timestamp": 1617122337219,
     "user": {
      "displayName": "Craig Stark",
      "photoUrl": "https://lh3.googleusercontent.com/a-/AOh14GgHTCQdxwqKpQoLMKn2jOrFLiJic0kn3TdGdABA=s64",
      "userId": "11041610993007874858"
     },
     "user_tz": 420
    },
    "id": "ZGwbvg-c99sP",
    "outputId": "11df1a6b-6a8e-42d5-afd9-37ac00ca6472"
   },
   "outputs": [
    {
     "name": "stdout",
     "output_type": "stream",
     "text": [
      "10.3 ms ± 144 μs per loop (mean ± std. dev. of 7 runs, 100 loops each)\n",
      "5.51 ms ± 56.9 μs per loop (mean ± std. dev. of 7 runs, 100 loops each)\n"
     ]
    }
   ],
   "source": [
    "# Let's see how fast even this just is\n",
    "%timeit create_data_old(100000)\n",
    "%timeit create_data(100000)"
   ]
  },
  {
   "cell_type": "markdown",
   "metadata": {
    "id": "PhL2zbcaNJLi"
   },
   "source": [
    "First up, some very simple, standard ways of looping..."
   ]
  },
  {
   "cell_type": "code",
   "execution_count": 10,
   "metadata": {
    "id": "q7dT2rjgAYVb"
   },
   "outputs": [],
   "source": [
    "def compute_score_loop_iloc_1(data):\n",
    "    df=data.copy()\n",
    "    # Add the needed columns and set to 0\n",
    "    df['score1']=0.0\n",
    "    df['score2']=0.0\n",
    "    # Since we're going to use iloc, get the column numbers for these ahead of time\n",
    "    v1col=df.columns.get_loc('val1')\n",
    "    v2col=df.columns.get_loc('val2')\n",
    "    v3col=df.columns.get_loc('val3')\n",
    "    v4col=df.columns.get_loc('val4')\n",
    "    s1col=df.columns.get_loc('score1')\n",
    "    s2col=df.columns.get_loc('score2')\n",
    "    tcol=df.columns.get_loc('task')\n",
    "    for i in range(df.shape[0]): # Loop over each element\n",
    "        if df.iloc[i,tcol]=='TaskA':\n",
    "            df.iloc[i,s1col]=df.iloc[i,v2col]-df.iloc[i,v1col]\n",
    "            df.iloc[i,s2col]=df.iloc[i,v4col]-df.iloc[i,v3col]\n",
    "        else:\n",
    "            v1=df.iloc[i,v1col]\n",
    "            v2=df.iloc[i,v2col]\n",
    "            v3=df.iloc[i,v3col]\n",
    "            v4=df.iloc[i,v4col]\n",
    "            if v1==0.0:\n",
    "                v1=0.01\n",
    "            elif v1==1.0:\n",
    "                v1=0.99\n",
    "            if v2==0.0:\n",
    "                v2=0.01\n",
    "            elif v2==1.0:\n",
    "                v2=0.99\n",
    "            if v3==0.0:\n",
    "                v3=0.01\n",
    "            elif v3==1.0:\n",
    "                v3=0.99\n",
    "            if v4==0.0:\n",
    "                v4=0.01\n",
    "            elif v4==1.0:\n",
    "                v4=0.99\n",
    "            df.iloc[i,s1col]=norm.ppf(v2)-norm.ppf(v1)\n",
    "            df.iloc[i,s2col]=norm.ppf(v4)-norm.ppf(v3)\n",
    "    return df\n",
    "\n",
    "\n",
    "def compute_score_loop_iloc_2(data):\n",
    "    df=data.copy()\n",
    "    # Add the needed columns and set to 0\n",
    "    df['score1']=0.0\n",
    "    df['score2']=0.0\n",
    "    # Since we're going to use iloc, get the column numbers for these ahead of time\n",
    "    v1col=df.columns.get_loc('val1')\n",
    "    v2col=df.columns.get_loc('val2')\n",
    "    v3col=df.columns.get_loc('val3')\n",
    "    v4col=df.columns.get_loc('val4')\n",
    "    s1col=df.columns.get_loc('score1')\n",
    "    s2col=df.columns.get_loc('score2')\n",
    "    tcol=df.columns.get_loc('task')\n",
    "    for i in range(df.shape[0]): # Loop over each element\n",
    "        if df.iloc[i,tcol]=='TaskA':\n",
    "            df.iloc[i,s1col]=df.iloc[i,v2col]-df.iloc[i,v1col]\n",
    "            df.iloc[i,s2col]=df.iloc[i,v4col]-df.iloc[i,v3col]\n",
    "        else:\n",
    "            # Use numpy to do our clipping\n",
    "            v1=np.clip(df.iloc[i,v1col],0.01, 0.99)\n",
    "            v2=np.clip(df.iloc[i,v2col],0.01, 0.99)\n",
    "            v3=np.clip(df.iloc[i,v3col],0.01, 0.99)\n",
    "            v4=np.clip(df.iloc[i,v4col],0.01, 0.99)\n",
    "            df.iloc[i,s1col]=norm.ppf(v2)-norm.ppf(v1)\n",
    "            df.iloc[i,s2col]=norm.ppf(v4)-norm.ppf(v3)\n",
    "    return df\n",
    "\n",
    "def compute_score_loop_loc(data):\n",
    "    df=data.copy()\n",
    "    # Add the needed columns and set to 0\n",
    "    df['score1']=0.0\n",
    "    df['score2']=0.0\n",
    "\n",
    "    for i in df.index: # Loop over each element\n",
    "        if df.loc[i,'task']=='TaskA':\n",
    "            df.loc[i,'score1']=df.loc[i,'val2'] - df.loc[i,'val1']\n",
    "            df.loc[i,'score2']=df.loc[i,'val4'] - df.loc[i,'val3']\n",
    "        else:\n",
    "            # Use numpy to do our clipping\n",
    "            v1=np.clip(df.loc[i,'val1'],0.01, 0.99)\n",
    "            v2=np.clip(df.loc[i,'val2'],0.01, 0.99)\n",
    "            v3=np.clip(df.loc[i,'val3'],0.01, 0.99)\n",
    "            v4=np.clip(df.loc[i,'val4'],0.01, 0.99)\n",
    "            df.loc[i,'score1']=norm.ppf(v2)-norm.ppf(v1)\n",
    "            df.loc[i,'score2']=norm.ppf(v4)-norm.ppf(v3)\n",
    "    return df"
   ]
  },
  {
   "cell_type": "code",
   "execution_count": 11,
   "metadata": {
    "colab": {
     "base_uri": "https://localhost:8080/"
    },
    "executionInfo": {
     "elapsed": 20821,
     "status": "ok",
     "timestamp": 1617220818723,
     "user": {
      "displayName": "Craig Stark",
      "photoUrl": "https://lh3.googleusercontent.com/a-/AOh14GgHTCQdxwqKpQoLMKn2jOrFLiJic0kn3TdGdABA=s64",
      "userId": "11041610993007874858"
     },
     "user_tz": 420
    },
    "id": "-eB6jHoyHfFZ",
    "outputId": "b9128788-a2f7-4515-fd29-3557f38bcd3a"
   },
   "outputs": [
    {
     "name": "stdout",
     "output_type": "stream",
     "text": [
      "compute_score_loop_iloc_1\n",
      "143 ms ± 1.77 ms per loop (mean ± std. dev. of 7 runs, 10 loops each)\n",
      "compute_score_loop_iloc_2\n",
      "150 ms ± 4.16 ms per loop (mean ± std. dev. of 7 runs, 10 loops each)\n",
      "compute_score_loop_loc\n",
      "170 ms ± 4.17 ms per loop (mean ± std. dev. of 7 runs, 10 loops each)\n"
     ]
    }
   ],
   "source": [
    "# Let's run some timing\n",
    "data=create_data(1000)\n",
    "print('compute_score_loop_iloc_1')\n",
    "%timeit compute_score_loop_iloc_1(data)\n",
    "print('compute_score_loop_iloc_2')\n",
    "%timeit compute_score_loop_iloc_2(data)\n",
    "print('compute_score_loop_loc')\n",
    "%timeit compute_score_loop_loc(data)\n"
   ]
  },
  {
   "cell_type": "code",
   "execution_count": 14,
   "metadata": {
    "executionInfo": {
     "elapsed": 312,
     "status": "ok",
     "timestamp": 1617219810594,
     "user": {
      "displayName": "Craig Stark",
      "photoUrl": "https://lh3.googleusercontent.com/a-/AOh14GgHTCQdxwqKpQoLMKn2jOrFLiJic0kn3TdGdABA=s64",
      "userId": "11041610993007874858"
     },
     "user_tz": 420
    },
    "id": "gsmmYA_RNGFu"
   },
   "outputs": [],
   "source": [
    "def compute_score_pandas_group(data):\n",
    "    # Note, this will change the order to be sorted by groups.\n",
    "    #  can make it return taska.append(taskb).sort_index() \n",
    "\n",
    "    df=data.copy()\n",
    "    # Add the needed columns and set to 0\n",
    "    df['score1']=0.0\n",
    "    df['score2']=0.0\n",
    "    # Split this out into our two tasks\n",
    "    grp=data.groupby('task')\n",
    "    taska=grp.get_group('TaskA').copy()\n",
    "    taskb=grp.get_group('TaskB').copy()\n",
    "    taska['score1']=taska['val2']-taska['val1']\n",
    "    taska['score2']=taska['val4']-taska['val3']\n",
    "    taskb['score1']=norm.ppf(np.clip(taskb['val2'],0.01,0.99))-norm.ppf(np.clip(taskb['val1'],0.01,0.99))\n",
    "    taskb['score2']=norm.ppf(np.clip(taskb['val4'],0.01,0.99))-norm.ppf(np.clip(taskb['val3'],0.01,0.99))\n",
    "    return pd.concat([taska,taskb],ignore_index=True)\n",
    "\n",
    "def compute_score_pandas_logicalindex(data):    \n",
    "    df=data.copy()    # Add the needed columns and set to 0    \n",
    "    df['score1']=0.0    \n",
    "    df['score2']=0.0    # Split this out into our two tasks    \n",
    "    taska=df['task']=='TaskA'\n",
    "    taskb=df['task']=='TaskB'\n",
    "    \n",
    "    df.loc[taska,'score1']=df.loc[taska,'val2']-df.loc[taska,'val1']    \n",
    "    df.loc[taska,'score2']=df.loc[taska,'val4']-df.loc[taska,'val3']    \n",
    "    df.loc[taskb,'score1']=norm.ppf(np.clip(df.loc[taskb,'val2'],0.01,0.99))-norm.ppf(np.clip(df.loc[taskb,'val1'],0.01,0.99))    \n",
    "    df.loc[taskb,'score2']=norm.ppf(np.clip(df.loc[taskb,'val4'],0.01,0.99))-norm.ppf(np.clip(df.loc[taskb,'val3'],0.01,0.99))    \n",
    "    return df\n"
   ]
  },
  {
   "cell_type": "code",
   "execution_count": 15,
   "metadata": {
    "colab": {
     "base_uri": "https://localhost:8080/"
    },
    "executionInfo": {
     "elapsed": 13811,
     "status": "ok",
     "timestamp": 1617220838981,
     "user": {
      "displayName": "Craig Stark",
      "photoUrl": "https://lh3.googleusercontent.com/a-/AOh14GgHTCQdxwqKpQoLMKn2jOrFLiJic0kn3TdGdABA=s64",
      "userId": "11041610993007874858"
     },
     "user_tz": 420
    },
    "id": "hK3HAZ0_mNy8",
    "outputId": "52f39e64-ecb2-4c5c-b215-025d408e2224"
   },
   "outputs": [
    {
     "name": "stdout",
     "output_type": "stream",
     "text": [
      "Pandas logical by group\n",
      "1.43 ms ± 19.8 μs per loop (mean ± std. dev. of 7 runs, 1,000 loops each)\n",
      "Pandas logical indexing\n",
      "1.71 ms ± 5.37 μs per loop (mean ± std. dev. of 7 runs, 1,000 loops each)\n"
     ]
    }
   ],
   "source": [
    "print ('Pandas logical by group')\n",
    "%timeit compute_score_pandas_group(data)\n",
    "\n",
    "print ('Pandas logical indexing')\n",
    "%timeit compute_score_pandas_logicalindex(data)"
   ]
  }
 ],
 "metadata": {
  "colab": {
   "authorship_tag": "ABX9TyMlnGx/317sMVQzzyDUFsh+",
   "name": "N247 Pandas manipulation and speed.ipynb",
   "provenance": []
  },
  "kernelspec": {
   "display_name": "scipy",
   "language": "python",
   "name": "python3"
  },
  "language_info": {
   "codemirror_mode": {
    "name": "ipython",
    "version": 3
   },
   "file_extension": ".py",
   "mimetype": "text/x-python",
   "name": "python",
   "nbconvert_exporter": "python",
   "pygments_lexer": "ipython3",
   "version": "3.12.10"
  }
 },
 "nbformat": 4,
 "nbformat_minor": 0
}
