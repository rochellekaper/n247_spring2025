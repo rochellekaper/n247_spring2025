{
 "cells": [
  {
   "attachments": {},
   "cell_type": "markdown",
   "metadata": {
    "id": "ughVlJHiJC_D"
   },
   "source": [
    "# Problem Set 2: Numpy Basics - Array creation and manipulation\n",
    "\n",
    " ***Note, if I ask you to print something, use the `print` command.  But, if I ask you to create another variable, insert something into a variable, etc., do not just use `print`. I want you to create things or change their values, not just show them on the screen.***"
   ]
  },
  {
   "cell_type": "markdown",
   "metadata": {
    "id": "C7jUT6jUJfhU"
   },
   "source": [
    "Q1: Create an ndarray **A** that looks like this\n",
    "\n",
    "| <!-- --> | <!-- --> | <!-- --> | <!-- --> |\n",
    "|----|----|----|----|\n",
    "| 1 | 2 | 3 | 4 |\n",
    "| 10 | 20 | 30 | 40 | \n",
    "| 100 | 200 | 300 | 400 |\n",
    "\n"
   ]
  },
  {
   "cell_type": "code",
   "execution_count": 2,
   "metadata": {
    "id": "7zx5_5PIIcP7"
   },
   "outputs": [],
   "source": [
    "import numpy as np\n",
    "\n",
    "A = np.array([[1, 2,3,4], [10,20, 30, 40], [100, 200, 300, 400]])"
   ]
  },
  {
   "cell_type": "markdown",
   "metadata": {
    "id": "S0xN77wSLRR5"
   },
   "source": [
    "Q2: Now, create a matrix **B** that looks like this and by using **A**\n",
    "\n",
    "| <!-- --> | <!-- --> | <!-- --> | \n",
    "|----|----|----|\n",
    "| 1 | 10 | 100 |\n",
    "| 2 | 20 | 200 | \n",
    "| 3 | 30 | 300 |\n",
    "| 4 | 40 | 400 |"
   ]
  },
  {
   "cell_type": "code",
   "execution_count": 3,
   "metadata": {
    "id": "W0vkGf_HLrjo"
   },
   "outputs": [],
   "source": [
    "B = np.transpose(A)"
   ]
  },
  {
   "cell_type": "markdown",
   "metadata": {
    "id": "WBKkfKwSLsni"
   },
   "source": [
    "Q3: Now, create a matrix **C** that uses **A** and looks like this\n",
    "\n",
    "| <!-- --> | <!-- --> | <!-- --> | <!-- --> |\n",
    "|----|----|----|----|\n",
    "| 1 | 2 | 3 | 4 |\n",
    "| 10 | 20 | **25** | 40 | \n",
    "| 100 | 200 | 300 | 400 |"
   ]
  },
  {
   "cell_type": "code",
   "execution_count": 4,
   "metadata": {
    "id": "36qz8dcbL4_K"
   },
   "outputs": [],
   "source": [
    "C = A.copy()\n",
    "\n",
    "C[1, 2] -= 5\n"
   ]
  },
  {
   "cell_type": "markdown",
   "metadata": {
    "id": "2fXngawIL5oZ"
   },
   "source": [
    "Q4: Create a **D** in which each element is equal to twice the value in **A** plus the value in **C**"
   ]
  },
  {
   "cell_type": "code",
   "execution_count": 5,
   "metadata": {
    "id": "NndBXa3YL_yn"
   },
   "outputs": [],
   "source": [
    "D = (A * 2) + C"
   ]
  },
  {
   "cell_type": "markdown",
   "metadata": {
    "id": "Cm9uIK-BMAyO"
   },
   "source": [
    "Q5: Create an **E** in which each element is equal to the value from **A** times the value from **C**"
   ]
  },
  {
   "cell_type": "code",
   "execution_count": 6,
   "metadata": {
    "id": "SVnIW-u-MGIJ"
   },
   "outputs": [],
   "source": [
    "E = A * C"
   ]
  },
  {
   "cell_type": "markdown",
   "metadata": {
    "id": "gskA9HlZMHHw"
   },
   "source": [
    "Q6: Figure out how the zeros or ones functions work to make a matrix **F** that is 32x32 with the value of pi in each element."
   ]
  },
  {
   "cell_type": "code",
   "execution_count": 7,
   "metadata": {
    "id": "d_pMrLHwMQ7i"
   },
   "outputs": [],
   "source": [
    "F = np.ones([32, 32]) * np.pi"
   ]
  },
  {
   "cell_type": "markdown",
   "metadata": {
    "id": "qAmIzP6vMRfh"
   },
   "source": [
    "Q7: Make an array **G** that is the corners of **A** and do so in one statement (use start:stop:stride).  That is, it should be:\n",
    "```\n",
    "array([[ 1, 4], \n",
    "[100, 400]])\n",
    "```\n"
   ]
  },
  {
   "cell_type": "code",
   "execution_count": 49,
   "metadata": {
    "id": "Pu3Og_GQMhlF"
   },
   "outputs": [],
   "source": [
    "G = A[0::A.shape[0]-1, 0::A.shape[1]-1]\n",
    "\n"
   ]
  },
  {
   "cell_type": "markdown",
   "metadata": {
    "id": "ZdpzYgkqMiHf"
   },
   "source": [
    "Q8: Make a 1D array **H** that uses **A** and contains all of the elements of **A** that are evenly divisible by 4 (doing this might make you *mod* at me).  That is, it should be:\n",
    "\n",
    "```\n",
    "array([  4,  20,  40, 100, 200, 300, 400])\n",
    "```\n"
   ]
  },
  {
   "cell_type": "code",
   "execution_count": null,
   "metadata": {
    "id": "xiewSS3qMs9O"
   },
   "outputs": [
    {
     "data": {
      "text/plain": [
       "array([  4,  20,  40, 100, 200, 300, 400])"
      ]
     },
     "execution_count": 64,
     "metadata": {},
     "output_type": "execute_result"
    }
   ],
   "source": [
    "H = A[A % 4 == 0]"
   ]
  },
  {
   "cell_type": "markdown",
   "metadata": {
    "id": "NfPJ90ZJMtch"
   },
   "source": [
    "Q9: Assume **E** is the result of some math calculating the number of degrees between two items in the distance.  You don't want things like 400 degrees of angle to be specified, or you'll look stupid.  Use the `np.mod` or `%` operator to convert **E** into standard 0-359 degree numbers and store this in **I**. "
   ]
  },
  {
   "cell_type": "code",
   "execution_count": 70,
   "metadata": {
    "id": "GhFH8Ed_M2zQ"
   },
   "outputs": [],
   "source": [
    "I = E[E <= 360]"
   ]
  },
  {
   "cell_type": "markdown",
   "metadata": {
    "id": "sLowucriM5Uc"
   },
   "source": [
    "Q10: Make an 1D array **J** that has the mean value for each column of **A**.  That is, it should be\n",
    "\n",
    "```\n",
    "array([  37.,   74.,  111.,  148.])\n",
    "```"
   ]
  },
  {
   "cell_type": "code",
   "execution_count": 78,
   "metadata": {
    "id": "v1lsgCkyPBRI"
   },
   "outputs": [],
   "source": [
    "J = A.mean(0)"
   ]
  }
 ],
 "metadata": {
  "colab": {
   "authorship_tag": "ABX9TyOFWZ6HZnr6maLzgsy4nrpP",
   "name": "N247 PSet: Numpy Basics.ipynb",
   "provenance": []
  },
  "kernelspec": {
   "display_name": "Python 3",
   "name": "python3"
  },
  "language_info": {
   "codemirror_mode": {
    "name": "ipython",
    "version": 3
   },
   "file_extension": ".py",
   "mimetype": "text/x-python",
   "name": "python",
   "nbconvert_exporter": "python",
   "pygments_lexer": "ipython3",
   "version": "3.12.2"
  }
 },
 "nbformat": 4,
 "nbformat_minor": 0
}
