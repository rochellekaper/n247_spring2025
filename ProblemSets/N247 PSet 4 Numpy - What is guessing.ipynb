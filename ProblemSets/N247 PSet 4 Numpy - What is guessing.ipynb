{
 "cells": [
  {
   "attachments": {},
   "cell_type": "markdown",
   "metadata": {
    "id": "a7g2Pbj1YSNR"
   },
   "source": [
    "# Problem Set 4: Stimulation of guessing\n",
    "Let's say, you just read [a nice paper](https://doi.org/10.1016/j.neuropsychologia.2018.07.035). In said paper, the authors are showing subjects images on the screen and later ask subjects to not only remember which images were studied, but where on the screen they were studied (Panel A). They can then have some measure of the precision of memory for the spatial location by measuring the distance between where the object was originally and where they remembered it being (Panel B).\n",
    "\n",
    "![Paper figure](https://ars.els-cdn.com/content/image/1-s2.0-S0028393218304263-gr1.jpg)\n",
    "\n",
    "The trouble is knowing what guessing would look like. The authors used a uniform distribution as their model for guessing (Panel C). It's not a bad idea. If you didn't remember even studying the image you'd pick some random location on the screen. The trouble is, you're constrained by the size and shape of the screen for your guess. The experimenters were also constrained by the screen when they originally placed the object.\n",
    "\n",
    "Your job here is to determine what guessing would look like. What would the distribution of errors (distances between the original and the guessed location) be if you randomly picked a valid original study location and then randomly picked a valid guess. So, pick 1000 (n_trials) random valid \"study\" locations and for each one, pick 500 (n_subjects) random, valid guessed locations. Figure the distance between these and then plot the histogram of those distances. It's as if you had each subject get the same study phase which had 1000 (n_trials) trials and you're combining the results across subjects (n_subjects * n_trials long)\n",
    "\n",
    "You may want to lookup and use: `np.hypot()` and `plt.hist()`\n",
    "\n"
   ]
  },
  {
   "cell_type": "code",
   "execution_count": 32,
   "metadata": {
    "executionInfo": {
     "elapsed": 484,
     "status": "ok",
     "timestamp": 1618943509422,
     "user": {
      "displayName": "Craig Stark",
      "photoUrl": "https://lh3.googleusercontent.com/a-/AOh14GgHTCQdxwqKpQoLMKn2jOrFLiJic0kn3TdGdABA=s64",
      "userId": "11041610993007874858"
     },
     "user_tz": 420
    },
    "id": "w_f1G6mTYNdu"
   },
   "outputs": [],
   "source": [
    "import numpy as np\n",
    "from matplotlib import pyplot as plt\n",
    "\n",
    "\n",
    "def generate_random_study_locs(n_trials = 1000, n_subjects = 500):\n",
    "    screen_size=np.array((52,29.5))  #52 cm x 29.5 cm \n",
    "    image_size=np.array((4.06,3.25)) \n",
    "\n",
    "    valid_original_range = screen_size - image_size \n",
    "\n",
    "    #for random valid original study locations can have [0:valid_bound_x, 0:valid_bound_y]\n",
    "\n",
    "    #boundaries for random valid guesses is screen size so we can have [0:52, 0:29.5]\n",
    "\n",
    "    rng = np.random.default_rng(123)\n",
    "    dist = np.zeros((n_trials *  n_subjects))\n",
    "\n",
    "    for t in range(n_trials):\n",
    "        random_valid_locs = rng.random((n_subjects, 2)) * valid_original_range\n",
    "        random_guesses = rng.random((n_subjects, 2)) * screen_size\n",
    "        #get difference between valid random original study locations + random valid guesses \n",
    "        delta = random_valid_locs - random_guesses\n",
    "        dist[t:] = np.hypot(delta[:, 0], delta[:,1])\n",
    "        # print(random_valid_locs)\n",
    "        # print(random_guesses)\n",
    "\n",
    "    # print(difference_list)\n",
    "\n",
    "    return dist\n",
    "\n"
   ]
  },
  {
   "cell_type": "code",
   "execution_count": 33,
   "metadata": {},
   "outputs": [
    {
     "ename": "ValueError",
     "evalue": "could not broadcast input array from shape (500,) into shape (500000,)",
     "output_type": "error",
     "traceback": [
      "\u001b[0;31m---------------------------------------------------------------------------\u001b[0m",
      "\u001b[0;31mValueError\u001b[0m                                Traceback (most recent call last)",
      "Cell \u001b[0;32mIn[33], line 1\u001b[0m\n\u001b[0;32m----> 1\u001b[0m diff_list \u001b[38;5;241m=\u001b[39m \u001b[43mgenerate_random_study_locs\u001b[49m\u001b[43m(\u001b[49m\u001b[43m)\u001b[49m\n\u001b[1;32m      2\u001b[0m \u001b[38;5;66;03m# print(diff_list)\u001b[39;00m\n\u001b[1;32m      4\u001b[0m plt\u001b[38;5;241m.\u001b[39mhist(diff_list, bins \u001b[38;5;241m=\u001b[39m \u001b[38;5;241m50\u001b[39m)\n",
      "Cell \u001b[0;32mIn[32], line 23\u001b[0m, in \u001b[0;36mgenerate_random_study_locs\u001b[0;34m(n_trials, n_subjects)\u001b[0m\n\u001b[1;32m     21\u001b[0m     \u001b[38;5;66;03m#get difference between valid random original study locations + random valid guesses \u001b[39;00m\n\u001b[1;32m     22\u001b[0m     delta \u001b[38;5;241m=\u001b[39m random_valid_locs \u001b[38;5;241m-\u001b[39m random_guesses\n\u001b[0;32m---> 23\u001b[0m     \u001b[43mdist\u001b[49m\u001b[43m[\u001b[49m\u001b[43mt\u001b[49m\u001b[43m:\u001b[49m\u001b[43m]\u001b[49m \u001b[38;5;241m=\u001b[39m np\u001b[38;5;241m.\u001b[39mhypot(delta[:, \u001b[38;5;241m0\u001b[39m], delta[:,\u001b[38;5;241m1\u001b[39m])\n\u001b[1;32m     24\u001b[0m     \u001b[38;5;66;03m# print(random_valid_locs)\u001b[39;00m\n\u001b[1;32m     25\u001b[0m     \u001b[38;5;66;03m# print(random_guesses)\u001b[39;00m\n\u001b[1;32m     26\u001b[0m \n\u001b[1;32m     27\u001b[0m \u001b[38;5;66;03m# print(difference_list)\u001b[39;00m\n\u001b[1;32m     29\u001b[0m \u001b[38;5;28;01mreturn\u001b[39;00m dist\n",
      "\u001b[0;31mValueError\u001b[0m: could not broadcast input array from shape (500,) into shape (500000,)"
     ]
    }
   ],
   "source": [
    "diff_list = generate_random_study_locs()\n",
    "# print(diff_list)\n",
    "\n",
    "plt.hist(diff_list, bins = 50)"
   ]
  }
 ],
 "metadata": {
  "colab": {
   "authorship_tag": "ABX9TyOsbpZvRxaJ9Xh10yvzGZT6",
   "name": "N247 PSet: Numpy - What is guessing.ipynb",
   "provenance": []
  },
  "kernelspec": {
   "display_name": "Python 3",
   "name": "python3"
  },
  "language_info": {
   "codemirror_mode": {
    "name": "ipython",
    "version": 3
   },
   "file_extension": ".py",
   "mimetype": "text/x-python",
   "name": "python",
   "nbconvert_exporter": "python",
   "pygments_lexer": "ipython3",
   "version": "3.12.2"
  }
 },
 "nbformat": 4,
 "nbformat_minor": 0
}
