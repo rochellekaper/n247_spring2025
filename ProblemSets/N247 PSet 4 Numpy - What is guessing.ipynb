{
 "cells": [
  {
   "attachments": {},
   "cell_type": "markdown",
   "metadata": {
    "id": "a7g2Pbj1YSNR"
   },
   "source": [
    "# Problem Set 4: Stimulation of guessing\n",
    "Let's say, you just read [a nice paper](https://doi.org/10.1016/j.neuropsychologia.2018.07.035). In said paper, the authors are showing subjects images on the screen and later ask subjects to not only remember which images were studied, but where on the screen they were studied (Panel A). They can then have some measure of the precision of memory for the spatial location by measuring the distance between where the object was originally and where they remembered it being (Panel B).\n",
    "\n",
    "![Paper figure](https://ars.els-cdn.com/content/image/1-s2.0-S0028393218304263-gr1.jpg)\n",
    "\n",
    "The trouble is knowing what guessing would look like. The authors used a uniform distribution as their model for guessing (Panel C). It's not a bad idea. If you didn't remember even studying the image you'd pick some random location on the screen. The trouble is, you're constrained by the size and shape of the screen for your guess. The experimenters were also constrained by the screen when they originally placed the object.\n",
    "\n",
    "Your job here is to determine what guessing would look like. What would the distribution of errors (distances between the original and the guessed location) be if you randomly picked a valid original study location and then randomly picked a valid guess. So, pick 1000 (n_trials) random valid \"study\" locations and for each one, pick 500 (n_subjects) random, valid guessed locations. Figure the distance between these and then plot the histogram of those distances. It's as if you had each subject get the same study phase which had 1000 (n_trials) trials and you're combining the results across subjects (n_subjects * n_trials long)\n",
    "\n",
    "You may want to lookup and use: `np.hypot()` and `plt.hist()`\n",
    "\n"
   ]
  },
  {
   "cell_type": "code",
   "execution_count": 47,
   "metadata": {
    "executionInfo": {
     "elapsed": 484,
     "status": "ok",
     "timestamp": 1618943509422,
     "user": {
      "displayName": "Craig Stark",
      "photoUrl": "https://lh3.googleusercontent.com/a-/AOh14GgHTCQdxwqKpQoLMKn2jOrFLiJic0kn3TdGdABA=s64",
      "userId": "11041610993007874858"
     },
     "user_tz": 420
    },
    "id": "w_f1G6mTYNdu"
   },
   "outputs": [],
   "source": [
    "import numpy as np\n",
    "from matplotlib import pyplot as plt\n",
    "\n",
    "\n",
    "def generate_random_study_locs(n_trials = 1000, n_subjects = 500):\n",
    "    screen_size=np.array((52,29.5))  #52 cm x 29.5 cm \n",
    "    image_size=np.array((4.06,3.25)) \n",
    "\n",
    "    valid_original_range = screen_size - image_size \n",
    "\n",
    "    #for random valid original study locations can have [0:valid_bound_x, 0:valid_bound_y]\n",
    "    #boundaries for random valid guesses is screen size so we can have [0:52, 0:29.5]\n",
    "\n",
    "    rng = np.random.default_rng(314)\n",
    "    distances = []\n",
    "\n",
    "    for t in range(n_trials):\n",
    "        random_valid_locs = rng.random((n_subjects, 2)) * valid_original_range\n",
    "        random_guesses = rng.random((n_subjects, 2)) * screen_size \n",
    "\n",
    "        #get difference between valid random original study locations + random valid guesses \n",
    "        delta = random_valid_locs - random_guesses\n",
    "\n",
    "        #calculate distance between valid random original study locations + random valid guesses \n",
    "        dist = np.hypot(delta[:, 0], delta[:, 1])\n",
    "        distances.extend(dist.flatten()) #flatten array and add to distances list using extend function\n",
    "\n",
    "    return distances\n",
    "\n"
   ]
  },
  {
   "cell_type": "code",
   "execution_count": null,
   "metadata": {},
   "outputs": [
    {
     "data": {
      "text/plain": [
       "(array([1.4340e+03, 4.0890e+03, 6.4500e+03, 8.8340e+03, 1.0760e+04,\n",
       "        1.2823e+04, 1.4337e+04, 1.5571e+04, 1.7017e+04, 1.7878e+04,\n",
       "        1.9055e+04, 1.9451e+04, 2.0220e+04, 2.0170e+04, 2.0490e+04,\n",
       "        2.0342e+04, 1.9887e+04, 1.9552e+04, 1.9307e+04, 1.8594e+04,\n",
       "        1.7405e+04, 1.6680e+04, 1.5626e+04, 1.4531e+04, 1.3523e+04,\n",
       "        1.2195e+04, 1.1254e+04, 1.0585e+04, 9.8080e+03, 9.0310e+03,\n",
       "        8.4110e+03, 7.7500e+03, 7.0670e+03, 6.6100e+03, 5.8780e+03,\n",
       "        5.2890e+03, 4.6500e+03, 3.9830e+03, 3.4530e+03, 2.8240e+03,\n",
       "        2.2670e+03, 1.7270e+03, 1.3060e+03, 8.8500e+02, 5.5100e+02,\n",
       "        2.4100e+02, 1.3100e+02, 5.5000e+01, 1.6000e+01, 7.0000e+00]),\n",
       " array([3.70684834e-02, 1.18937067e+00, 2.34167286e+00, 3.49397505e+00,\n",
       "        4.64627724e+00, 5.79857943e+00, 6.95088162e+00, 8.10318381e+00,\n",
       "        9.25548600e+00, 1.04077882e+01, 1.15600904e+01, 1.27123926e+01,\n",
       "        1.38646948e+01, 1.50169969e+01, 1.61692991e+01, 1.73216013e+01,\n",
       "        1.84739035e+01, 1.96262057e+01, 2.07785079e+01, 2.19308101e+01,\n",
       "        2.30831123e+01, 2.42354145e+01, 2.53877167e+01, 2.65400188e+01,\n",
       "        2.76923210e+01, 2.88446232e+01, 2.99969254e+01, 3.11492276e+01,\n",
       "        3.23015298e+01, 3.34538320e+01, 3.46061342e+01, 3.57584364e+01,\n",
       "        3.69107385e+01, 3.80630407e+01, 3.92153429e+01, 4.03676451e+01,\n",
       "        4.15199473e+01, 4.26722495e+01, 4.38245517e+01, 4.49768539e+01,\n",
       "        4.61291561e+01, 4.72814583e+01, 4.84337604e+01, 4.95860626e+01,\n",
       "        5.07383648e+01, 5.18906670e+01, 5.30429692e+01, 5.41952714e+01,\n",
       "        5.53475736e+01, 5.64998758e+01, 5.76521780e+01]),\n",
       " <BarContainer object of 50 artists>)"
      ]
     },
     "execution_count": 50,
     "metadata": {},
     "output_type": "execute_result"
    },
    {
     "data": {
      "image/png": "[encoded data removed]",
      "text/plain": [
       "<Figure size 640x480 with 1 Axes>"
      ]
     },
     "metadata": {},
     "output_type": "display_data"
    }
   ],
   "source": [
    "diff_list = generate_random_study_locs()\n",
    "\n",
    "plt.hist(diff_list, bins = 50, color = 'purple')"
   ]
  }
 ],
 "metadata": {
  "colab": {
   "authorship_tag": "ABX9TyOsbpZvRxaJ9Xh10yvzGZT6",
   "name": "N247 PSet: Numpy - What is guessing.ipynb",
   "provenance": []
  },
  "kernelspec": {
   "display_name": "Python 3",
   "name": "python3"
  },
  "language_info": {
   "codemirror_mode": {
    "name": "ipython",
    "version": 3
   },
   "file_extension": ".py",
   "mimetype": "text/x-python",
   "name": "python",
   "nbconvert_exporter": "python",
   "pygments_lexer": "ipython3",
   "version": "3.12.2"
  }
 },
 "nbformat": 4,
 "nbformat_minor": 0
}
