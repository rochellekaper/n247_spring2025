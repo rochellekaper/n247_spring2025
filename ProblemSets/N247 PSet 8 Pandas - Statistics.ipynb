{
 "cells": [
  {
   "cell_type": "markdown",
   "metadata": {
    "id": "YL8tTBT8zlie"
   },
   "source": [
    "There are a number of ways of running stats on your Pandas data frames.  For the R-like approach, you can use [Statsmodels](http://www.statsmodels.org/) and go very deep in to things.  Often, though, the tools baked into the [scipy.stats](https://docs.scipy.org/doc/scipy/reference/stats.html#module-scipy.stats) library will give you what you need.\n",
    "\n",
    "1) Take that same dataset used in the prior two Pandas assignments and perform a set of independent-samples t-tests, comparing the youngest group (AgeGroup = 1) to the oldest group (AgeGroup = 4) on LDI, Recognition, and RAVLT metrics.  In the end, print a summary table that lists the metric, the degrees of freedom (total count of the two sets minus two), the t-value (formatted to two decimal places) and the p-value (formatted to four decimal places).  Thus, your code should produce:\n",
    "\n",
    "```\n",
    "LDI t(45)=5.32, p=0.0000\n",
    "Recog t(45)=1.76, p=0.0847\n",
    "RAVLT t(45)=3.05, p=0.0038\n",
    "```\n",
    "Bonus points if you write a function to do the t-test and format the output that you call on 3x.\n",
    "\n",
    "2) Plot a histogram of all the RAVLT scores and you may notice this doesn't look particularly Gaussian (normal).  This starts to get you worried that the t-test you did above isn't valid (as t-tests assume normal distributions).  Now, in truth, you should determine whether each of your young and old groups looks normal (or use a built-in test for normality), but to assuage your concerns, you decide to run the non-parametric Mann-Whitney U test on the young-vs-old RAVLT scores.  Run that test and report the results.\n",
    "\n",
    "Not just kudos, but kleos to anyone who automates a normality test and, when it flags an issue, runs the non-parametric test instead of the t-test. (Still produce the full output for #1 if you do this.)"
   ]
  },
  {
   "cell_type": "code",
   "execution_count": 63,
   "metadata": {
    "id": "v7EMeNTXzZcr"
   },
   "outputs": [],
   "source": [
    "import numpy as np\n",
    "import pandas as pd\n",
    "from scipy import stats\n",
    "from prettytable import PrettyTable\n",
    "import requests \n",
    "import io \n",
    "import matplotlib.pyplot as plt\n",
    "\n",
    "csvfname='https://raw.githubusercontent.com/celstark/n247data/main/data/StarkData.csv'\n",
    "\n",
    "s = requests.get(csvfname).content\n",
    "data = pd.read_csv(io.StringIO(s.decode('utf-8')))\n",
    "\n",
    "# Reminder: the CSV file is 'https://raw.githubusercontent.com/celstark/n247data/main/data/StarkData.csv'"
   ]
  },
  {
   "cell_type": "code",
   "execution_count": 2,
   "metadata": {},
   "outputs": [],
   "source": [
    "'''compute 2 metrics from the data and store them in the data frame:\n",
    "- LDI = pS_L - pS_F\n",
    "- Recognition = pO_R - pO_F '''\n",
    "\n",
    "data['LDI'] = data['pS_L'] -  data['pS_F']\n",
    "data['Recognition'] = data['pO_R'] -  data['pO_F']"
   ]
  },
  {
   "cell_type": "code",
   "execution_count": 20,
   "metadata": {},
   "outputs": [],
   "source": [
    "'''Take that same dataset used in the prior two Pandas assignments and perform a set of independent-samples t-tests, \n",
    "comparing the youngest group (AgeGroup = 1) to the oldest group (AgeGroup = 4) on LDI, Recognition, and RAVLT metrics.\n",
    " In the end, print a summary table that lists the metric, the degrees of freedom (total count of the two sets minus two), \n",
    "the t-value (formatted to two decimal places) and the p-value (formatted to four decimal places). '''\n",
    "\n",
    "age_grp=data.groupby('AgeGroup')\n",
    "youngest=age_grp.get_group(1).copy()\n",
    "oldest=age_grp.get_group(4).copy()\n",
    "\n",
    "ldi_stats = stats.ttest_ind(youngest['LDI'], oldest['LDI'])\n",
    "ravlt_stats = stats.ttest_ind(youngest['RAVLT'], oldest['RAVLT'])\n",
    "recog_stats = stats.ttest_ind(youngest['Recognition'], oldest['Recognition'])\n",
    "\n"
   ]
  },
  {
   "cell_type": "code",
   "execution_count": 52,
   "metadata": {},
   "outputs": [
    {
     "name": "stdout",
     "output_type": "stream",
     "text": [
      "+-------------+------------+---------+\n",
      "| metric      | statistic  | p value |\n",
      "+-------------+------------+---------+\n",
      "| LDI         | t(45)=5.32 |   0.0   |\n",
      "| Recognition | t(45)=1.76 |  0.0847 |\n",
      "| RAVLT       | t(45)=3.05 |  0.0038 |\n",
      "+-------------+------------+---------+\n"
     ]
    }
   ],
   "source": [
    "#create pretty summary table\n",
    "data = [['LDI', f't({round(ldi_stats.df)})={ldi_stats.statistic.round(2)}', ldi_stats.pvalue.round(4)],\n",
    "        ['Recognition', f't({round(recog_stats.df)})={recog_stats.statistic.round(2)}', recog_stats.pvalue.round(4)],\n",
    "        ['RAVLT', f't({round(ravlt_stats.df)})={ravlt_stats.statistic.round(2)}', ravlt_stats.pvalue.round(4)]]\n",
    "\n",
    "headers = ['metric', 'statistic', 'p value']\n",
    "\n",
    "table = PrettyTable(headers)\n",
    "for row in data:\n",
    "    table.add_row(row)\n",
    "\n",
    "table.align['metric'] = 'l' \n",
    "table.padding_width = 1 \n",
    "print(table)"
   ]
  },
  {
   "cell_type": "code",
   "execution_count": 64,
   "metadata": {},
   "outputs": [
    {
     "data": {
      "text/plain": [
       "(array([ 4.,  1.,  4.,  9.,  7., 10., 13., 15., 11., 24.]),\n",
       " array([ 5.,  6.,  7.,  8.,  9., 10., 11., 12., 13., 14., 15.]),\n",
       " <BarContainer object of 10 artists>)"
      ]
     },
     "execution_count": 64,
     "metadata": {},
     "output_type": "execute_result"
    },
    {
     "data": {
      "image/png": "[encoded data removed]",
      "text/plain": [
       "<Figure size 640x480 with 1 Axes>"
      ]
     },
     "metadata": {},
     "output_type": "display_data"
    }
   ],
   "source": [
    "#plot histogram of all RAVLT scores \n",
    "plt.hist(data['RAVLT'])"
   ]
  },
  {
   "cell_type": "code",
   "execution_count": 66,
   "metadata": {},
   "outputs": [
    {
     "name": "stdout",
     "output_type": "stream",
     "text": [
      "+--------+-----------+---------+\n",
      "| metric | statistic | p value |\n",
      "+--------+-----------+---------+\n",
      "| RAVLT  |    3.05   |  0.0038 |\n",
      "+--------+-----------+---------+\n"
     ]
    }
   ],
   "source": [
    "#run the non-parametric Mann-Whitney U test on the young-vs-old RAVLT scores\n",
    "stats.mannwhitneyu(youngest['RAVLT'], oldest['RAVLT'])\n",
    "\n",
    "#format results \n",
    "data = [['RAVLT', ravlt_stats.statistic.round(2), ravlt_stats.pvalue.round(4)]]\n",
    "\n",
    "headers = ['metric', 'statistic', 'p value']\n",
    "\n",
    "table = PrettyTable(headers)\n",
    "for row in data:\n",
    "    table.add_row(row)\n",
    "\n",
    "table.align['metric'] = 'l' \n",
    "table.padding_width = 1 \n",
    "print(table)"
   ]
  }
 ],
 "metadata": {
  "colab": {
   "authorship_tag": "ABX9TyPWJoXTdpUYlD5NbODGL6l/",
   "name": "N247 PSet Pandas 3 - Statistics.ipynb",
   "provenance": []
  },
  "kernelspec": {
   "display_name": "Python 3",
   "name": "python3"
  },
  "language_info": {
   "codemirror_mode": {
    "name": "ipython",
    "version": 3
   },
   "file_extension": ".py",
   "mimetype": "text/x-python",
   "name": "python",
   "nbconvert_exporter": "python",
   "pygments_lexer": "ipython3",
   "version": "3.12.2"
  }
 },
 "nbformat": 4,
 "nbformat_minor": 0
}
