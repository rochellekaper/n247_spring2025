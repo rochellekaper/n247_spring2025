{
 "cells": [
  {
   "cell_type": "markdown",
   "metadata": {
    "id": "YL8tTBT8zlie"
   },
   "source": [
    "There are a number of ways of running stats on your Pandas data frames.  For the R-like approach, you can use [Statsmodels](http://www.statsmodels.org/) and go very deep in to things.  Often, though, the tools baked into the [scipy.stats](https://docs.scipy.org/doc/scipy/reference/stats.html#module-scipy.stats) library will give you what you need.\n",
    "\n",
    "1) Take that same dataset used in the prior two Pandas assignments and perform a set of independent-samples t-tests, comparing the youngest group (AgeGroup = 1) to the oldest group (AgeGroup = 4) on LDI, Recognition, and RAVLT metrics.  In the end, print a summary table that lists the metric, the degrees of freedom (total count of the two sets minus two), the t-value (formatted to two decimal places) and the p-value (formatted to four decimal places).  Thus, your code should produce:\n",
    "\n",
    "```\n",
    "LDI t(45)=5.32, p=0.0000\n",
    "Recog t(45)=1.76, p=0.0847\n",
    "RAVLT t(45)=3.05, p=0.0038\n",
    "```\n",
    "Bonus points if you write a function to do the t-test and format the output that you call on 3x.\n",
    "\n",
    "2) Plot a histogram of all the RAVLT scores and you may notice this doesn't look particularly Gaussian (normal).  This starts to get you worried that the t-test you did above isn't valid (as t-tests assume normal distributions).  Now, in truth, you should determine whether each of your young and old groups looks normal (or use a built-in test for normality), but to assuage your concerns, you decide to run the non-parametric Mann-Whitney U test on the young-vs-old RAVLT scores.  Run that test and report the results.\n",
    "\n",
    "Not just kudos, but kleos to anyone who automates a normality test and, when it flags an issue, runs the non-parametric test instead of the t-test. (Still produce the full output for #1 if you do this.)"
   ]
  },
  {
   "cell_type": "code",
   "execution_count": 1,
   "metadata": {
    "id": "v7EMeNTXzZcr"
   },
   "outputs": [],
   "source": [
    "import numpy as np\n",
    "import pandas as pd\n",
    "from scipy import stats\n",
    "from prettytable import PrettyTable\n",
    "import requests \n",
    "import io \n",
    "import matplotlib.pyplot as plt\n",
    "\n",
    "csvfname='https://raw.githubusercontent.com/celstark/n247data/main/data/StarkData.csv'\n",
    "\n",
    "s = requests.get(csvfname).content\n",
    "data = pd.read_csv(io.StringIO(s.decode('utf-8')))\n",
    "\n",
    "# Reminder: the CSV file is 'https://raw.githubusercontent.com/celstark/n247data/main/data/StarkData.csv'"
   ]
  },
  {
   "cell_type": "code",
   "execution_count": 2,
   "metadata": {},
   "outputs": [],
   "source": [
    "'''compute 2 metrics from the data and store them in the data frame:\n",
    "- LDI = pS_L - pS_F\n",
    "- Recognition = pO_R - pO_F '''\n",
    "\n",
    "data['LDI'] = data['pS_L'] -  data['pS_F']\n",
    "data['Recognition'] = data['pO_R'] -  data['pO_F']"
   ]
  },
  {
   "cell_type": "code",
   "execution_count": 3,
   "metadata": {},
   "outputs": [],
   "source": [
    "'''Take that same dataset used in the prior two Pandas assignments and perform a set of independent-samples t-tests, \n",
    "comparing the youngest group (AgeGroup = 1) to the oldest group (AgeGroup = 4) on LDI, Recognition, and RAVLT metrics.\n",
    " In the end, print a summary table that lists the metric, the degrees of freedom (total count of the two sets minus two), \n",
    "the t-value (formatted to two decimal places) and the p-value (formatted to four decimal places). '''\n",
    "\n",
    "age_grp=data.groupby('AgeGroup')\n",
    "youngest=age_grp.get_group(1).copy()\n",
    "oldest=age_grp.get_group(4).copy()\n",
    "\n",
    "ldi_stats = stats.ttest_ind(youngest['LDI'], oldest['LDI'])\n",
    "ravlt_stats = stats.ttest_ind(youngest['RAVLT'], oldest['RAVLT'])\n",
    "recog_stats = stats.ttest_ind(youngest['Recognition'], oldest['Recognition'])\n",
    "\n"
   ]
  },
  {
   "cell_type": "code",
   "execution_count": 4,
   "metadata": {},
   "outputs": [
    {
     "name": "stdout",
     "output_type": "stream",
     "text": [
      "+-------------+------------+---------+\n",
      "| metric      | statistic  | p value |\n",
      "+-------------+------------+---------+\n",
      "| LDI         | t(45)=5.32 |   0.0   |\n",
      "| Recognition | t(45)=1.76 |  0.0847 |\n",
      "| RAVLT       | t(45)=3.05 |  0.0038 |\n",
      "+-------------+------------+---------+\n"
     ]
    }
   ],
   "source": [
    "#create pretty summary table\n",
    "sum_table = [['LDI', f't({round(ldi_stats.df)})={ldi_stats.statistic.round(2)}', ldi_stats.pvalue.round(4)],\n",
    "        ['Recognition', f't({round(recog_stats.df)})={recog_stats.statistic.round(2)}', recog_stats.pvalue.round(4)],\n",
    "        ['RAVLT', f't({round(ravlt_stats.df)})={ravlt_stats.statistic.round(2)}', ravlt_stats.pvalue.round(4)]]\n",
    "\n",
    "headers = ['metric', 'statistic', 'p value']\n",
    "\n",
    "table = PrettyTable(headers)\n",
    "for row in sum_table:\n",
    "    table.add_row(row)\n",
    "\n",
    "table.align['metric'] = 'l' \n",
    "table.padding_width = 1 \n",
    "print(table)"
   ]
  },
  {
   "cell_type": "code",
   "execution_count": 62,
   "metadata": {},
   "outputs": [],
   "source": [
    "'''BONUS: function that generates t-test & pretty summary output'''\n",
    "def t_test(column):\n",
    "    statistics_column = stats.ttest_ind(youngest[column], oldest[column])\n",
    "    col_table = [[f'{column}', f't({round(statistics_column.df)})={statistics_column.statistic.round(2)}', statistics_column.pvalue.round(4)]]\n",
    "\n",
    "    headers_col = ['metric', 'statistic', 'p value']\n",
    "\n",
    "    sum_table = PrettyTable(headers_col)\n",
    "\n",
    "    for row_col in col_table:\n",
    "        sum_table.add_row(row_col)\n",
    "\n",
    "    sum_table.align['metric'] = 'l' \n",
    "    sum_table.padding_width = 1 \n",
    "\n",
    "    return sum_table\n",
    "    \n",
    "\n",
    "    "
   ]
  },
  {
   "cell_type": "code",
   "execution_count": 66,
   "metadata": {},
   "outputs": [
    {
     "name": "stdout",
     "output_type": "stream",
     "text": [
      "+--------+------------+---------+\n",
      "| metric | statistic  | p value |\n",
      "+--------+------------+---------+\n",
      "| LDI    | t(45)=5.32 |   0.0   |\n",
      "+--------+------------+---------+\n",
      "+-------------+------------+---------+\n",
      "| metric      | statistic  | p value |\n",
      "+-------------+------------+---------+\n",
      "| Recognition | t(45)=1.76 |  0.0847 |\n",
      "+-------------+------------+---------+\n",
      "+--------+------------+---------+\n",
      "| metric | statistic  | p value |\n",
      "+--------+------------+---------+\n",
      "| RAVLT  | t(45)=3.05 |  0.0038 |\n",
      "+--------+------------+---------+\n"
     ]
    }
   ],
   "source": [
    "'''Print summary table for each column'''\n",
    "for c in ['LDI', 'Recognition', 'RAVLT']:\n",
    "    print(t_test(c))"
   ]
  },
  {
   "cell_type": "code",
   "execution_count": 5,
   "metadata": {},
   "outputs": [
    {
     "data": {
      "text/plain": [
       "(array([ 4.,  1.,  4.,  9.,  7., 10., 13., 15., 11., 24.]),\n",
       " array([ 5.,  6.,  7.,  8.,  9., 10., 11., 12., 13., 14., 15.]),\n",
       " <BarContainer object of 10 artists>)"
      ]
     },
     "execution_count": 5,
     "metadata": {},
     "output_type": "execute_result"
    },
    {
     "data": {
      "image/png": "[encoded data removed]",
      "text/plain": [
       "<Figure size 640x480 with 1 Axes>"
      ]
     },
     "metadata": {},
     "output_type": "display_data"
    }
   ],
   "source": [
    "#plot histogram of all RAVLT scores \n",
    "plt.hist(data['RAVLT'])"
   ]
  },
  {
   "cell_type": "code",
   "execution_count": 59,
   "metadata": {},
   "outputs": [
    {
     "name": "stdout",
     "output_type": "stream",
     "text": [
      "+--------+-----------+---------+\n",
      "| metric | statistic | p value |\n",
      "+--------+-----------+---------+\n",
      "| RAVLT  |    3.05   |  0.0038 |\n",
      "+--------+-----------+---------+\n"
     ]
    }
   ],
   "source": [
    "#run the non-parametric Mann-Whitney U test on the young-vs-old RAVLT scores\n",
    "stats.mannwhitneyu(youngest['RAVLT'], oldest['RAVLT'])\n",
    "\n",
    "#format results \n",
    "sum_table2 = [['RAVLT', ravlt_stats.statistic.round(2), ravlt_stats.pvalue.round(4)]]\n",
    "\n",
    "headers = ['metric', 'statistic', 'p value']\n",
    "\n",
    "table = PrettyTable(headers)\n",
    "for row in sum_table2:\n",
    "    table.add_row(row)\n",
    "\n",
    "table.align['metric'] = 'l' \n",
    "table.padding_width = 1 \n",
    "print(table)"
   ]
  },
  {
   "cell_type": "code",
   "execution_count": 41,
   "metadata": {},
   "outputs": [],
   "source": [
    "'''BONUS: Automate a normality test -- when it flags an issue,\n",
    "run a nonparametric test instead of parametric t-test. \n",
    "\n",
    "Rules: \n",
    "- will use nonparametric test if p value is equal to or greater to 0.05 (alpha threshold).\n",
    "- will use parametric test if p_value is LESS than 0.05. '''\n",
    "\n",
    "\n",
    "def normality_test(column):\n",
    "    stat, p_val = stats.shapiro(data[column])\n",
    "    parametric = None\n",
    "    \n",
    "    alpha_threshold = 0.05 \n",
    "    if p_val < alpha_threshold: #p_value is less than 0.05. Proceed with t test.\n",
    "        print(f\"testing: {column}: Normality test passed. p_value is {p_val}. Proceeding with t-test!\")\n",
    "        statistics = stats.ttest_ind(youngest[column], oldest[column])\n",
    "        parametric = True\n",
    "        \n",
    "\n",
    "    else: #p_value is equal to or greater than 0.05. Use non-parametric Mann-Whitney U test.\n",
    "        statistics = stats.mannwhitneyu(youngest[column], oldest[column])\n",
    "        print(f\"testing: {column}: Data is non-parametric! P_value is {p_val}. Using Mann-Whitney U test instead.\")\n",
    "        parametric = False\n",
    "\n",
    "\n",
    "    return statistics, parametric\n"
   ]
  },
  {
   "cell_type": "code",
   "execution_count": 53,
   "metadata": {},
   "outputs": [
    {
     "name": "stdout",
     "output_type": "stream",
     "text": [
      "testing: LDI: Data is non-parametric! P_value is 0.06387353023890628. Using Mann-Whitney U test instead.\n",
      "testing: Recognition: Normality test passed. p_value is 0.000791965219328665. Proceeding with t-test!\n",
      "testing: RAVLT: Normality test passed. p_value is 0.00045354338809589585. Proceeding with t-test!\n",
      "+-------------+------------+----------+-------------------------------+\n",
      "| metric      | statistic  | p value  |           Test Used           |\n",
      "+-------------+------------+----------+-------------------------------+\n",
      "| LDI         |   474.5    |  {0.0}   | NonParametric: Mann Whitney U |\n",
      "| Recognition | t(45)=1.76 | {0.0847} |       Parametric: T-test      |\n",
      "| RAVLT       | t(45)=3.05 | {0.0038} |       Parametric: T-test      |\n",
      "+-------------+------------+----------+-------------------------------+\n"
     ]
    }
   ],
   "source": [
    "sum_table_normality = []\n",
    "test_used = ''\n",
    "\n",
    "for c in ['LDI', 'Recognition', 'RAVLT']:\n",
    "    stat, is_parametric = normality_test(c)\n",
    "    if is_parametric:\n",
    "        test_used = 'Parametric: T-test'\n",
    "        df = str(f't({round(stat.df)})=')\n",
    "    else: \n",
    "        test_used = 'NonParametric: Mann Whitney U'\n",
    "        df = ''\n",
    "    sum_table_normality.append([f'{c}', f'{df}{stat.statistic.round(2)}', {stat.pvalue.round(4)}, test_used])\n",
    "\n",
    "\n",
    "headers = ['metric', 'statistic', 'p value', 'Test Used']\n",
    "table = PrettyTable(headers)\n",
    "for row in sum_table_normality:\n",
    "    table.add_row(row)\n",
    "\n",
    "table.align['metric'] = 'l' \n",
    "table.padding_width = 1 \n",
    "print(table)\n"
   ]
  }
 ],
 "metadata": {
  "colab": {
   "authorship_tag": "ABX9TyPWJoXTdpUYlD5NbODGL6l/",
   "name": "N247 PSet Pandas 3 - Statistics.ipynb",
   "provenance": []
  },
  "kernelspec": {
   "display_name": "Python 3",
   "name": "python3"
  },
  "language_info": {
   "codemirror_mode": {
    "name": "ipython",
    "version": 3
   },
   "file_extension": ".py",
   "mimetype": "text/x-python",
   "name": "python",
   "nbconvert_exporter": "python",
   "pygments_lexer": "ipython3",
   "version": "3.11.6"
  }
 },
 "nbformat": 4,
 "nbformat_minor": 0
}
