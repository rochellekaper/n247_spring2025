{
 "cells": [
  {
   "attachments": {},
   "cell_type": "markdown",
   "metadata": {
    "id": "a1X6A3-6SsQs"
   },
   "source": [
    "# Problem Set 3: Finding bad values\n",
    "In this problem set, you will write two functions:\n",
    "    \n",
    "Write a function `FindBadValuesSingleColumn` that will take as input:\n",
    "\n",
    "- a filename (two samples are given here)\n",
    "- a column number\n",
    "- a threshold value\n",
    "    \n",
    "The function should return the rows in which the value in which \n",
    "that column's value exceeds the threshold.  Return this as an \n",
    "np.array.  \n",
    "\n",
    "Note:\n",
    "- Use NumPy and not Pandas for this\n",
    "- Yes, you must deal with the fact that the 'tsv' file has a header\n",
    "- Handle columns with nan values treating them as 0\n",
    "- Look at `np.genfromtxt` and `np.argwhere`\n",
    "\n",
    "Example:\n",
    "```\n",
    "FindBadValuesSingleColumn(fname1,0,0.75)\n",
    "array([[  1],\n",
    "       [ 16],\n",
    "       [ 76],\n",
    "       [ 82],\n",
    "       [102],\n",
    "       [115],\n",
    "       [116],\n",
    "       [143],\n",
    "       [151],\n",
    "       [152]])\n",
    "    \n",
    "\n",
    "FindBadValuesSingleColumn(fname1,5,0.2)\n",
    "array([[122],\n",
    "       [123],\n",
    "       [125],\n",
    "       [127],\n",
    "       [158],\n",
    "       [159]])\n",
    "\n",
    "FindBadValuesSingleColumn(fname2,5,0.2)\n",
    "array([[184],\n",
    "       [186]])\n",
    "```\n",
    "\n",
    "Write a second function, `FindBadValuesTwoColumns` that is like the above but takes:\n",
    "- a filename\n",
    "- a list of two columns (or tuple)\n",
    "- a list of two thresholds\n",
    "\n",
    "The function should return an `np.array` of all the indicies\n",
    "in which either threshold is exceeded.  So, if c0>t0 _OR_ if\n",
    "c1>t1 it gets flagged.  Thus, it should be longer than either\n",
    "alone.\n",
    "\n",
    "Example:\n",
    "```\n",
    "FindBadValuesTwoColumns(fname1,(0,5),(0.75,0.2))\n",
    "array([  1,  16,  76,  82, 102, 115, 116, 122, 123, 125, 127, 143, 151,\n",
    "       152, 158, 159])\n",
    "```"
   ]
  },
  {
   "cell_type": "code",
   "execution_count": 69,
   "metadata": {
    "executionInfo": {
     "elapsed": 1230,
     "status": "ok",
     "timestamp": 1618342282165,
     "user": {
      "displayName": "Craig Stark",
      "photoUrl": "https://lh3.googleusercontent.com/a-/AOh14GgHTCQdxwqKpQoLMKn2jOrFLiJic0kn3TdGdABA=s64",
      "userId": "11041610993007874858"
     },
     "user_tz": 420
    },
    "id": "6-1VE9tdSqUa"
   },
   "outputs": [],
   "source": [
    "import numpy as np\n",
    "fname1='https://raw.githubusercontent.com/celstark/n247data/main/data/sub-s2_ses-Day1_task-4min_bold_confounds.tsv'\n",
    "fname2='https://raw.githubusercontent.com/celstark/n247data/main/data/sub-s2_ses-Day1_task-5min_bold_confounds.tsv'\n",
    "\n",
    "def FindBadValuesSingleColumn(fname,column,threshold): \n",
    "        f = np.genfromtxt(fname=fname, skip_header=1, filling_values=0) #use np.genfromtxt to skip header and set N/A values to 0  \n",
    "        column_data = f[:, column]\n",
    "        \n",
    "        #return all INDICES where threshold is exceeded. use np.argwhere to return non-zero values\n",
    "        threshold_exceeded = np.argwhere(column_data > threshold)\n",
    "\n",
    "        return np.array(threshold_exceeded)"
   ]
  },
  {
   "cell_type": "code",
   "execution_count": 70,
   "metadata": {},
   "outputs": [],
   "source": [
    "\n",
    "def FindBadValuesTwoColumns(fname,columns,thresholds): \n",
    "    '''parameters: filename, list or tuple of 2 columns, list or tuple of 2 thresholds'''\n",
    "    c0, c1 = columns\n",
    "    t0, t1 = thresholds\n",
    "\n",
    "    f = np.genfromtxt(fname=fname, skip_header=1, filling_values=0) #use np.genfromtxt to skip header and set N/A values to 0  \n",
    "    column_data_0= f[:, c0]\n",
    "    column_data_1= f[:, c1]\n",
    "        \n",
    "    threshold_exceeded_0 = np.argwhere(column_data_0 > t0) #return all INDICES where threshold is exceeded for column 0. use np.argwhere to return non-zero values\n",
    "    threshold_exceeded_1 = np.argwhere(column_data_1 > t1) #return all INDICES where threshold is exceeded for column 1. use np.argwhere to return non-zero values\n",
    "\n",
    "\n",
    "    #merge the 2 arrays for each column\n",
    "    threshold_exceeded = np.concatenate((threshold_exceeded_0, threshold_exceeded_1))\n",
    "\n",
    "    return np.array(threshold_exceeded) "
   ]
  }
 ],
 "metadata": {
  "colab": {
   "authorship_tag": "ABX9TyMvGp9+BkgSSBgVt0VsXVKW",
   "name": "N247 Pset: Numpy - Finding bad values.ipynb",
   "provenance": [
    {
     "file_id": "1v1KPyusd-Gc77DiPmQcfaDdA2p6Ar9S-",
     "timestamp": 1616457193270
    }
   ]
  },
  "kernelspec": {
   "display_name": "Python 3",
   "language": "python",
   "name": "python3"
  },
  "language_info": {
   "codemirror_mode": {
    "name": "ipython",
    "version": 3
   },
   "file_extension": ".py",
   "mimetype": "text/x-python",
   "name": "python",
   "nbconvert_exporter": "python",
   "pygments_lexer": "ipython3",
   "version": "3.12.2"
  }
 },
 "nbformat": 4,
 "nbformat_minor": 0
}
