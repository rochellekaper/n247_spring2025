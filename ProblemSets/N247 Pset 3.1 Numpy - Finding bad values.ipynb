{
 "cells": [
  {
   "attachments": {},
   "cell_type": "markdown",
   "metadata": {
    "id": "a1X6A3-6SsQs"
   },
   "source": [
    "# Problem Set 3: Finding bad values\n",
    "In this problem set, you will write two functions:\n",
    "    \n",
    "Write a function `FindBadValuesSingleColumn` that will take as input:\n",
    "\n",
    "- a filename (two samples are given here)\n",
    "- a column number\n",
    "- a threshold value\n",
    "    \n",
    "The function should return the rows in which the value in which \n",
    "that column's value exceeds the threshold.  Return this as an \n",
    "np.array.  \n",
    "\n",
    "Note:\n",
    "- Use NumPy and not Pandas for this\n",
    "- Yes, you must deal with the fact that the 'tsv' file has a header\n",
    "- Handle columns with nan values treating them as 0\n",
    "- Look at `np.genfromtxt` and `np.argwhere`\n",
    "\n",
    "Example:\n",
    "```\n",
    "FindBadValuesSingleColumn(fname1,0,0.75)\n",
    "array([[  1],\n",
    "       [ 16],\n",
    "       [ 76],\n",
    "       [ 82],\n",
    "       [102],\n",
    "       [115],\n",
    "       [116],\n",
    "       [143],\n",
    "       [151],\n",
    "       [152]])\n",
    "    \n",
    "\n",
    "FindBadValuesSingleColumn(fname1,5,0.2)\n",
    "array([[122],\n",
    "       [123],\n",
    "       [125],\n",
    "       [127],\n",
    "       [158],\n",
    "       [159]])\n",
    "\n",
    "FindBadValuesSingleColumn(fname2,5,0.2)\n",
    "array([[184],\n",
    "       [186]])\n",
    "```\n",
    "\n",
    "Write a second function, `FindBadValuesTwoColumns` that is like the above but takes:\n",
    "- a filename\n",
    "- a list of two columns (or tuple)\n",
    "- a list of two thresholds\n",
    "\n",
    "The function should return an `np.array` of all the indicies\n",
    "in which either threshold is exceeded.  So, if c0>t0 _OR_ if\n",
    "c1>t1 it gets flagged.  Thus, it should be longer than either\n",
    "alone.\n",
    "\n",
    "Example:\n",
    "```\n",
    "FindBadValuesTwoColumns(fname1,(0,5),(0.75,0.2))\n",
    "array([  1,  16,  76,  82, 102, 115, 116, 122, 123, 125, 127, 143, 151,\n",
    "       152, 158, 159])\n",
    "```"
   ]
  },
  {
   "cell_type": "code",
   "execution_count": 12,
   "metadata": {
    "executionInfo": {
     "elapsed": 1230,
     "status": "ok",
     "timestamp": 1618342282165,
     "user": {
      "displayName": "Craig Stark",
      "photoUrl": "https://lh3.googleusercontent.com/a-/AOh14GgHTCQdxwqKpQoLMKn2jOrFLiJic0kn3TdGdABA=s64",
      "userId": "11041610993007874858"
     },
     "user_tz": 420
    },
    "id": "6-1VE9tdSqUa"
   },
   "outputs": [],
   "source": [
    "import numpy as np\n",
    "fname1='https://raw.githubusercontent.com/celstark/n247data/main/data/sub-s2_ses-Day1_task-4min_bold_confounds.tsv'\n",
    "fname2='https://raw.githubusercontent.com/celstark/n247data/main/data/sub-s2_ses-Day1_task-5min_bold_confounds.tsv'\n",
    "\n",
    "def FindBadValuesSingleColumn(fname,column,threshold): \n",
    "        f = np.genfromtxt(fname=fname, skip_header=1, filling_values=0) #use np.genfromtxt to skip header and set N/A values to 0  \n",
    "        print(f[column])\n",
    "    \n",
    "        \n",
    "        #return all indicies where threshold is exceeded\n",
    "        threshold_exceeded = [n for n in f[column] if n > threshold]\n",
    "        print(threshold_exceeded)\n",
    "\n",
    "        threshold_exceeded = np.argwhere(threshold_exceeded) #use np.argwhere to return non-zero values \n",
    "\n",
    "\n",
    "        return np.array(threshold_exceeded)\n",
    "\n",
    "\n"
   ]
  },
  {
   "cell_type": "code",
   "execution_count": 13,
   "metadata": {},
   "outputs": [
    {
     "name": "stdout",
     "output_type": "stream",
     "text": [
      "[-2.27147579e-01  1.82726049e+00  0.00000000e+00  0.00000000e+00\n",
      "  0.00000000e+00  0.00000000e+00 -8.92735331e-02 -8.46620350e-02\n",
      "  2.70626621e-02 -4.43224860e-03  4.11377727e-02 -7.41831483e-02\n",
      " -9.60537957e-02 -7.90956686e-02  5.99410043e-02 -4.52791670e-02\n",
      "  3.33848968e-02 -1.03051682e-02  1.11798011e-01  1.11781848e-01\n",
      "  2.03571000e-02 -2.34229000e-02 -8.24316000e-03  1.52932000e-03\n",
      "  1.99960000e-04 -8.66781000e-04]\n",
      "[1.8272604942321775]\n"
     ]
    },
    {
     "data": {
      "text/plain": [
       "array([[0]])"
      ]
     },
     "execution_count": 13,
     "metadata": {},
     "output_type": "execute_result"
    }
   ],
   "source": [
    "FindBadValuesSingleColumn(fname1,0,0.75)"
   ]
  },
  {
   "cell_type": "code",
   "execution_count": null,
   "metadata": {},
   "outputs": [],
   "source": [
    "\n",
    "def FindBadValuesTwoColumns(fname,columns,thresholds): \n",
    "    '''parameters: filename, list of 2 columns, list of 2 thresholds'''\n",
    "    c0, c1 = columns\n",
    "    t0, t1 = thresholds\n",
    "    with open(fname, 'r') as file:\n",
    "        #use np.genfromtxt to skip header \n",
    "        #handle columns with nan values -- treat them as zero \n",
    "        #use np.argwhere to return non-zero values \n",
    "\n",
    "\n",
    "\n",
    "        #return all indicies where threshold is exceeded\n",
    "        threshold_exceeded = [n for n in c0 ]\n",
    "\n",
    "\n",
    "    return np.array(threshold_exceeded)"
   ]
  }
 ],
 "metadata": {
  "colab": {
   "authorship_tag": "ABX9TyMvGp9+BkgSSBgVt0VsXVKW",
   "name": "N247 Pset: Numpy - Finding bad values.ipynb",
   "provenance": [
    {
     "file_id": "1v1KPyusd-Gc77DiPmQcfaDdA2p6Ar9S-",
     "timestamp": 1616457193270
    }
   ]
  },
  "kernelspec": {
   "display_name": "Python 3",
   "language": "python",
   "name": "python3"
  },
  "language_info": {
   "codemirror_mode": {
    "name": "ipython",
    "version": 3
   },
   "file_extension": ".py",
   "mimetype": "text/x-python",
   "name": "python",
   "nbconvert_exporter": "python",
   "pygments_lexer": "ipython3",
   "version": "3.12.2"
  }
 },
 "nbformat": 4,
 "nbformat_minor": 0
}
