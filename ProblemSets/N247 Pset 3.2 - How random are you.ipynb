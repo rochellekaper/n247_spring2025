{
 "cells": [
  {
   "cell_type": "markdown",
   "metadata": {
    "id": "R1TgqreEblG8"
   },
   "source": [
    "# How random are you?\n",
    "Just how good are people at generating random numbers?  We're going to try to find out here in this project. We're going to compare a series of user-generated random \"coin toss\" type events to actual coin toss events. In particular, we're going to see if people make random sequences or whether there's a bias embedded in there. We'll do this by looking at the distribution of run-lengths (how often do you have N in a row?).  For example, if 1=heads and 0=tails, the sequence `1 0 1 1 0 1 0 1 0 1 1 0` would have, for heads, 3 1-length runs, 2 2-length runs, and no 3-length runs.\n",
    "\n",
    "## Getting the user input\n",
    "For the first part of this project, you'll collect a series of 1's and 0's from a user. There are fancier ways of doing this but, trust me, when tossing in cross-platform aspects, macOS security, and simplicity, we're going to just use the `input` method in Python. The downside to this is that it just asks you to enter in a string and waits until you hit Enter. There's no ability to filter the keys and no ability to make sure exactly N valid keys have been pressed.\n",
    "\n",
    "So, *write a function that has the user ostensibly press a bunch of 1's or 0's. Then, take that input, remove anything other than 1 or 0. Do this using a list comprehension. You can keep it as a list or convert it back to a string.* Once that basic bit is done, *set it up so that it can take a `min` (default 20) number of 1's and 0's that must be in there and enforce this.*\n",
    "\n",
    "Remember, a string is something you can iterate over. Here, for example, taking `foo` and filtering out the numbers:\n"
   ]
  },
  {
   "cell_type": "code",
   "execution_count": 1,
   "metadata": {
    "id": "RfGLtasAblG9",
    "outputId": "c4defa09-4e0d-4c12-8767-61f3e4bae559"
   },
   "outputs": [
    {
     "name": "stdout",
     "output_type": "stream",
     "text": [
      "Sharks are4 older1 than trees\n",
      "['S', 'h', 'a', 'r', 'k', 's', ' ', 'a', 'r', 'e', ' ', 'o', 'l', 'd', 'e', 'r', ' ', 't', 'h', 'a', 'n', ' ', 't', 'r', 'e', 'e', 's']\n",
      "Sharks are older than trees\n"
     ]
    }
   ],
   "source": [
    "foo='Sharks are4 older1 than trees'\n",
    "print(foo)\n",
    "bar=[i for i in foo if not i.isnumeric()]\n",
    "print(bar)\n",
    "baz=''.join(i for i in foo if not i.isnumeric())\n",
    "print(baz)"
   ]
  },
  {
   "cell_type": "code",
   "execution_count": 9,
   "metadata": {
    "colab": {
     "base_uri": "https://localhost:8080/"
    },
    "executionInfo": {
     "elapsed": 34909,
     "status": "ok",
     "timestamp": 1705260656047,
     "user": {
      "displayName": "Craig Stark",
      "userId": "11041610993007874858"
     },
     "user_tz": 480
    },
    "id": "rlJNlXGtblG9",
    "outputId": "e47fd5eb-6e59-40e8-d96a-5c2489155c98"
   },
   "outputs": [
    {
     "name": "stdout",
     "output_type": "stream",
     "text": [
      "Please enter at least 20 values\n",
      "Please enter at least 20 values\n",
      "Thank you for entering at least 20 numbers\n"
     ]
    }
   ],
   "source": [
    "def GetUserSequence(min=20):\n",
    "    '''function where user presses a bunch of 1s and 0s. Remove anything not a 1 or 0 using list comprehension. Convert back to string. \n",
    "    then make it so that there has be a min amount of 20 number of 1s and 0s. '''\n",
    "\n",
    "    sequence = str(input(f\"Please randomly press 1 and 0 on your keyboard at least {min} times.\"))\n",
    "\n",
    "    while len(sequence) < min: \n",
    "        print(f\"Please enter at least {min} values\")\n",
    "        sequence = input(f\"Please randomly press 1 and 0 on your keyboard at least {min} times.\")\n",
    "\n",
    "    print(f\"Thank you for entering at least {min} numbers\")\n",
    "    filtered_seq = [n for n in sequence if n == \"0\" or n == \"1\"]\n",
    "    return \"\".join(filtered_seq)\n",
    "\n",
    "\n",
    "userseq=GetUserSequence()\n"
   ]
  },
  {
   "cell_type": "markdown",
   "metadata": {
    "id": "x-RpXN9fblG-"
   },
   "source": [
    "## OK, so what's actually random?\n",
    "Here, we're going to write come code that actually makes a random sequence of 0's and 1's of length n (default 1000), returning this as a string.  Later on, we'll use numpy and scipy, but Python now has decent random numbers built in.  Have a look at [`random.choices`](https://docs.python.org/3/library/random.html#random.choices).  But, here's a sample of how it works:"
   ]
  },
  {
   "cell_type": "code",
   "execution_count": 2,
   "metadata": {
    "colab": {
     "base_uri": "https://localhost:8080/"
    },
    "executionInfo": {
     "elapsed": 174,
     "status": "ok",
     "timestamp": 1705260416147,
     "user": {
      "displayName": "Craig Stark",
      "userId": "11041610993007874858"
     },
     "user_tz": 480
    },
    "id": "wluvgUuubzTl",
    "outputId": "07785fe7-26a7-4b84-adc9-98985d444843"
   },
   "outputs": [
    {
     "name": "stdout",
     "output_type": "stream",
     "text": [
      "['duck', 'duck', 'go', 'go', 'go', 'duck', 'duck', 'duck', 'duck', 'duck']\n"
     ]
    }
   ],
   "source": [
    "import random\n",
    "print(random.choices(['duck','go'],[10,2],k=10))\n"
   ]
  },
  {
   "cell_type": "markdown",
   "metadata": {},
   "source": [
    "**Now, in the cell below**, write a function `GenRandom` that uses `random.choices` to make a list of `n` random 0's and 1's."
   ]
  },
  {
   "cell_type": "code",
   "execution_count": 22,
   "metadata": {
    "colab": {
     "base_uri": "https://localhost:8080/"
    },
    "executionInfo": {
     "elapsed": 138,
     "status": "ok",
     "timestamp": 1705263905583,
     "user": {
      "displayName": "Craig Stark",
      "userId": "11041610993007874858"
     },
     "user_tz": 480
    },
    "id": "hEIP4gD0blG-",
    "outputId": "19a20296-817e-4a3e-895e-3e9b27b91dc5"
   },
   "outputs": [
    {
     "name": "stdout",
     "output_type": "stream",
     "text": [
      "1100011010100101101100100100111100100001111011100011010100100111010110000101000000101011100100011010101010100111100000110000011001100110011101000111100001010110101110001110111110100110111010111011001001101110100100011100101000101111111001001011100000010100011101101100011111101111111100111100100010111110100111100010011111001110011010000000111001010010110011000101010010100000101000111110001001111000000010011110011101010110101111101111111101011000110000100000010111100000101101110100110000010001110110100100011100110100100010000001101111110110111111111100100101100010111111010010000010101111111010010001011111101011001011111010011100011110101100110100001111011111101000100100110110100100111011110110100001100011100110110101000100111011010101001100011000110010010010000100100110010101100100011111000010111010100000111001111110100100010100011111001101100110010000000011111111001111010111101101010010100001000001110111011111110111010101011011000010001000100101111100011010000110111010001011100011001001\n"
     ]
    }
   ],
   "source": [
    "import random\n",
    "def GenRandom(n=1000):\n",
    "    '''make a list of n random 0s and 1s; convert to string aftere'''\n",
    "    return ''.join(random.choices(['1', '0'], k = n))\n",
    "   \n",
    "\n",
    "\n",
    "rndseq=GenRandom()\n",
    "\n",
    "print(rndseq)"
   ]
  },
  {
   "cell_type": "markdown",
   "metadata": {
    "id": "-VdlNTfpd3fz"
   },
   "source": [
    "# The fun part\n",
    "Now comes the fun part.  We need to see just how often patterns come up. In particular, we're going to look for how often we get runs of length 1, runs of length 2, of length 3, ... length 8.  Python has a nice [`count`](https://docs.python.org/3/library/stdtypes.html?highlight=count#str.count) function that works on strings that we might think to use. But, the trouble is, this counts \"non-overlapping occurrences of substrings\".  Have a look at this sample.  We should end up with 1 run of length 1 and 1 of length 3, but none of length 2."
   ]
  },
  {
   "cell_type": "code",
   "execution_count": 60,
   "metadata": {
    "colab": {
     "base_uri": "https://localhost:8080/"
    },
    "executionInfo": {
     "elapsed": 133,
     "status": "ok",
     "timestamp": 1705261247808,
     "user": {
      "displayName": "Craig Stark",
      "userId": "11041610993007874858"
     },
     "user_tz": 480
    },
    "id": "T64uOgkUfPYu",
    "outputId": "54145d1b-75db-4f70-f873-5de50fae7b2c"
   },
   "outputs": [
    {
     "name": "stdout",
     "output_type": "stream",
     "text": [
      "4\n",
      "1\n",
      "1\n"
     ]
    }
   ],
   "source": [
    "foo='01001110'\n",
    "print(foo.count('1'))\n",
    "print(foo.count('11'))\n",
    "print(foo.count('111'))"
   ]
  },
  {
   "cell_type": "markdown",
   "metadata": {
    "id": "lcL1jV5rffYX"
   },
   "source": [
    "Well that's not quite right... It found 4 of length=1, 1 of length=2 (*wait - think about why it came up with just 1 of these and not 2*), and 1 of length 3.\n",
    "\n",
    "What if we made it look for 0's beforehand to make sure we're at the start of a run?"
   ]
  },
  {
   "cell_type": "code",
   "execution_count": 61,
   "metadata": {
    "colab": {
     "base_uri": "https://localhost:8080/"
    },
    "executionInfo": {
     "elapsed": 129,
     "status": "ok",
     "timestamp": 1705261366416,
     "user": {
      "displayName": "Craig Stark",
      "userId": "11041610993007874858"
     },
     "user_tz": 480
    },
    "id": "5Gf2Iyagfd9w",
    "outputId": "5fd94e32-7bd5-4116-fa6f-3527385a5e22"
   },
   "outputs": [
    {
     "name": "stdout",
     "output_type": "stream",
     "text": [
      "2\n",
      "1\n",
      "1\n"
     ]
    }
   ],
   "source": [
    "print(foo.count('01'))\n",
    "print(foo.count('011'))\n",
    "print(foo.count('0111'))"
   ]
  },
  {
   "cell_type": "markdown",
   "metadata": {
    "id": "qL4Fd_Pyf5Yb"
   },
   "source": [
    "Closer, I suppose, but still not there.  What if we looked for the full start with 0, thing, and then end with 0?"
   ]
  },
  {
   "cell_type": "code",
   "execution_count": 15,
   "metadata": {
    "colab": {
     "base_uri": "https://localhost:8080/"
    },
    "executionInfo": {
     "elapsed": 129,
     "status": "ok",
     "timestamp": 1705261414381,
     "user": {
      "displayName": "Craig Stark",
      "userId": "11041610993007874858"
     },
     "user_tz": 480
    },
    "id": "pQKJdgM9gBwg",
    "outputId": "c04313b7-79b8-416f-8f90-92959997349f"
   },
   "outputs": [
    {
     "name": "stdout",
     "output_type": "stream",
     "text": [
      "1\n",
      "0\n",
      "1\n"
     ]
    }
   ],
   "source": [
    "print(foo.count('010'))\n",
    "print(foo.count('0110'))\n",
    "print(foo.count('01110'))"
   ]
  },
  {
   "cell_type": "markdown",
   "metadata": {
    "id": "MSmqv_kjnXNY"
   },
   "source": [
    "Hey, that looks good!  Let's just test it one more time though"
   ]
  },
  {
   "cell_type": "code",
   "execution_count": 62,
   "metadata": {
    "colab": {
     "base_uri": "https://localhost:8080/"
    },
    "executionInfo": {
     "elapsed": 135,
     "status": "ok",
     "timestamp": 1705263375405,
     "user": {
      "displayName": "Craig Stark",
      "userId": "11041610993007874858"
     },
     "user_tz": 480
    },
    "id": "3hpj_iCfnV8x",
    "outputId": "24da7645-8f81-43d2-d135-db8b1a699724"
   },
   "outputs": [
    {
     "name": "stdout",
     "output_type": "stream",
     "text": [
      "6\n",
      "0\n",
      "0\n"
     ]
    }
   ],
   "source": [
    "foo='0101010101010101010101010'\n",
    "print(foo.count('010'))\n",
    "print(foo.count('0110'))\n",
    "print(foo.count('01110'))"
   ]
  },
  {
   "cell_type": "markdown",
   "metadata": {
    "id": "OTU1mmn_no3n"
   },
   "source": [
    "We were so close weren't we? I mean, really now.  6?  I count 12 in there.  *Why is it coming up with only 6?* Once we figure that out, *what might we do about it?*"
   ]
  },
  {
   "cell_type": "markdown",
   "metadata": {
    "id": "T9KK4LyrhRuK"
   },
   "source": [
    "Now, write a function that:\n",
    "\n",
    "1. Takes in a string and figures out the number of run-lenghts of 1's from 1-8.  Remember, your string could start or end with a 1, so any solution you come up with has to handle this.\n",
    "2. Divides those counts by the length of the string itself to, in some ways, normalize this so that short and long inputs are on roughly an even \"odds of run-length X\" kind of footing.  No, you can't use numpy.  A key point here is to think around obstacles for solutions.\n",
    "3. Returns a list with those \"probabilities\" as a list\n",
    "\n",
    "Then, run this on both your user-generated string and on the random string and give me a pretty printout of the results."
   ]
  },
  {
   "cell_type": "code",
   "execution_count": 173,
   "metadata": {
    "id": "UaJj99QPi0Im"
   },
   "outputs": [],
   "source": [
    "def CalcRunLengthProbs(s):\n",
    "    s = list(s)\n",
    "    original = s.copy()\n",
    "    print(len(original))\n",
    "    #handle edge cases so insert 0 into sequence at first and last positions:\n",
    "    s.insert(0, \"0\")\n",
    "    s.append(\"0\")\n",
    "    s = \"\".join(s)\n",
    "    s = s.replace(\"0\", \"00\")\n",
    "    print(s)\n",
    "\n",
    "    prob_list = []\n",
    "    for run_length in range(1, 9):\n",
    "        #can replace 0 with 00 to cleanly separate \n",
    "        run_length_ones = [\"0\"] + [\"1\"] * run_length + [\"0\"]\n",
    "        run_length_ones = ''.join(run_length_ones)\n",
    "        print(run_length_ones)\n",
    "        n_count = s.count(run_length_ones)\n",
    "        print(n_count)\n",
    "    \n",
    "        prob = n_count / len(original) \n",
    "        prob_list.append(prob)\n",
    "\n",
    "\n",
    "        #2) divide counts by the length of the string itself. \n",
    "        #3) return a list with probabilities as a list. \n",
    "                     \n",
    "    \n",
    "    return prob_list\n",
    "\n",
    "\n",
    "    '''try this on user-generated string and on random string and give pretty printout of the results'''\n",
    "\n",
    "\n"
   ]
  },
  {
   "cell_type": "code",
   "execution_count": 175,
   "metadata": {},
   "outputs": [
    {
     "name": "stdout",
     "output_type": "stream",
     "text": [
      "10\n",
      "00001100111001100\n",
      "010\n",
      "0\n",
      "0110\n",
      "2\n",
      "01110\n",
      "1\n",
      "011110\n",
      "0\n",
      "0111110\n",
      "0\n",
      "01111110\n",
      "0\n",
      "011111110\n",
      "0\n",
      "0111111110\n",
      "0\n"
     ]
    },
    {
     "data": {
      "text/plain": [
       "[0.0, 0.2, 0.1, 0.0, 0.0, 0.0, 0.0, 0.0]"
      ]
     },
     "execution_count": 175,
     "metadata": {},
     "output_type": "execute_result"
    }
   ],
   "source": [
    "CalcRunLengthProbs('0110111011')\n",
    "\n"
   ]
  }
 ],
 "metadata": {
  "colab": {
   "provenance": []
  },
  "kernelspec": {
   "display_name": "Python 3",
   "language": "python",
   "name": "python3"
  },
  "language_info": {
   "codemirror_mode": {
    "name": "ipython",
    "version": 3
   },
   "file_extension": ".py",
   "mimetype": "text/x-python",
   "name": "python",
   "nbconvert_exporter": "python",
   "pygments_lexer": "ipython3",
   "version": "3.12.2"
  }
 },
 "nbformat": 4,
 "nbformat_minor": 0
}
