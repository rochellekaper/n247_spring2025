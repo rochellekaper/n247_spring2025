{
 "cells": [
  {
   "attachments": {},
   "cell_type": "markdown",
   "metadata": {
    "id": "DViHHKVrfFRu"
   },
   "source": [
    "# Overview\n",
    "If you've taken any kind of stats course, you've come across things like t-tests, ANOVAs, and other members of the GLM family. You should know that they return p-values, or the odds that your sample (or samples) were drawn from noise. So, if you have two sets of numbers, setA and setB, the p-value refers to the odds that you'd observe a difference like the one you did (or larger) if they were, in fact, drawn from the same distribution. If the null were true (and they're from the same pool), you'd come up with your data (or more extreme) p-value percent of the time.   \n",
    "\n",
    "Now, this leads to two types of errors you'd also heard about. Type I errors are often the most feared as those are \"false positives\" - the truth is there is no difference, but you still observed one.  Type II are \"false negatives\" - something was there, but you didn't see it. We're taught a few things about the GLM and one of the big ones is that the assumption that your data are \"normally distributed\". If they are, the test is valid. If not, the test isn't valid and you should either fix your data (transform it to make it normally distributed) or look elsewhere (say to a non-parametric test in classical frequentist statistics). \n",
    "\n",
    "In this project (Problem Set 9A), we're going to play around a bit with this and see just what happens when these assumptions are violated.  It'll give us a good bit of practice in simulating data and in running statistical tests. It'll also let us see that the t-test (and its GLM kin) are actually quite robust to Type I errors when normality is violated. It's not, however, robust to Type II errors. If you want to read up on this effect, here's a \n",
    "[nice paper on this](https://www.ncbi.nlm.nih.gov/pmc/articles/PMC3139856/).\n",
    "\n",
    "In the next one (9B), we'll code up a permutation test that computes the probability via brute force. These are getting more and more popular now that we have fast computers and don't do our statisitcs on ink quill pens and parchment.\n"
   ]
  },
  {
   "attachments": {},
   "cell_type": "markdown",
   "metadata": {
    "id": "Eh2ttq1wG22M"
   },
   "source": [
    "First, write a function `GenNormalSamples` that generates two random sets of numbers using `scipy.stats.norm`. Parameters to the function should include the number of samples per group (`nsamples` defaulting to 10), the mean and standard deviation of setA (`meanA` defaulting to 0 and `stdA` defaulting to 1) and the same for setB (`meanB` and `stdB`). Numbers should be drawn from a normal random (Gaussian) distribution.  Return the `nsamples`x2 numpy array.\n",
    "\n",
    "To check this out, use `plt.hist` to plot both your histograms on the same axes of the results from `GenNormalSamples(100,meanB=1.0)`.  It won't look exactly like this, but should be something like it.\n",
    "\n",
    "![sample output](https://github.com/celstark/n247data/raw/main/data/stats_perm_fig1.png)\n"
   ]
  },
  {
   "cell_type": "code",
   "execution_count": 1,
   "metadata": {
    "id": "QG97HTadH1bX"
   },
   "outputs": [
    {
     "data": {
      "text/plain": [
       "(array([[ 4., 10., 21., 19., 23., 16.,  3.,  2.,  2.,  0.],\n",
       "        [ 1.,  2.,  7., 13., 18., 15., 17., 16.,  7.,  4.]]),\n",
       " array([-2.04354839, -1.50730803, -0.97106767, -0.43482731,  0.10141305,\n",
       "         0.63765341,  1.17389377,  1.71013413,  2.24637449,  2.78261485,\n",
       "         3.31885521]),\n",
       " <a list of 2 BarContainer objects>)"
      ]
     },
     "execution_count": 1,
     "metadata": {},
     "output_type": "execute_result"
    },
    {
     "data": {
      "image/png": "[encoded data removed]",
      "text/plain": [
       "<Figure size 640x480 with 1 Axes>"
      ]
     },
     "metadata": {},
     "output_type": "display_data"
    }
   ],
   "source": [
    "import numpy as np\n",
    "from scipy.stats import norm\n",
    "from matplotlib import pyplot as plt\n",
    "def GenNormalSamples(nsamples=10, meanA=0.0, stdA=1.0, meanB=0.0, stdB=1.0):\n",
    "    '''generates two random sets of numbers using `scipy.stats.norm`. Parameters to the function should include \n",
    "    the number of samples per group (`nsamples` defaulting to 10),\n",
    "      the mean and standard deviation of setA (`meanA` defaulting to 0 and `stdA` defaulting to 1) \n",
    "      and the same for setB (`meanB` and `stdB`). Numbers should be drawn from a normal random (Gaussian) distribution.  \n",
    "      Return the `nsamples`x2 numpy array.'''\n",
    "   \n",
    "    set_1 = norm.rvs(loc=meanA,scale=stdA, size=nsamples)  #generate random numbers\n",
    "    set_2 = norm.rvs(loc=meanB,scale=stdB, size=nsamples)  #generate random numbers\n",
    "\n",
    "    result = [set_1, set_2]\n",
    "    return result\n",
    "\n",
    "data=GenNormalSamples(100,meanB=1.0)\n",
    "plt.hist(data)\n"
   ]
  },
  {
   "attachments": {},
   "cell_type": "markdown",
   "metadata": {
    "id": "bnmmr4pHKnZ1"
   },
   "source": [
    "Next, write a function `CheckTtest` that calls `GenNormalSamples` `ntest` times (defult=1000) to generate random data and then calls `scipy.stats.ttest_ind` each time to test whether a standard t-test thinks these samples, in fact, come from different distributions. This function should take the same `nsamples`, `meanA/B` and `stdA/B` variables as `GenNormalSamples` did and it should pass these through to `GenNormalSamples`. \n",
    "\n",
    "From each call, keep track of the p-value returned. At the end, print out a nice statement that says \"Out of ## tests, ## were significant, for a test positivity rate of 0.##\". Use a p\\<0.05 threshold as your \"significant\" rate.\n",
    "\n",
    "Run your test with the default values (it should return roughly 0.05) and also with a few values of your choosing."
   ]
  },
  {
   "cell_type": "code",
   "execution_count": 2,
   "metadata": {
    "id": "9pin36j1MpaG"
   },
   "outputs": [
    {
     "name": "stdout",
     "output_type": "stream",
     "text": [
      "Out of 1000 tests, 55 were significant, for a test positivity rate of 5.50%\n",
      "Out of 1000 tests, 561 were significant, for a test positivity rate of 56.10%\n"
     ]
    }
   ],
   "source": [
    "import numpy as np\n",
    "from scipy.stats import ttest_ind\n",
    "\n",
    "def CheckTtest(ntests=1000,nsamples=10,meanA=0,stdA=1,meanB=0,stdB=1):\n",
    "    alpha = 0.05\n",
    "    false_positive_count = 0\n",
    "    for n in range(ntests):\n",
    "        result = GenNormalSamples(nsamples, meanA, stdA, meanB, stdB)\n",
    "        p_val = ttest_ind(result[0], result[1]).pvalue\n",
    "\n",
    "        if p_val > alpha: #not significant \n",
    "            false_positive_count +=1 \n",
    "    \n",
    "    #compute test positivity rate\n",
    "    print(f'Out of {ntests} tests, {ntests - false_positive_count} were significant, for a test positivity rate of {(((ntests-false_positive_count)/ntests)*100):.2f}%')\n",
    "\n",
    "    return\n",
    "\n",
    "\n",
    "CheckTtest()\n",
    "CheckTtest(meanB=1)"
   ]
  },
  {
   "attachments": {},
   "cell_type": "markdown",
   "metadata": {
    "id": "dNxotdcsQ5uB"
   },
   "source": [
    "Now, copy your `GenNormalSamples` function and re-write it to create a skewed sample. Instead of using `scipy.stats.norm`, you'll use `scipy.stats.exponnorm`. \n",
    "\n",
    "This function takes a K parameter that controls the skew. K here must be >0, but 0 would be an actually un-skewed distribution. So, make sure to clip whatever K is passed in to a very small number like 0.0001 to approximate an unskewed normal distribution well enough.  Set the default `k` to be 0 so that by default, this does make a \"normal\" distribution sample.\n",
    "\n",
    "\n",
    "Make the histogram you did as before, but use a k=20 this time.  It won't look exactly like this, but should be close:\n",
    "\n",
    "![sample output](https://github.com/celstark/n247data/raw/main/data/stats_perm_fig2.png)"
   ]
  },
  {
   "cell_type": "code",
   "execution_count": 3,
   "metadata": {
    "id": "F1QH0hMsR6G4"
   },
   "outputs": [
    {
     "data": {
      "text/plain": [
       "(array([[39., 28., 13.,  6.,  8.,  2.,  1.,  2.,  0.,  1.],\n",
       "        [34., 26., 18., 13.,  5.,  0.,  1.,  0.,  1.,  2.]]),\n",
       " array([ -1.70158449,   8.95445559,  19.61049566,  30.26653574,\n",
       "         40.92257581,  51.57861588,  62.23465596,  72.89069603,\n",
       "         83.54673611,  94.20277618, 104.85881626]),\n",
       " <a list of 2 BarContainer objects>)"
      ]
     },
     "execution_count": 3,
     "metadata": {},
     "output_type": "execute_result"
    },
    {
     "data": {
      "image/png": "[encoded data removed]",
      "text/plain": [
       "<Figure size 640x480 with 1 Axes>"
      ]
     },
     "metadata": {},
     "output_type": "display_data"
    }
   ],
   "source": [
    "import numpy as np\n",
    "from scipy.stats import exponnorm\n",
    "from matplotlib import pyplot as plt\n",
    "def GenNormalSamples(nsamples=10, meanA=0.0, stdA=1.0, meanB=0.0, stdB=1.0,k=0.0):\n",
    "    set_1 = exponnorm.rvs(k, loc=meanA,scale=stdA, size=nsamples)  \n",
    "    set_2 = exponnorm.rvs(k, loc=meanB,scale=stdB, size=nsamples) \n",
    "\n",
    "    result = [set_1, set_2]\n",
    "    return result\n",
    "\n",
    "data=GenNormalSamples(100,meanB=1.0,k=20.0)\n",
    "plt.hist(data)\n"
   ]
  },
  {
   "attachments": {},
   "cell_type": "markdown",
   "metadata": {
    "id": "Sn4BVYrJVfpq"
   },
   "source": [
    "Copy your `CheckTtests` in here as well also adjust it to take the `k` parameter. Run it as before. What happens to the test positive rates when you use a value like k=20? Does it behave according to how we want it to behave?\n"
   ]
  },
  {
   "cell_type": "code",
   "execution_count": 12,
   "metadata": {
    "id": "AGs7FPguU8Kr"
   },
   "outputs": [
    {
     "name": "stdout",
     "output_type": "stream",
     "text": [
      "These should be low (looking for Type I, want low) - same means - no skew and skew\n"
     ]
    },
    {
     "ename": "ValueError",
     "evalue": "Domain error in arguments. The `scale` parameter must be positive for all distributions, and many distributions have restrictions on shape parameters. Please see the `scipy.stats.exponnorm` documentation for details.",
     "output_type": "error",
     "traceback": [
      "\u001b[0;31m---------------------------------------------------------------------------\u001b[0m",
      "\u001b[0;31mValueError\u001b[0m                                Traceback (most recent call last)",
      "Cell \u001b[0;32mIn[12], line 30\u001b[0m\n\u001b[1;32m     26\u001b[0m     \u001b[38;5;28;01mreturn\u001b[39;00m\n\u001b[1;32m     29\u001b[0m \u001b[38;5;28mprint\u001b[39m(\u001b[38;5;124m'\u001b[39m\u001b[38;5;124mThese should be low (looking for Type I, want low) - same means - no skew and skew\u001b[39m\u001b[38;5;124m'\u001b[39m)\n\u001b[0;32m---> 30\u001b[0m \u001b[43mCheckTtest\u001b[49m\u001b[43m(\u001b[49m\u001b[43m)\u001b[49m\n\u001b[1;32m     31\u001b[0m CheckTtest(k\u001b[38;5;241m=\u001b[39m\u001b[38;5;241m20\u001b[39m)\n\u001b[1;32m     33\u001b[0m \u001b[38;5;28mprint\u001b[39m(\u001b[38;5;124m'\u001b[39m\u001b[38;5;130;01m\\n\u001b[39;00m\u001b[38;5;124mShifting the meanB to be 1.0 (looking for Type II, want high) - no skew and skew\u001b[39m\u001b[38;5;124m'\u001b[39m)\n",
      "Cell \u001b[0;32mIn[12], line 17\u001b[0m, in \u001b[0;36mCheckTtest\u001b[0;34m(ntests, nsamples, meanA, stdA, meanB, stdB, k)\u001b[0m\n\u001b[1;32m     15\u001b[0m     result \u001b[38;5;241m=\u001b[39m GenNormalSamples(nsamples, meanA, stdA, meanB, stdB, k)\n\u001b[1;32m     16\u001b[0m \u001b[38;5;28;01melse\u001b[39;00m: \n\u001b[0;32m---> 17\u001b[0m     result \u001b[38;5;241m=\u001b[39m \u001b[43mGenNormalSamples\u001b[49m\u001b[43m(\u001b[49m\u001b[43mnsamples\u001b[49m\u001b[43m,\u001b[49m\u001b[43m \u001b[49m\u001b[43mmeanA\u001b[49m\u001b[43m,\u001b[49m\u001b[43m \u001b[49m\u001b[43mstdA\u001b[49m\u001b[43m,\u001b[49m\u001b[43m \u001b[49m\u001b[43mmeanB\u001b[49m\u001b[43m,\u001b[49m\u001b[43m \u001b[49m\u001b[43mstdB\u001b[49m\u001b[43m)\u001b[49m\n\u001b[1;32m     18\u001b[0m p_val \u001b[38;5;241m=\u001b[39m ttest_ind(result[\u001b[38;5;241m0\u001b[39m], result[\u001b[38;5;241m1\u001b[39m])\u001b[38;5;241m.\u001b[39mpvalue\n\u001b[1;32m     20\u001b[0m \u001b[38;5;28;01mif\u001b[39;00m p_val \u001b[38;5;241m>\u001b[39m alpha: \u001b[38;5;66;03m#not significant \u001b[39;00m\n",
      "Cell \u001b[0;32mIn[12], line 4\u001b[0m, in \u001b[0;36mGenNormalSamples\u001b[0;34m(nsamples, meanA, stdA, meanB, stdB, k)\u001b[0m\n\u001b[1;32m      3\u001b[0m \u001b[38;5;28;01mdef\u001b[39;00m \u001b[38;5;21mGenNormalSamples\u001b[39m(nsamples\u001b[38;5;241m=\u001b[39m\u001b[38;5;241m10\u001b[39m, meanA\u001b[38;5;241m=\u001b[39m\u001b[38;5;241m0.0\u001b[39m, stdA\u001b[38;5;241m=\u001b[39m\u001b[38;5;241m1.0\u001b[39m, meanB\u001b[38;5;241m=\u001b[39m\u001b[38;5;241m0.0\u001b[39m, stdB\u001b[38;5;241m=\u001b[39m\u001b[38;5;241m1.0\u001b[39m,k\u001b[38;5;241m=\u001b[39m\u001b[38;5;241m0.0\u001b[39m):\n\u001b[0;32m----> 4\u001b[0m     set_1 \u001b[38;5;241m=\u001b[39m \u001b[43mexponnorm\u001b[49m\u001b[38;5;241;43m.\u001b[39;49m\u001b[43mrvs\u001b[49m\u001b[43m(\u001b[49m\u001b[43mk\u001b[49m\u001b[43m,\u001b[49m\u001b[43m \u001b[49m\u001b[43mloc\u001b[49m\u001b[38;5;241;43m=\u001b[39;49m\u001b[43mmeanA\u001b[49m\u001b[43m,\u001b[49m\u001b[43mscale\u001b[49m\u001b[38;5;241;43m=\u001b[39;49m\u001b[43mstdA\u001b[49m\u001b[43m,\u001b[49m\u001b[43m \u001b[49m\u001b[43msize\u001b[49m\u001b[38;5;241;43m=\u001b[39;49m\u001b[43mnsamples\u001b[49m\u001b[43m)\u001b[49m  \n\u001b[1;32m      5\u001b[0m     set_2 \u001b[38;5;241m=\u001b[39m exponnorm\u001b[38;5;241m.\u001b[39mrvs(k, loc\u001b[38;5;241m=\u001b[39mmeanB,scale\u001b[38;5;241m=\u001b[39mstdB, size\u001b[38;5;241m=\u001b[39mnsamples) \n\u001b[1;32m      7\u001b[0m     result \u001b[38;5;241m=\u001b[39m [set_1, set_2]\n",
      "File \u001b[0;32m/Library/Frameworks/Python.framework/Versions/3.12/lib/python3.12/site-packages/scipy/stats/_distn_infrastructure.py:1096\u001b[0m, in \u001b[0;36mrv_generic.rvs\u001b[0;34m(self, *args, **kwds)\u001b[0m\n\u001b[1;32m   1090\u001b[0m \u001b[38;5;28;01mif\u001b[39;00m \u001b[38;5;129;01mnot\u001b[39;00m np\u001b[38;5;241m.\u001b[39mall(cond):\n\u001b[1;32m   1091\u001b[0m     message \u001b[38;5;241m=\u001b[39m (\u001b[38;5;124m\"\u001b[39m\u001b[38;5;124mDomain error in arguments. The `scale` parameter must \u001b[39m\u001b[38;5;124m\"\u001b[39m\n\u001b[1;32m   1092\u001b[0m                \u001b[38;5;124m\"\u001b[39m\u001b[38;5;124mbe positive for all distributions, and many \u001b[39m\u001b[38;5;124m\"\u001b[39m\n\u001b[1;32m   1093\u001b[0m                \u001b[38;5;124m\"\u001b[39m\u001b[38;5;124mdistributions have restrictions on shape parameters. \u001b[39m\u001b[38;5;124m\"\u001b[39m\n\u001b[1;32m   1094\u001b[0m                \u001b[38;5;124mf\u001b[39m\u001b[38;5;124m\"\u001b[39m\u001b[38;5;124mPlease see the `scipy.stats.\u001b[39m\u001b[38;5;132;01m{\u001b[39;00m\u001b[38;5;28mself\u001b[39m\u001b[38;5;241m.\u001b[39mname\u001b[38;5;132;01m}\u001b[39;00m\u001b[38;5;124m` \u001b[39m\u001b[38;5;124m\"\u001b[39m\n\u001b[1;32m   1095\u001b[0m                \u001b[38;5;124m\"\u001b[39m\u001b[38;5;124mdocumentation for details.\u001b[39m\u001b[38;5;124m\"\u001b[39m)\n\u001b[0;32m-> 1096\u001b[0m     \u001b[38;5;28;01mraise\u001b[39;00m \u001b[38;5;167;01mValueError\u001b[39;00m(message)\n\u001b[1;32m   1098\u001b[0m \u001b[38;5;28;01mif\u001b[39;00m np\u001b[38;5;241m.\u001b[39mall(scale \u001b[38;5;241m==\u001b[39m \u001b[38;5;241m0\u001b[39m):\n\u001b[1;32m   1099\u001b[0m     \u001b[38;5;28;01mreturn\u001b[39;00m loc\u001b[38;5;241m*\u001b[39mones(size, \u001b[38;5;124m'\u001b[39m\u001b[38;5;124md\u001b[39m\u001b[38;5;124m'\u001b[39m)\n",
      "\u001b[0;31mValueError\u001b[0m: Domain error in arguments. The `scale` parameter must be positive for all distributions, and many distributions have restrictions on shape parameters. Please see the `scipy.stats.exponnorm` documentation for details."
     ]
    }
   ],
   "source": [
    "from scipy.stats import ttest_ind\n",
    "\n",
    "def GenNormalSamples(nsamples=10, meanA=0.0, stdA=1.0, meanB=0.0, stdB=1.0,k=0.0):\n",
    "    set_1 = exponnorm.rvs(k, loc=meanA,scale=stdA, size=nsamples)  \n",
    "    set_2 = exponnorm.rvs(k, loc=meanB,scale=stdB, size=nsamples) \n",
    "\n",
    "    result = [set_1, set_2]\n",
    "    return result\n",
    "\n",
    "def CheckTtest(ntests=1000,nsamples=10,meanA=0,stdA=1,meanB=0,stdB=1,k=0):\n",
    "    alpha = 0.05\n",
    "    false_positive_count = 0\n",
    "    for n in range(ntests):\n",
    "        if k > 0: \n",
    "            result = GenNormalSamples(nsamples, meanA, stdA, meanB, stdB, k)\n",
    "        else: \n",
    "            result = GenNormalSamples(nsamples, meanA, stdA, meanB, stdB)\n",
    "        p_val = ttest_ind(result[0], result[1]).pvalue\n",
    "\n",
    "        if p_val > alpha: #not significant \n",
    "            false_positive_count +=1 \n",
    "    \n",
    "    #compute test positivity rate\n",
    "    print(f'Out of {ntests} tests, {ntests - false_positive_count} were significant, for a test positivity rate of {(((ntests-false_positive_count)/ntests)*100):.2f}%')\n",
    "\n",
    "    return\n",
    "\n",
    "\n",
    "print('These should be low (looking for Type I, want low) - same means - no skew and skew')\n",
    "CheckTtest()\n",
    "CheckTtest(k=20)\n",
    "\n",
    "print('\\nShifting the meanB to be 1.0 (looking for Type II, want high) - no skew and skew')\n",
    "CheckTtest(meanB=1)\n",
    "CheckTtest(meanB=1,k=20)\n",
    "\n"
   ]
  },
  {
   "attachments": {},
   "cell_type": "markdown",
   "metadata": {
    "id": "utMY_M6LWbIB"
   },
   "source": [
    "Clearly, the t-test is having an issue when the data aren't normally distributed (you do check all your data for normality when you use t-tests in your research right? *Right???*). Traditional stats have lots of options for you here with things like transforming your data to be normal or using non-parametric tests. \n",
    "\n",
    "But, we have computers and computers can do math fast. Why use tests that assume normality to estimate a probability when you can brute force the probability?  That's the goal we'll take in 9B...\n"
   ]
  }
 ],
 "metadata": {
  "colab": {
   "authorship_tag": "ABX9TyO2KGv9QQtChYiQrTUO5gny",
   "provenance": [
    {
     "file_id": "1NFIbl7M1bvmWA_vT9I0sRMQkRzmvRJXt",
     "timestamp": 1679007859208
    }
   ]
  },
  "kernelspec": {
   "display_name": "Python 3",
   "name": "python3"
  },
  "language_info": {
   "codemirror_mode": {
    "name": "ipython",
    "version": 3
   },
   "file_extension": ".py",
   "mimetype": "text/x-python",
   "name": "python",
   "nbconvert_exporter": "python",
   "pygments_lexer": "ipython3",
   "version": "3.12.2"
  }
 },
 "nbformat": 4,
 "nbformat_minor": 0
}
