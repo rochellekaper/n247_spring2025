{
 "cells": [
  {
   "attachments": {},
   "cell_type": "markdown",
   "metadata": {
    "id": "8CRH4OhU11R-"
   },
   "source": [
    "# Problem Set 1: Python Basics - Variables, Strings and Lists\n",
    "You'll submit this problem set and all others by submitting this file (the `.ipynb` file here). \n",
    "\n",
    "Start with the following variables. You are only allowed to use these variables to solve the problems below.  ***Note, if I ask you to print something, use the `print` command.  But, if I ask you to create another variable, insert something into a variable, etc., do not just use `print`. I want you to create things or change their values, not just show them on the screen.***"
   ]
  },
  {
   "cell_type": "code",
   "execution_count": 1,
   "metadata": {
    "id": "5pXGzds71ktK"
   },
   "outputs": [],
   "source": [
    "a='I'\n",
    "b='you'\n",
    "c='me'\n",
    "d='like'\n",
    "e='pie'\n",
    "f=3.14\n",
    "g=2\n",
    "h=1\n",
    "i=\"don't\"\n",
    "j='♡'\n",
    "k=' '\n",
    "m='1.41421'\n"
   ]
  },
  {
   "cell_type": "markdown",
   "metadata": {
    "id": "hyz0P4bY22Mr"
   },
   "source": [
    "1. Using only these and no other variables or constants, use the print() command to have your program show on the screen:\n",
    "```\n",
    "I like pie\n",
    "I♡pie\n",
    "you♡3.14\n",
    "```\n",
    "Use this cell below for your answer.  "
   ]
  },
  {
   "cell_type": "code",
   "execution_count": 5,
   "metadata": {
    "id": "nnYpIhC93B-F"
   },
   "outputs": [
    {
     "name": "stdout",
     "output_type": "stream",
     "text": [
      "I like pie\n",
      "I♡pie\n",
      "you♡3.14\n"
     ]
    }
   ],
   "source": [
    "print(a, d, e)\n",
    "print(a,j,e, sep='')\n",
    "print(b,j,f, sep='')"
   ]
  },
  {
   "cell_type": "markdown",
   "metadata": {
    "id": "D6YbNTG33Co4"
   },
   "source": [
    "2. You may recall that sqrt(2) ~= 1.41421.  Note that `m` above is that but in string form.  Note also that `g` is actually 2.  Using `m` and `g` and not typing any numbers or anything else, print to the screen what _m * m_ would be (were it a number) and have it print a `True` or `False` indicating whether that is the same as _g_'s version of 2.  Use the cell below for your answer."
   ]
  },
  {
   "cell_type": "code",
   "execution_count": 3,
   "metadata": {
    "id": "VXblwLFQ3iYG"
   },
   "outputs": [
    {
     "name": "stdout",
     "output_type": "stream",
     "text": [
      "False\n"
     ]
    }
   ],
   "source": [
    "print(float(m)*float(m) == g)\n",
    "\n",
    "#correct answer (forgot to print m*m):\n",
    "#print(float(m)*(float(m))) \n",
    "#print(float(m)*float(m) == g)"
   ]
  },
  {
   "cell_type": "markdown",
   "metadata": {
    "id": "V1stoAqM3i6x"
   },
   "source": [
    "3. Use the variables only to print something - here the word 'kill'.\n",
    "* Do so indexing `d` a total of 4 times\n",
    "* Do so indexing `d` only twice and only using these two calls to `d`.  Hint: You'll not only use a _range_, but use a _stride_ as well\n",
    "\n",
    "Use the cell below for your answer."
   ]
  },
  {
   "cell_type": "code",
   "execution_count": null,
   "metadata": {
    "id": "cPrBktRv4GNp"
   },
   "outputs": [
    {
     "name": "stdout",
     "output_type": "stream",
     "text": [
      "kill\n",
      "kill\n"
     ]
    }
   ],
   "source": [
    "d='like'\n",
    "#index d 4 times to print the word 'kill'\n",
    "print(d[2]+d[1]+d[0]+d[0])\n",
    "\n",
    "#index d twice using stride\n",
    "print(d[-2::-1]+d[0])"
   ]
  },
  {
   "cell_type": "markdown",
   "metadata": {
    "id": "cUvxWf2q4GwS"
   },
   "source": [
    "4. In the cell below, use the variables above to\n",
    "* Create a new variable `n` that is a list with two elements: 'I' and 'like'\n",
    "* Use `append()` or `expand()` to make it a 3-item list with 'pie' at the end\n",
    "* Insert the contents of `i` (aka _don't_) to have it be a 4-item, nonsense list suggesting that you do not, in fact, like that tasty desert."
   ]
  },
  {
   "cell_type": "code",
   "execution_count": null,
   "metadata": {
    "id": "v-_dCxhb4rgE"
   },
   "outputs": [
    {
     "data": {
      "text/plain": [
       "['I', \"don't\", 'like', 'pie']"
      ]
     },
     "execution_count": 17,
     "metadata": {},
     "output_type": "execute_result"
    }
   ],
   "source": [
    "n = [a, d]\n",
    "n.append(e)\n",
    "n.insert(1, i)"
   ]
  }
 ],
 "metadata": {
  "colab": {
   "authorship_tag": "ABX9TyMJXZP+314WlRRcAlKlfGM4",
   "name": "N247 PSet: Python Basics.ipynb",
   "provenance": []
  },
  "kernelspec": {
   "display_name": "Python 3",
   "name": "python3"
  },
  "language_info": {
   "codemirror_mode": {
    "name": "ipython",
    "version": 3
   },
   "file_extension": ".py",
   "mimetype": "text/x-python",
   "name": "python",
   "nbconvert_exporter": "python",
   "pygments_lexer": "ipython3",
   "version": "3.12.2"
  }
 },
 "nbformat": 4,
 "nbformat_minor": 0
}
